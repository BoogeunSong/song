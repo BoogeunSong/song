{
  "nbformat": 4,
  "nbformat_minor": 0,
  "metadata": {
    "colab": {
      "provenance": [],
      "include_colab_link": true
    },
    "kernelspec": {
      "name": "python3",
      "display_name": "Python 3"
    },
    "language_info": {
      "name": "python"
    }
  },
  "cells": [
    {
      "cell_type": "markdown",
      "metadata": {
        "id": "view-in-github",
        "colab_type": "text"
      },
      "source": [
        "<a href=\"https://colab.research.google.com/github/BoogeunSong/song/blob/main/%EC%BD%94%EB%93%9C3.ipynb\" target=\"_parent\"><img src=\"https://colab.research.google.com/assets/colab-badge.svg\" alt=\"Open In Colab\"/></a>"
      ]
    },
    {
      "cell_type": "markdown",
      "source": [
        "#2023.01.05\n",
        "\n",
        "#머신러닝"
      ],
      "metadata": {
        "id": "DgVzRFJeish9"
      }
    },
    {
      "cell_type": "code",
      "source": [],
      "metadata": {
        "id": "5JptXneqjF5Z"
      },
      "execution_count": null,
      "outputs": []
    },
    {
      "cell_type": "code",
      "execution_count": null,
      "metadata": {
        "id": "mlDZqm8pfY2e"
      },
      "outputs": [],
      "source": [
        "import pandas as pd\n",
        "from sklearn.model_selection import train_test_split\n",
        "from sklearn.model_selection import cross_val_score\n",
        "from sklearn.neighbors import KNeighborsRegressor"
      ]
    },
    {
      "cell_type": "code",
      "source": [
        "from google.colab import drive\n",
        "drive.mount('/content/drive')"
      ],
      "metadata": {
        "colab": {
          "base_uri": "https://localhost:8080/"
        },
        "id": "DiPitokbYzwk",
        "outputId": "f476c418-753d-490b-a65b-c6c10b84aad0"
      },
      "execution_count": null,
      "outputs": [
        {
          "output_type": "stream",
          "name": "stdout",
          "text": [
            "Drive already mounted at /content/drive; to attempt to forcibly remount, call drive.mount(\"/content/drive\", force_remount=True).\n"
          ]
        }
      ]
    },
    {
      "cell_type": "code",
      "source": [
        "df = pd.read_csv(\"/content/drive/MyDrive/Ubion/data/Ashopping.csv\", encoding = \"cp949\")\n",
        "df"
      ],
      "metadata": {
        "colab": {
          "base_uri": "https://localhost:8080/",
          "height": 485
        },
        "id": "X8o1qNC8jcMx",
        "outputId": "08a1a057-34fb-4a11-ad15-b3102b0999d6"
      },
      "execution_count": null,
      "outputs": [
        {
          "output_type": "execute_result",
          "data": {
            "text/plain": [
              "     고객ID  이탈여부      총매출액  구매금액대  방문빈도  1회 평균매출액  할인권 사용 횟수  총 할인 금액  고객등급  \\\n",
              "0       1     1   4963160      1    22    225598          1     5445     1   \n",
              "1       2     1   2271520      0    38     59777         22   350995     1   \n",
              "2       3     1   2484250      0     2   1242125          6   186045     1   \n",
              "3       4     1   2778850      0     9    308761          1     5195     2   \n",
              "4       5     1   4437610      1    10    443761          9   246350     2   \n",
              "..    ...   ...       ...    ...   ...       ...        ...      ...   ...   \n",
              "995   996     0  12731560      2    35    363759          3    44445     2   \n",
              "996   997     0   3419010      0     6    569835          6   186545     1   \n",
              "997   998     0   4612100      1    13    354777          8   260700     2   \n",
              "998   999     0   5165360      1    28    184477         20   347700     1   \n",
              "999  1000     0   4323050      1    16    270191         19   367045     2   \n",
              "\n",
              "     구매유형  ...  구매카테고리수  거주지역  성별  고객 나이대  거래기간  할인민감여부  Recency  Frequency  \\\n",
              "0       3  ...        7     6   1       6  3303       0        3          2   \n",
              "1       1  ...        5     4   0       2  3129       0        5          3   \n",
              "2       2  ...        4     6   0       3  3636       0        4          1   \n",
              "3       4  ...        4     5   0       4  3637       0        7          4   \n",
              "4       4  ...        6     6   0       4  3638       0        5          1   \n",
              "..    ...  ...      ...   ...  ..     ...   ...     ...      ...        ...   \n",
              "995     3  ...        8     6   0       4  4629       1        3          3   \n",
              "996     2  ...        9     6   0       4  4630       1        7          3   \n",
              "997     1  ...        1     4   1       6  4631       1        2          1   \n",
              "998     3  ...        7     5   1       6  3907       0        7          2   \n",
              "999     4  ...        6     5   1       6  2118       0        5          1   \n",
              "\n",
              "     Monetary      평균 구매주기  \n",
              "0           1   149.136364  \n",
              "1           4    81.342105  \n",
              "2           4  1817.000000  \n",
              "3           6   403.111111  \n",
              "4           4   362.800000  \n",
              "..        ...          ...  \n",
              "995         1   131.257143  \n",
              "996         6   770.666667  \n",
              "997         2   355.230769  \n",
              "998         6   138.535714  \n",
              "999         4   131.375000  \n",
              "\n",
              "[1000 rows x 21 columns]"
            ],
            "text/html": [
              "\n",
              "  <div id=\"df-9b20ee25-1c68-4094-86e8-c6063287bcdd\">\n",
              "    <div class=\"colab-df-container\">\n",
              "      <div>\n",
              "<style scoped>\n",
              "    .dataframe tbody tr th:only-of-type {\n",
              "        vertical-align: middle;\n",
              "    }\n",
              "\n",
              "    .dataframe tbody tr th {\n",
              "        vertical-align: top;\n",
              "    }\n",
              "\n",
              "    .dataframe thead th {\n",
              "        text-align: right;\n",
              "    }\n",
              "</style>\n",
              "<table border=\"1\" class=\"dataframe\">\n",
              "  <thead>\n",
              "    <tr style=\"text-align: right;\">\n",
              "      <th></th>\n",
              "      <th>고객ID</th>\n",
              "      <th>이탈여부</th>\n",
              "      <th>총매출액</th>\n",
              "      <th>구매금액대</th>\n",
              "      <th>방문빈도</th>\n",
              "      <th>1회 평균매출액</th>\n",
              "      <th>할인권 사용 횟수</th>\n",
              "      <th>총 할인 금액</th>\n",
              "      <th>고객등급</th>\n",
              "      <th>구매유형</th>\n",
              "      <th>...</th>\n",
              "      <th>구매카테고리수</th>\n",
              "      <th>거주지역</th>\n",
              "      <th>성별</th>\n",
              "      <th>고객 나이대</th>\n",
              "      <th>거래기간</th>\n",
              "      <th>할인민감여부</th>\n",
              "      <th>Recency</th>\n",
              "      <th>Frequency</th>\n",
              "      <th>Monetary</th>\n",
              "      <th>평균 구매주기</th>\n",
              "    </tr>\n",
              "  </thead>\n",
              "  <tbody>\n",
              "    <tr>\n",
              "      <th>0</th>\n",
              "      <td>1</td>\n",
              "      <td>1</td>\n",
              "      <td>4963160</td>\n",
              "      <td>1</td>\n",
              "      <td>22</td>\n",
              "      <td>225598</td>\n",
              "      <td>1</td>\n",
              "      <td>5445</td>\n",
              "      <td>1</td>\n",
              "      <td>3</td>\n",
              "      <td>...</td>\n",
              "      <td>7</td>\n",
              "      <td>6</td>\n",
              "      <td>1</td>\n",
              "      <td>6</td>\n",
              "      <td>3303</td>\n",
              "      <td>0</td>\n",
              "      <td>3</td>\n",
              "      <td>2</td>\n",
              "      <td>1</td>\n",
              "      <td>149.136364</td>\n",
              "    </tr>\n",
              "    <tr>\n",
              "      <th>1</th>\n",
              "      <td>2</td>\n",
              "      <td>1</td>\n",
              "      <td>2271520</td>\n",
              "      <td>0</td>\n",
              "      <td>38</td>\n",
              "      <td>59777</td>\n",
              "      <td>22</td>\n",
              "      <td>350995</td>\n",
              "      <td>1</td>\n",
              "      <td>1</td>\n",
              "      <td>...</td>\n",
              "      <td>5</td>\n",
              "      <td>4</td>\n",
              "      <td>0</td>\n",
              "      <td>2</td>\n",
              "      <td>3129</td>\n",
              "      <td>0</td>\n",
              "      <td>5</td>\n",
              "      <td>3</td>\n",
              "      <td>4</td>\n",
              "      <td>81.342105</td>\n",
              "    </tr>\n",
              "    <tr>\n",
              "      <th>2</th>\n",
              "      <td>3</td>\n",
              "      <td>1</td>\n",
              "      <td>2484250</td>\n",
              "      <td>0</td>\n",
              "      <td>2</td>\n",
              "      <td>1242125</td>\n",
              "      <td>6</td>\n",
              "      <td>186045</td>\n",
              "      <td>1</td>\n",
              "      <td>2</td>\n",
              "      <td>...</td>\n",
              "      <td>4</td>\n",
              "      <td>6</td>\n",
              "      <td>0</td>\n",
              "      <td>3</td>\n",
              "      <td>3636</td>\n",
              "      <td>0</td>\n",
              "      <td>4</td>\n",
              "      <td>1</td>\n",
              "      <td>4</td>\n",
              "      <td>1817.000000</td>\n",
              "    </tr>\n",
              "    <tr>\n",
              "      <th>3</th>\n",
              "      <td>4</td>\n",
              "      <td>1</td>\n",
              "      <td>2778850</td>\n",
              "      <td>0</td>\n",
              "      <td>9</td>\n",
              "      <td>308761</td>\n",
              "      <td>1</td>\n",
              "      <td>5195</td>\n",
              "      <td>2</td>\n",
              "      <td>4</td>\n",
              "      <td>...</td>\n",
              "      <td>4</td>\n",
              "      <td>5</td>\n",
              "      <td>0</td>\n",
              "      <td>4</td>\n",
              "      <td>3637</td>\n",
              "      <td>0</td>\n",
              "      <td>7</td>\n",
              "      <td>4</td>\n",
              "      <td>6</td>\n",
              "      <td>403.111111</td>\n",
              "    </tr>\n",
              "    <tr>\n",
              "      <th>4</th>\n",
              "      <td>5</td>\n",
              "      <td>1</td>\n",
              "      <td>4437610</td>\n",
              "      <td>1</td>\n",
              "      <td>10</td>\n",
              "      <td>443761</td>\n",
              "      <td>9</td>\n",
              "      <td>246350</td>\n",
              "      <td>2</td>\n",
              "      <td>4</td>\n",
              "      <td>...</td>\n",
              "      <td>6</td>\n",
              "      <td>6</td>\n",
              "      <td>0</td>\n",
              "      <td>4</td>\n",
              "      <td>3638</td>\n",
              "      <td>0</td>\n",
              "      <td>5</td>\n",
              "      <td>1</td>\n",
              "      <td>4</td>\n",
              "      <td>362.800000</td>\n",
              "    </tr>\n",
              "    <tr>\n",
              "      <th>...</th>\n",
              "      <td>...</td>\n",
              "      <td>...</td>\n",
              "      <td>...</td>\n",
              "      <td>...</td>\n",
              "      <td>...</td>\n",
              "      <td>...</td>\n",
              "      <td>...</td>\n",
              "      <td>...</td>\n",
              "      <td>...</td>\n",
              "      <td>...</td>\n",
              "      <td>...</td>\n",
              "      <td>...</td>\n",
              "      <td>...</td>\n",
              "      <td>...</td>\n",
              "      <td>...</td>\n",
              "      <td>...</td>\n",
              "      <td>...</td>\n",
              "      <td>...</td>\n",
              "      <td>...</td>\n",
              "      <td>...</td>\n",
              "      <td>...</td>\n",
              "    </tr>\n",
              "    <tr>\n",
              "      <th>995</th>\n",
              "      <td>996</td>\n",
              "      <td>0</td>\n",
              "      <td>12731560</td>\n",
              "      <td>2</td>\n",
              "      <td>35</td>\n",
              "      <td>363759</td>\n",
              "      <td>3</td>\n",
              "      <td>44445</td>\n",
              "      <td>2</td>\n",
              "      <td>3</td>\n",
              "      <td>...</td>\n",
              "      <td>8</td>\n",
              "      <td>6</td>\n",
              "      <td>0</td>\n",
              "      <td>4</td>\n",
              "      <td>4629</td>\n",
              "      <td>1</td>\n",
              "      <td>3</td>\n",
              "      <td>3</td>\n",
              "      <td>1</td>\n",
              "      <td>131.257143</td>\n",
              "    </tr>\n",
              "    <tr>\n",
              "      <th>996</th>\n",
              "      <td>997</td>\n",
              "      <td>0</td>\n",
              "      <td>3419010</td>\n",
              "      <td>0</td>\n",
              "      <td>6</td>\n",
              "      <td>569835</td>\n",
              "      <td>6</td>\n",
              "      <td>186545</td>\n",
              "      <td>1</td>\n",
              "      <td>2</td>\n",
              "      <td>...</td>\n",
              "      <td>9</td>\n",
              "      <td>6</td>\n",
              "      <td>0</td>\n",
              "      <td>4</td>\n",
              "      <td>4630</td>\n",
              "      <td>1</td>\n",
              "      <td>7</td>\n",
              "      <td>3</td>\n",
              "      <td>6</td>\n",
              "      <td>770.666667</td>\n",
              "    </tr>\n",
              "    <tr>\n",
              "      <th>997</th>\n",
              "      <td>998</td>\n",
              "      <td>0</td>\n",
              "      <td>4612100</td>\n",
              "      <td>1</td>\n",
              "      <td>13</td>\n",
              "      <td>354777</td>\n",
              "      <td>8</td>\n",
              "      <td>260700</td>\n",
              "      <td>2</td>\n",
              "      <td>1</td>\n",
              "      <td>...</td>\n",
              "      <td>1</td>\n",
              "      <td>4</td>\n",
              "      <td>1</td>\n",
              "      <td>6</td>\n",
              "      <td>4631</td>\n",
              "      <td>1</td>\n",
              "      <td>2</td>\n",
              "      <td>1</td>\n",
              "      <td>2</td>\n",
              "      <td>355.230769</td>\n",
              "    </tr>\n",
              "    <tr>\n",
              "      <th>998</th>\n",
              "      <td>999</td>\n",
              "      <td>0</td>\n",
              "      <td>5165360</td>\n",
              "      <td>1</td>\n",
              "      <td>28</td>\n",
              "      <td>184477</td>\n",
              "      <td>20</td>\n",
              "      <td>347700</td>\n",
              "      <td>1</td>\n",
              "      <td>3</td>\n",
              "      <td>...</td>\n",
              "      <td>7</td>\n",
              "      <td>5</td>\n",
              "      <td>1</td>\n",
              "      <td>6</td>\n",
              "      <td>3907</td>\n",
              "      <td>0</td>\n",
              "      <td>7</td>\n",
              "      <td>2</td>\n",
              "      <td>6</td>\n",
              "      <td>138.535714</td>\n",
              "    </tr>\n",
              "    <tr>\n",
              "      <th>999</th>\n",
              "      <td>1000</td>\n",
              "      <td>0</td>\n",
              "      <td>4323050</td>\n",
              "      <td>1</td>\n",
              "      <td>16</td>\n",
              "      <td>270191</td>\n",
              "      <td>19</td>\n",
              "      <td>367045</td>\n",
              "      <td>2</td>\n",
              "      <td>4</td>\n",
              "      <td>...</td>\n",
              "      <td>6</td>\n",
              "      <td>5</td>\n",
              "      <td>1</td>\n",
              "      <td>6</td>\n",
              "      <td>2118</td>\n",
              "      <td>0</td>\n",
              "      <td>5</td>\n",
              "      <td>1</td>\n",
              "      <td>4</td>\n",
              "      <td>131.375000</td>\n",
              "    </tr>\n",
              "  </tbody>\n",
              "</table>\n",
              "<p>1000 rows × 21 columns</p>\n",
              "</div>\n",
              "      <button class=\"colab-df-convert\" onclick=\"convertToInteractive('df-9b20ee25-1c68-4094-86e8-c6063287bcdd')\"\n",
              "              title=\"Convert this dataframe to an interactive table.\"\n",
              "              style=\"display:none;\">\n",
              "        \n",
              "  <svg xmlns=\"http://www.w3.org/2000/svg\" height=\"24px\"viewBox=\"0 0 24 24\"\n",
              "       width=\"24px\">\n",
              "    <path d=\"M0 0h24v24H0V0z\" fill=\"none\"/>\n",
              "    <path d=\"M18.56 5.44l.94 2.06.94-2.06 2.06-.94-2.06-.94-.94-2.06-.94 2.06-2.06.94zm-11 1L8.5 8.5l.94-2.06 2.06-.94-2.06-.94L8.5 2.5l-.94 2.06-2.06.94zm10 10l.94 2.06.94-2.06 2.06-.94-2.06-.94-.94-2.06-.94 2.06-2.06.94z\"/><path d=\"M17.41 7.96l-1.37-1.37c-.4-.4-.92-.59-1.43-.59-.52 0-1.04.2-1.43.59L10.3 9.45l-7.72 7.72c-.78.78-.78 2.05 0 2.83L4 21.41c.39.39.9.59 1.41.59.51 0 1.02-.2 1.41-.59l7.78-7.78 2.81-2.81c.8-.78.8-2.07 0-2.86zM5.41 20L4 18.59l7.72-7.72 1.47 1.35L5.41 20z\"/>\n",
              "  </svg>\n",
              "      </button>\n",
              "      \n",
              "  <style>\n",
              "    .colab-df-container {\n",
              "      display:flex;\n",
              "      flex-wrap:wrap;\n",
              "      gap: 12px;\n",
              "    }\n",
              "\n",
              "    .colab-df-convert {\n",
              "      background-color: #E8F0FE;\n",
              "      border: none;\n",
              "      border-radius: 50%;\n",
              "      cursor: pointer;\n",
              "      display: none;\n",
              "      fill: #1967D2;\n",
              "      height: 32px;\n",
              "      padding: 0 0 0 0;\n",
              "      width: 32px;\n",
              "    }\n",
              "\n",
              "    .colab-df-convert:hover {\n",
              "      background-color: #E2EBFA;\n",
              "      box-shadow: 0px 1px 2px rgba(60, 64, 67, 0.3), 0px 1px 3px 1px rgba(60, 64, 67, 0.15);\n",
              "      fill: #174EA6;\n",
              "    }\n",
              "\n",
              "    [theme=dark] .colab-df-convert {\n",
              "      background-color: #3B4455;\n",
              "      fill: #D2E3FC;\n",
              "    }\n",
              "\n",
              "    [theme=dark] .colab-df-convert:hover {\n",
              "      background-color: #434B5C;\n",
              "      box-shadow: 0px 1px 3px 1px rgba(0, 0, 0, 0.15);\n",
              "      filter: drop-shadow(0px 1px 2px rgba(0, 0, 0, 0.3));\n",
              "      fill: #FFFFFF;\n",
              "    }\n",
              "  </style>\n",
              "\n",
              "      <script>\n",
              "        const buttonEl =\n",
              "          document.querySelector('#df-9b20ee25-1c68-4094-86e8-c6063287bcdd button.colab-df-convert');\n",
              "        buttonEl.style.display =\n",
              "          google.colab.kernel.accessAllowed ? 'block' : 'none';\n",
              "\n",
              "        async function convertToInteractive(key) {\n",
              "          const element = document.querySelector('#df-9b20ee25-1c68-4094-86e8-c6063287bcdd');\n",
              "          const dataTable =\n",
              "            await google.colab.kernel.invokeFunction('convertToInteractive',\n",
              "                                                     [key], {});\n",
              "          if (!dataTable) return;\n",
              "\n",
              "          const docLinkHtml = 'Like what you see? Visit the ' +\n",
              "            '<a target=\"_blank\" href=https://colab.research.google.com/notebooks/data_table.ipynb>data table notebook</a>'\n",
              "            + ' to learn more about interactive tables.';\n",
              "          element.innerHTML = '';\n",
              "          dataTable['output_type'] = 'display_data';\n",
              "          await google.colab.output.renderOutput(dataTable, element);\n",
              "          const docLink = document.createElement('div');\n",
              "          docLink.innerHTML = docLinkHtml;\n",
              "          element.appendChild(docLink);\n",
              "        }\n",
              "      </script>\n",
              "    </div>\n",
              "  </div>\n",
              "  "
            ]
          },
          "metadata": {},
          "execution_count": 3
        }
      ]
    },
    {
      "cell_type": "code",
      "source": [
        "df.info()"
      ],
      "metadata": {
        "colab": {
          "base_uri": "https://localhost:8080/"
        },
        "id": "-USk3QHDnhs-",
        "outputId": "e320536b-da24-4f03-b85d-6855185fce8f"
      },
      "execution_count": null,
      "outputs": [
        {
          "output_type": "stream",
          "name": "stdout",
          "text": [
            "<class 'pandas.core.frame.DataFrame'>\n",
            "RangeIndex: 1000 entries, 0 to 999\n",
            "Data columns (total 21 columns):\n",
            " #   Column     Non-Null Count  Dtype  \n",
            "---  ------     --------------  -----  \n",
            " 0   고객ID       1000 non-null   int64  \n",
            " 1   이탈여부       1000 non-null   int64  \n",
            " 2   총매출액       1000 non-null   int64  \n",
            " 3   구매금액대      1000 non-null   int64  \n",
            " 4   방문빈도       1000 non-null   int64  \n",
            " 5   1회 평균매출액   1000 non-null   int64  \n",
            " 6   할인권 사용 횟수  1000 non-null   int64  \n",
            " 7   총 할인 금액    1000 non-null   int64  \n",
            " 8   고객등급       1000 non-null   int64  \n",
            " 9   구매유형       1000 non-null   int64  \n",
            " 10  클레임접수여부    1000 non-null   int64  \n",
            " 11  구매카테고리수    1000 non-null   int64  \n",
            " 12  거주지역       1000 non-null   int64  \n",
            " 13  성별         1000 non-null   int64  \n",
            " 14  고객 나이대     1000 non-null   int64  \n",
            " 15  거래기간       1000 non-null   int64  \n",
            " 16  할인민감여부     1000 non-null   int64  \n",
            " 17  Recency    1000 non-null   int64  \n",
            " 18  Frequency  1000 non-null   int64  \n",
            " 19  Monetary   1000 non-null   int64  \n",
            " 20  평균 구매주기    1000 non-null   float64\n",
            "dtypes: float64(1), int64(20)\n",
            "memory usage: 164.2 KB\n"
          ]
        }
      ]
    },
    {
      "cell_type": "code",
      "source": [
        "df.isnull().sum()"
      ],
      "metadata": {
        "colab": {
          "base_uri": "https://localhost:8080/"
        },
        "id": "DeG-lsGNnpAS",
        "outputId": "4bca107b-9cd1-45cb-cdc7-6dc892845d5c"
      },
      "execution_count": null,
      "outputs": [
        {
          "output_type": "execute_result",
          "data": {
            "text/plain": [
              "고객ID         0\n",
              "이탈여부         0\n",
              "총매출액         0\n",
              "구매금액대        0\n",
              "방문빈도         0\n",
              "1회 평균매출액     0\n",
              "할인권 사용 횟수    0\n",
              "총 할인 금액      0\n",
              "고객등급         0\n",
              "구매유형         0\n",
              "클레임접수여부      0\n",
              "구매카테고리수      0\n",
              "거주지역         0\n",
              "성별           0\n",
              "고객 나이대       0\n",
              "거래기간         0\n",
              "할인민감여부       0\n",
              "Recency      0\n",
              "Frequency    0\n",
              "Monetary     0\n",
              "평균 구매주기      0\n",
              "dtype: int64"
            ]
          },
          "metadata": {},
          "execution_count": 5
        }
      ]
    },
    {
      "cell_type": "code",
      "source": [
        "#필요열(변수, feature)만 뽑아서 데이터 만들기\n",
        "X = df[[\"총매출액\", \"1회 평균매출액\", \"할인권 사용 횟수\"]]\n",
        "Y = df[\"평균 구매주기\"]\n",
        "\n",
        "#데이터 분할(train, test)\n",
        "X_train, X_test, Y_train, Y_test = train_test_split(X, Y, test_size=0.3, random_state=0)\n",
        "\n",
        "#model 만들기\n",
        "model = KNeighborsRegressor()\n",
        "\n",
        "#교차검증\n",
        "score = cross_val_score(model, X_train, Y_train, cv = 10)\n",
        "print(\"교차검증 점수 :\", score)"
      ],
      "metadata": {
        "colab": {
          "base_uri": "https://localhost:8080/"
        },
        "id": "mO7fiSqZntND",
        "outputId": "66ab1393-871b-4960-89fc-f5332d044fcb"
      },
      "execution_count": null,
      "outputs": [
        {
          "output_type": "stream",
          "name": "stdout",
          "text": [
            "교차검증 점수 : [0.71641358 0.55975791 0.76634495 0.58696302 0.60491788 0.64888287\n",
            " 0.73366212 0.53759107 0.74664738 0.79547413]\n"
          ]
        }
      ]
    },
    {
      "cell_type": "code",
      "source": [
        "df.columns"
      ],
      "metadata": {
        "colab": {
          "base_uri": "https://localhost:8080/"
        },
        "id": "CCmzEdsoxGuJ",
        "outputId": "489707bc-6c28-43e4-b231-3958879c11ec"
      },
      "execution_count": null,
      "outputs": [
        {
          "output_type": "execute_result",
          "data": {
            "text/plain": [
              "Index(['고객ID', '이탈여부', '총매출액', '구매금액대', '방문빈도', '1회 평균매출액', '할인권 사용 횟수',\n",
              "       '총 할인 금액', '고객등급', '구매유형', '클레임접수여부', '구매카테고리수', '거주지역', '성별', '고객 나이대',\n",
              "       '거래기간', '할인민감여부', 'Recency', 'Frequency', 'Monetary', '평균 구매주기'],\n",
              "      dtype='object')"
            ]
          },
          "metadata": {},
          "execution_count": 7
        }
      ]
    },
    {
      "cell_type": "code",
      "source": [
        "from sklearn.neighbors import KNeighborsClassifier\n",
        "from sklearn.model_selection import StratifiedKFold\n",
        "\n",
        "#필요열(변수, feature)만 뽑아서 데이터 만들기\n",
        "X = df[[\"총매출액\", \"거래기간\", \"방문빈도\"]]\n",
        "Y = df[\"이탈여부\"]\n",
        "\n",
        "#데이터 분할(train, test)\n",
        "X_train, X_test, Y_train, Y_test = train_test_split(X, Y, test_size=0.3, random_state=0)\n",
        "\n",
        "#모형생성\n",
        "model = KNeighborsClassifier()\n",
        "\n",
        "#검증(Stratified K-fold Cross-Validation test)\n",
        "skf = StratifiedKFold(n_splits = 5, shuffle = True, random_state=0)\n",
        "scores = cross_val_score(model, X_train, Y_train, cv = skf)\n",
        "print(\"교차검증 점수 :\", scores)"
      ],
      "metadata": {
        "colab": {
          "base_uri": "https://localhost:8080/"
        },
        "id": "uhBA_BziwzHv",
        "outputId": "3ff6291b-8ea0-4771-d9f1-fc771dacca6d"
      },
      "execution_count": null,
      "outputs": [
        {
          "output_type": "stream",
          "name": "stdout",
          "text": [
            "교차검증 점수 : [0.64285714 0.7        0.67857143 0.67142857 0.70714286]\n"
          ]
        }
      ]
    },
    {
      "cell_type": "code",
      "source": [
        "from sklearn.model_selection import GridSearchCV\n",
        "\n",
        "#필요열(변수, feature)만 뽑아서 데이터 만들기\n",
        "X = df[[\"총매출액\", \"거래기간\", \"방문빈도\"]]\n",
        "Y = df[\"이탈여부\"]\n",
        "\n",
        "#데이터 분할(train, test)\n",
        "X_train, X_test, Y_train, Y_test = train_test_split(X, Y, test_size=0.3, random_state=0)\n",
        "\n",
        "#모형생성\n",
        "model = KNeighborsClassifier()\n",
        "\n",
        "#그리드 인자 검색\n",
        "mylist = list(range(1,50))\n",
        "k_list = [x for x in mylist if x %2 !=0]\n",
        "parameter_grid = {\"n_neighbors\" : k_list}"
      ],
      "metadata": {
        "id": "lbLp_4sw55yh"
      },
      "execution_count": null,
      "outputs": []
    },
    {
      "cell_type": "code",
      "source": [
        "#그리드 서치\n",
        "grid_search = GridSearchCV(model, parameter_grid, cv = 5)\n",
        "grid_search.fit(X_train, Y_train)\n",
        "\n",
        "grid_search.best_params_\n",
        "grid_search.cv_results_"
      ],
      "metadata": {
        "colab": {
          "base_uri": "https://localhost:8080/"
        },
        "id": "6bwAOPE2Bz2y",
        "outputId": "7ca31a68-4b16-4d7b-9ae6-3f32e69c4679"
      },
      "execution_count": null,
      "outputs": [
        {
          "output_type": "execute_result",
          "data": {
            "text/plain": [
              "{'mean_fit_time': array([0.00263271, 0.00205173, 0.0019774 , 0.00197339, 0.00281305,\n",
              "        0.00204654, 0.00244036, 0.00201187, 0.00211115, 0.00201526,\n",
              "        0.00301199, 0.00253639, 0.00207529, 0.00221334, 0.00229559,\n",
              "        0.00208097, 0.00253081, 0.0021688 , 0.00240431, 0.0024087 ,\n",
              "        0.00203395, 0.00206633, 0.00222936, 0.00195804, 0.00192723]),\n",
              " 'std_fit_time': array([6.82365413e-04, 6.60216476e-05, 4.76778504e-05, 4.09239084e-05,\n",
              "        9.37514318e-04, 7.89549898e-05, 5.25746055e-04, 7.57040524e-05,\n",
              "        1.54996679e-04, 1.51500448e-04, 7.58576890e-04, 6.00702574e-04,\n",
              "        9.70970428e-05, 4.37406694e-04, 2.50116685e-04, 1.59565445e-04,\n",
              "        6.62802586e-04, 1.35726452e-04, 3.54369727e-04, 5.24740204e-04,\n",
              "        6.76129197e-05, 7.65541824e-05, 4.80271337e-04, 8.78682414e-05,\n",
              "        5.88807204e-05]),\n",
              " 'mean_score_time': array([0.00573192, 0.00538244, 0.00532742, 0.00557714, 0.00657449,\n",
              "        0.00652137, 0.00613313, 0.00548697, 0.00554981, 0.00561466,\n",
              "        0.01159873, 0.00717487, 0.0060977 , 0.00594168, 0.00672941,\n",
              "        0.00671916, 0.0072762 , 0.0058917 , 0.00836563, 0.00621767,\n",
              "        0.00632606, 0.0068378 , 0.00642476, 0.00597754, 0.00603766]),\n",
              " 'std_score_time': array([4.23577687e-04, 1.59379680e-04, 1.42407990e-04, 1.80929349e-04,\n",
              "        1.98325592e-03, 1.39133247e-03, 7.76324230e-04, 1.10402271e-04,\n",
              "        8.12990714e-05, 2.28145059e-04, 3.17778395e-03, 1.78088555e-03,\n",
              "        9.34849842e-04, 5.30292818e-04, 1.09955170e-03, 1.20556014e-03,\n",
              "        1.55881990e-03, 1.26437542e-04, 1.89280125e-03, 4.02562450e-04,\n",
              "        3.60632185e-04, 1.47757872e-03, 1.01424501e-03, 2.26333187e-04,\n",
              "        1.94836176e-04]),\n",
              " 'param_n_neighbors': masked_array(data=[1, 3, 5, 7, 9, 11, 13, 15, 17, 19, 21, 23, 25, 27, 29,\n",
              "                    31, 33, 35, 37, 39, 41, 43, 45, 47, 49],\n",
              "              mask=[False, False, False, False, False, False, False, False,\n",
              "                    False, False, False, False, False, False, False, False,\n",
              "                    False, False, False, False, False, False, False, False,\n",
              "                    False],\n",
              "        fill_value='?',\n",
              "             dtype=object),\n",
              " 'params': [{'n_neighbors': 1},\n",
              "  {'n_neighbors': 3},\n",
              "  {'n_neighbors': 5},\n",
              "  {'n_neighbors': 7},\n",
              "  {'n_neighbors': 9},\n",
              "  {'n_neighbors': 11},\n",
              "  {'n_neighbors': 13},\n",
              "  {'n_neighbors': 15},\n",
              "  {'n_neighbors': 17},\n",
              "  {'n_neighbors': 19},\n",
              "  {'n_neighbors': 21},\n",
              "  {'n_neighbors': 23},\n",
              "  {'n_neighbors': 25},\n",
              "  {'n_neighbors': 27},\n",
              "  {'n_neighbors': 29},\n",
              "  {'n_neighbors': 31},\n",
              "  {'n_neighbors': 33},\n",
              "  {'n_neighbors': 35},\n",
              "  {'n_neighbors': 37},\n",
              "  {'n_neighbors': 39},\n",
              "  {'n_neighbors': 41},\n",
              "  {'n_neighbors': 43},\n",
              "  {'n_neighbors': 45},\n",
              "  {'n_neighbors': 47},\n",
              "  {'n_neighbors': 49}],\n",
              " 'split0_test_score': array([0.53571429, 0.66428571, 0.67857143, 0.67142857, 0.67857143,\n",
              "        0.59285714, 0.60714286, 0.65      , 0.66428571, 0.65      ,\n",
              "        0.65714286, 0.65714286, 0.66428571, 0.7       , 0.68571429,\n",
              "        0.68571429, 0.7       , 0.7       , 0.7       , 0.68571429,\n",
              "        0.68571429, 0.68571429, 0.69285714, 0.69285714, 0.69285714]),\n",
              " 'split1_test_score': array([0.64285714, 0.67857143, 0.69285714, 0.7       , 0.7       ,\n",
              "        0.67142857, 0.67142857, 0.65714286, 0.65714286, 0.66428571,\n",
              "        0.66428571, 0.67857143, 0.67857143, 0.67857143, 0.67857143,\n",
              "        0.66428571, 0.67857143, 0.68571429, 0.69285714, 0.7       ,\n",
              "        0.69285714, 0.69285714, 0.69285714, 0.68571429, 0.68571429]),\n",
              " 'split2_test_score': array([0.53571429, 0.64285714, 0.69285714, 0.68571429, 0.67857143,\n",
              "        0.68571429, 0.68571429, 0.65714286, 0.66428571, 0.69285714,\n",
              "        0.67857143, 0.69285714, 0.68571429, 0.67857143, 0.67142857,\n",
              "        0.67857143, 0.67857143, 0.67142857, 0.66428571, 0.67857143,\n",
              "        0.66428571, 0.66428571, 0.66428571, 0.66428571, 0.65714286]),\n",
              " 'split3_test_score': array([0.6       , 0.65714286, 0.7       , 0.67857143, 0.70714286,\n",
              "        0.67142857, 0.70714286, 0.7       , 0.67857143, 0.72142857,\n",
              "        0.72142857, 0.72142857, 0.72857143, 0.70714286, 0.7       ,\n",
              "        0.67857143, 0.67142857, 0.67142857, 0.67142857, 0.67857143,\n",
              "        0.67857143, 0.67857143, 0.67142857, 0.67857143, 0.67857143]),\n",
              " 'split4_test_score': array([0.62142857, 0.62142857, 0.65714286, 0.64285714, 0.69285714,\n",
              "        0.66428571, 0.67142857, 0.67142857, 0.66428571, 0.65      ,\n",
              "        0.63571429, 0.65714286, 0.67857143, 0.69285714, 0.66428571,\n",
              "        0.67857143, 0.67857143, 0.67857143, 0.67857143, 0.65714286,\n",
              "        0.7       , 0.67142857, 0.69285714, 0.69285714, 0.66428571]),\n",
              " 'mean_test_score': array([0.58714286, 0.65285714, 0.68428571, 0.67571429, 0.69142857,\n",
              "        0.65714286, 0.66857143, 0.66714286, 0.66571429, 0.67571429,\n",
              "        0.67142857, 0.68142857, 0.68714286, 0.69142857, 0.68      ,\n",
              "        0.67714286, 0.68142857, 0.68142857, 0.68142857, 0.68      ,\n",
              "        0.68428571, 0.67857143, 0.68285714, 0.68285714, 0.67571429]),\n",
              " 'std_test_score': array([0.04412413, 0.01948312, 0.01525297, 0.01895214, 0.01142857,\n",
              "        0.03288818, 0.03338092, 0.01784285, 0.00699854, 0.02770103,\n",
              "        0.02857143, 0.02415934, 0.02185294, 0.01142857, 0.01228904,\n",
              "        0.00699854, 0.00968904, 0.01069045, 0.01324803, 0.01385051,\n",
              "        0.01228904, 0.01010153, 0.012454  , 0.01069045, 0.01324803]),\n",
              " 'rank_test_score': array([25, 24,  5, 16,  1, 23, 20, 21, 22, 16, 19,  8,  3,  1, 12, 15,  9,\n",
              "         9,  9, 12,  4, 14,  7,  6, 16], dtype=int32)}"
            ]
          },
          "metadata": {},
          "execution_count": 10
        }
      ]
    },
    {
      "cell_type": "code",
      "source": [
        "grid_search.best_estimator_"
      ],
      "metadata": {
        "colab": {
          "base_uri": "https://localhost:8080/"
        },
        "id": "Dkvn74MlaPfP",
        "outputId": "1de2a25c-38a9-484b-ec74-23f4b2db949b"
      },
      "execution_count": null,
      "outputs": [
        {
          "output_type": "execute_result",
          "data": {
            "text/plain": [
              "KNeighborsClassifier(n_neighbors=9)"
            ]
          },
          "metadata": {},
          "execution_count": 11
        }
      ]
    },
    {
      "cell_type": "code",
      "source": [
        "from sklearn.metrics import accuracy_score\n",
        "be = grid_search.best_estimator_\n",
        "pred = be.predict(X_test)\n",
        "accuracy_score(Y_test, pred)"
      ],
      "metadata": {
        "colab": {
          "base_uri": "https://localhost:8080/"
        },
        "id": "yypdvt6raVuR",
        "outputId": "7d49f61e-d993-4c61-9000-44bd2eb25292"
      },
      "execution_count": null,
      "outputs": [
        {
          "output_type": "execute_result",
          "data": {
            "text/plain": [
              "0.6433333333333333"
            ]
          },
          "metadata": {},
          "execution_count": 12
        }
      ]
    },
    {
      "cell_type": "markdown",
      "source": [
        "#변수 선택"
      ],
      "metadata": {
        "id": "GIqMhMKqpunu"
      }
    },
    {
      "cell_type": "code",
      "source": [
        "df.columns"
      ],
      "metadata": {
        "colab": {
          "base_uri": "https://localhost:8080/"
        },
        "id": "04c8lWmcqBx_",
        "outputId": "c786ce70-c9a4-4687-e2e9-797e992a88a1"
      },
      "execution_count": null,
      "outputs": [
        {
          "output_type": "execute_result",
          "data": {
            "text/plain": [
              "Index(['고객ID', '이탈여부', '총매출액', '구매금액대', '방문빈도', '1회 평균매출액', '할인권 사용 횟수',\n",
              "       '총 할인 금액', '고객등급', '구매유형', '클레임접수여부', '구매카테고리수', '거주지역', '성별', '고객 나이대',\n",
              "       '거래기간', '할인민감여부', 'Recency', 'Frequency', 'Monetary', '평균 구매주기'],\n",
              "      dtype='object')"
            ]
          },
          "metadata": {},
          "execution_count": 13
        }
      ]
    },
    {
      "cell_type": "code",
      "source": [
        "from sklearn.feature_selection import SelectKBest, chi2\n",
        "\n",
        "#데이터 지정(변수)\n",
        "X = df.drop([\"고객ID\", \"이탈여부\"], axis = 1)\n",
        "Y = df[\"이탈여부\"]\n",
        "\n",
        "#데이터 분할\n",
        "X_train, X_test, Y_train, Y_test = train_test_split(X, Y, test_size=0.3, random_state=0)\n",
        "\n",
        "#일변량 통계기반 변수 선택\n",
        "selector = SelectKBest()\n",
        "selector.fit(X_train, Y_train)\n",
        "\n",
        "score = pd.DataFrame()\n",
        "score[\"Chi2\"] = selector.scores_\n",
        "score[\"p-value\"] = selector.pvalues_\n",
        "score[\"support\"] =  selector.get_support()\n",
        "score[\"attribute\"] = X_train.columns\n",
        "score[score[\"support\"] == True]"
      ],
      "metadata": {
        "colab": {
          "base_uri": "https://localhost:8080/",
          "height": 363
        },
        "id": "8BCxZinkptgh",
        "outputId": "a933e607-17dc-4bc0-d42c-542cebb54311"
      },
      "execution_count": null,
      "outputs": [
        {
          "output_type": "execute_result",
          "data": {
            "text/plain": [
              "         Chi2       p-value  support  attribute\n",
              "0   11.220487  8.525018e-04     True       총매출액\n",
              "1   21.391230  4.462997e-06     True      구매금액대\n",
              "2   40.530259  3.508018e-10     True       방문빈도\n",
              "3   31.867994  2.401115e-08     True   1회 평균매출액\n",
              "8    6.784768  9.389630e-03     True    클레임접수여부\n",
              "11  12.171897  5.156069e-04     True         성별\n",
              "13  60.680197  2.435210e-14     True       거래기간\n",
              "14  86.354376  1.882930e-19     True     할인민감여부\n",
              "16   6.449529  1.131399e-02     True  Frequency\n",
              "18  40.217271  4.081567e-10     True    평균 구매주기"
            ],
            "text/html": [
              "\n",
              "  <div id=\"df-56452502-3b95-496c-a3ed-ce33ec835ece\">\n",
              "    <div class=\"colab-df-container\">\n",
              "      <div>\n",
              "<style scoped>\n",
              "    .dataframe tbody tr th:only-of-type {\n",
              "        vertical-align: middle;\n",
              "    }\n",
              "\n",
              "    .dataframe tbody tr th {\n",
              "        vertical-align: top;\n",
              "    }\n",
              "\n",
              "    .dataframe thead th {\n",
              "        text-align: right;\n",
              "    }\n",
              "</style>\n",
              "<table border=\"1\" class=\"dataframe\">\n",
              "  <thead>\n",
              "    <tr style=\"text-align: right;\">\n",
              "      <th></th>\n",
              "      <th>Chi2</th>\n",
              "      <th>p-value</th>\n",
              "      <th>support</th>\n",
              "      <th>attribute</th>\n",
              "    </tr>\n",
              "  </thead>\n",
              "  <tbody>\n",
              "    <tr>\n",
              "      <th>0</th>\n",
              "      <td>11.220487</td>\n",
              "      <td>8.525018e-04</td>\n",
              "      <td>True</td>\n",
              "      <td>총매출액</td>\n",
              "    </tr>\n",
              "    <tr>\n",
              "      <th>1</th>\n",
              "      <td>21.391230</td>\n",
              "      <td>4.462997e-06</td>\n",
              "      <td>True</td>\n",
              "      <td>구매금액대</td>\n",
              "    </tr>\n",
              "    <tr>\n",
              "      <th>2</th>\n",
              "      <td>40.530259</td>\n",
              "      <td>3.508018e-10</td>\n",
              "      <td>True</td>\n",
              "      <td>방문빈도</td>\n",
              "    </tr>\n",
              "    <tr>\n",
              "      <th>3</th>\n",
              "      <td>31.867994</td>\n",
              "      <td>2.401115e-08</td>\n",
              "      <td>True</td>\n",
              "      <td>1회 평균매출액</td>\n",
              "    </tr>\n",
              "    <tr>\n",
              "      <th>8</th>\n",
              "      <td>6.784768</td>\n",
              "      <td>9.389630e-03</td>\n",
              "      <td>True</td>\n",
              "      <td>클레임접수여부</td>\n",
              "    </tr>\n",
              "    <tr>\n",
              "      <th>11</th>\n",
              "      <td>12.171897</td>\n",
              "      <td>5.156069e-04</td>\n",
              "      <td>True</td>\n",
              "      <td>성별</td>\n",
              "    </tr>\n",
              "    <tr>\n",
              "      <th>13</th>\n",
              "      <td>60.680197</td>\n",
              "      <td>2.435210e-14</td>\n",
              "      <td>True</td>\n",
              "      <td>거래기간</td>\n",
              "    </tr>\n",
              "    <tr>\n",
              "      <th>14</th>\n",
              "      <td>86.354376</td>\n",
              "      <td>1.882930e-19</td>\n",
              "      <td>True</td>\n",
              "      <td>할인민감여부</td>\n",
              "    </tr>\n",
              "    <tr>\n",
              "      <th>16</th>\n",
              "      <td>6.449529</td>\n",
              "      <td>1.131399e-02</td>\n",
              "      <td>True</td>\n",
              "      <td>Frequency</td>\n",
              "    </tr>\n",
              "    <tr>\n",
              "      <th>18</th>\n",
              "      <td>40.217271</td>\n",
              "      <td>4.081567e-10</td>\n",
              "      <td>True</td>\n",
              "      <td>평균 구매주기</td>\n",
              "    </tr>\n",
              "  </tbody>\n",
              "</table>\n",
              "</div>\n",
              "      <button class=\"colab-df-convert\" onclick=\"convertToInteractive('df-56452502-3b95-496c-a3ed-ce33ec835ece')\"\n",
              "              title=\"Convert this dataframe to an interactive table.\"\n",
              "              style=\"display:none;\">\n",
              "        \n",
              "  <svg xmlns=\"http://www.w3.org/2000/svg\" height=\"24px\"viewBox=\"0 0 24 24\"\n",
              "       width=\"24px\">\n",
              "    <path d=\"M0 0h24v24H0V0z\" fill=\"none\"/>\n",
              "    <path d=\"M18.56 5.44l.94 2.06.94-2.06 2.06-.94-2.06-.94-.94-2.06-.94 2.06-2.06.94zm-11 1L8.5 8.5l.94-2.06 2.06-.94-2.06-.94L8.5 2.5l-.94 2.06-2.06.94zm10 10l.94 2.06.94-2.06 2.06-.94-2.06-.94-.94-2.06-.94 2.06-2.06.94z\"/><path d=\"M17.41 7.96l-1.37-1.37c-.4-.4-.92-.59-1.43-.59-.52 0-1.04.2-1.43.59L10.3 9.45l-7.72 7.72c-.78.78-.78 2.05 0 2.83L4 21.41c.39.39.9.59 1.41.59.51 0 1.02-.2 1.41-.59l7.78-7.78 2.81-2.81c.8-.78.8-2.07 0-2.86zM5.41 20L4 18.59l7.72-7.72 1.47 1.35L5.41 20z\"/>\n",
              "  </svg>\n",
              "      </button>\n",
              "      \n",
              "  <style>\n",
              "    .colab-df-container {\n",
              "      display:flex;\n",
              "      flex-wrap:wrap;\n",
              "      gap: 12px;\n",
              "    }\n",
              "\n",
              "    .colab-df-convert {\n",
              "      background-color: #E8F0FE;\n",
              "      border: none;\n",
              "      border-radius: 50%;\n",
              "      cursor: pointer;\n",
              "      display: none;\n",
              "      fill: #1967D2;\n",
              "      height: 32px;\n",
              "      padding: 0 0 0 0;\n",
              "      width: 32px;\n",
              "    }\n",
              "\n",
              "    .colab-df-convert:hover {\n",
              "      background-color: #E2EBFA;\n",
              "      box-shadow: 0px 1px 2px rgba(60, 64, 67, 0.3), 0px 1px 3px 1px rgba(60, 64, 67, 0.15);\n",
              "      fill: #174EA6;\n",
              "    }\n",
              "\n",
              "    [theme=dark] .colab-df-convert {\n",
              "      background-color: #3B4455;\n",
              "      fill: #D2E3FC;\n",
              "    }\n",
              "\n",
              "    [theme=dark] .colab-df-convert:hover {\n",
              "      background-color: #434B5C;\n",
              "      box-shadow: 0px 1px 3px 1px rgba(0, 0, 0, 0.15);\n",
              "      filter: drop-shadow(0px 1px 2px rgba(0, 0, 0, 0.3));\n",
              "      fill: #FFFFFF;\n",
              "    }\n",
              "  </style>\n",
              "\n",
              "      <script>\n",
              "        const buttonEl =\n",
              "          document.querySelector('#df-56452502-3b95-496c-a3ed-ce33ec835ece button.colab-df-convert');\n",
              "        buttonEl.style.display =\n",
              "          google.colab.kernel.accessAllowed ? 'block' : 'none';\n",
              "\n",
              "        async function convertToInteractive(key) {\n",
              "          const element = document.querySelector('#df-56452502-3b95-496c-a3ed-ce33ec835ece');\n",
              "          const dataTable =\n",
              "            await google.colab.kernel.invokeFunction('convertToInteractive',\n",
              "                                                     [key], {});\n",
              "          if (!dataTable) return;\n",
              "\n",
              "          const docLinkHtml = 'Like what you see? Visit the ' +\n",
              "            '<a target=\"_blank\" href=https://colab.research.google.com/notebooks/data_table.ipynb>data table notebook</a>'\n",
              "            + ' to learn more about interactive tables.';\n",
              "          element.innerHTML = '';\n",
              "          dataTable['output_type'] = 'display_data';\n",
              "          await google.colab.output.renderOutput(dataTable, element);\n",
              "          const docLink = document.createElement('div');\n",
              "          docLink.innerHTML = docLinkHtml;\n",
              "          element.appendChild(docLink);\n",
              "        }\n",
              "      </script>\n",
              "    </div>\n",
              "  </div>\n",
              "  "
            ]
          },
          "metadata": {},
          "execution_count": 14
        }
      ]
    },
    {
      "cell_type": "code",
      "source": [
        "from sklearn.feature_selection import SelectFromModel\n",
        "from sklearn.ensemble import RandomForestClassifier\n",
        "\n",
        "selector = SelectFromModel(RandomForestClassifier(n_estimators = 100, random_state=0), threshold = \"median\")\n",
        "selector.fit(X_train, Y_train)\n",
        "\n",
        "score = pd.DataFrame()\n",
        "score[\"attribute\"] = X_train.columns\n",
        "score[\"support\"] =  selector.get_support()\n",
        "score[score[\"support\"] == True]"
      ],
      "metadata": {
        "colab": {
          "base_uri": "https://localhost:8080/",
          "height": 363
        },
        "id": "Uim6_mCivz0F",
        "outputId": "95e82138-5d31-473f-a667-c56c871f3096"
      },
      "execution_count": null,
      "outputs": [
        {
          "output_type": "execute_result",
          "data": {
            "text/plain": [
              "    attribute  support\n",
              "0        총매출액     True\n",
              "2        방문빈도     True\n",
              "3    1회 평균매출액     True\n",
              "4   할인권 사용 횟수     True\n",
              "5     총 할인 금액     True\n",
              "10       거주지역     True\n",
              "12     고객 나이대     True\n",
              "13       거래기간     True\n",
              "14     할인민감여부     True\n",
              "18    평균 구매주기     True"
            ],
            "text/html": [
              "\n",
              "  <div id=\"df-19a3cba3-a103-49aa-a884-08cdb423ed73\">\n",
              "    <div class=\"colab-df-container\">\n",
              "      <div>\n",
              "<style scoped>\n",
              "    .dataframe tbody tr th:only-of-type {\n",
              "        vertical-align: middle;\n",
              "    }\n",
              "\n",
              "    .dataframe tbody tr th {\n",
              "        vertical-align: top;\n",
              "    }\n",
              "\n",
              "    .dataframe thead th {\n",
              "        text-align: right;\n",
              "    }\n",
              "</style>\n",
              "<table border=\"1\" class=\"dataframe\">\n",
              "  <thead>\n",
              "    <tr style=\"text-align: right;\">\n",
              "      <th></th>\n",
              "      <th>attribute</th>\n",
              "      <th>support</th>\n",
              "    </tr>\n",
              "  </thead>\n",
              "  <tbody>\n",
              "    <tr>\n",
              "      <th>0</th>\n",
              "      <td>총매출액</td>\n",
              "      <td>True</td>\n",
              "    </tr>\n",
              "    <tr>\n",
              "      <th>2</th>\n",
              "      <td>방문빈도</td>\n",
              "      <td>True</td>\n",
              "    </tr>\n",
              "    <tr>\n",
              "      <th>3</th>\n",
              "      <td>1회 평균매출액</td>\n",
              "      <td>True</td>\n",
              "    </tr>\n",
              "    <tr>\n",
              "      <th>4</th>\n",
              "      <td>할인권 사용 횟수</td>\n",
              "      <td>True</td>\n",
              "    </tr>\n",
              "    <tr>\n",
              "      <th>5</th>\n",
              "      <td>총 할인 금액</td>\n",
              "      <td>True</td>\n",
              "    </tr>\n",
              "    <tr>\n",
              "      <th>10</th>\n",
              "      <td>거주지역</td>\n",
              "      <td>True</td>\n",
              "    </tr>\n",
              "    <tr>\n",
              "      <th>12</th>\n",
              "      <td>고객 나이대</td>\n",
              "      <td>True</td>\n",
              "    </tr>\n",
              "    <tr>\n",
              "      <th>13</th>\n",
              "      <td>거래기간</td>\n",
              "      <td>True</td>\n",
              "    </tr>\n",
              "    <tr>\n",
              "      <th>14</th>\n",
              "      <td>할인민감여부</td>\n",
              "      <td>True</td>\n",
              "    </tr>\n",
              "    <tr>\n",
              "      <th>18</th>\n",
              "      <td>평균 구매주기</td>\n",
              "      <td>True</td>\n",
              "    </tr>\n",
              "  </tbody>\n",
              "</table>\n",
              "</div>\n",
              "      <button class=\"colab-df-convert\" onclick=\"convertToInteractive('df-19a3cba3-a103-49aa-a884-08cdb423ed73')\"\n",
              "              title=\"Convert this dataframe to an interactive table.\"\n",
              "              style=\"display:none;\">\n",
              "        \n",
              "  <svg xmlns=\"http://www.w3.org/2000/svg\" height=\"24px\"viewBox=\"0 0 24 24\"\n",
              "       width=\"24px\">\n",
              "    <path d=\"M0 0h24v24H0V0z\" fill=\"none\"/>\n",
              "    <path d=\"M18.56 5.44l.94 2.06.94-2.06 2.06-.94-2.06-.94-.94-2.06-.94 2.06-2.06.94zm-11 1L8.5 8.5l.94-2.06 2.06-.94-2.06-.94L8.5 2.5l-.94 2.06-2.06.94zm10 10l.94 2.06.94-2.06 2.06-.94-2.06-.94-.94-2.06-.94 2.06-2.06.94z\"/><path d=\"M17.41 7.96l-1.37-1.37c-.4-.4-.92-.59-1.43-.59-.52 0-1.04.2-1.43.59L10.3 9.45l-7.72 7.72c-.78.78-.78 2.05 0 2.83L4 21.41c.39.39.9.59 1.41.59.51 0 1.02-.2 1.41-.59l7.78-7.78 2.81-2.81c.8-.78.8-2.07 0-2.86zM5.41 20L4 18.59l7.72-7.72 1.47 1.35L5.41 20z\"/>\n",
              "  </svg>\n",
              "      </button>\n",
              "      \n",
              "  <style>\n",
              "    .colab-df-container {\n",
              "      display:flex;\n",
              "      flex-wrap:wrap;\n",
              "      gap: 12px;\n",
              "    }\n",
              "\n",
              "    .colab-df-convert {\n",
              "      background-color: #E8F0FE;\n",
              "      border: none;\n",
              "      border-radius: 50%;\n",
              "      cursor: pointer;\n",
              "      display: none;\n",
              "      fill: #1967D2;\n",
              "      height: 32px;\n",
              "      padding: 0 0 0 0;\n",
              "      width: 32px;\n",
              "    }\n",
              "\n",
              "    .colab-df-convert:hover {\n",
              "      background-color: #E2EBFA;\n",
              "      box-shadow: 0px 1px 2px rgba(60, 64, 67, 0.3), 0px 1px 3px 1px rgba(60, 64, 67, 0.15);\n",
              "      fill: #174EA6;\n",
              "    }\n",
              "\n",
              "    [theme=dark] .colab-df-convert {\n",
              "      background-color: #3B4455;\n",
              "      fill: #D2E3FC;\n",
              "    }\n",
              "\n",
              "    [theme=dark] .colab-df-convert:hover {\n",
              "      background-color: #434B5C;\n",
              "      box-shadow: 0px 1px 3px 1px rgba(0, 0, 0, 0.15);\n",
              "      filter: drop-shadow(0px 1px 2px rgba(0, 0, 0, 0.3));\n",
              "      fill: #FFFFFF;\n",
              "    }\n",
              "  </style>\n",
              "\n",
              "      <script>\n",
              "        const buttonEl =\n",
              "          document.querySelector('#df-19a3cba3-a103-49aa-a884-08cdb423ed73 button.colab-df-convert');\n",
              "        buttonEl.style.display =\n",
              "          google.colab.kernel.accessAllowed ? 'block' : 'none';\n",
              "\n",
              "        async function convertToInteractive(key) {\n",
              "          const element = document.querySelector('#df-19a3cba3-a103-49aa-a884-08cdb423ed73');\n",
              "          const dataTable =\n",
              "            await google.colab.kernel.invokeFunction('convertToInteractive',\n",
              "                                                     [key], {});\n",
              "          if (!dataTable) return;\n",
              "\n",
              "          const docLinkHtml = 'Like what you see? Visit the ' +\n",
              "            '<a target=\"_blank\" href=https://colab.research.google.com/notebooks/data_table.ipynb>data table notebook</a>'\n",
              "            + ' to learn more about interactive tables.';\n",
              "          element.innerHTML = '';\n",
              "          dataTable['output_type'] = 'display_data';\n",
              "          await google.colab.output.renderOutput(dataTable, element);\n",
              "          const docLink = document.createElement('div');\n",
              "          docLink.innerHTML = docLinkHtml;\n",
              "          element.appendChild(docLink);\n",
              "        }\n",
              "      </script>\n",
              "    </div>\n",
              "  </div>\n",
              "  "
            ]
          },
          "metadata": {},
          "execution_count": 15
        }
      ]
    },
    {
      "cell_type": "markdown",
      "source": [
        "#데이터 벨런싱\n",
        "오버샘플링, 언더샘플링"
      ],
      "metadata": {
        "id": "W1GOeQ_d3cnd"
      }
    },
    {
      "cell_type": "code",
      "source": [
        "df.info()"
      ],
      "metadata": {
        "colab": {
          "base_uri": "https://localhost:8080/"
        },
        "id": "5tmwgtRN3b0l",
        "outputId": "d35863ea-c942-42f6-d325-93712f2733b3"
      },
      "execution_count": null,
      "outputs": [
        {
          "output_type": "stream",
          "name": "stdout",
          "text": [
            "<class 'pandas.core.frame.DataFrame'>\n",
            "RangeIndex: 1000 entries, 0 to 999\n",
            "Data columns (total 21 columns):\n",
            " #   Column     Non-Null Count  Dtype  \n",
            "---  ------     --------------  -----  \n",
            " 0   고객ID       1000 non-null   int64  \n",
            " 1   이탈여부       1000 non-null   int64  \n",
            " 2   총매출액       1000 non-null   int64  \n",
            " 3   구매금액대      1000 non-null   int64  \n",
            " 4   방문빈도       1000 non-null   int64  \n",
            " 5   1회 평균매출액   1000 non-null   int64  \n",
            " 6   할인권 사용 횟수  1000 non-null   int64  \n",
            " 7   총 할인 금액    1000 non-null   int64  \n",
            " 8   고객등급       1000 non-null   int64  \n",
            " 9   구매유형       1000 non-null   int64  \n",
            " 10  클레임접수여부    1000 non-null   int64  \n",
            " 11  구매카테고리수    1000 non-null   int64  \n",
            " 12  거주지역       1000 non-null   int64  \n",
            " 13  성별         1000 non-null   int64  \n",
            " 14  고객 나이대     1000 non-null   int64  \n",
            " 15  거래기간       1000 non-null   int64  \n",
            " 16  할인민감여부     1000 non-null   int64  \n",
            " 17  Recency    1000 non-null   int64  \n",
            " 18  Frequency  1000 non-null   int64  \n",
            " 19  Monetary   1000 non-null   int64  \n",
            " 20  평균 구매주기    1000 non-null   float64\n",
            "dtypes: float64(1), int64(20)\n",
            "memory usage: 164.2 KB\n"
          ]
        }
      ]
    },
    {
      "cell_type": "code",
      "source": [
        "df.describe()"
      ],
      "metadata": {
        "colab": {
          "base_uri": "https://localhost:8080/",
          "height": 411
        },
        "id": "wj9_yX0W3odt",
        "outputId": "03241b8c-4179-4a10-8056-02125aa4cd68"
      },
      "execution_count": null,
      "outputs": [
        {
          "output_type": "execute_result",
          "data": {
            "text/plain": [
              "              고객ID         이탈여부          총매출액        구매금액대        방문빈도  \\\n",
              "count  1000.000000  1000.000000  1.000000e+03  1000.000000  1000.00000   \n",
              "mean    500.500000     0.300000  5.858013e+06     0.700000    22.91100   \n",
              "std     288.819436     0.458487  5.812815e+06     0.781416    19.08217   \n",
              "min       1.000000     0.000000  1.886100e+06     0.000000     1.00000   \n",
              "25%     250.750000     0.000000  2.815905e+06     0.000000    10.75000   \n",
              "50%     500.500000     0.000000  4.092145e+06     0.500000    18.00000   \n",
              "75%     750.250000     1.000000  6.545392e+06     1.000000    28.00000   \n",
              "max    1000.000000     1.000000  6.759576e+07     2.000000   155.00000   \n",
              "\n",
              "           1회 평균매출액    할인권 사용 횟수        총 할인 금액         고객등급         구매유형  \\\n",
              "count  1.000000e+03  1000.000000    1000.000000  1000.000000  1000.000000   \n",
              "mean   3.521024e+05    16.027000  292371.670000     1.546000     2.656000   \n",
              "std    3.124636e+05     8.341334  111937.501042     0.498129     1.046307   \n",
              "min    2.708200e+04     1.000000    3750.000000     1.000000     1.000000   \n",
              "25%    1.631242e+05     9.000000  261686.250000     1.000000     2.000000   \n",
              "50%    2.582080e+05    17.000000  347500.000000     2.000000     2.000000   \n",
              "75%    4.268310e+05    23.000000  365400.000000     2.000000     4.000000   \n",
              "max    2.798500e+06    30.000000  400600.000000     2.000000     4.000000   \n",
              "\n",
              "       ...      구매카테고리수         거주지역           성별       고객 나이대         거래기간  \\\n",
              "count  ...  1000.000000  1000.000000  1000.000000  1000.000000  1000.000000   \n",
              "mean   ...     5.217000     5.147000     0.189000     3.964000  3495.891000   \n",
              "std    ...     2.224153     1.169084     0.391705     1.078827   965.966194   \n",
              "min    ...     1.000000     1.000000     0.000000     2.000000   827.000000   \n",
              "25%    ...     3.000000     4.000000     0.000000     3.000000  2871.000000   \n",
              "50%    ...     5.000000     5.000000     0.000000     4.000000  3836.000000   \n",
              "75%    ...     7.000000     6.000000     0.000000     5.000000  4207.250000   \n",
              "max    ...     9.000000     7.000000     1.000000     7.000000  5334.000000   \n",
              "\n",
              "            할인민감여부      Recency    Frequency     Monetary      평균 구매주기  \n",
              "count  1000.000000  1000.000000  1000.000000  1000.000000  1000.000000  \n",
              "mean      0.400000     4.925000     2.289000     4.129000   266.880824  \n",
              "std       0.490143     1.744253     1.669811     1.560383   254.077398  \n",
              "min       0.000000     1.000000     1.000000     1.000000    13.980645  \n",
              "25%       0.000000     4.000000     1.000000     3.000000   111.957671  \n",
              "50%       0.000000     5.000000     2.000000     4.000000   191.469697  \n",
              "75%       1.000000     7.000000     3.000000     6.000000   324.386218  \n",
              "max       1.000000     7.000000     7.000000     7.000000  1956.000000  \n",
              "\n",
              "[8 rows x 21 columns]"
            ],
            "text/html": [
              "\n",
              "  <div id=\"df-79c18d08-c24e-408d-b9d2-507d29b91ca2\">\n",
              "    <div class=\"colab-df-container\">\n",
              "      <div>\n",
              "<style scoped>\n",
              "    .dataframe tbody tr th:only-of-type {\n",
              "        vertical-align: middle;\n",
              "    }\n",
              "\n",
              "    .dataframe tbody tr th {\n",
              "        vertical-align: top;\n",
              "    }\n",
              "\n",
              "    .dataframe thead th {\n",
              "        text-align: right;\n",
              "    }\n",
              "</style>\n",
              "<table border=\"1\" class=\"dataframe\">\n",
              "  <thead>\n",
              "    <tr style=\"text-align: right;\">\n",
              "      <th></th>\n",
              "      <th>고객ID</th>\n",
              "      <th>이탈여부</th>\n",
              "      <th>총매출액</th>\n",
              "      <th>구매금액대</th>\n",
              "      <th>방문빈도</th>\n",
              "      <th>1회 평균매출액</th>\n",
              "      <th>할인권 사용 횟수</th>\n",
              "      <th>총 할인 금액</th>\n",
              "      <th>고객등급</th>\n",
              "      <th>구매유형</th>\n",
              "      <th>...</th>\n",
              "      <th>구매카테고리수</th>\n",
              "      <th>거주지역</th>\n",
              "      <th>성별</th>\n",
              "      <th>고객 나이대</th>\n",
              "      <th>거래기간</th>\n",
              "      <th>할인민감여부</th>\n",
              "      <th>Recency</th>\n",
              "      <th>Frequency</th>\n",
              "      <th>Monetary</th>\n",
              "      <th>평균 구매주기</th>\n",
              "    </tr>\n",
              "  </thead>\n",
              "  <tbody>\n",
              "    <tr>\n",
              "      <th>count</th>\n",
              "      <td>1000.000000</td>\n",
              "      <td>1000.000000</td>\n",
              "      <td>1.000000e+03</td>\n",
              "      <td>1000.000000</td>\n",
              "      <td>1000.00000</td>\n",
              "      <td>1.000000e+03</td>\n",
              "      <td>1000.000000</td>\n",
              "      <td>1000.000000</td>\n",
              "      <td>1000.000000</td>\n",
              "      <td>1000.000000</td>\n",
              "      <td>...</td>\n",
              "      <td>1000.000000</td>\n",
              "      <td>1000.000000</td>\n",
              "      <td>1000.000000</td>\n",
              "      <td>1000.000000</td>\n",
              "      <td>1000.000000</td>\n",
              "      <td>1000.000000</td>\n",
              "      <td>1000.000000</td>\n",
              "      <td>1000.000000</td>\n",
              "      <td>1000.000000</td>\n",
              "      <td>1000.000000</td>\n",
              "    </tr>\n",
              "    <tr>\n",
              "      <th>mean</th>\n",
              "      <td>500.500000</td>\n",
              "      <td>0.300000</td>\n",
              "      <td>5.858013e+06</td>\n",
              "      <td>0.700000</td>\n",
              "      <td>22.91100</td>\n",
              "      <td>3.521024e+05</td>\n",
              "      <td>16.027000</td>\n",
              "      <td>292371.670000</td>\n",
              "      <td>1.546000</td>\n",
              "      <td>2.656000</td>\n",
              "      <td>...</td>\n",
              "      <td>5.217000</td>\n",
              "      <td>5.147000</td>\n",
              "      <td>0.189000</td>\n",
              "      <td>3.964000</td>\n",
              "      <td>3495.891000</td>\n",
              "      <td>0.400000</td>\n",
              "      <td>4.925000</td>\n",
              "      <td>2.289000</td>\n",
              "      <td>4.129000</td>\n",
              "      <td>266.880824</td>\n",
              "    </tr>\n",
              "    <tr>\n",
              "      <th>std</th>\n",
              "      <td>288.819436</td>\n",
              "      <td>0.458487</td>\n",
              "      <td>5.812815e+06</td>\n",
              "      <td>0.781416</td>\n",
              "      <td>19.08217</td>\n",
              "      <td>3.124636e+05</td>\n",
              "      <td>8.341334</td>\n",
              "      <td>111937.501042</td>\n",
              "      <td>0.498129</td>\n",
              "      <td>1.046307</td>\n",
              "      <td>...</td>\n",
              "      <td>2.224153</td>\n",
              "      <td>1.169084</td>\n",
              "      <td>0.391705</td>\n",
              "      <td>1.078827</td>\n",
              "      <td>965.966194</td>\n",
              "      <td>0.490143</td>\n",
              "      <td>1.744253</td>\n",
              "      <td>1.669811</td>\n",
              "      <td>1.560383</td>\n",
              "      <td>254.077398</td>\n",
              "    </tr>\n",
              "    <tr>\n",
              "      <th>min</th>\n",
              "      <td>1.000000</td>\n",
              "      <td>0.000000</td>\n",
              "      <td>1.886100e+06</td>\n",
              "      <td>0.000000</td>\n",
              "      <td>1.00000</td>\n",
              "      <td>2.708200e+04</td>\n",
              "      <td>1.000000</td>\n",
              "      <td>3750.000000</td>\n",
              "      <td>1.000000</td>\n",
              "      <td>1.000000</td>\n",
              "      <td>...</td>\n",
              "      <td>1.000000</td>\n",
              "      <td>1.000000</td>\n",
              "      <td>0.000000</td>\n",
              "      <td>2.000000</td>\n",
              "      <td>827.000000</td>\n",
              "      <td>0.000000</td>\n",
              "      <td>1.000000</td>\n",
              "      <td>1.000000</td>\n",
              "      <td>1.000000</td>\n",
              "      <td>13.980645</td>\n",
              "    </tr>\n",
              "    <tr>\n",
              "      <th>25%</th>\n",
              "      <td>250.750000</td>\n",
              "      <td>0.000000</td>\n",
              "      <td>2.815905e+06</td>\n",
              "      <td>0.000000</td>\n",
              "      <td>10.75000</td>\n",
              "      <td>1.631242e+05</td>\n",
              "      <td>9.000000</td>\n",
              "      <td>261686.250000</td>\n",
              "      <td>1.000000</td>\n",
              "      <td>2.000000</td>\n",
              "      <td>...</td>\n",
              "      <td>3.000000</td>\n",
              "      <td>4.000000</td>\n",
              "      <td>0.000000</td>\n",
              "      <td>3.000000</td>\n",
              "      <td>2871.000000</td>\n",
              "      <td>0.000000</td>\n",
              "      <td>4.000000</td>\n",
              "      <td>1.000000</td>\n",
              "      <td>3.000000</td>\n",
              "      <td>111.957671</td>\n",
              "    </tr>\n",
              "    <tr>\n",
              "      <th>50%</th>\n",
              "      <td>500.500000</td>\n",
              "      <td>0.000000</td>\n",
              "      <td>4.092145e+06</td>\n",
              "      <td>0.500000</td>\n",
              "      <td>18.00000</td>\n",
              "      <td>2.582080e+05</td>\n",
              "      <td>17.000000</td>\n",
              "      <td>347500.000000</td>\n",
              "      <td>2.000000</td>\n",
              "      <td>2.000000</td>\n",
              "      <td>...</td>\n",
              "      <td>5.000000</td>\n",
              "      <td>5.000000</td>\n",
              "      <td>0.000000</td>\n",
              "      <td>4.000000</td>\n",
              "      <td>3836.000000</td>\n",
              "      <td>0.000000</td>\n",
              "      <td>5.000000</td>\n",
              "      <td>2.000000</td>\n",
              "      <td>4.000000</td>\n",
              "      <td>191.469697</td>\n",
              "    </tr>\n",
              "    <tr>\n",
              "      <th>75%</th>\n",
              "      <td>750.250000</td>\n",
              "      <td>1.000000</td>\n",
              "      <td>6.545392e+06</td>\n",
              "      <td>1.000000</td>\n",
              "      <td>28.00000</td>\n",
              "      <td>4.268310e+05</td>\n",
              "      <td>23.000000</td>\n",
              "      <td>365400.000000</td>\n",
              "      <td>2.000000</td>\n",
              "      <td>4.000000</td>\n",
              "      <td>...</td>\n",
              "      <td>7.000000</td>\n",
              "      <td>6.000000</td>\n",
              "      <td>0.000000</td>\n",
              "      <td>5.000000</td>\n",
              "      <td>4207.250000</td>\n",
              "      <td>1.000000</td>\n",
              "      <td>7.000000</td>\n",
              "      <td>3.000000</td>\n",
              "      <td>6.000000</td>\n",
              "      <td>324.386218</td>\n",
              "    </tr>\n",
              "    <tr>\n",
              "      <th>max</th>\n",
              "      <td>1000.000000</td>\n",
              "      <td>1.000000</td>\n",
              "      <td>6.759576e+07</td>\n",
              "      <td>2.000000</td>\n",
              "      <td>155.00000</td>\n",
              "      <td>2.798500e+06</td>\n",
              "      <td>30.000000</td>\n",
              "      <td>400600.000000</td>\n",
              "      <td>2.000000</td>\n",
              "      <td>4.000000</td>\n",
              "      <td>...</td>\n",
              "      <td>9.000000</td>\n",
              "      <td>7.000000</td>\n",
              "      <td>1.000000</td>\n",
              "      <td>7.000000</td>\n",
              "      <td>5334.000000</td>\n",
              "      <td>1.000000</td>\n",
              "      <td>7.000000</td>\n",
              "      <td>7.000000</td>\n",
              "      <td>7.000000</td>\n",
              "      <td>1956.000000</td>\n",
              "    </tr>\n",
              "  </tbody>\n",
              "</table>\n",
              "<p>8 rows × 21 columns</p>\n",
              "</div>\n",
              "      <button class=\"colab-df-convert\" onclick=\"convertToInteractive('df-79c18d08-c24e-408d-b9d2-507d29b91ca2')\"\n",
              "              title=\"Convert this dataframe to an interactive table.\"\n",
              "              style=\"display:none;\">\n",
              "        \n",
              "  <svg xmlns=\"http://www.w3.org/2000/svg\" height=\"24px\"viewBox=\"0 0 24 24\"\n",
              "       width=\"24px\">\n",
              "    <path d=\"M0 0h24v24H0V0z\" fill=\"none\"/>\n",
              "    <path d=\"M18.56 5.44l.94 2.06.94-2.06 2.06-.94-2.06-.94-.94-2.06-.94 2.06-2.06.94zm-11 1L8.5 8.5l.94-2.06 2.06-.94-2.06-.94L8.5 2.5l-.94 2.06-2.06.94zm10 10l.94 2.06.94-2.06 2.06-.94-2.06-.94-.94-2.06-.94 2.06-2.06.94z\"/><path d=\"M17.41 7.96l-1.37-1.37c-.4-.4-.92-.59-1.43-.59-.52 0-1.04.2-1.43.59L10.3 9.45l-7.72 7.72c-.78.78-.78 2.05 0 2.83L4 21.41c.39.39.9.59 1.41.59.51 0 1.02-.2 1.41-.59l7.78-7.78 2.81-2.81c.8-.78.8-2.07 0-2.86zM5.41 20L4 18.59l7.72-7.72 1.47 1.35L5.41 20z\"/>\n",
              "  </svg>\n",
              "      </button>\n",
              "      \n",
              "  <style>\n",
              "    .colab-df-container {\n",
              "      display:flex;\n",
              "      flex-wrap:wrap;\n",
              "      gap: 12px;\n",
              "    }\n",
              "\n",
              "    .colab-df-convert {\n",
              "      background-color: #E8F0FE;\n",
              "      border: none;\n",
              "      border-radius: 50%;\n",
              "      cursor: pointer;\n",
              "      display: none;\n",
              "      fill: #1967D2;\n",
              "      height: 32px;\n",
              "      padding: 0 0 0 0;\n",
              "      width: 32px;\n",
              "    }\n",
              "\n",
              "    .colab-df-convert:hover {\n",
              "      background-color: #E2EBFA;\n",
              "      box-shadow: 0px 1px 2px rgba(60, 64, 67, 0.3), 0px 1px 3px 1px rgba(60, 64, 67, 0.15);\n",
              "      fill: #174EA6;\n",
              "    }\n",
              "\n",
              "    [theme=dark] .colab-df-convert {\n",
              "      background-color: #3B4455;\n",
              "      fill: #D2E3FC;\n",
              "    }\n",
              "\n",
              "    [theme=dark] .colab-df-convert:hover {\n",
              "      background-color: #434B5C;\n",
              "      box-shadow: 0px 1px 3px 1px rgba(0, 0, 0, 0.15);\n",
              "      filter: drop-shadow(0px 1px 2px rgba(0, 0, 0, 0.3));\n",
              "      fill: #FFFFFF;\n",
              "    }\n",
              "  </style>\n",
              "\n",
              "      <script>\n",
              "        const buttonEl =\n",
              "          document.querySelector('#df-79c18d08-c24e-408d-b9d2-507d29b91ca2 button.colab-df-convert');\n",
              "        buttonEl.style.display =\n",
              "          google.colab.kernel.accessAllowed ? 'block' : 'none';\n",
              "\n",
              "        async function convertToInteractive(key) {\n",
              "          const element = document.querySelector('#df-79c18d08-c24e-408d-b9d2-507d29b91ca2');\n",
              "          const dataTable =\n",
              "            await google.colab.kernel.invokeFunction('convertToInteractive',\n",
              "                                                     [key], {});\n",
              "          if (!dataTable) return;\n",
              "\n",
              "          const docLinkHtml = 'Like what you see? Visit the ' +\n",
              "            '<a target=\"_blank\" href=https://colab.research.google.com/notebooks/data_table.ipynb>data table notebook</a>'\n",
              "            + ' to learn more about interactive tables.';\n",
              "          element.innerHTML = '';\n",
              "          dataTable['output_type'] = 'display_data';\n",
              "          await google.colab.output.renderOutput(dataTable, element);\n",
              "          const docLink = document.createElement('div');\n",
              "          docLink.innerHTML = docLinkHtml;\n",
              "          element.appendChild(docLink);\n",
              "        }\n",
              "      </script>\n",
              "    </div>\n",
              "  </div>\n",
              "  "
            ]
          },
          "metadata": {},
          "execution_count": 17
        }
      ]
    },
    {
      "cell_type": "code",
      "source": [
        "#언더 샘플링\n",
        "from imblearn.under_sampling import RandomUnderSampler\n",
        "from collections import Counter\n",
        "\n",
        "X_train_under, Y_train_under = RandomUnderSampler(random_state = 0).fit_resample(X_train, Y_train)\n",
        "\n",
        "print(\"original data %s\" % Counter(Y))\n",
        "print(\"original train data %s\" % Counter(Y_train))\n",
        "print(\"under train data %s\" % Counter(Y_train_under))"
      ],
      "metadata": {
        "colab": {
          "base_uri": "https://localhost:8080/"
        },
        "id": "36vCn82f3vNZ",
        "outputId": "0926d695-8e22-422e-9612-122be7808f3e"
      },
      "execution_count": null,
      "outputs": [
        {
          "output_type": "stream",
          "name": "stdout",
          "text": [
            "original data Counter({0: 700, 1: 300})\n",
            "original train data Counter({0: 481, 1: 219})\n",
            "under train data Counter({0: 219, 1: 219})\n"
          ]
        }
      ]
    },
    {
      "cell_type": "code",
      "source": [
        "#오버 샘플링\n",
        "from imblearn.over_sampling import SMOTE #synthetic minority over-sampling technique\n",
        "\n",
        "\n",
        "X_train_over, Y_train_over = SMOTE(random_state = 0).fit_resample(X_train, Y_train)\n",
        "\n",
        "print(\"original data %s\" % Counter(Y))\n",
        "print(\"original train data %s\" % Counter(Y_train))\n",
        "print(\"over train data %s\" % Counter(Y_train_over))"
      ],
      "metadata": {
        "colab": {
          "base_uri": "https://localhost:8080/"
        },
        "id": "N5hwlX0n6pHu",
        "outputId": "79e0c390-1ec0-4428-ca52-7dd051c443a4"
      },
      "execution_count": null,
      "outputs": [
        {
          "output_type": "stream",
          "name": "stdout",
          "text": [
            "original data Counter({0: 700, 1: 300})\n",
            "original train data Counter({0: 481, 1: 219})\n",
            "over train data Counter({1: 481, 0: 481})\n"
          ]
        }
      ]
    },
    {
      "cell_type": "code",
      "source": [
        "df.info()"
      ],
      "metadata": {
        "colab": {
          "base_uri": "https://localhost:8080/"
        },
        "id": "fdg0z2_aXFHf",
        "outputId": "88012ce1-5b7d-4168-ec2d-7008a1d069be"
      },
      "execution_count": null,
      "outputs": [
        {
          "output_type": "stream",
          "name": "stdout",
          "text": [
            "<class 'pandas.core.frame.DataFrame'>\n",
            "RangeIndex: 1000 entries, 0 to 999\n",
            "Data columns (total 21 columns):\n",
            " #   Column     Non-Null Count  Dtype  \n",
            "---  ------     --------------  -----  \n",
            " 0   고객ID       1000 non-null   int64  \n",
            " 1   이탈여부       1000 non-null   int64  \n",
            " 2   총매출액       1000 non-null   int64  \n",
            " 3   구매금액대      1000 non-null   int64  \n",
            " 4   방문빈도       1000 non-null   int64  \n",
            " 5   1회 평균매출액   1000 non-null   int64  \n",
            " 6   할인권 사용 횟수  1000 non-null   int64  \n",
            " 7   총 할인 금액    1000 non-null   int64  \n",
            " 8   고객등급       1000 non-null   int64  \n",
            " 9   구매유형       1000 non-null   int64  \n",
            " 10  클레임접수여부    1000 non-null   int64  \n",
            " 11  구매카테고리수    1000 non-null   int64  \n",
            " 12  거주지역       1000 non-null   int64  \n",
            " 13  성별         1000 non-null   int64  \n",
            " 14  고객 나이대     1000 non-null   int64  \n",
            " 15  거래기간       1000 non-null   int64  \n",
            " 16  할인민감여부     1000 non-null   int64  \n",
            " 17  Recency    1000 non-null   int64  \n",
            " 18  Frequency  1000 non-null   int64  \n",
            " 19  Monetary   1000 non-null   int64  \n",
            " 20  평균 구매주기    1000 non-null   float64\n",
            "dtypes: float64(1), int64(20)\n",
            "memory usage: 164.2 KB\n"
          ]
        }
      ]
    },
    {
      "cell_type": "markdown",
      "source": [
        "#선형 회귀분석"
      ],
      "metadata": {
        "id": "bZjVhwSEXQ8k"
      }
    },
    {
      "cell_type": "code",
      "source": [
        "import seaborn as sns\n",
        "import numpy as np"
      ],
      "metadata": {
        "id": "GCD95kBhXQBa"
      },
      "execution_count": null,
      "outputs": []
    },
    {
      "cell_type": "code",
      "source": [
        "df[\"평균 구매주기\"].describe()"
      ],
      "metadata": {
        "colab": {
          "base_uri": "https://localhost:8080/"
        },
        "id": "iMDNxTDXXgg8",
        "outputId": "df616b82-0e3c-4a42-f5a1-c0dd705ab323"
      },
      "execution_count": null,
      "outputs": [
        {
          "output_type": "execute_result",
          "data": {
            "text/plain": [
              "count    1000.000000\n",
              "mean      266.880824\n",
              "std       254.077398\n",
              "min        13.980645\n",
              "25%       111.957671\n",
              "50%       191.469697\n",
              "75%       324.386218\n",
              "max      1956.000000\n",
              "Name: 평균 구매주기, dtype: float64"
            ]
          },
          "metadata": {},
          "execution_count": 22
        }
      ]
    },
    {
      "cell_type": "code",
      "source": [
        "df[\"평균 구매주기\"] = np.log1p(df[\"평균 구매주기\"])\n",
        "sns.distplot(df[\"평균 구매주기\"])"
      ],
      "metadata": {
        "colab": {
          "base_uri": "https://localhost:8080/",
          "height": 774
        },
        "id": "N3HJNrx0X7s1",
        "outputId": "7ca2ae85-30f9-4ac8-b441-5cb29f433e29"
      },
      "execution_count": null,
      "outputs": [
        {
          "output_type": "stream",
          "name": "stderr",
          "text": [
            "/usr/local/lib/python3.8/dist-packages/seaborn/distributions.py:2619: FutureWarning: `distplot` is a deprecated function and will be removed in a future version. Please adapt your code to use either `displot` (a figure-level function with similar flexibility) or `histplot` (an axes-level function for histograms).\n",
            "  warnings.warn(msg, FutureWarning)\n"
          ]
        },
        {
          "output_type": "execute_result",
          "data": {
            "text/plain": [
              "<matplotlib.axes._subplots.AxesSubplot at 0x7f507cc4b1f0>"
            ]
          },
          "metadata": {},
          "execution_count": 23
        },
        {
          "output_type": "stream",
          "name": "stderr",
          "text": [
            "/usr/local/lib/python3.8/dist-packages/matplotlib/backends/backend_agg.py:214: RuntimeWarning: Glyph 54217 missing from current font.\n",
            "  font.set_text(s, 0.0, flags=flags)\n",
            "/usr/local/lib/python3.8/dist-packages/matplotlib/backends/backend_agg.py:214: RuntimeWarning: Glyph 44512 missing from current font.\n",
            "  font.set_text(s, 0.0, flags=flags)\n",
            "/usr/local/lib/python3.8/dist-packages/matplotlib/backends/backend_agg.py:214: RuntimeWarning: Glyph 44396 missing from current font.\n",
            "  font.set_text(s, 0.0, flags=flags)\n",
            "/usr/local/lib/python3.8/dist-packages/matplotlib/backends/backend_agg.py:214: RuntimeWarning: Glyph 47588 missing from current font.\n",
            "  font.set_text(s, 0.0, flags=flags)\n",
            "/usr/local/lib/python3.8/dist-packages/matplotlib/backends/backend_agg.py:214: RuntimeWarning: Glyph 51452 missing from current font.\n",
            "  font.set_text(s, 0.0, flags=flags)\n",
            "/usr/local/lib/python3.8/dist-packages/matplotlib/backends/backend_agg.py:214: RuntimeWarning: Glyph 44592 missing from current font.\n",
            "  font.set_text(s, 0.0, flags=flags)\n",
            "/usr/local/lib/python3.8/dist-packages/matplotlib/backends/backend_agg.py:183: RuntimeWarning: Glyph 54217 missing from current font.\n",
            "  font.set_text(s, 0, flags=flags)\n",
            "/usr/local/lib/python3.8/dist-packages/matplotlib/backends/backend_agg.py:183: RuntimeWarning: Glyph 44512 missing from current font.\n",
            "  font.set_text(s, 0, flags=flags)\n",
            "/usr/local/lib/python3.8/dist-packages/matplotlib/backends/backend_agg.py:183: RuntimeWarning: Glyph 44396 missing from current font.\n",
            "  font.set_text(s, 0, flags=flags)\n",
            "/usr/local/lib/python3.8/dist-packages/matplotlib/backends/backend_agg.py:183: RuntimeWarning: Glyph 47588 missing from current font.\n",
            "  font.set_text(s, 0, flags=flags)\n",
            "/usr/local/lib/python3.8/dist-packages/matplotlib/backends/backend_agg.py:183: RuntimeWarning: Glyph 51452 missing from current font.\n",
            "  font.set_text(s, 0, flags=flags)\n",
            "/usr/local/lib/python3.8/dist-packages/matplotlib/backends/backend_agg.py:183: RuntimeWarning: Glyph 44592 missing from current font.\n",
            "  font.set_text(s, 0, flags=flags)\n"
          ]
        },
        {
          "output_type": "display_data",
          "data": {
            "text/plain": [
              "<Figure size 432x288 with 1 Axes>"
            ],
            "image/png": "[encoded data removed]"
          },
          "metadata": {
            "needs_background": "light"
          }
        }
      ]
    },
    {
      "cell_type": "code",
      "source": [
        "df.columns"
      ],
      "metadata": {
        "colab": {
          "base_uri": "https://localhost:8080/"
        },
        "id": "izCb1leqZGmd",
        "outputId": "cdbbee8e-f665-4ac5-e14d-2344fd78b11c"
      },
      "execution_count": null,
      "outputs": [
        {
          "output_type": "execute_result",
          "data": {
            "text/plain": [
              "Index(['고객ID', '이탈여부', '총매출액', '구매금액대', '방문빈도', '1회 평균매출액', '할인권 사용 횟수',\n",
              "       '총 할인 금액', '고객등급', '구매유형', '클레임접수여부', '구매카테고리수', '거주지역', '성별', '고객 나이대',\n",
              "       '거래기간', '할인민감여부', 'Recency', 'Frequency', 'Monetary', '평균 구매주기'],\n",
              "      dtype='object')"
            ]
          },
          "metadata": {},
          "execution_count": 24
        }
      ]
    },
    {
      "cell_type": "code",
      "source": [
        "from sklearn.model_selection import train_test_split\n",
        "from sklearn.compose import ColumnTransformer\n",
        "from sklearn.preprocessing import StandardScaler\n",
        "from sklearn.preprocessing import OneHotEncoder\n",
        "\n",
        "num = ['총매출액', '1회 평균매출액', '할인권 사용 횟수', '총 할인 금액', '구매카테고리수', 'Frequency', 'Monetary']\n",
        "cg = ['구매금액대', '고객등급', '구매유형', '클레임접수여부', '거주지역', '성별', '고객 나이대']\n",
        "\n",
        "X = df[df.이탈여부 == 0][num+cg]\n",
        "Y = df[df.이탈여부 == 0][\"평균 구매주기\"]\n",
        "\n",
        "X_train, X_test, Y_train, Y_test = train_test_split(X, Y, test_size=0.3, random_state=0)\n",
        "\n",
        "#표준화, 원핫인코딩\n",
        "ct = ColumnTransformer([('scling', StandardScaler(), num), ('onehot', OneHotEncoder(sparse = False), cg)])\n",
        "ct.fit(X_train)\n",
        "X_train= ct.transform(X_train)\n",
        "X_test= ct.transform(X_test)\n",
        "\n",
        "print(X_train[0])"
      ],
      "metadata": {
        "colab": {
          "base_uri": "https://localhost:8080/"
        },
        "id": "5MwIXBPbYP_-",
        "outputId": "cd2526bb-2730-44e9-a6c7-56073fe6befd"
      },
      "execution_count": null,
      "outputs": [
        {
          "output_type": "stream",
          "name": "stdout",
          "text": [
            "[-0.42215576 -0.59782402  0.72324173  0.52150413  1.67181667 -0.24075719\n",
            "  0.52402175  1.          0.          0.          1.          0.\n",
            "  0.          0.          1.          0.          0.          1.\n",
            "  0.          0.          0.          0.          1.          0.\n",
            "  0.          1.          0.          0.          0.          1.\n",
            "  0.          0.          0.        ]\n"
          ]
        }
      ]
    },
    {
      "cell_type": "code",
      "source": [
        "from sklearn.linear_model import LinearRegression\n",
        "from sklearn.metrics import mean_squared_error\n",
        "from math import sqrt\n",
        "\n",
        "lr = LinearRegression().fit(X_train, Y_train)\n",
        "\n",
        "Y_pred = lr.predict(X_test)\n",
        "print(\"predict value\\n\", Y_pred)\n",
        "print(\"train R2 : {:.3f}\".format(lr.score(X_train, Y_train)))\n",
        "print(\"test R2 : {:.3f}\".format(lr.score(X_test, Y_test)))\n",
        "\n",
        "rmse = sqrt(mean_squared_error(Y_test, Y_pred))\n",
        "print(\"RMSE : {:.3f}\".format(rmse))"
      ],
      "metadata": {
        "colab": {
          "base_uri": "https://localhost:8080/"
        },
        "id": "geiLRcKefZwI",
        "outputId": "df96239c-ebaa-4d69-bcfd-f45fd5526af8"
      },
      "execution_count": null,
      "outputs": [
        {
          "output_type": "stream",
          "name": "stdout",
          "text": [
            "predict value\n",
            " [6.0302701  5.41215677 5.42420867 6.43899079 4.93590919 5.85532849\n",
            " 4.56394358 3.8038955  5.22290102 5.61752221 5.66755858 3.44015256\n",
            " 4.32828323 5.41149193 5.83496713 5.04649847 5.12441095 5.61717937\n",
            " 5.28594149 5.43582927 5.45116422 5.26304722 5.70801146 5.03246422\n",
            " 4.70523751 5.39010832 5.59724863 4.08965942 4.40771408 5.45203619\n",
            " 5.39920771 5.65530022 5.27711883 5.7898368  5.34802942 5.55984513\n",
            " 5.18690689 5.57605304 5.47013415 6.61038086 5.42457581 4.43007687\n",
            " 4.68874494 4.29082123 4.77392453 5.94844185 4.93573451 5.44179832\n",
            " 5.29885396 5.79849569 5.44895057 6.13893195 4.70853914 4.72136082\n",
            " 5.26288015 5.29559649 4.9944117  5.70877743 4.22588554 5.06871067\n",
            " 5.13133955 4.83694564 4.444105   5.55643915 4.70940657 5.48285624\n",
            " 5.44463304 4.79091017 5.55952311 3.24002924 5.61109691 5.0678168\n",
            " 5.25923693 4.69626943 3.98374392 5.84571399 5.66972277 5.3203395\n",
            " 4.21100319 4.96752541 4.81038608 5.46601131 5.26382683 4.61218179\n",
            " 5.48213481 5.17219235 4.98828846 5.52966787 4.19525159 5.5089853\n",
            " 5.46969797 5.38935973 5.17351572 5.20534016 4.91429785 6.35813031\n",
            " 5.66788764 4.52409599 5.49752159 3.94530143 4.33835684 5.2631977\n",
            " 5.67208675 5.49947263 5.35220683 4.59383421 5.3399252  5.38654377\n",
            " 5.32150776 4.50097043 5.56408083 5.43906527 5.80869175 5.98633069\n",
            " 5.39222338 4.52777812 5.04828617 5.1508452  4.69967278 4.69252584\n",
            " 5.24701327 5.37848708 5.433188   4.85210521 5.06300221 5.61518791\n",
            " 5.01385181 4.26065441 5.07688664 4.66393484 3.4206454  5.26628514\n",
            " 5.79092652 5.3939315  5.26204873 5.09699467 4.52555017 5.58870936\n",
            " 5.13332833 4.93260002 5.66784458 5.83580719 5.35929363 5.20337026\n",
            " 4.72002593 5.61656362 5.37078032 5.7625779  3.77297191 5.19005192\n",
            " 4.55478581 4.86103165 5.30894628 4.67976808 6.06562164 5.11350314\n",
            " 3.51177436 7.17961493 5.24825306 5.35736988 5.19288244 5.64365322\n",
            " 6.11833407 4.55593917 4.89008405 5.37955631 5.63349515 4.93923769\n",
            " 5.68372872 5.12728438 3.00220781 5.30927849 4.66217982 5.95231316\n",
            " 4.31402908 5.36312525 7.27779018 4.48893564 5.45594905 4.55539835\n",
            " 7.33762247 6.19083139 5.83765808 5.73043273 5.5576523  5.42047983\n",
            " 5.5229765  5.60587685 4.38606312 5.31440912 5.58640569 5.05612038\n",
            " 6.10871889 3.71240753 5.08319795 5.55783262 5.53504333 4.44940591\n",
            " 5.47047228 4.31735287 6.30996163 3.84011474 5.20005564 5.47507267\n",
            " 5.13249682 4.60129137 5.20725766 5.77785492 5.5548456  5.15987351]\n",
            "train R2 : 0.726\n",
            "test R2 : 0.695\n",
            "RMSE : 0.405\n"
          ]
        }
      ]
    },
    {
      "cell_type": "code",
      "source": [
        "Y_test_df = pd.DataFrame(Y_test)\n",
        "Y_test_df = Y_test_df.reset_index()\n",
        "Y_test_df = pd.DataFrame(Y_test_df[\"평균 구매주기\"])\n",
        "Y_test_df"
      ],
      "metadata": {
        "colab": {
          "base_uri": "https://localhost:8080/",
          "height": 423
        },
        "id": "ljwALmvbFcQH",
        "outputId": "fadfca2e-38c4-4743-ca11-d898c89e4b4d"
      },
      "execution_count": null,
      "outputs": [
        {
          "output_type": "execute_result",
          "data": {
            "text/plain": [
              "      평균 구매주기\n",
              "0    6.049733\n",
              "1    5.059239\n",
              "2    4.743482\n",
              "3    6.316036\n",
              "4    4.815228\n",
              "..        ...\n",
              "205  4.367499\n",
              "206  5.184402\n",
              "207  5.796311\n",
              "208  5.580201\n",
              "209  4.903253\n",
              "\n",
              "[210 rows x 1 columns]"
            ],
            "text/html": [
              "\n",
              "  <div id=\"df-9cba8270-6ace-4c13-b12b-d1afa506d7ad\">\n",
              "    <div class=\"colab-df-container\">\n",
              "      <div>\n",
              "<style scoped>\n",
              "    .dataframe tbody tr th:only-of-type {\n",
              "        vertical-align: middle;\n",
              "    }\n",
              "\n",
              "    .dataframe tbody tr th {\n",
              "        vertical-align: top;\n",
              "    }\n",
              "\n",
              "    .dataframe thead th {\n",
              "        text-align: right;\n",
              "    }\n",
              "</style>\n",
              "<table border=\"1\" class=\"dataframe\">\n",
              "  <thead>\n",
              "    <tr style=\"text-align: right;\">\n",
              "      <th></th>\n",
              "      <th>평균 구매주기</th>\n",
              "    </tr>\n",
              "  </thead>\n",
              "  <tbody>\n",
              "    <tr>\n",
              "      <th>0</th>\n",
              "      <td>6.049733</td>\n",
              "    </tr>\n",
              "    <tr>\n",
              "      <th>1</th>\n",
              "      <td>5.059239</td>\n",
              "    </tr>\n",
              "    <tr>\n",
              "      <th>2</th>\n",
              "      <td>4.743482</td>\n",
              "    </tr>\n",
              "    <tr>\n",
              "      <th>3</th>\n",
              "      <td>6.316036</td>\n",
              "    </tr>\n",
              "    <tr>\n",
              "      <th>4</th>\n",
              "      <td>4.815228</td>\n",
              "    </tr>\n",
              "    <tr>\n",
              "      <th>...</th>\n",
              "      <td>...</td>\n",
              "    </tr>\n",
              "    <tr>\n",
              "      <th>205</th>\n",
              "      <td>4.367499</td>\n",
              "    </tr>\n",
              "    <tr>\n",
              "      <th>206</th>\n",
              "      <td>5.184402</td>\n",
              "    </tr>\n",
              "    <tr>\n",
              "      <th>207</th>\n",
              "      <td>5.796311</td>\n",
              "    </tr>\n",
              "    <tr>\n",
              "      <th>208</th>\n",
              "      <td>5.580201</td>\n",
              "    </tr>\n",
              "    <tr>\n",
              "      <th>209</th>\n",
              "      <td>4.903253</td>\n",
              "    </tr>\n",
              "  </tbody>\n",
              "</table>\n",
              "<p>210 rows × 1 columns</p>\n",
              "</div>\n",
              "      <button class=\"colab-df-convert\" onclick=\"convertToInteractive('df-9cba8270-6ace-4c13-b12b-d1afa506d7ad')\"\n",
              "              title=\"Convert this dataframe to an interactive table.\"\n",
              "              style=\"display:none;\">\n",
              "        \n",
              "  <svg xmlns=\"http://www.w3.org/2000/svg\" height=\"24px\"viewBox=\"0 0 24 24\"\n",
              "       width=\"24px\">\n",
              "    <path d=\"M0 0h24v24H0V0z\" fill=\"none\"/>\n",
              "    <path d=\"M18.56 5.44l.94 2.06.94-2.06 2.06-.94-2.06-.94-.94-2.06-.94 2.06-2.06.94zm-11 1L8.5 8.5l.94-2.06 2.06-.94-2.06-.94L8.5 2.5l-.94 2.06-2.06.94zm10 10l.94 2.06.94-2.06 2.06-.94-2.06-.94-.94-2.06-.94 2.06-2.06.94z\"/><path d=\"M17.41 7.96l-1.37-1.37c-.4-.4-.92-.59-1.43-.59-.52 0-1.04.2-1.43.59L10.3 9.45l-7.72 7.72c-.78.78-.78 2.05 0 2.83L4 21.41c.39.39.9.59 1.41.59.51 0 1.02-.2 1.41-.59l7.78-7.78 2.81-2.81c.8-.78.8-2.07 0-2.86zM5.41 20L4 18.59l7.72-7.72 1.47 1.35L5.41 20z\"/>\n",
              "  </svg>\n",
              "      </button>\n",
              "      \n",
              "  <style>\n",
              "    .colab-df-container {\n",
              "      display:flex;\n",
              "      flex-wrap:wrap;\n",
              "      gap: 12px;\n",
              "    }\n",
              "\n",
              "    .colab-df-convert {\n",
              "      background-color: #E8F0FE;\n",
              "      border: none;\n",
              "      border-radius: 50%;\n",
              "      cursor: pointer;\n",
              "      display: none;\n",
              "      fill: #1967D2;\n",
              "      height: 32px;\n",
              "      padding: 0 0 0 0;\n",
              "      width: 32px;\n",
              "    }\n",
              "\n",
              "    .colab-df-convert:hover {\n",
              "      background-color: #E2EBFA;\n",
              "      box-shadow: 0px 1px 2px rgba(60, 64, 67, 0.3), 0px 1px 3px 1px rgba(60, 64, 67, 0.15);\n",
              "      fill: #174EA6;\n",
              "    }\n",
              "\n",
              "    [theme=dark] .colab-df-convert {\n",
              "      background-color: #3B4455;\n",
              "      fill: #D2E3FC;\n",
              "    }\n",
              "\n",
              "    [theme=dark] .colab-df-convert:hover {\n",
              "      background-color: #434B5C;\n",
              "      box-shadow: 0px 1px 3px 1px rgba(0, 0, 0, 0.15);\n",
              "      filter: drop-shadow(0px 1px 2px rgba(0, 0, 0, 0.3));\n",
              "      fill: #FFFFFF;\n",
              "    }\n",
              "  </style>\n",
              "\n",
              "      <script>\n",
              "        const buttonEl =\n",
              "          document.querySelector('#df-9cba8270-6ace-4c13-b12b-d1afa506d7ad button.colab-df-convert');\n",
              "        buttonEl.style.display =\n",
              "          google.colab.kernel.accessAllowed ? 'block' : 'none';\n",
              "\n",
              "        async function convertToInteractive(key) {\n",
              "          const element = document.querySelector('#df-9cba8270-6ace-4c13-b12b-d1afa506d7ad');\n",
              "          const dataTable =\n",
              "            await google.colab.kernel.invokeFunction('convertToInteractive',\n",
              "                                                     [key], {});\n",
              "          if (!dataTable) return;\n",
              "\n",
              "          const docLinkHtml = 'Like what you see? Visit the ' +\n",
              "            '<a target=\"_blank\" href=https://colab.research.google.com/notebooks/data_table.ipynb>data table notebook</a>'\n",
              "            + ' to learn more about interactive tables.';\n",
              "          element.innerHTML = '';\n",
              "          dataTable['output_type'] = 'display_data';\n",
              "          await google.colab.output.renderOutput(dataTable, element);\n",
              "          const docLink = document.createElement('div');\n",
              "          docLink.innerHTML = docLinkHtml;\n",
              "          element.appendChild(docLink);\n",
              "        }\n",
              "      </script>\n",
              "    </div>\n",
              "  </div>\n",
              "  "
            ]
          },
          "metadata": {},
          "execution_count": 27
        }
      ]
    },
    {
      "cell_type": "code",
      "source": [
        "Y_pred_df = pd.DataFrame(Y_pred)\n",
        "Y_pred_df"
      ],
      "metadata": {
        "colab": {
          "base_uri": "https://localhost:8080/",
          "height": 423
        },
        "id": "7G5e_TfdH3NC",
        "outputId": "3a186ccf-4560-4548-a2a7-068d8fe82c2e"
      },
      "execution_count": null,
      "outputs": [
        {
          "output_type": "execute_result",
          "data": {
            "text/plain": [
              "            0\n",
              "0    6.030270\n",
              "1    5.412157\n",
              "2    5.424209\n",
              "3    6.438991\n",
              "4    4.935909\n",
              "..        ...\n",
              "205  4.601291\n",
              "206  5.207258\n",
              "207  5.777855\n",
              "208  5.554846\n",
              "209  5.159874\n",
              "\n",
              "[210 rows x 1 columns]"
            ],
            "text/html": [
              "\n",
              "  <div id=\"df-879a70ea-dbdb-485a-b8e2-a219a04b1704\">\n",
              "    <div class=\"colab-df-container\">\n",
              "      <div>\n",
              "<style scoped>\n",
              "    .dataframe tbody tr th:only-of-type {\n",
              "        vertical-align: middle;\n",
              "    }\n",
              "\n",
              "    .dataframe tbody tr th {\n",
              "        vertical-align: top;\n",
              "    }\n",
              "\n",
              "    .dataframe thead th {\n",
              "        text-align: right;\n",
              "    }\n",
              "</style>\n",
              "<table border=\"1\" class=\"dataframe\">\n",
              "  <thead>\n",
              "    <tr style=\"text-align: right;\">\n",
              "      <th></th>\n",
              "      <th>0</th>\n",
              "    </tr>\n",
              "  </thead>\n",
              "  <tbody>\n",
              "    <tr>\n",
              "      <th>0</th>\n",
              "      <td>6.030270</td>\n",
              "    </tr>\n",
              "    <tr>\n",
              "      <th>1</th>\n",
              "      <td>5.412157</td>\n",
              "    </tr>\n",
              "    <tr>\n",
              "      <th>2</th>\n",
              "      <td>5.424209</td>\n",
              "    </tr>\n",
              "    <tr>\n",
              "      <th>3</th>\n",
              "      <td>6.438991</td>\n",
              "    </tr>\n",
              "    <tr>\n",
              "      <th>4</th>\n",
              "      <td>4.935909</td>\n",
              "    </tr>\n",
              "    <tr>\n",
              "      <th>...</th>\n",
              "      <td>...</td>\n",
              "    </tr>\n",
              "    <tr>\n",
              "      <th>205</th>\n",
              "      <td>4.601291</td>\n",
              "    </tr>\n",
              "    <tr>\n",
              "      <th>206</th>\n",
              "      <td>5.207258</td>\n",
              "    </tr>\n",
              "    <tr>\n",
              "      <th>207</th>\n",
              "      <td>5.777855</td>\n",
              "    </tr>\n",
              "    <tr>\n",
              "      <th>208</th>\n",
              "      <td>5.554846</td>\n",
              "    </tr>\n",
              "    <tr>\n",
              "      <th>209</th>\n",
              "      <td>5.159874</td>\n",
              "    </tr>\n",
              "  </tbody>\n",
              "</table>\n",
              "<p>210 rows × 1 columns</p>\n",
              "</div>\n",
              "      <button class=\"colab-df-convert\" onclick=\"convertToInteractive('df-879a70ea-dbdb-485a-b8e2-a219a04b1704')\"\n",
              "              title=\"Convert this dataframe to an interactive table.\"\n",
              "              style=\"display:none;\">\n",
              "        \n",
              "  <svg xmlns=\"http://www.w3.org/2000/svg\" height=\"24px\"viewBox=\"0 0 24 24\"\n",
              "       width=\"24px\">\n",
              "    <path d=\"M0 0h24v24H0V0z\" fill=\"none\"/>\n",
              "    <path d=\"M18.56 5.44l.94 2.06.94-2.06 2.06-.94-2.06-.94-.94-2.06-.94 2.06-2.06.94zm-11 1L8.5 8.5l.94-2.06 2.06-.94-2.06-.94L8.5 2.5l-.94 2.06-2.06.94zm10 10l.94 2.06.94-2.06 2.06-.94-2.06-.94-.94-2.06-.94 2.06-2.06.94z\"/><path d=\"M17.41 7.96l-1.37-1.37c-.4-.4-.92-.59-1.43-.59-.52 0-1.04.2-1.43.59L10.3 9.45l-7.72 7.72c-.78.78-.78 2.05 0 2.83L4 21.41c.39.39.9.59 1.41.59.51 0 1.02-.2 1.41-.59l7.78-7.78 2.81-2.81c.8-.78.8-2.07 0-2.86zM5.41 20L4 18.59l7.72-7.72 1.47 1.35L5.41 20z\"/>\n",
              "  </svg>\n",
              "      </button>\n",
              "      \n",
              "  <style>\n",
              "    .colab-df-container {\n",
              "      display:flex;\n",
              "      flex-wrap:wrap;\n",
              "      gap: 12px;\n",
              "    }\n",
              "\n",
              "    .colab-df-convert {\n",
              "      background-color: #E8F0FE;\n",
              "      border: none;\n",
              "      border-radius: 50%;\n",
              "      cursor: pointer;\n",
              "      display: none;\n",
              "      fill: #1967D2;\n",
              "      height: 32px;\n",
              "      padding: 0 0 0 0;\n",
              "      width: 32px;\n",
              "    }\n",
              "\n",
              "    .colab-df-convert:hover {\n",
              "      background-color: #E2EBFA;\n",
              "      box-shadow: 0px 1px 2px rgba(60, 64, 67, 0.3), 0px 1px 3px 1px rgba(60, 64, 67, 0.15);\n",
              "      fill: #174EA6;\n",
              "    }\n",
              "\n",
              "    [theme=dark] .colab-df-convert {\n",
              "      background-color: #3B4455;\n",
              "      fill: #D2E3FC;\n",
              "    }\n",
              "\n",
              "    [theme=dark] .colab-df-convert:hover {\n",
              "      background-color: #434B5C;\n",
              "      box-shadow: 0px 1px 3px 1px rgba(0, 0, 0, 0.15);\n",
              "      filter: drop-shadow(0px 1px 2px rgba(0, 0, 0, 0.3));\n",
              "      fill: #FFFFFF;\n",
              "    }\n",
              "  </style>\n",
              "\n",
              "      <script>\n",
              "        const buttonEl =\n",
              "          document.querySelector('#df-879a70ea-dbdb-485a-b8e2-a219a04b1704 button.colab-df-convert');\n",
              "        buttonEl.style.display =\n",
              "          google.colab.kernel.accessAllowed ? 'block' : 'none';\n",
              "\n",
              "        async function convertToInteractive(key) {\n",
              "          const element = document.querySelector('#df-879a70ea-dbdb-485a-b8e2-a219a04b1704');\n",
              "          const dataTable =\n",
              "            await google.colab.kernel.invokeFunction('convertToInteractive',\n",
              "                                                     [key], {});\n",
              "          if (!dataTable) return;\n",
              "\n",
              "          const docLinkHtml = 'Like what you see? Visit the ' +\n",
              "            '<a target=\"_blank\" href=https://colab.research.google.com/notebooks/data_table.ipynb>data table notebook</a>'\n",
              "            + ' to learn more about interactive tables.';\n",
              "          element.innerHTML = '';\n",
              "          dataTable['output_type'] = 'display_data';\n",
              "          await google.colab.output.renderOutput(dataTable, element);\n",
              "          const docLink = document.createElement('div');\n",
              "          docLink.innerHTML = docLinkHtml;\n",
              "          element.appendChild(docLink);\n",
              "        }\n",
              "      </script>\n",
              "    </div>\n",
              "  </div>\n",
              "  "
            ]
          },
          "metadata": {},
          "execution_count": 28
        }
      ]
    },
    {
      "cell_type": "code",
      "source": [
        "import matplotlib.pyplot as plt\n",
        "\n",
        "%matplotlib inline\n",
        "plt.plot(Y_pred_df)\n",
        "plt.plot(Y_test_df)"
      ],
      "metadata": {
        "colab": {
          "base_uri": "https://localhost:8080/",
          "height": 283
        },
        "id": "rAUmQErAIBJj",
        "outputId": "8ad948d4-0f83-4155-dd40-561ef66840ca"
      },
      "execution_count": null,
      "outputs": [
        {
          "output_type": "execute_result",
          "data": {
            "text/plain": [
              "[<matplotlib.lines.Line2D at 0x7f50772b2790>]"
            ]
          },
          "metadata": {},
          "execution_count": 29
        },
        {
          "output_type": "display_data",
          "data": {
            "text/plain": [
              "<Figure size 432x288 with 1 Axes>"
            ],
            "image/png": "[encoded data removed]"
          },
          "metadata": {
            "needs_background": "light"
          }
        }
      ]
    },
    {
      "cell_type": "code",
      "source": [
        "Y_test_df  = Y_test_df.dropna(axis=0)"
      ],
      "metadata": {
        "id": "rwmpNBixIMa2"
      },
      "execution_count": null,
      "outputs": []
    },
    {
      "cell_type": "code",
      "source": [
        "Y_test_df "
      ],
      "metadata": {
        "colab": {
          "base_uri": "https://localhost:8080/",
          "height": 423
        },
        "id": "D_c4UDCiJ713",
        "outputId": "a0ba8b72-ee88-4211-edc0-9a5d1ad08274"
      },
      "execution_count": null,
      "outputs": [
        {
          "output_type": "execute_result",
          "data": {
            "text/plain": [
              "      평균 구매주기\n",
              "0    6.049733\n",
              "1    5.059239\n",
              "2    4.743482\n",
              "3    6.316036\n",
              "4    4.815228\n",
              "..        ...\n",
              "205  4.367499\n",
              "206  5.184402\n",
              "207  5.796311\n",
              "208  5.580201\n",
              "209  4.903253\n",
              "\n",
              "[210 rows x 1 columns]"
            ],
            "text/html": [
              "\n",
              "  <div id=\"df-c8eec21a-1e1c-4d23-8026-6cb1a97ce991\">\n",
              "    <div class=\"colab-df-container\">\n",
              "      <div>\n",
              "<style scoped>\n",
              "    .dataframe tbody tr th:only-of-type {\n",
              "        vertical-align: middle;\n",
              "    }\n",
              "\n",
              "    .dataframe tbody tr th {\n",
              "        vertical-align: top;\n",
              "    }\n",
              "\n",
              "    .dataframe thead th {\n",
              "        text-align: right;\n",
              "    }\n",
              "</style>\n",
              "<table border=\"1\" class=\"dataframe\">\n",
              "  <thead>\n",
              "    <tr style=\"text-align: right;\">\n",
              "      <th></th>\n",
              "      <th>평균 구매주기</th>\n",
              "    </tr>\n",
              "  </thead>\n",
              "  <tbody>\n",
              "    <tr>\n",
              "      <th>0</th>\n",
              "      <td>6.049733</td>\n",
              "    </tr>\n",
              "    <tr>\n",
              "      <th>1</th>\n",
              "      <td>5.059239</td>\n",
              "    </tr>\n",
              "    <tr>\n",
              "      <th>2</th>\n",
              "      <td>4.743482</td>\n",
              "    </tr>\n",
              "    <tr>\n",
              "      <th>3</th>\n",
              "      <td>6.316036</td>\n",
              "    </tr>\n",
              "    <tr>\n",
              "      <th>4</th>\n",
              "      <td>4.815228</td>\n",
              "    </tr>\n",
              "    <tr>\n",
              "      <th>...</th>\n",
              "      <td>...</td>\n",
              "    </tr>\n",
              "    <tr>\n",
              "      <th>205</th>\n",
              "      <td>4.367499</td>\n",
              "    </tr>\n",
              "    <tr>\n",
              "      <th>206</th>\n",
              "      <td>5.184402</td>\n",
              "    </tr>\n",
              "    <tr>\n",
              "      <th>207</th>\n",
              "      <td>5.796311</td>\n",
              "    </tr>\n",
              "    <tr>\n",
              "      <th>208</th>\n",
              "      <td>5.580201</td>\n",
              "    </tr>\n",
              "    <tr>\n",
              "      <th>209</th>\n",
              "      <td>4.903253</td>\n",
              "    </tr>\n",
              "  </tbody>\n",
              "</table>\n",
              "<p>210 rows × 1 columns</p>\n",
              "</div>\n",
              "      <button class=\"colab-df-convert\" onclick=\"convertToInteractive('df-c8eec21a-1e1c-4d23-8026-6cb1a97ce991')\"\n",
              "              title=\"Convert this dataframe to an interactive table.\"\n",
              "              style=\"display:none;\">\n",
              "        \n",
              "  <svg xmlns=\"http://www.w3.org/2000/svg\" height=\"24px\"viewBox=\"0 0 24 24\"\n",
              "       width=\"24px\">\n",
              "    <path d=\"M0 0h24v24H0V0z\" fill=\"none\"/>\n",
              "    <path d=\"M18.56 5.44l.94 2.06.94-2.06 2.06-.94-2.06-.94-.94-2.06-.94 2.06-2.06.94zm-11 1L8.5 8.5l.94-2.06 2.06-.94-2.06-.94L8.5 2.5l-.94 2.06-2.06.94zm10 10l.94 2.06.94-2.06 2.06-.94-2.06-.94-.94-2.06-.94 2.06-2.06.94z\"/><path d=\"M17.41 7.96l-1.37-1.37c-.4-.4-.92-.59-1.43-.59-.52 0-1.04.2-1.43.59L10.3 9.45l-7.72 7.72c-.78.78-.78 2.05 0 2.83L4 21.41c.39.39.9.59 1.41.59.51 0 1.02-.2 1.41-.59l7.78-7.78 2.81-2.81c.8-.78.8-2.07 0-2.86zM5.41 20L4 18.59l7.72-7.72 1.47 1.35L5.41 20z\"/>\n",
              "  </svg>\n",
              "      </button>\n",
              "      \n",
              "  <style>\n",
              "    .colab-df-container {\n",
              "      display:flex;\n",
              "      flex-wrap:wrap;\n",
              "      gap: 12px;\n",
              "    }\n",
              "\n",
              "    .colab-df-convert {\n",
              "      background-color: #E8F0FE;\n",
              "      border: none;\n",
              "      border-radius: 50%;\n",
              "      cursor: pointer;\n",
              "      display: none;\n",
              "      fill: #1967D2;\n",
              "      height: 32px;\n",
              "      padding: 0 0 0 0;\n",
              "      width: 32px;\n",
              "    }\n",
              "\n",
              "    .colab-df-convert:hover {\n",
              "      background-color: #E2EBFA;\n",
              "      box-shadow: 0px 1px 2px rgba(60, 64, 67, 0.3), 0px 1px 3px 1px rgba(60, 64, 67, 0.15);\n",
              "      fill: #174EA6;\n",
              "    }\n",
              "\n",
              "    [theme=dark] .colab-df-convert {\n",
              "      background-color: #3B4455;\n",
              "      fill: #D2E3FC;\n",
              "    }\n",
              "\n",
              "    [theme=dark] .colab-df-convert:hover {\n",
              "      background-color: #434B5C;\n",
              "      box-shadow: 0px 1px 3px 1px rgba(0, 0, 0, 0.15);\n",
              "      filter: drop-shadow(0px 1px 2px rgba(0, 0, 0, 0.3));\n",
              "      fill: #FFFFFF;\n",
              "    }\n",
              "  </style>\n",
              "\n",
              "      <script>\n",
              "        const buttonEl =\n",
              "          document.querySelector('#df-c8eec21a-1e1c-4d23-8026-6cb1a97ce991 button.colab-df-convert');\n",
              "        buttonEl.style.display =\n",
              "          google.colab.kernel.accessAllowed ? 'block' : 'none';\n",
              "\n",
              "        async function convertToInteractive(key) {\n",
              "          const element = document.querySelector('#df-c8eec21a-1e1c-4d23-8026-6cb1a97ce991');\n",
              "          const dataTable =\n",
              "            await google.colab.kernel.invokeFunction('convertToInteractive',\n",
              "                                                     [key], {});\n",
              "          if (!dataTable) return;\n",
              "\n",
              "          const docLinkHtml = 'Like what you see? Visit the ' +\n",
              "            '<a target=\"_blank\" href=https://colab.research.google.com/notebooks/data_table.ipynb>data table notebook</a>'\n",
              "            + ' to learn more about interactive tables.';\n",
              "          element.innerHTML = '';\n",
              "          dataTable['output_type'] = 'display_data';\n",
              "          await google.colab.output.renderOutput(dataTable, element);\n",
              "          const docLink = document.createElement('div');\n",
              "          docLink.innerHTML = docLinkHtml;\n",
              "          element.appendChild(docLink);\n",
              "        }\n",
              "      </script>\n",
              "    </div>\n",
              "  </div>\n",
              "  "
            ]
          },
          "metadata": {},
          "execution_count": 31
        }
      ]
    },
    {
      "cell_type": "code",
      "source": [
        "#num = ['총매출액', '1회 평균매출액', '할인권 사용 횟수', '총 할인 금액', '구매카테고리수', 'Frequency', 'Monetary']\n",
        "#cg = ['구매금액대', '고객등급', '구매유형', '클레임접수여부', '거주지역', '성별', '고객 나이대']\n",
        "\n",
        "print(\"절편\", np.round(lr.intercept_, 3))\n",
        "print(\"가중치(beta)\", np.round(lr.coef_, 3))"
      ],
      "metadata": {
        "colab": {
          "base_uri": "https://localhost:8080/"
        },
        "id": "8khPVtrkgwrQ",
        "outputId": "a9091f4c-af80-459c-b21e-19e53a342c4b"
      },
      "execution_count": null,
      "outputs": [
        {
          "output_type": "stream",
          "name": "stdout",
          "text": [
            "절편 5.204\n",
            "가중치(beta) [-0.156  0.388 -0.019 -0.01   0.035 -0.29   0.015  0.292 -0.001 -0.29\n",
            "  0.014 -0.014  0.055  0.036  0.008 -0.099 -0.08   0.08   0.427 -0.082\n",
            " -0.06  -0.194 -0.021 -0.078  0.008 -0.055  0.055 -0.427  0.01   0.07\n",
            "  0.043  0.048  0.257]\n"
          ]
        }
      ]
    },
    {
      "cell_type": "markdown",
      "source": [
        "#릿지, 라쏘 회귀"
      ],
      "metadata": {
        "id": "8p8JDFHEv7nN"
      }
    },
    {
      "cell_type": "code",
      "source": [
        "from sklearn.linear_model import Ridge\n",
        "\n",
        "lr_ridge = Ridge(random_state = 0).fit(X_train, Y_train)\n",
        "Y_pred = lr_ridge.predict(X_test)\n",
        "\n",
        "print(\"예측값(Y predict value) \\n\", Y_pred)"
      ],
      "metadata": {
        "colab": {
          "base_uri": "https://localhost:8080/"
        },
        "id": "wKlOprAov0vR",
        "outputId": "802753b6-4470-482f-c616-b43430fd946f"
      },
      "execution_count": null,
      "outputs": [
        {
          "output_type": "stream",
          "name": "stdout",
          "text": [
            "예측값(Y predict value) \n",
            " [6.03000797 5.41671746 5.42932123 6.44127922 4.93860553 5.85932374\n",
            " 4.56839084 3.81054588 5.22477967 5.61889847 5.66813628 3.42981349\n",
            " 4.33248596 5.41101642 5.83804147 5.04471767 5.1211324  5.61206657\n",
            " 5.28801914 5.32488795 5.45169079 5.25880606 5.71346032 5.02859175\n",
            " 4.70951147 5.38878901 5.60027856 4.09721037 4.40744067 5.45098959\n",
            " 5.39702921 5.64784758 5.27252093 5.79008128 5.35467632 5.56063965\n",
            " 5.19607603 5.57536879 5.46592343 6.61557262 5.42387534 4.43825559\n",
            " 4.69193156 4.30121093 4.7731486  5.950302   4.94125475 5.44030949\n",
            " 5.2948706  5.79698793 5.44723488 6.13538058 4.70865764 4.72464693\n",
            " 5.25715635 5.29808444 4.9962477  5.70904828 4.24165264 5.06579461\n",
            " 5.1252699  4.83996783 4.44518243 5.55905844 4.70841625 5.47720406\n",
            " 5.44152413 4.79120395 5.56974829 3.25280314 5.6106784  5.06803014\n",
            " 5.25956393 4.70791967 3.98838094 5.84965084 5.67331254 5.31944294\n",
            " 4.21646513 4.98002289 4.81229781 5.46333154 5.27177929 4.610552\n",
            " 5.48261262 5.17186083 4.9841382  5.52892245 4.20170762 5.50716341\n",
            " 5.46594806 5.3966436  5.17127401 5.21499908 4.92397251 6.36092123\n",
            " 5.6674045  4.52266905 5.49573838 3.94846846 4.35125638 5.25753846\n",
            " 5.67123849 5.49881707 5.35831053 4.59499848 5.31448995 5.38475668\n",
            " 5.31944738 4.50333435 5.56591817 5.4401703  5.80399748 5.98417189\n",
            " 5.39226662 4.53508055 5.04657319 5.15176254 4.70530564 4.69265593\n",
            " 5.24839856 5.3767028  5.42649019 4.85196419 5.06505138 5.61193016\n",
            " 5.01427917 4.26477501 5.07720561 4.67741468 3.42769567 5.263973\n",
            " 5.78293944 5.39520592 5.25903992 5.09744686 4.52526308 5.58861481\n",
            " 5.13916331 4.94419716 5.66699272 5.8104644  5.36521963 5.20504587\n",
            " 4.7163364  5.61786925 5.36735762 5.76280418 3.76887428 5.18944838\n",
            " 4.55473703 4.86336754 5.31431324 4.68301705 6.06735591 5.1132049\n",
            " 3.51345104 7.17613879 5.26076015 5.35320971 5.19584987 5.64474613\n",
            " 6.1145688  4.55458275 4.8899415  5.38090059 5.63183886 4.93973411\n",
            " 5.67986287 5.10076749 3.02173131 5.30605869 4.6641244  5.94914821\n",
            " 4.32084317 5.36097409 7.27340601 4.49330047 5.45468312 4.5534446\n",
            " 7.33888147 6.1921297  5.83553559 5.73048056 5.55838073 5.41628167\n",
            " 5.5204242  5.60364379 4.39187133 5.31264895 5.58717864 5.05450839\n",
            " 6.10221635 3.71454243 5.08511824 5.55356348 5.53973876 4.4471473\n",
            " 5.47041853 4.32234069 6.30857552 3.8395683  5.20562334 5.47293632\n",
            " 5.1282533  4.60088108 5.20920958 5.77548498 5.55173248 5.16133714]\n"
          ]
        }
      ]
    },
    {
      "cell_type": "code",
      "source": [
        "rmse = sqrt(mean_squared_error(Y_test, Y_pred))\n",
        "print(\"ridge R2 : {:.3f}\".format(lr_ridge.score(X_train, Y_train)))\n",
        "print(\"RMSE : {:.3f}\".format(rmse))\n",
        "#비교\n",
        "print(\"lr R2 : {:.3f}\".format(lr.score(X_train, Y_train)))"
      ],
      "metadata": {
        "colab": {
          "base_uri": "https://localhost:8080/"
        },
        "id": "4Ep1jEe8yWUT",
        "outputId": "fcdf177f-3c9f-4d33-efcc-7e9ef2c8c915"
      },
      "execution_count": null,
      "outputs": [
        {
          "output_type": "stream",
          "name": "stdout",
          "text": [
            "ridge R2 : 0.726\n",
            "RMSE : 0.403\n",
            "lr R2 : 0.726\n"
          ]
        }
      ]
    },
    {
      "cell_type": "code",
      "source": [
        "#라쏘\n",
        "from sklearn.linear_model import Lasso\n",
        "\n",
        "lr_lasso = Lasso(random_state = 0, alpha = 0.01, max_iter = 1000).fit(X_train, Y_train)\n",
        "Y_pred = lr_lasso.predict(X_test)\n",
        "\n",
        "print(\"예측값(Y predict value) \\n\", Y_pred)"
      ],
      "metadata": {
        "colab": {
          "base_uri": "https://localhost:8080/"
        },
        "id": "khjIiEwbyfOR",
        "outputId": "ece59e14-153e-4b29-84b0-1aebeb1139ce"
      },
      "execution_count": null,
      "outputs": [
        {
          "output_type": "stream",
          "name": "stdout",
          "text": [
            "예측값(Y predict value) \n",
            " [5.85999035 5.43036643 5.44663007 6.48906612 4.97641413 5.69822258\n",
            " 4.5716117  3.88906492 5.27984535 5.54858587 5.67709958 3.30742434\n",
            " 4.45272397 5.42149034 5.87903236 5.00187799 5.12055037 5.56949787\n",
            " 5.33279402 5.0264179  5.52733519 5.1867408  5.665303   5.0119166\n",
            " 4.70132881 5.44864394 5.62488274 4.16327321 4.38211259 5.4308754\n",
            " 5.37511549 5.67040693 5.19104603 5.79672221 5.47877539 5.4547485\n",
            " 5.25369206 5.54714363 5.42273349 6.6026743  5.44052754 4.61359453\n",
            " 4.74827815 4.47000201 4.78926599 5.82570411 4.93589832 5.42347938\n",
            " 5.19064772 5.71009563 5.38598782 5.87895508 4.47556196 4.77561637\n",
            " 5.23514088 5.36821002 4.94726191 5.74052715 4.48801399 4.99109917\n",
            " 4.96578984 4.92437103 4.49896869 5.51596171 4.70911385 5.37807152\n",
            " 5.38059893 4.70777152 5.63186935 3.33411699 5.63024419 5.02637709\n",
            " 5.23878352 4.85617924 4.07737633 5.82495727 5.67069263 5.22957699\n",
            " 4.31245514 5.15236296 4.79517679 5.3733623  5.32829571 4.50502391\n",
            " 5.54652945 5.21846617 5.01779632 5.53962851 4.32845933 5.49707177\n",
            " 5.47579866 5.47030054 5.11389376 5.34111284 5.03510473 6.30417129\n",
            " 5.54703726 4.56825259 5.46293324 4.00945795 4.4638185  5.21238187\n",
            " 5.57668597 5.38856242 5.42216949 4.69398268 5.18384901 5.33034093\n",
            " 5.21577881 4.68397292 5.45096619 5.36153877 5.74800785 5.93458662\n",
            " 5.38343471 4.59590606 5.04093295 5.20282397 4.78319821 4.87273491\n",
            " 5.32614147 5.3610081  5.18371316 4.79607895 5.18381171 5.59420426\n",
            " 4.90357639 4.39371112 4.9374651  4.89277018 3.57275229 5.20795496\n",
            " 5.64477093 5.4925311  5.10006975 5.05996799 4.37514809 5.55741413\n",
            " 5.2321456  5.0419359  5.66605908 5.53149531 5.27795985 5.21192103\n",
            " 4.64460479 5.55312849 5.30863491 5.67994963 3.68696671 5.21799557\n",
            " 4.52838841 4.89986718 5.27500923 4.69073274 6.00138956 5.09996223\n",
            " 3.47931189 7.13868655 5.30524109 5.29005772 5.30312695 5.56059908\n",
            " 5.9062838  4.54511386 4.8664513  5.41831185 5.66006805 5.00005965\n",
            " 5.62518236 4.90297568 3.23729804 5.31907912 4.67991665 5.8259254\n",
            " 4.29128851 5.37734548 7.15292646 4.55304951 5.52657034 4.45132933\n",
            " 7.29774518 6.21806332 5.73610582 5.72771399 5.52314158 5.35375337\n",
            " 5.5273259  5.59471329 4.29164789 5.33613057 5.54767693 5.14272409\n",
            " 5.97251215 3.71880871 5.1787783  5.44436474 5.56822526 4.33993145\n",
            " 5.4687718  4.27447305 6.14488624 3.83143591 5.29196668 5.31166736\n",
            " 5.14886303 4.68537449 5.27532464 5.69569534 5.45935736 5.18546778]\n"
          ]
        }
      ]
    },
    {
      "cell_type": "code",
      "source": [
        "rmse = sqrt(mean_squared_error(Y_test, Y_pred))\n",
        "print(\"lasso R2 : {:.3f}\".format(lr_lasso.score(X_train, Y_train)))\n",
        "print(\"RMSE : {:.3f}\".format(rmse))\n",
        "#비교\n",
        "print(\"lr R2 : {:.3f}\".format(lr.score(X_train, Y_train)))\n",
        "print(\"ridge R2 : {:.3f}\".format(lr_ridge.score(X_train, Y_train)))"
      ],
      "metadata": {
        "colab": {
          "base_uri": "https://localhost:8080/"
        },
        "id": "8VXqTN1c1Sq3",
        "outputId": "3d485dbf-59ef-4769-e62d-74bc56408773"
      },
      "execution_count": null,
      "outputs": [
        {
          "output_type": "stream",
          "name": "stdout",
          "text": [
            "lasso R2 : 0.709\n",
            "RMSE : 0.391\n",
            "lr R2 : 0.726\n",
            "ridge R2 : 0.726\n"
          ]
        }
      ]
    },
    {
      "cell_type": "code",
      "source": [
        "#엘라스틱넷\n",
        "from sklearn.linear_model import ElasticNet\n",
        "\n",
        "lr_ela = ElasticNet(alpha = 0.01).fit(X_train, Y_train)\n",
        "Y_pred = lr_ela.predict(X_test)\n",
        "\n",
        "print(\"예측값(Y predict value) \\n\", Y_pred)"
      ],
      "metadata": {
        "id": "phBzyCIH_RUz"
      },
      "execution_count": null,
      "outputs": []
    },
    {
      "cell_type": "code",
      "source": [
        "rmse = sqrt(mean_squared_error(Y_test, Y_pred))\n",
        "print(\"ela R2 : {:.3f}\".format(lr_ela.score(X_train, Y_train)))\n",
        "print(\"RMSE : {:.3f}\".format(rmse))\n",
        "#비교\n",
        "print(\"lr R2 : {:.3f}\".format(lr.score(X_train, Y_train)))\n",
        "print(\"ridge R2 : {:.3f}\".format(lr_ridge.score(X_train, Y_train)))\n",
        "print(\"lasso R2 : {:.3f}\".format(lr_lasso.score(X_train, Y_train)))"
      ],
      "metadata": {
        "colab": {
          "base_uri": "https://localhost:8080/"
        },
        "id": "1rUoepau_hRB",
        "outputId": "82ebee76-3887-4d1c-e6ff-b8751c4160f4"
      },
      "execution_count": null,
      "outputs": [
        {
          "output_type": "stream",
          "name": "stdout",
          "text": [
            "ela R2 : 0.717\n",
            "RMSE : 0.394\n",
            "lr R2 : 0.726\n",
            "ridge R2 : 0.726\n",
            "lasso R2 : 0.709\n"
          ]
        }
      ]
    },
    {
      "cell_type": "markdown",
      "source": [
        "#로지스틱 회귀"
      ],
      "metadata": {
        "id": "cuHcV5qTBzBT"
      }
    },
    {
      "cell_type": "code",
      "source": [
        "df.info()"
      ],
      "metadata": {
        "colab": {
          "base_uri": "https://localhost:8080/"
        },
        "id": "VkbMxjEjBw4a",
        "outputId": "8553b8f7-5058-43be-8e59-42a0a89e2723"
      },
      "execution_count": null,
      "outputs": [
        {
          "output_type": "stream",
          "name": "stdout",
          "text": [
            "<class 'pandas.core.frame.DataFrame'>\n",
            "RangeIndex: 1000 entries, 0 to 999\n",
            "Data columns (total 21 columns):\n",
            " #   Column     Non-Null Count  Dtype  \n",
            "---  ------     --------------  -----  \n",
            " 0   고객ID       1000 non-null   int64  \n",
            " 1   이탈여부       1000 non-null   int64  \n",
            " 2   총매출액       1000 non-null   int64  \n",
            " 3   구매금액대      1000 non-null   int64  \n",
            " 4   방문빈도       1000 non-null   int64  \n",
            " 5   1회 평균매출액   1000 non-null   int64  \n",
            " 6   할인권 사용 횟수  1000 non-null   int64  \n",
            " 7   총 할인 금액    1000 non-null   int64  \n",
            " 8   고객등급       1000 non-null   int64  \n",
            " 9   구매유형       1000 non-null   int64  \n",
            " 10  클레임접수여부    1000 non-null   int64  \n",
            " 11  구매카테고리수    1000 non-null   int64  \n",
            " 12  거주지역       1000 non-null   int64  \n",
            " 13  성별         1000 non-null   int64  \n",
            " 14  고객 나이대     1000 non-null   int64  \n",
            " 15  거래기간       1000 non-null   int64  \n",
            " 16  할인민감여부     1000 non-null   int64  \n",
            " 17  Recency    1000 non-null   int64  \n",
            " 18  Frequency  1000 non-null   int64  \n",
            " 19  Monetary   1000 non-null   int64  \n",
            " 20  평균 구매주기    1000 non-null   float64\n",
            "dtypes: float64(1), int64(20)\n",
            "memory usage: 164.2 KB\n"
          ]
        }
      ]
    },
    {
      "cell_type": "code",
      "source": [
        "df.describe()"
      ],
      "metadata": {
        "colab": {
          "base_uri": "https://localhost:8080/",
          "height": 411
        },
        "id": "-bzcqISOB9dF",
        "outputId": "7ed66215-9edd-4326-f136-d55588724b43"
      },
      "execution_count": null,
      "outputs": [
        {
          "output_type": "execute_result",
          "data": {
            "text/plain": [
              "              고객ID         이탈여부          총매출액        구매금액대        방문빈도  \\\n",
              "count  1000.000000  1000.000000  1.000000e+03  1000.000000  1000.00000   \n",
              "mean    500.500000     0.300000  5.858013e+06     0.700000    22.91100   \n",
              "std     288.819436     0.458487  5.812815e+06     0.781416    19.08217   \n",
              "min       1.000000     0.000000  1.886100e+06     0.000000     1.00000   \n",
              "25%     250.750000     0.000000  2.815905e+06     0.000000    10.75000   \n",
              "50%     500.500000     0.000000  4.092145e+06     0.500000    18.00000   \n",
              "75%     750.250000     1.000000  6.545392e+06     1.000000    28.00000   \n",
              "max    1000.000000     1.000000  6.759576e+07     2.000000   155.00000   \n",
              "\n",
              "           1회 평균매출액    할인권 사용 횟수        총 할인 금액         고객등급         구매유형  \\\n",
              "count  1.000000e+03  1000.000000    1000.000000  1000.000000  1000.000000   \n",
              "mean   3.521024e+05    16.027000  292371.670000     1.546000     2.656000   \n",
              "std    3.124636e+05     8.341334  111937.501042     0.498129     1.046307   \n",
              "min    2.708200e+04     1.000000    3750.000000     1.000000     1.000000   \n",
              "25%    1.631242e+05     9.000000  261686.250000     1.000000     2.000000   \n",
              "50%    2.582080e+05    17.000000  347500.000000     2.000000     2.000000   \n",
              "75%    4.268310e+05    23.000000  365400.000000     2.000000     4.000000   \n",
              "max    2.798500e+06    30.000000  400600.000000     2.000000     4.000000   \n",
              "\n",
              "       ...      구매카테고리수         거주지역           성별       고객 나이대         거래기간  \\\n",
              "count  ...  1000.000000  1000.000000  1000.000000  1000.000000  1000.000000   \n",
              "mean   ...     5.217000     5.147000     0.189000     3.964000  3495.891000   \n",
              "std    ...     2.224153     1.169084     0.391705     1.078827   965.966194   \n",
              "min    ...     1.000000     1.000000     0.000000     2.000000   827.000000   \n",
              "25%    ...     3.000000     4.000000     0.000000     3.000000  2871.000000   \n",
              "50%    ...     5.000000     5.000000     0.000000     4.000000  3836.000000   \n",
              "75%    ...     7.000000     6.000000     0.000000     5.000000  4207.250000   \n",
              "max    ...     9.000000     7.000000     1.000000     7.000000  5334.000000   \n",
              "\n",
              "            할인민감여부      Recency    Frequency     Monetary      평균 구매주기  \n",
              "count  1000.000000  1000.000000  1000.000000  1000.000000  1000.000000  \n",
              "mean      0.400000     4.925000     2.289000     4.129000     5.260784  \n",
              "std       0.490143     1.744253     1.669811     1.560383     0.812845  \n",
              "min       0.000000     1.000000     1.000000     1.000000     2.706759  \n",
              "25%       0.000000     4.000000     1.000000     3.000000     4.727013  \n",
              "50%       0.000000     5.000000     2.000000     4.000000     5.259938  \n",
              "75%       1.000000     7.000000     3.000000     6.000000     5.785012  \n",
              "max       1.000000     7.000000     7.000000     7.000000     7.579168  \n",
              "\n",
              "[8 rows x 21 columns]"
            ],
            "text/html": [
              "\n",
              "  <div id=\"df-4d7125e1-c958-408c-b6d4-b65370f0e70e\">\n",
              "    <div class=\"colab-df-container\">\n",
              "      <div>\n",
              "<style scoped>\n",
              "    .dataframe tbody tr th:only-of-type {\n",
              "        vertical-align: middle;\n",
              "    }\n",
              "\n",
              "    .dataframe tbody tr th {\n",
              "        vertical-align: top;\n",
              "    }\n",
              "\n",
              "    .dataframe thead th {\n",
              "        text-align: right;\n",
              "    }\n",
              "</style>\n",
              "<table border=\"1\" class=\"dataframe\">\n",
              "  <thead>\n",
              "    <tr style=\"text-align: right;\">\n",
              "      <th></th>\n",
              "      <th>고객ID</th>\n",
              "      <th>이탈여부</th>\n",
              "      <th>총매출액</th>\n",
              "      <th>구매금액대</th>\n",
              "      <th>방문빈도</th>\n",
              "      <th>1회 평균매출액</th>\n",
              "      <th>할인권 사용 횟수</th>\n",
              "      <th>총 할인 금액</th>\n",
              "      <th>고객등급</th>\n",
              "      <th>구매유형</th>\n",
              "      <th>...</th>\n",
              "      <th>구매카테고리수</th>\n",
              "      <th>거주지역</th>\n",
              "      <th>성별</th>\n",
              "      <th>고객 나이대</th>\n",
              "      <th>거래기간</th>\n",
              "      <th>할인민감여부</th>\n",
              "      <th>Recency</th>\n",
              "      <th>Frequency</th>\n",
              "      <th>Monetary</th>\n",
              "      <th>평균 구매주기</th>\n",
              "    </tr>\n",
              "  </thead>\n",
              "  <tbody>\n",
              "    <tr>\n",
              "      <th>count</th>\n",
              "      <td>1000.000000</td>\n",
              "      <td>1000.000000</td>\n",
              "      <td>1.000000e+03</td>\n",
              "      <td>1000.000000</td>\n",
              "      <td>1000.00000</td>\n",
              "      <td>1.000000e+03</td>\n",
              "      <td>1000.000000</td>\n",
              "      <td>1000.000000</td>\n",
              "      <td>1000.000000</td>\n",
              "      <td>1000.000000</td>\n",
              "      <td>...</td>\n",
              "      <td>1000.000000</td>\n",
              "      <td>1000.000000</td>\n",
              "      <td>1000.000000</td>\n",
              "      <td>1000.000000</td>\n",
              "      <td>1000.000000</td>\n",
              "      <td>1000.000000</td>\n",
              "      <td>1000.000000</td>\n",
              "      <td>1000.000000</td>\n",
              "      <td>1000.000000</td>\n",
              "      <td>1000.000000</td>\n",
              "    </tr>\n",
              "    <tr>\n",
              "      <th>mean</th>\n",
              "      <td>500.500000</td>\n",
              "      <td>0.300000</td>\n",
              "      <td>5.858013e+06</td>\n",
              "      <td>0.700000</td>\n",
              "      <td>22.91100</td>\n",
              "      <td>3.521024e+05</td>\n",
              "      <td>16.027000</td>\n",
              "      <td>292371.670000</td>\n",
              "      <td>1.546000</td>\n",
              "      <td>2.656000</td>\n",
              "      <td>...</td>\n",
              "      <td>5.217000</td>\n",
              "      <td>5.147000</td>\n",
              "      <td>0.189000</td>\n",
              "      <td>3.964000</td>\n",
              "      <td>3495.891000</td>\n",
              "      <td>0.400000</td>\n",
              "      <td>4.925000</td>\n",
              "      <td>2.289000</td>\n",
              "      <td>4.129000</td>\n",
              "      <td>5.260784</td>\n",
              "    </tr>\n",
              "    <tr>\n",
              "      <th>std</th>\n",
              "      <td>288.819436</td>\n",
              "      <td>0.458487</td>\n",
              "      <td>5.812815e+06</td>\n",
              "      <td>0.781416</td>\n",
              "      <td>19.08217</td>\n",
              "      <td>3.124636e+05</td>\n",
              "      <td>8.341334</td>\n",
              "      <td>111937.501042</td>\n",
              "      <td>0.498129</td>\n",
              "      <td>1.046307</td>\n",
              "      <td>...</td>\n",
              "      <td>2.224153</td>\n",
              "      <td>1.169084</td>\n",
              "      <td>0.391705</td>\n",
              "      <td>1.078827</td>\n",
              "      <td>965.966194</td>\n",
              "      <td>0.490143</td>\n",
              "      <td>1.744253</td>\n",
              "      <td>1.669811</td>\n",
              "      <td>1.560383</td>\n",
              "      <td>0.812845</td>\n",
              "    </tr>\n",
              "    <tr>\n",
              "      <th>min</th>\n",
              "      <td>1.000000</td>\n",
              "      <td>0.000000</td>\n",
              "      <td>1.886100e+06</td>\n",
              "      <td>0.000000</td>\n",
              "      <td>1.00000</td>\n",
              "      <td>2.708200e+04</td>\n",
              "      <td>1.000000</td>\n",
              "      <td>3750.000000</td>\n",
              "      <td>1.000000</td>\n",
              "      <td>1.000000</td>\n",
              "      <td>...</td>\n",
              "      <td>1.000000</td>\n",
              "      <td>1.000000</td>\n",
              "      <td>0.000000</td>\n",
              "      <td>2.000000</td>\n",
              "      <td>827.000000</td>\n",
              "      <td>0.000000</td>\n",
              "      <td>1.000000</td>\n",
              "      <td>1.000000</td>\n",
              "      <td>1.000000</td>\n",
              "      <td>2.706759</td>\n",
              "    </tr>\n",
              "    <tr>\n",
              "      <th>25%</th>\n",
              "      <td>250.750000</td>\n",
              "      <td>0.000000</td>\n",
              "      <td>2.815905e+06</td>\n",
              "      <td>0.000000</td>\n",
              "      <td>10.75000</td>\n",
              "      <td>1.631242e+05</td>\n",
              "      <td>9.000000</td>\n",
              "      <td>261686.250000</td>\n",
              "      <td>1.000000</td>\n",
              "      <td>2.000000</td>\n",
              "      <td>...</td>\n",
              "      <td>3.000000</td>\n",
              "      <td>4.000000</td>\n",
              "      <td>0.000000</td>\n",
              "      <td>3.000000</td>\n",
              "      <td>2871.000000</td>\n",
              "      <td>0.000000</td>\n",
              "      <td>4.000000</td>\n",
              "      <td>1.000000</td>\n",
              "      <td>3.000000</td>\n",
              "      <td>4.727013</td>\n",
              "    </tr>\n",
              "    <tr>\n",
              "      <th>50%</th>\n",
              "      <td>500.500000</td>\n",
              "      <td>0.000000</td>\n",
              "      <td>4.092145e+06</td>\n",
              "      <td>0.500000</td>\n",
              "      <td>18.00000</td>\n",
              "      <td>2.582080e+05</td>\n",
              "      <td>17.000000</td>\n",
              "      <td>347500.000000</td>\n",
              "      <td>2.000000</td>\n",
              "      <td>2.000000</td>\n",
              "      <td>...</td>\n",
              "      <td>5.000000</td>\n",
              "      <td>5.000000</td>\n",
              "      <td>0.000000</td>\n",
              "      <td>4.000000</td>\n",
              "      <td>3836.000000</td>\n",
              "      <td>0.000000</td>\n",
              "      <td>5.000000</td>\n",
              "      <td>2.000000</td>\n",
              "      <td>4.000000</td>\n",
              "      <td>5.259938</td>\n",
              "    </tr>\n",
              "    <tr>\n",
              "      <th>75%</th>\n",
              "      <td>750.250000</td>\n",
              "      <td>1.000000</td>\n",
              "      <td>6.545392e+06</td>\n",
              "      <td>1.000000</td>\n",
              "      <td>28.00000</td>\n",
              "      <td>4.268310e+05</td>\n",
              "      <td>23.000000</td>\n",
              "      <td>365400.000000</td>\n",
              "      <td>2.000000</td>\n",
              "      <td>4.000000</td>\n",
              "      <td>...</td>\n",
              "      <td>7.000000</td>\n",
              "      <td>6.000000</td>\n",
              "      <td>0.000000</td>\n",
              "      <td>5.000000</td>\n",
              "      <td>4207.250000</td>\n",
              "      <td>1.000000</td>\n",
              "      <td>7.000000</td>\n",
              "      <td>3.000000</td>\n",
              "      <td>6.000000</td>\n",
              "      <td>5.785012</td>\n",
              "    </tr>\n",
              "    <tr>\n",
              "      <th>max</th>\n",
              "      <td>1000.000000</td>\n",
              "      <td>1.000000</td>\n",
              "      <td>6.759576e+07</td>\n",
              "      <td>2.000000</td>\n",
              "      <td>155.00000</td>\n",
              "      <td>2.798500e+06</td>\n",
              "      <td>30.000000</td>\n",
              "      <td>400600.000000</td>\n",
              "      <td>2.000000</td>\n",
              "      <td>4.000000</td>\n",
              "      <td>...</td>\n",
              "      <td>9.000000</td>\n",
              "      <td>7.000000</td>\n",
              "      <td>1.000000</td>\n",
              "      <td>7.000000</td>\n",
              "      <td>5334.000000</td>\n",
              "      <td>1.000000</td>\n",
              "      <td>7.000000</td>\n",
              "      <td>7.000000</td>\n",
              "      <td>7.000000</td>\n",
              "      <td>7.579168</td>\n",
              "    </tr>\n",
              "  </tbody>\n",
              "</table>\n",
              "<p>8 rows × 21 columns</p>\n",
              "</div>\n",
              "      <button class=\"colab-df-convert\" onclick=\"convertToInteractive('df-4d7125e1-c958-408c-b6d4-b65370f0e70e')\"\n",
              "              title=\"Convert this dataframe to an interactive table.\"\n",
              "              style=\"display:none;\">\n",
              "        \n",
              "  <svg xmlns=\"http://www.w3.org/2000/svg\" height=\"24px\"viewBox=\"0 0 24 24\"\n",
              "       width=\"24px\">\n",
              "    <path d=\"M0 0h24v24H0V0z\" fill=\"none\"/>\n",
              "    <path d=\"M18.56 5.44l.94 2.06.94-2.06 2.06-.94-2.06-.94-.94-2.06-.94 2.06-2.06.94zm-11 1L8.5 8.5l.94-2.06 2.06-.94-2.06-.94L8.5 2.5l-.94 2.06-2.06.94zm10 10l.94 2.06.94-2.06 2.06-.94-2.06-.94-.94-2.06-.94 2.06-2.06.94z\"/><path d=\"M17.41 7.96l-1.37-1.37c-.4-.4-.92-.59-1.43-.59-.52 0-1.04.2-1.43.59L10.3 9.45l-7.72 7.72c-.78.78-.78 2.05 0 2.83L4 21.41c.39.39.9.59 1.41.59.51 0 1.02-.2 1.41-.59l7.78-7.78 2.81-2.81c.8-.78.8-2.07 0-2.86zM5.41 20L4 18.59l7.72-7.72 1.47 1.35L5.41 20z\"/>\n",
              "  </svg>\n",
              "      </button>\n",
              "      \n",
              "  <style>\n",
              "    .colab-df-container {\n",
              "      display:flex;\n",
              "      flex-wrap:wrap;\n",
              "      gap: 12px;\n",
              "    }\n",
              "\n",
              "    .colab-df-convert {\n",
              "      background-color: #E8F0FE;\n",
              "      border: none;\n",
              "      border-radius: 50%;\n",
              "      cursor: pointer;\n",
              "      display: none;\n",
              "      fill: #1967D2;\n",
              "      height: 32px;\n",
              "      padding: 0 0 0 0;\n",
              "      width: 32px;\n",
              "    }\n",
              "\n",
              "    .colab-df-convert:hover {\n",
              "      background-color: #E2EBFA;\n",
              "      box-shadow: 0px 1px 2px rgba(60, 64, 67, 0.3), 0px 1px 3px 1px rgba(60, 64, 67, 0.15);\n",
              "      fill: #174EA6;\n",
              "    }\n",
              "\n",
              "    [theme=dark] .colab-df-convert {\n",
              "      background-color: #3B4455;\n",
              "      fill: #D2E3FC;\n",
              "    }\n",
              "\n",
              "    [theme=dark] .colab-df-convert:hover {\n",
              "      background-color: #434B5C;\n",
              "      box-shadow: 0px 1px 3px 1px rgba(0, 0, 0, 0.15);\n",
              "      filter: drop-shadow(0px 1px 2px rgba(0, 0, 0, 0.3));\n",
              "      fill: #FFFFFF;\n",
              "    }\n",
              "  </style>\n",
              "\n",
              "      <script>\n",
              "        const buttonEl =\n",
              "          document.querySelector('#df-4d7125e1-c958-408c-b6d4-b65370f0e70e button.colab-df-convert');\n",
              "        buttonEl.style.display =\n",
              "          google.colab.kernel.accessAllowed ? 'block' : 'none';\n",
              "\n",
              "        async function convertToInteractive(key) {\n",
              "          const element = document.querySelector('#df-4d7125e1-c958-408c-b6d4-b65370f0e70e');\n",
              "          const dataTable =\n",
              "            await google.colab.kernel.invokeFunction('convertToInteractive',\n",
              "                                                     [key], {});\n",
              "          if (!dataTable) return;\n",
              "\n",
              "          const docLinkHtml = 'Like what you see? Visit the ' +\n",
              "            '<a target=\"_blank\" href=https://colab.research.google.com/notebooks/data_table.ipynb>data table notebook</a>'\n",
              "            + ' to learn more about interactive tables.';\n",
              "          element.innerHTML = '';\n",
              "          dataTable['output_type'] = 'display_data';\n",
              "          await google.colab.output.renderOutput(dataTable, element);\n",
              "          const docLink = document.createElement('div');\n",
              "          docLink.innerHTML = docLinkHtml;\n",
              "          element.appendChild(docLink);\n",
              "        }\n",
              "      </script>\n",
              "    </div>\n",
              "  </div>\n",
              "  "
            ]
          },
          "metadata": {},
          "execution_count": 67
        }
      ]
    },
    {
      "cell_type": "code",
      "source": [
        "df.isnull().sum()"
      ],
      "metadata": {
        "colab": {
          "base_uri": "https://localhost:8080/"
        },
        "id": "Y-rZ-pgSCAK3",
        "outputId": "97509c3a-8ece-478c-f883-768af3cdd405"
      },
      "execution_count": null,
      "outputs": [
        {
          "output_type": "execute_result",
          "data": {
            "text/plain": [
              "고객ID         0\n",
              "이탈여부         0\n",
              "총매출액         0\n",
              "구매금액대        0\n",
              "방문빈도         0\n",
              "1회 평균매출액     0\n",
              "할인권 사용 횟수    0\n",
              "총 할인 금액      0\n",
              "고객등급         0\n",
              "구매유형         0\n",
              "클레임접수여부      0\n",
              "구매카테고리수      0\n",
              "거주지역         0\n",
              "성별           0\n",
              "고객 나이대       0\n",
              "거래기간         0\n",
              "할인민감여부       0\n",
              "Recency      0\n",
              "Frequency    0\n",
              "Monetary     0\n",
              "평균 구매주기      0\n",
              "dtype: int64"
            ]
          },
          "metadata": {},
          "execution_count": 68
        }
      ]
    },
    {
      "cell_type": "code",
      "source": [
        "df.columns"
      ],
      "metadata": {
        "colab": {
          "base_uri": "https://localhost:8080/"
        },
        "id": "XzCIKhLgCJNx",
        "outputId": "cf9409e0-f770-4c9a-a99b-9861aaa91652"
      },
      "execution_count": null,
      "outputs": [
        {
          "output_type": "execute_result",
          "data": {
            "text/plain": [
              "Index(['고객ID', '이탈여부', '총매출액', '구매금액대', '방문빈도', '1회 평균매출액', '할인권 사용 횟수',\n",
              "       '총 할인 금액', '고객등급', '구매유형', '클레임접수여부', '구매카테고리수', '거주지역', '성별', '고객 나이대',\n",
              "       '거래기간', '할인민감여부', 'Recency', 'Frequency', 'Monetary', '평균 구매주기'],\n",
              "      dtype='object')"
            ]
          },
          "metadata": {},
          "execution_count": 69
        }
      ]
    },
    {
      "cell_type": "code",
      "source": [
        "X = df[[\"총매출액\", \"거래기간\", \"방문빈도\"]]\n",
        "Y = df[\"이탈여부\"]\n",
        "\n",
        "#데이터 분할\n",
        "X_train, X_test, Y_train, Y_test = train_test_split(X, Y, test_size=0.3, random_state=0)\n",
        "\n",
        "#scaler\n",
        "scaler = StandardScaler()\n",
        "scaler.fit(X_train)\n",
        "X_train = scaler.transform(X_train)\n",
        "X_test = scaler.transform(X_test)\n",
        "print(X_train)\n",
        "\n",
        "#oversampling\n",
        "smote = SMOTE(random_state=0)\n",
        "X_train_over, Y_train_over = smote.fit_resample(X_train, Y_train)"
      ],
      "metadata": {
        "colab": {
          "base_uri": "https://localhost:8080/"
        },
        "id": "ShQJxgWaCG0L",
        "outputId": "7bd0ba27-2cfd-4d11-c18f-120cf42cea56"
      },
      "execution_count": null,
      "outputs": [
        {
          "output_type": "stream",
          "name": "stdout",
          "text": [
            "[[ 0.69336175  0.22690456  0.03475125]\n",
            " [-0.225208   -0.02778804 -0.17540748]\n",
            " [-0.52055725  0.61729402  0.98046554]\n",
            " ...\n",
            " [-0.60960507  0.55779616 -0.01778844]\n",
            " [-0.02842033 -0.64468689 -0.22794717]\n",
            " [-0.30394592  0.83127755 -0.70080431]]\n"
          ]
        }
      ]
    },
    {
      "cell_type": "code",
      "source": [
        "from sklearn.linear_model import LogisticRegression\n",
        "\n",
        "logit = LogisticRegression(C = 1, random_state = 0)\n",
        "\n",
        "logit.fit(X_train_over, Y_train_over)\n",
        "Y_pred = logit.predict(X_test)\n",
        "\n",
        "#Y_pred\n",
        "print(\"R2 : {:.3f}\".format(logit.score(X_train_over, Y_train_over)))\n",
        "\n",
        "from sklearn.metrics import classification_report\n",
        "print(classification_report(Y_test, Y_pred))\n",
        "print(logit.intercept_)\n",
        "print(logit.coef_)"
      ],
      "metadata": {
        "colab": {
          "base_uri": "https://localhost:8080/"
        },
        "id": "XmoqQCwaIYss",
        "outputId": "6a8ae35c-33e6-4553-a89d-6ebf8d4248d7"
      },
      "execution_count": null,
      "outputs": [
        {
          "output_type": "stream",
          "name": "stdout",
          "text": [
            "R2 : 0.710\n",
            "              precision    recall  f1-score   support\n",
            "\n",
            "           0       0.91      0.66      0.77       219\n",
            "           1       0.47      0.81      0.60        81\n",
            "\n",
            "    accuracy                           0.70       300\n",
            "   macro avg       0.69      0.74      0.68       300\n",
            "weighted avg       0.79      0.70      0.72       300\n",
            "\n",
            "[-0.10121145]\n",
            "[[-0.10720418 -0.58431042 -0.47899592]]\n"
          ]
        }
      ]
    },
    {
      "cell_type": "code",
      "source": [
        "df.columns"
      ],
      "metadata": {
        "colab": {
          "base_uri": "https://localhost:8080/"
        },
        "id": "IJfoPsNlMu9M",
        "outputId": "15a4f501-219c-451e-ca42-9d203b378c22"
      },
      "execution_count": null,
      "outputs": [
        {
          "output_type": "execute_result",
          "data": {
            "text/plain": [
              "Index(['고객ID', '이탈여부', '총매출액', '구매금액대', '방문빈도', '1회 평균매출액', '할인권 사용 횟수',\n",
              "       '총 할인 금액', '고객등급', '구매유형', '클레임접수여부', '구매카테고리수', '거주지역', '성별', '고객 나이대',\n",
              "       '거래기간', '할인민감여부', 'Recency', 'Frequency', 'Monetary', '평균 구매주기'],\n",
              "      dtype='object')"
            ]
          },
          "metadata": {},
          "execution_count": 72
        }
      ]
    },
    {
      "cell_type": "code",
      "source": [
        "X = df[[\"방문빈도\", \"총 할인 금액\", \"거래기간\", \"할인민감여부\"]]\n",
        "Y = df[\"구매금액대\"]\n",
        "\n",
        "X_train, X_test, Y_train, Y_test = train_test_split(X, Y, test_size=0.3, random_state=0)\n",
        "\n",
        "\n",
        "#Column transfomer\n",
        "ct = ColumnTransformer([(\"scaling\", StandardScaler(), [\"방문빈도\", \"총 할인 금액\", \"거래기간\"]), (\"onehot\", OneHotEncoder(sparse=False), [\"할인민감여부\"])])\n",
        "ct.fit(X_train)\n",
        "X_train = ct.transform(X_train)\n",
        "X_test = ct.transform(X_test)\n",
        "\n",
        "\n",
        "#model\n",
        "multilogit = LogisticRegression(random_state=0, C = 0.1, solver='newton-cg', multi_class=\"multinomial\") \n",
        "##solver : \"lbfgs\", \"liblinear\", \"sag\", \"saga\"\n",
        "multilogit.fit(X_train, Y_train)\n",
        "Y_pred = multilogit.predict(X_test)\n",
        "\n",
        "#성능\n",
        "print(\"r2 : {:.3f}\".format(multilogit.score(X_train, Y_train)))\n",
        "print(classification_report(Y_test, Y_pred))\n",
        "print(multilogit.intercept_)\n",
        "print(multilogit.coef_)"
      ],
      "metadata": {
        "colab": {
          "base_uri": "https://localhost:8080/"
        },
        "id": "LRHEcofjMrLs",
        "outputId": "fd928afd-6379-456c-f986-f69edf3d53f3"
      },
      "execution_count": null,
      "outputs": [
        {
          "output_type": "stream",
          "name": "stdout",
          "text": [
            "r2 : 0.606\n",
            "              precision    recall  f1-score   support\n",
            "\n",
            "           0       0.61      0.89      0.72       154\n",
            "           1       0.40      0.12      0.19        82\n",
            "           2       0.71      0.55      0.62        64\n",
            "\n",
            "    accuracy                           0.61       300\n",
            "   macro avg       0.57      0.52      0.51       300\n",
            "weighted avg       0.57      0.61      0.55       300\n",
            "\n",
            "[ 0.43072202  0.16170465 -0.59242667]\n",
            "[[-0.63152141 -0.03687733  0.1129508   0.4353096  -0.43530959]\n",
            " [ 0.08896486  0.01281002  0.08840359  0.22276623 -0.22276623]\n",
            " [ 0.54255655  0.02406731 -0.20135439 -0.65807583  0.65807582]]\n"
          ]
        }
      ]
    },
    {
      "cell_type": "markdown",
      "source": [
        "#K-NN (K-최근접 이웃)"
      ],
      "metadata": {
        "id": "uu8_0y4OYu1p"
      }
    },
    {
      "cell_type": "code",
      "source": [
        "df.columns"
      ],
      "metadata": {
        "colab": {
          "base_uri": "https://localhost:8080/"
        },
        "id": "sMRVCWVTYuPa",
        "outputId": "63a47ff0-556f-49f9-c3b2-8f3f3e6cf9cb"
      },
      "execution_count": null,
      "outputs": [
        {
          "output_type": "execute_result",
          "data": {
            "text/plain": [
              "Index(['고객ID', '이탈여부', '총매출액', '구매금액대', '방문빈도', '1회 평균매출액', '할인권 사용 횟수',\n",
              "       '총 할인 금액', '고객등급', '구매유형', '클레임접수여부', '구매카테고리수', '거주지역', '성별', '고객 나이대',\n",
              "       '거래기간', '할인민감여부', 'Recency', 'Frequency', 'Monetary', '평균 구매주기'],\n",
              "      dtype='object')"
            ]
          },
          "metadata": {},
          "execution_count": 93
        }
      ]
    },
    {
      "cell_type": "code",
      "source": [
        "#classification\n",
        "\n",
        "X = df[[\"총매출액\", \"1회 평균매출액\", \"방문빈도\", \"거래기간\", \"평균 구매주기\"]]\n",
        "Y = df[\"이탈여부\"]\n",
        "\n",
        "X_train, X_test, Y_train, Y_test = train_test_split(X, Y, test_size=0.3, random_state=0)\n",
        "\n",
        "scaler = StandardScaler().fit(X_train, Y_train)\n",
        "X_test = scaler.transform(X_test)\n",
        "X_train  = scaler.transform(X_train)\n",
        "\n",
        "X_train, Y_train = SMOTE(random_state=0).fit_resample(X_train, Y_train)\n",
        "\n",
        "from sklearn.neighbors import KNeighborsClassifier\n",
        "knn_model = KNeighborsClassifier(n_neighbors=9, metric=\"euclidean\")\n",
        "knn_model.fit(X_train, Y_train)\n",
        "Y_pred = knn_model.predict(X_test)\n",
        "print(\"accuracy : {:.3f}\".format(knn_model.score(X_train, Y_train)))\n",
        "print(classification_report(Y_test,Y_pred))"
      ],
      "metadata": {
        "colab": {
          "base_uri": "https://localhost:8080/"
        },
        "id": "m6I8Jw_wMuRj",
        "outputId": "045d277f-0934-4983-92dc-52247c513ef8"
      },
      "execution_count": null,
      "outputs": [
        {
          "output_type": "stream",
          "name": "stdout",
          "text": [
            "accuracy : 0.844\n",
            "              precision    recall  f1-score   support\n",
            "\n",
            "           0       0.92      0.77      0.84       219\n",
            "           1       0.56      0.81      0.67        81\n",
            "\n",
            "    accuracy                           0.78       300\n",
            "   macro avg       0.74      0.79      0.75       300\n",
            "weighted avg       0.82      0.78      0.79       300\n",
            "\n"
          ]
        }
      ]
    },
    {
      "cell_type": "code",
      "source": [
        "df.columns"
      ],
      "metadata": {
        "colab": {
          "base_uri": "https://localhost:8080/"
        },
        "id": "lQ8scnbxiSE0",
        "outputId": "0dec7193-6009-4e5c-9c65-99c0c0396e93"
      },
      "execution_count": null,
      "outputs": [
        {
          "output_type": "execute_result",
          "data": {
            "text/plain": [
              "Index(['고객ID', '이탈여부', '총매출액', '구매금액대', '방문빈도', '1회 평균매출액', '할인권 사용 횟수',\n",
              "       '총 할인 금액', '고객등급', '구매유형', '클레임접수여부', '구매카테고리수', '거주지역', '성별', '고객 나이대',\n",
              "       '거래기간', '할인민감여부', 'Recency', 'Frequency', 'Monetary', '평균 구매주기'],\n",
              "      dtype='object')"
            ]
          },
          "metadata": {},
          "execution_count": 98
        }
      ]
    },
    {
      "cell_type": "code",
      "source": [
        "#numeric value(Y)\n",
        "\n",
        "import numpy as np\n",
        "\n",
        "X = df[df.이탈여부 == 0][['총매출액', '1회 평균매출액', '총 할인 금액', '구매카테고리수', 'Frequency']]\n",
        "Y = df[df.이탈여부 == 0]['평균 구매주기']\n",
        "Y = np.log1p(Y)\n",
        "\n",
        "X_train, X_test, Y_train, Y_test = train_test_split(X, Y, test_size=0.3, random_state=0)\n",
        "\n",
        "scaler = StandardScaler().fit(X_train, Y_train)\n",
        "X_test = scaler.transform(X_test)\n",
        "X_train  = scaler.transform(X_train)\n",
        "\n",
        "from sklearn.neighbors import KNeighborsRegressor\n",
        "knn_reg = KNeighborsRegressor(n_neighbors=9, p=2)\n",
        "#p : int, default=2\n",
        "#Power parameter for the Minkowski metric. When p = 1, \n",
        "#this is equivalent to using manhattan_distance (l1), and euclidean_distance(l2) for p = 2. For arbitrary p, minkowski_distance \n",
        "\n",
        "knn_reg.fit(X_train, Y_train)\n",
        "Y_pred = knn_reg.predict(X_test)\n",
        "print(\"accuracy: {:.3f}\".format(knn_reg.score(X_train, Y_train)))\n",
        "rmse = sqrt(mean_squared_error(Y_test, Y_pred))\n",
        "print(\"RMSE: {:.3f}\".format(rmse))\n"
      ],
      "metadata": {
        "colab": {
          "base_uri": "https://localhost:8080/"
        },
        "id": "TwmzGy01iIqv",
        "outputId": "d02727b7-9837-4460-8f16-df8492ab02fa"
      },
      "execution_count": null,
      "outputs": [
        {
          "output_type": "stream",
          "name": "stdout",
          "text": [
            "accuracy: 0.759\n",
            "RMSE: 0.063\n"
          ]
        }
      ]
    }
  ]
}