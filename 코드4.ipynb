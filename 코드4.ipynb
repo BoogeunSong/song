{
  "nbformat": 4,
  "nbformat_minor": 0,
  "metadata": {
    "colab": {
      "provenance": [],
      "mount_file_id": "1aDkC2x2SQSpypm1K5FET-OFh2vkeecP6",
      "authorship_tag": "ABX9TyNulOnplyAYu1SWRB7YnVFQ",
      "include_colab_link": true
    },
    "kernelspec": {
      "name": "python3",
      "display_name": "Python 3"
    },
    "language_info": {
      "name": "python"
    }
  },
  "cells": [
    {
      "cell_type": "markdown",
      "metadata": {
        "id": "view-in-github",
        "colab_type": "text"
      },
      "source": [
        "<a href=\"https://colab.research.google.com/github/BoogeunSong/song/blob/main/%EC%BD%94%EB%93%9C4.ipynb\" target=\"_parent\"><img src=\"https://colab.research.google.com/assets/colab-badge.svg\" alt=\"Open In Colab\"/></a>"
      ]
    },
    {
      "cell_type": "markdown",
      "source": [
        "#빅데이터 마케팅 분석 전문가#4"
      ],
      "metadata": {
        "id": "z1fMPFTJa30g"
      }
    },
    {
      "cell_type": "code",
      "source": [],
      "metadata": {
        "id": "C_D0vP6f2qX4"
      },
      "execution_count": null,
      "outputs": []
    },
    {
      "cell_type": "markdown",
      "source": [
        "##1.인공신경망"
      ],
      "metadata": {
        "id": "t2oVmMP5bKTD"
      }
    },
    {
      "cell_type": "code",
      "execution_count": null,
      "metadata": {
        "id": "M7WA4fgRa2Qc"
      },
      "outputs": [],
      "source": [
        "#분류예측\n",
        "import pandas as pd\n",
        "\n",
        "df=pd.read_csv(\"/content/drive/MyDrive/Ashopping44.csv\",encoding = \"cp949\")"
      ]
    },
    {
      "cell_type": "code",
      "source": [
        "df.info()"
      ],
      "metadata": {
        "colab": {
          "base_uri": "https://localhost:8080/"
        },
        "id": "TlNZmD_ObZck",
        "outputId": "8f1d7698-82f2-4797-8c7a-af77841b9bc7"
      },
      "execution_count": null,
      "outputs": [
        {
          "output_type": "stream",
          "name": "stdout",
          "text": [
            "<class 'pandas.core.frame.DataFrame'>\n",
            "RangeIndex: 1000 entries, 0 to 999\n",
            "Data columns (total 21 columns):\n",
            " #   Column     Non-Null Count  Dtype  \n",
            "---  ------     --------------  -----  \n",
            " 0   고객ID       1000 non-null   int64  \n",
            " 1   이탈여부       1000 non-null   int64  \n",
            " 2   총매출액       1000 non-null   int64  \n",
            " 3   구매금액대      1000 non-null   int64  \n",
            " 4   방문빈도       1000 non-null   int64  \n",
            " 5   1회 평균매출액   1000 non-null   int64  \n",
            " 6   할인권 사용 횟수  1000 non-null   int64  \n",
            " 7   총 할인 금액    1000 non-null   int64  \n",
            " 8   고객등급       1000 non-null   int64  \n",
            " 9   구매유형       1000 non-null   int64  \n",
            " 10  클레임접수여부    1000 non-null   int64  \n",
            " 11  구매카테고리수    1000 non-null   int64  \n",
            " 12  거주지역       1000 non-null   int64  \n",
            " 13  성별         1000 non-null   int64  \n",
            " 14  고객 나이대     1000 non-null   int64  \n",
            " 15  거래기간       1000 non-null   int64  \n",
            " 16  할인민감여부     1000 non-null   int64  \n",
            " 17  Recency    1000 non-null   int64  \n",
            " 18  Frequency  1000 non-null   int64  \n",
            " 19  Monetary   1000 non-null   int64  \n",
            " 20  평균 구매주기    1000 non-null   float64\n",
            "dtypes: float64(1), int64(20)\n",
            "memory usage: 164.2 KB\n"
          ]
        }
      ]
    },
    {
      "cell_type": "code",
      "source": [
        "df.isnull().sum()"
      ],
      "metadata": {
        "colab": {
          "base_uri": "https://localhost:8080/"
        },
        "id": "bLAV_em8bscV",
        "outputId": "51e3d607-db3e-4f2c-a21d-8f08b421e40d"
      },
      "execution_count": null,
      "outputs": [
        {
          "output_type": "execute_result",
          "data": {
            "text/plain": [
              "고객ID         0\n",
              "이탈여부         0\n",
              "총매출액         0\n",
              "구매금액대        0\n",
              "방문빈도         0\n",
              "1회 평균매출액     0\n",
              "할인권 사용 횟수    0\n",
              "총 할인 금액      0\n",
              "고객등급         0\n",
              "구매유형         0\n",
              "클레임접수여부      0\n",
              "구매카테고리수      0\n",
              "거주지역         0\n",
              "성별           0\n",
              "고객 나이대       0\n",
              "거래기간         0\n",
              "할인민감여부       0\n",
              "Recency      0\n",
              "Frequency    0\n",
              "Monetary     0\n",
              "평균 구매주기      0\n",
              "dtype: int64"
            ]
          },
          "metadata": {},
          "execution_count": 38
        }
      ]
    },
    {
      "cell_type": "code",
      "source": [
        "df.describe()"
      ],
      "metadata": {
        "colab": {
          "base_uri": "https://localhost:8080/",
          "height": 411
        },
        "id": "mjaCuRS9b3QV",
        "outputId": "dcb58388-7a4b-4d41-dc66-3ae3a075ac06"
      },
      "execution_count": null,
      "outputs": [
        {
          "output_type": "execute_result",
          "data": {
            "text/plain": [
              "              고객ID         이탈여부          총매출액        구매금액대        방문빈도  \\\n",
              "count  1000.000000  1000.000000  1.000000e+03  1000.000000  1000.00000   \n",
              "mean    500.500000     0.300000  5.858013e+06     0.700000    22.91100   \n",
              "std     288.819436     0.458487  5.812815e+06     0.781416    19.08217   \n",
              "min       1.000000     0.000000  1.886100e+06     0.000000     1.00000   \n",
              "25%     250.750000     0.000000  2.815905e+06     0.000000    10.75000   \n",
              "50%     500.500000     0.000000  4.092145e+06     0.500000    18.00000   \n",
              "75%     750.250000     1.000000  6.545392e+06     1.000000    28.00000   \n",
              "max    1000.000000     1.000000  6.759576e+07     2.000000   155.00000   \n",
              "\n",
              "           1회 평균매출액    할인권 사용 횟수        총 할인 금액         고객등급         구매유형  \\\n",
              "count  1.000000e+03  1000.000000    1000.000000  1000.000000  1000.000000   \n",
              "mean   3.521024e+05    16.027000  292371.670000     1.546000     2.656000   \n",
              "std    3.124636e+05     8.341334  111937.501042     0.498129     1.046307   \n",
              "min    2.708200e+04     1.000000    3750.000000     1.000000     1.000000   \n",
              "25%    1.631242e+05     9.000000  261686.250000     1.000000     2.000000   \n",
              "50%    2.582080e+05    17.000000  347500.000000     2.000000     2.000000   \n",
              "75%    4.268310e+05    23.000000  365400.000000     2.000000     4.000000   \n",
              "max    2.798500e+06    30.000000  400600.000000     2.000000     4.000000   \n",
              "\n",
              "       ...      구매카테고리수         거주지역           성별       고객 나이대         거래기간  \\\n",
              "count  ...  1000.000000  1000.000000  1000.000000  1000.000000  1000.000000   \n",
              "mean   ...     5.217000     5.147000     0.189000     3.964000  3495.891000   \n",
              "std    ...     2.224153     1.169084     0.391705     1.078827   965.966194   \n",
              "min    ...     1.000000     1.000000     0.000000     2.000000   827.000000   \n",
              "25%    ...     3.000000     4.000000     0.000000     3.000000  2871.000000   \n",
              "50%    ...     5.000000     5.000000     0.000000     4.000000  3836.000000   \n",
              "75%    ...     7.000000     6.000000     0.000000     5.000000  4207.250000   \n",
              "max    ...     9.000000     7.000000     1.000000     7.000000  5334.000000   \n",
              "\n",
              "            할인민감여부      Recency    Frequency     Monetary      평균 구매주기  \n",
              "count  1000.000000  1000.000000  1000.000000  1000.000000  1000.000000  \n",
              "mean      0.400000     4.925000     2.289000     4.129000   266.880824  \n",
              "std       0.490143     1.744253     1.669811     1.560383   254.077398  \n",
              "min       0.000000     1.000000     1.000000     1.000000    13.980645  \n",
              "25%       0.000000     4.000000     1.000000     3.000000   111.957671  \n",
              "50%       0.000000     5.000000     2.000000     4.000000   191.469697  \n",
              "75%       1.000000     7.000000     3.000000     6.000000   324.386218  \n",
              "max       1.000000     7.000000     7.000000     7.000000  1956.000000  \n",
              "\n",
              "[8 rows x 21 columns]"
            ],
            "text/html": [
              "\n",
              "  <div id=\"df-67ca6e1c-ea37-449a-b7a9-a7a415a82397\">\n",
              "    <div class=\"colab-df-container\">\n",
              "      <div>\n",
              "<style scoped>\n",
              "    .dataframe tbody tr th:only-of-type {\n",
              "        vertical-align: middle;\n",
              "    }\n",
              "\n",
              "    .dataframe tbody tr th {\n",
              "        vertical-align: top;\n",
              "    }\n",
              "\n",
              "    .dataframe thead th {\n",
              "        text-align: right;\n",
              "    }\n",
              "</style>\n",
              "<table border=\"1\" class=\"dataframe\">\n",
              "  <thead>\n",
              "    <tr style=\"text-align: right;\">\n",
              "      <th></th>\n",
              "      <th>고객ID</th>\n",
              "      <th>이탈여부</th>\n",
              "      <th>총매출액</th>\n",
              "      <th>구매금액대</th>\n",
              "      <th>방문빈도</th>\n",
              "      <th>1회 평균매출액</th>\n",
              "      <th>할인권 사용 횟수</th>\n",
              "      <th>총 할인 금액</th>\n",
              "      <th>고객등급</th>\n",
              "      <th>구매유형</th>\n",
              "      <th>...</th>\n",
              "      <th>구매카테고리수</th>\n",
              "      <th>거주지역</th>\n",
              "      <th>성별</th>\n",
              "      <th>고객 나이대</th>\n",
              "      <th>거래기간</th>\n",
              "      <th>할인민감여부</th>\n",
              "      <th>Recency</th>\n",
              "      <th>Frequency</th>\n",
              "      <th>Monetary</th>\n",
              "      <th>평균 구매주기</th>\n",
              "    </tr>\n",
              "  </thead>\n",
              "  <tbody>\n",
              "    <tr>\n",
              "      <th>count</th>\n",
              "      <td>1000.000000</td>\n",
              "      <td>1000.000000</td>\n",
              "      <td>1.000000e+03</td>\n",
              "      <td>1000.000000</td>\n",
              "      <td>1000.00000</td>\n",
              "      <td>1.000000e+03</td>\n",
              "      <td>1000.000000</td>\n",
              "      <td>1000.000000</td>\n",
              "      <td>1000.000000</td>\n",
              "      <td>1000.000000</td>\n",
              "      <td>...</td>\n",
              "      <td>1000.000000</td>\n",
              "      <td>1000.000000</td>\n",
              "      <td>1000.000000</td>\n",
              "      <td>1000.000000</td>\n",
              "      <td>1000.000000</td>\n",
              "      <td>1000.000000</td>\n",
              "      <td>1000.000000</td>\n",
              "      <td>1000.000000</td>\n",
              "      <td>1000.000000</td>\n",
              "      <td>1000.000000</td>\n",
              "    </tr>\n",
              "    <tr>\n",
              "      <th>mean</th>\n",
              "      <td>500.500000</td>\n",
              "      <td>0.300000</td>\n",
              "      <td>5.858013e+06</td>\n",
              "      <td>0.700000</td>\n",
              "      <td>22.91100</td>\n",
              "      <td>3.521024e+05</td>\n",
              "      <td>16.027000</td>\n",
              "      <td>292371.670000</td>\n",
              "      <td>1.546000</td>\n",
              "      <td>2.656000</td>\n",
              "      <td>...</td>\n",
              "      <td>5.217000</td>\n",
              "      <td>5.147000</td>\n",
              "      <td>0.189000</td>\n",
              "      <td>3.964000</td>\n",
              "      <td>3495.891000</td>\n",
              "      <td>0.400000</td>\n",
              "      <td>4.925000</td>\n",
              "      <td>2.289000</td>\n",
              "      <td>4.129000</td>\n",
              "      <td>266.880824</td>\n",
              "    </tr>\n",
              "    <tr>\n",
              "      <th>std</th>\n",
              "      <td>288.819436</td>\n",
              "      <td>0.458487</td>\n",
              "      <td>5.812815e+06</td>\n",
              "      <td>0.781416</td>\n",
              "      <td>19.08217</td>\n",
              "      <td>3.124636e+05</td>\n",
              "      <td>8.341334</td>\n",
              "      <td>111937.501042</td>\n",
              "      <td>0.498129</td>\n",
              "      <td>1.046307</td>\n",
              "      <td>...</td>\n",
              "      <td>2.224153</td>\n",
              "      <td>1.169084</td>\n",
              "      <td>0.391705</td>\n",
              "      <td>1.078827</td>\n",
              "      <td>965.966194</td>\n",
              "      <td>0.490143</td>\n",
              "      <td>1.744253</td>\n",
              "      <td>1.669811</td>\n",
              "      <td>1.560383</td>\n",
              "      <td>254.077398</td>\n",
              "    </tr>\n",
              "    <tr>\n",
              "      <th>min</th>\n",
              "      <td>1.000000</td>\n",
              "      <td>0.000000</td>\n",
              "      <td>1.886100e+06</td>\n",
              "      <td>0.000000</td>\n",
              "      <td>1.00000</td>\n",
              "      <td>2.708200e+04</td>\n",
              "      <td>1.000000</td>\n",
              "      <td>3750.000000</td>\n",
              "      <td>1.000000</td>\n",
              "      <td>1.000000</td>\n",
              "      <td>...</td>\n",
              "      <td>1.000000</td>\n",
              "      <td>1.000000</td>\n",
              "      <td>0.000000</td>\n",
              "      <td>2.000000</td>\n",
              "      <td>827.000000</td>\n",
              "      <td>0.000000</td>\n",
              "      <td>1.000000</td>\n",
              "      <td>1.000000</td>\n",
              "      <td>1.000000</td>\n",
              "      <td>13.980645</td>\n",
              "    </tr>\n",
              "    <tr>\n",
              "      <th>25%</th>\n",
              "      <td>250.750000</td>\n",
              "      <td>0.000000</td>\n",
              "      <td>2.815905e+06</td>\n",
              "      <td>0.000000</td>\n",
              "      <td>10.75000</td>\n",
              "      <td>1.631242e+05</td>\n",
              "      <td>9.000000</td>\n",
              "      <td>261686.250000</td>\n",
              "      <td>1.000000</td>\n",
              "      <td>2.000000</td>\n",
              "      <td>...</td>\n",
              "      <td>3.000000</td>\n",
              "      <td>4.000000</td>\n",
              "      <td>0.000000</td>\n",
              "      <td>3.000000</td>\n",
              "      <td>2871.000000</td>\n",
              "      <td>0.000000</td>\n",
              "      <td>4.000000</td>\n",
              "      <td>1.000000</td>\n",
              "      <td>3.000000</td>\n",
              "      <td>111.957671</td>\n",
              "    </tr>\n",
              "    <tr>\n",
              "      <th>50%</th>\n",
              "      <td>500.500000</td>\n",
              "      <td>0.000000</td>\n",
              "      <td>4.092145e+06</td>\n",
              "      <td>0.500000</td>\n",
              "      <td>18.00000</td>\n",
              "      <td>2.582080e+05</td>\n",
              "      <td>17.000000</td>\n",
              "      <td>347500.000000</td>\n",
              "      <td>2.000000</td>\n",
              "      <td>2.000000</td>\n",
              "      <td>...</td>\n",
              "      <td>5.000000</td>\n",
              "      <td>5.000000</td>\n",
              "      <td>0.000000</td>\n",
              "      <td>4.000000</td>\n",
              "      <td>3836.000000</td>\n",
              "      <td>0.000000</td>\n",
              "      <td>5.000000</td>\n",
              "      <td>2.000000</td>\n",
              "      <td>4.000000</td>\n",
              "      <td>191.469697</td>\n",
              "    </tr>\n",
              "    <tr>\n",
              "      <th>75%</th>\n",
              "      <td>750.250000</td>\n",
              "      <td>1.000000</td>\n",
              "      <td>6.545392e+06</td>\n",
              "      <td>1.000000</td>\n",
              "      <td>28.00000</td>\n",
              "      <td>4.268310e+05</td>\n",
              "      <td>23.000000</td>\n",
              "      <td>365400.000000</td>\n",
              "      <td>2.000000</td>\n",
              "      <td>4.000000</td>\n",
              "      <td>...</td>\n",
              "      <td>7.000000</td>\n",
              "      <td>6.000000</td>\n",
              "      <td>0.000000</td>\n",
              "      <td>5.000000</td>\n",
              "      <td>4207.250000</td>\n",
              "      <td>1.000000</td>\n",
              "      <td>7.000000</td>\n",
              "      <td>3.000000</td>\n",
              "      <td>6.000000</td>\n",
              "      <td>324.386218</td>\n",
              "    </tr>\n",
              "    <tr>\n",
              "      <th>max</th>\n",
              "      <td>1000.000000</td>\n",
              "      <td>1.000000</td>\n",
              "      <td>6.759576e+07</td>\n",
              "      <td>2.000000</td>\n",
              "      <td>155.00000</td>\n",
              "      <td>2.798500e+06</td>\n",
              "      <td>30.000000</td>\n",
              "      <td>400600.000000</td>\n",
              "      <td>2.000000</td>\n",
              "      <td>4.000000</td>\n",
              "      <td>...</td>\n",
              "      <td>9.000000</td>\n",
              "      <td>7.000000</td>\n",
              "      <td>1.000000</td>\n",
              "      <td>7.000000</td>\n",
              "      <td>5334.000000</td>\n",
              "      <td>1.000000</td>\n",
              "      <td>7.000000</td>\n",
              "      <td>7.000000</td>\n",
              "      <td>7.000000</td>\n",
              "      <td>1956.000000</td>\n",
              "    </tr>\n",
              "  </tbody>\n",
              "</table>\n",
              "<p>8 rows × 21 columns</p>\n",
              "</div>\n",
              "      <button class=\"colab-df-convert\" onclick=\"convertToInteractive('df-67ca6e1c-ea37-449a-b7a9-a7a415a82397')\"\n",
              "              title=\"Convert this dataframe to an interactive table.\"\n",
              "              style=\"display:none;\">\n",
              "        \n",
              "  <svg xmlns=\"http://www.w3.org/2000/svg\" height=\"24px\"viewBox=\"0 0 24 24\"\n",
              "       width=\"24px\">\n",
              "    <path d=\"M0 0h24v24H0V0z\" fill=\"none\"/>\n",
              "    <path d=\"M18.56 5.44l.94 2.06.94-2.06 2.06-.94-2.06-.94-.94-2.06-.94 2.06-2.06.94zm-11 1L8.5 8.5l.94-2.06 2.06-.94-2.06-.94L8.5 2.5l-.94 2.06-2.06.94zm10 10l.94 2.06.94-2.06 2.06-.94-2.06-.94-.94-2.06-.94 2.06-2.06.94z\"/><path d=\"M17.41 7.96l-1.37-1.37c-.4-.4-.92-.59-1.43-.59-.52 0-1.04.2-1.43.59L10.3 9.45l-7.72 7.72c-.78.78-.78 2.05 0 2.83L4 21.41c.39.39.9.59 1.41.59.51 0 1.02-.2 1.41-.59l7.78-7.78 2.81-2.81c.8-.78.8-2.07 0-2.86zM5.41 20L4 18.59l7.72-7.72 1.47 1.35L5.41 20z\"/>\n",
              "  </svg>\n",
              "      </button>\n",
              "      \n",
              "  <style>\n",
              "    .colab-df-container {\n",
              "      display:flex;\n",
              "      flex-wrap:wrap;\n",
              "      gap: 12px;\n",
              "    }\n",
              "\n",
              "    .colab-df-convert {\n",
              "      background-color: #E8F0FE;\n",
              "      border: none;\n",
              "      border-radius: 50%;\n",
              "      cursor: pointer;\n",
              "      display: none;\n",
              "      fill: #1967D2;\n",
              "      height: 32px;\n",
              "      padding: 0 0 0 0;\n",
              "      width: 32px;\n",
              "    }\n",
              "\n",
              "    .colab-df-convert:hover {\n",
              "      background-color: #E2EBFA;\n",
              "      box-shadow: 0px 1px 2px rgba(60, 64, 67, 0.3), 0px 1px 3px 1px rgba(60, 64, 67, 0.15);\n",
              "      fill: #174EA6;\n",
              "    }\n",
              "\n",
              "    [theme=dark] .colab-df-convert {\n",
              "      background-color: #3B4455;\n",
              "      fill: #D2E3FC;\n",
              "    }\n",
              "\n",
              "    [theme=dark] .colab-df-convert:hover {\n",
              "      background-color: #434B5C;\n",
              "      box-shadow: 0px 1px 3px 1px rgba(0, 0, 0, 0.15);\n",
              "      filter: drop-shadow(0px 1px 2px rgba(0, 0, 0, 0.3));\n",
              "      fill: #FFFFFF;\n",
              "    }\n",
              "  </style>\n",
              "\n",
              "      <script>\n",
              "        const buttonEl =\n",
              "          document.querySelector('#df-67ca6e1c-ea37-449a-b7a9-a7a415a82397 button.colab-df-convert');\n",
              "        buttonEl.style.display =\n",
              "          google.colab.kernel.accessAllowed ? 'block' : 'none';\n",
              "\n",
              "        async function convertToInteractive(key) {\n",
              "          const element = document.querySelector('#df-67ca6e1c-ea37-449a-b7a9-a7a415a82397');\n",
              "          const dataTable =\n",
              "            await google.colab.kernel.invokeFunction('convertToInteractive',\n",
              "                                                     [key], {});\n",
              "          if (!dataTable) return;\n",
              "\n",
              "          const docLinkHtml = 'Like what you see? Visit the ' +\n",
              "            '<a target=\"_blank\" href=https://colab.research.google.com/notebooks/data_table.ipynb>data table notebook</a>'\n",
              "            + ' to learn more about interactive tables.';\n",
              "          element.innerHTML = '';\n",
              "          dataTable['output_type'] = 'display_data';\n",
              "          await google.colab.output.renderOutput(dataTable, element);\n",
              "          const docLink = document.createElement('div');\n",
              "          docLink.innerHTML = docLinkHtml;\n",
              "          element.appendChild(docLink);\n",
              "        }\n",
              "      </script>\n",
              "    </div>\n",
              "  </div>\n",
              "  "
            ]
          },
          "metadata": {},
          "execution_count": 39
        }
      ]
    },
    {
      "cell_type": "code",
      "source": [
        "df.columns"
      ],
      "metadata": {
        "colab": {
          "base_uri": "https://localhost:8080/"
        },
        "id": "tEJ1o45SczYj",
        "outputId": "3b8a5c12-8025-4cf3-ee3a-748e83edf4a8"
      },
      "execution_count": null,
      "outputs": [
        {
          "output_type": "execute_result",
          "data": {
            "text/plain": [
              "Index(['고객ID', '이탈여부', '총매출액', '구매금액대', '방문빈도', '1회 평균매출액', '할인권 사용 횟수',\n",
              "       '총 할인 금액', '고객등급', '구매유형', '클레임접수여부', '구매카테고리수', '거주지역', '성별', '고객 나이대',\n",
              "       '거래기간', '할인민감여부', 'Recency', 'Frequency', 'Monetary', '평균 구매주기'],\n",
              "      dtype='object')"
            ]
          },
          "metadata": {},
          "execution_count": 40
        }
      ]
    },
    {
      "cell_type": "code",
      "source": [
        "from sklearn.model_selection import train_test_split\n",
        "from sklearn.compose import ColumnTransformer\n",
        "from sklearn.preprocessing import StandardScaler\n",
        "from sklearn.preprocessing import OneHotEncoder\n",
        "from imblearn.over_sampling import SMOTE"
      ],
      "metadata": {
        "id": "piYZIuoRb8Oq"
      },
      "execution_count": null,
      "outputs": []
    },
    {
      "cell_type": "code",
      "source": [
        "#분류예측\n",
        "\n",
        "#1.변수선택\n",
        "X=df[['총매출액', '구매금액대','1회 평균매출액','평균 구매주기','거래기간']]\n",
        "Y=df[\"할인민감여부\"]\n",
        "#2. train-test split\n",
        "X_train,X_test, Y_train,Y_test= train_test_split(X,Y,test_size=0.3, random_state=0)\n",
        "\n",
        "#3.데이터 전처리(preprocessing)\n",
        "ct=ColumnTransformer([(\"scaling\",StandardScaler(),['총매출액', '구매금액대','1회 평균매출액','평균 구매주기','거래기간']),\n",
        "                    (\"onehot\", OneHotEncoder(sparse=False),['구매금액대'])])\n",
        "\n",
        "ct.fit(X_train)\n",
        "ct.transform(X_train)\n",
        "X_train = ct.transform(X_train)\n",
        "X_test= ct.transform(X_test)\n",
        "\n",
        "#4.오버샘플링\n",
        "smote=SMOTE(random_state=0)\n",
        "X_train,Y_train=smote.fit_resample(X_train,Y_train)"
      ],
      "metadata": {
        "id": "nb-Au9T-cRl1"
      },
      "execution_count": null,
      "outputs": []
    },
    {
      "cell_type": "code",
      "source": [
        "#5.모델링\n",
        "from sklearn.neural_network import MLPClassifier\n",
        "nn_model = MLPClassifier(random_state=0, alpha=0.001,hidden_layer_sizes=[50])\n",
        "#5-1 모형학습\n",
        "nn_model.fit(X_train,Y_train)\n",
        "\n",
        "#예측\n",
        "Y_pred= nn_model.predict(X_test)"
      ],
      "metadata": {
        "id": "d5arlwBBeVef"
      },
      "execution_count": null,
      "outputs": []
    },
    {
      "cell_type": "code",
      "source": [
        "#7.결과값 보고\n",
        "print(\"Y 예측값 \\n\",Y_pred)\n",
        "print(\"accuracy(train) : {:.3f}\".format(nn_model.score(X_train,Y_train)))\n",
        "from sklearn.metrics import classification_report\n",
        "print(classification_report(Y_test,Y_pred))"
      ],
      "metadata": {
        "colab": {
          "base_uri": "https://localhost:8080/"
        },
        "id": "0HCejACDhELp",
        "outputId": "86b1262a-4b60-46ce-f0a9-4812dae2b2c1"
      },
      "execution_count": null,
      "outputs": [
        {
          "output_type": "stream",
          "name": "stdout",
          "text": [
            "Y 예측값 \n",
            " [1 1 0 0 1 1 0 0 0 1 0 1 1 0 1 0 1 0 0 0 0 1 0 0 1 1 0 0 0 0 1 1 1 1 1 1 1\n",
            " 0 1 0 0 1 1 1 0 0 1 0 0 0 1 0 0 0 1 1 0 1 1 1 0 1 1 1 0 0 1 1 0 0 1 0 0 0\n",
            " 1 0 0 0 0 1 0 0 0 1 1 1 0 0 1 0 1 0 0 0 0 1 1 0 0 0 1 1 0 1 0 1 1 0 1 1 0\n",
            " 1 1 0 0 0 0 0 0 0 1 0 0 1 0 1 0 0 1 1 0 0 1 1 1 1 0 1 0 1 0 0 0 0 0 1 0 0\n",
            " 1 1 0 0 0 0 0 1 0 0 0 0 1 1 0 0 1 0 1 1 0 0 1 1 0 1 0 1 0 0 1 0 0 0 1 0 1\n",
            " 0 0 1 1 1 0 1 0 1 1 1 1 0 1 0 0 1 0 1 1 0 1 1 1 1 0 0 0 1 0 1 0 0 0 1 1 1\n",
            " 1 0 0 1 1 0 0 1 1 0 0 0 0 0 0 0 0 0 1 0 0 0 1 0 1 0 1 1 0 1 0 0 0 1 1 0 0\n",
            " 0 1 1 1 0 0 1 0 0 1 0 1 1 0 0 1 1 0 0 0 0 1 1 0 1 0 0 1 0 0 0 1 0 1 1 0 0\n",
            " 0 0 0 0]\n",
            "accuracy(train) : 0.895\n",
            "              precision    recall  f1-score   support\n",
            "\n",
            "           0       0.92      0.88      0.90       177\n",
            "           1       0.84      0.89      0.87       123\n",
            "\n",
            "    accuracy                           0.89       300\n",
            "   macro avg       0.88      0.89      0.88       300\n",
            "weighted avg       0.89      0.89      0.89       300\n",
            "\n"
          ]
        }
      ]
    },
    {
      "cell_type": "code",
      "source": [
        "df.columns"
      ],
      "metadata": {
        "colab": {
          "base_uri": "https://localhost:8080/"
        },
        "id": "FCesrmK3oqSf",
        "outputId": "a2f98a21-dfaa-488f-c7b1-554cf9d4132f"
      },
      "execution_count": null,
      "outputs": [
        {
          "output_type": "execute_result",
          "data": {
            "text/plain": [
              "Index(['고객ID', '이탈여부', '총매출액', '구매금액대', '방문빈도', '1회 평균매출액', '할인권 사용 횟수',\n",
              "       '총 할인 금액', '고객등급', '구매유형', '클레임접수여부', '구매카테고리수', '거주지역', '성별', '고객 나이대',\n",
              "       '거래기간', '할인민감여부', 'Recency', 'Frequency', 'Monetary', '평균 구매주기'],\n",
              "      dtype='object')"
            ]
          },
          "metadata": {},
          "execution_count": 45
        }
      ]
    },
    {
      "cell_type": "code",
      "source": [
        "#수치예측\n",
        "import numpy as np\n",
        "#1.변수선택\n",
        "X=df[df.이탈여부==0][[\"방문빈도\",\"총 할인 금액\",\"고객등급\",\"구매유형\",\"거래기간\",\"할인민감여부\",\"평균 구매주기\"]]\n",
        "Y=df[df.이탈여부==0][\"1회 평균매출액\"]\n",
        "\n",
        "#2. train-test split\n",
        "X_train,X_test, Y_train,Y_test= train_test_split(X,Y,test_size=0.3, random_state=0)\n",
        "\n",
        "#3.데이터 전처리(preprocessing)\n",
        "ct=ColumnTransformer([(\"scaling\",StandardScaler(),[\"방문빈도\",\"총 할인 금액\",\"거래기간\",\"평균 구매주기\"]),\n",
        "                    (\"onehot\", OneHotEncoder(sparse=False),[\"고객등급\",\"구매유형\",\"할인민감여부\"])])\n",
        "\n",
        "ct.fit(X_train)\n",
        "X_train = ct.transform(X_train)\n",
        "X_test= ct.transform(X_test)\n",
        "\n"
      ],
      "metadata": {
        "id": "ESZiFsOqonHj"
      },
      "execution_count": null,
      "outputs": []
    },
    {
      "cell_type": "code",
      "source": [
        "#4. 모델링\n",
        "from sklearn.neural_network import MLPRegressor\n",
        "\n",
        "#4-1 모델 생성\n",
        "#하이퍼파라미터를 조정하면 값이 올라감\n",
        "nn_reg_model = MLPRegressor(random_state=0, alpha=0.001, max_iter=2000, hidden_layer_sizes=[50,50])\n",
        "\n",
        "#5.모형학습 및 예측\n",
        "nn_reg_model.fit(X_train,Y_train)\n",
        "Y_pred = nn_reg_model.predict(X_test)\n",
        "\n",
        "#6.결과값 보고\n",
        "print(\"Y predict value: \\n\",Y_pred)\n",
        "print(\"train accuracy : {:.3f}\".format(nn_reg_model.score(X_train,Y_train)))\n",
        "from sklearn.metrics import mean_squared_error\n",
        "from math import sqrt\n",
        "rmse=sqrt(mean_squared_error(Y_test,Y_pred))\n",
        "print(\"RMSE: {:.3f}\".format(rmse))"
      ],
      "metadata": {
        "colab": {
          "base_uri": "https://localhost:8080/"
        },
        "id": "wEH6nocmpvcl",
        "outputId": "0ec2a544-22f8-4bbc-dbfa-9238e991c65d"
      },
      "execution_count": null,
      "outputs": [
        {
          "output_type": "stream",
          "name": "stdout",
          "text": [
            "Y predict value: \n",
            " [381377.38391094 197277.89370898 203213.87761097 631170.02163835\n",
            " 110525.81302818 288979.8779508    8432.01401265 152701.13753611\n",
            " 135152.64742379 303497.51148875 235874.37650518 253282.11494387\n",
            " 218424.92017181 237646.71277002 348328.71595336 300809.29318035\n",
            " 404063.12882681 444807.97693359 212515.65375684 299135.24418369\n",
            " 465597.92848873 107904.29533918 258233.25707635 358787.3296507\n",
            "   4064.29779297 462633.49534593 399309.18132288 179807.11682315\n",
            " 186944.84056465 209234.28213068 401090.84594678 465774.60283966\n",
            " 222188.40958675 459137.75135073 223432.75656504 113524.58286733\n",
            " 187268.26945841 458567.9117471  132849.46599019 712421.35577061\n",
            " 348012.0394223  178505.74882617 295628.43645386 312832.53698025\n",
            " 283171.02289656 375445.31719462  10024.59601894 229114.84066501\n",
            " 360274.70508555 364010.30810207 219457.45169494 640729.62755891\n",
            "  35512.98386133 431185.9222528  369166.6243725  231020.78298484\n",
            " 350897.58983935 266919.87817753 325820.43374977 289584.98907451\n",
            " 388238.40752148 465791.20405734 249765.11932014 327293.07646578\n",
            " 229427.80818347 163673.45669197 250651.2731684  107681.4726743\n",
            " 428020.65276293 275790.44908877 252769.66627991 170721.38147832\n",
            " 138770.43776446 275519.49999503 208834.99756924 463975.72150237\n",
            " 403257.28656712 507203.33053574 129384.54008194 279614.57415964\n",
            " 235905.29486321 204090.75363964 157223.23666826 231057.60170771\n",
            " 310454.49770763 381818.86655091 325598.1831854  312825.35463347\n",
            " 305557.09549858 426843.02455086 230996.59607929 443750.96345457\n",
            " 298117.33133443 471556.1934335  153296.29502371 548628.81475927\n",
            " 373563.54996997 276387.39582669 460093.73837632 152833.44273678\n",
            " 215444.59556112 298589.15411032 366146.4224336  208641.93896185\n",
            " 298974.20815205 415666.26269294 424986.55932032  66542.79946624\n",
            " 265315.84916894 402887.11800865 210487.42252392 128858.51061178\n",
            " 386105.92140084 508978.35947662 220535.2254386  258791.08463272\n",
            " 274775.37861187 377053.27778816 274289.24119392 353321.30010663\n",
            " 370199.49219335 454673.45539934 213975.07028875 391519.95809955\n",
            " 431852.83218495 207783.15974334 170395.77412588 290902.63774148\n",
            " 419831.17222799 200004.80709944 147294.98344321 130587.19066613\n",
            " 570239.8801304  254484.98812569 135480.43150666 296300.27644263\n",
            " 161832.08063985 152738.43860246 317473.97472983 185837.20900556\n",
            " 235423.74797162 249355.4342034  321402.95455087 179087.39079947\n",
            " 238812.15746152 356457.4206586  351191.50838601 445385.29746035\n",
            " 250558.35331454 280257.3894768  235156.96321893 363079.63545028\n",
            " 271968.56949527 430371.55785397 873212.78858012  86719.38873147\n",
            "  45904.4039717  442024.23439026 242949.42690875 344849.44985543\n",
            " 462120.66702682 432291.95492873 354869.11291367 158236.42650448\n",
            " 281575.40883224 303382.57710242 404020.80919464 141623.49171159\n",
            " 391535.17242657 291951.44740334   7668.96292365 242409.50088891\n",
            " 123574.58588848 595971.11876156 204119.04805828 345050.12359632\n",
            " 863122.93642353 235635.1850212  307381.96577243 131687.21907256\n",
            " 755377.38861003 960251.90302349 398683.3617919  405604.66681625\n",
            " 190743.89319949 116195.91623444 271079.85157813 216789.82127773\n",
            "  13911.71179357 439247.43599133 286245.75113446 383752.45743657\n",
            " 711474.9375761  149377.1049054  257957.86619999 218645.50032344\n",
            " 231130.33408243 150813.78276577 413610.07400703 107494.34797472\n",
            " 604133.60151603 168611.76105573 261113.73453094 201109.51633877\n",
            " 347050.16628421 254381.95218243 270351.23318902 247431.34050752\n",
            " 415590.23684581 284492.67910674]\n",
            "train accuracy : 0.434\n",
            "RMSE: 201218.588\n"
          ]
        },
        {
          "output_type": "stream",
          "name": "stderr",
          "text": [
            "/usr/local/lib/python3.8/dist-packages/sklearn/neural_network/_multilayer_perceptron.py:692: ConvergenceWarning: Stochastic Optimizer: Maximum iterations (2000) reached and the optimization hasn't converged yet.\n",
            "  warnings.warn(\n"
          ]
        }
      ]
    },
    {
      "cell_type": "markdown",
      "source": [
        "#딥러닝"
      ],
      "metadata": {
        "id": "8IZ_edHguFjY"
      }
    },
    {
      "cell_type": "markdown",
      "source": [
        "###경고문 제거"
      ],
      "metadata": {
        "id": "WWkn8Wz0uIV0"
      }
    },
    {
      "cell_type": "code",
      "source": [
        "#경고문을 제거 하겠따\n",
        "import warnings\n",
        "warnings.filterwarnings(\"ignore\")"
      ],
      "metadata": {
        "id": "C8P4eV0CrIWD"
      },
      "execution_count": null,
      "outputs": []
    },
    {
      "cell_type": "markdown",
      "source": [
        "##DNN(Deep learning: Deep Neural Network"
      ],
      "metadata": {
        "id": "CzBADq7ouW9D"
      }
    },
    {
      "cell_type": "markdown",
      "source": [
        "###분류예측"
      ],
      "metadata": {
        "id": "yStoKEUsuiyx"
      }
    },
    {
      "cell_type": "code",
      "source": [
        "#1.변수선택\n",
        "X=df[['총매출액', '구매금액대','1회 평균매출액','평균 구매주기','거래기간']]\n",
        "Y=df[\"할인민감여부\"]\n",
        "#2. train-test split\n",
        "X_train,X_test, Y_train,Y_test= train_test_split(X,Y,test_size=0.3, random_state=0)\n",
        "\n",
        "#3.데이터 전처리(preprocessing)\n",
        "ct=ColumnTransformer([(\"scaling\",StandardScaler(),['총매출액','1회 평균매출액','평균 구매주기','거래기간']),\n",
        "                    (\"onehot\", OneHotEncoder(sparse=False),['구매금액대'])])\n",
        "\n",
        "ct.fit(X_train)\n",
        "ct.transform(X_train)\n",
        "X_train = ct.transform(X_train)\n",
        "X_test= ct.transform(X_test)\n",
        "\n",
        "#4.오버샘플링\n",
        "smote=SMOTE(random_state=0)\n",
        "X_train,Y_train=smote.fit_resample(X_train,Y_train)"
      ],
      "metadata": {
        "id": "PqGWNQ0EuTm-"
      },
      "execution_count": null,
      "outputs": []
    },
    {
      "cell_type": "code",
      "source": [
        "from keras.layers.attention.multi_head_attention import activation\n",
        "import keras  \n",
        "import tensorflow as tf\n",
        "\n",
        "from keras.models import Sequential #sequenstital=순차적으로 가는 모형을 만들어내는것\n",
        "from keras.layers import Dense, Activation  #dense:노드의 밀도를 정해주는것 \n",
        "from keras.metrics import Accuracy\n",
        "\n",
        "#5.시드값 설정: 시작점\n",
        "np.random.seed(0)\n",
        "tf.random.set_seed(0)\n",
        "\n",
        "#6.모형생성\n",
        "model = keras.models.Sequential()\n",
        "model.add(keras.layers.Dense(64,input_dim=7, activation=\"relu\")) #dim=7 :7차원의 신경망을 만듬  \n",
        "model.add(keras.layers.Dense(64,activation=\"relu\"))\n",
        "model.add(keras.layers.Dense(1, activation=\"sigmoid\"))\n",
        "\n",
        "#7.모형 학습\n",
        "#loss가 떨어지면 accuracy가 커진다\n",
        "model.compile(loss=\"binary_crossentropy\",optimizer=\"adam\",metrics=[\"accuracy\"]) \n",
        "#validation_split=0.2 :8대2로 #epochs=100 :100까지 계산을 시도  \n",
        "history = model.fit(X_train, Y_train, validation_split=0.2, epochs=100,\n",
        "                    batch_size=64, verbose=2) \n"
      ],
      "metadata": {
        "id": "eaHm2FYRuogU",
        "colab": {
          "base_uri": "https://localhost:8080/"
        },
        "outputId": "89cbf9bc-701c-4203-f48d-1ff08fe6e2a3"
      },
      "execution_count": null,
      "outputs": [
        {
          "output_type": "stream",
          "name": "stdout",
          "text": [
            "Epoch 1/100\n",
            "11/11 - 1s - loss: 0.6829 - accuracy: 0.5888 - val_loss: 0.6856 - val_accuracy: 0.6529 - 1s/epoch - 95ms/step\n",
            "Epoch 2/100\n",
            "11/11 - 0s - loss: 0.5836 - accuracy: 0.8254 - val_loss: 0.6330 - val_accuracy: 0.6471 - 45ms/epoch - 4ms/step\n",
            "Epoch 3/100\n",
            "11/11 - 0s - loss: 0.5174 - accuracy: 0.8284 - val_loss: 0.6003 - val_accuracy: 0.6765 - 47ms/epoch - 4ms/step\n",
            "Epoch 4/100\n",
            "11/11 - 0s - loss: 0.4679 - accuracy: 0.8328 - val_loss: 0.5588 - val_accuracy: 0.7353 - 67ms/epoch - 6ms/step\n",
            "Epoch 5/100\n",
            "11/11 - 0s - loss: 0.4343 - accuracy: 0.8595 - val_loss: 0.5102 - val_accuracy: 0.8118 - 52ms/epoch - 5ms/step\n",
            "Epoch 6/100\n",
            "11/11 - 0s - loss: 0.4104 - accuracy: 0.8624 - val_loss: 0.5205 - val_accuracy: 0.7882 - 46ms/epoch - 4ms/step\n",
            "Epoch 7/100\n",
            "11/11 - 0s - loss: 0.3902 - accuracy: 0.8713 - val_loss: 0.4881 - val_accuracy: 0.8235 - 54ms/epoch - 5ms/step\n",
            "Epoch 8/100\n",
            "11/11 - 0s - loss: 0.3756 - accuracy: 0.8802 - val_loss: 0.4970 - val_accuracy: 0.8176 - 47ms/epoch - 4ms/step\n",
            "Epoch 9/100\n",
            "11/11 - 0s - loss: 0.3606 - accuracy: 0.8905 - val_loss: 0.4988 - val_accuracy: 0.8235 - 63ms/epoch - 6ms/step\n",
            "Epoch 10/100\n",
            "11/11 - 0s - loss: 0.3481 - accuracy: 0.8876 - val_loss: 0.4776 - val_accuracy: 0.8412 - 50ms/epoch - 5ms/step\n",
            "Epoch 11/100\n",
            "11/11 - 0s - loss: 0.3354 - accuracy: 0.8964 - val_loss: 0.5106 - val_accuracy: 0.8235 - 48ms/epoch - 4ms/step\n",
            "Epoch 12/100\n",
            "11/11 - 0s - loss: 0.3230 - accuracy: 0.8994 - val_loss: 0.4591 - val_accuracy: 0.8529 - 49ms/epoch - 4ms/step\n",
            "Epoch 13/100\n",
            "11/11 - 0s - loss: 0.3110 - accuracy: 0.9038 - val_loss: 0.4816 - val_accuracy: 0.8471 - 62ms/epoch - 6ms/step\n",
            "Epoch 14/100\n",
            "11/11 - 0s - loss: 0.3008 - accuracy: 0.9038 - val_loss: 0.4843 - val_accuracy: 0.8471 - 55ms/epoch - 5ms/step\n",
            "Epoch 15/100\n",
            "11/11 - 0s - loss: 0.2923 - accuracy: 0.9112 - val_loss: 0.4878 - val_accuracy: 0.8529 - 47ms/epoch - 4ms/step\n",
            "Epoch 16/100\n",
            "11/11 - 0s - loss: 0.2855 - accuracy: 0.9172 - val_loss: 0.4796 - val_accuracy: 0.8529 - 74ms/epoch - 7ms/step\n",
            "Epoch 17/100\n",
            "11/11 - 0s - loss: 0.2792 - accuracy: 0.9172 - val_loss: 0.4837 - val_accuracy: 0.8588 - 46ms/epoch - 4ms/step\n",
            "Epoch 18/100\n",
            "11/11 - 0s - loss: 0.2729 - accuracy: 0.9216 - val_loss: 0.4902 - val_accuracy: 0.8588 - 64ms/epoch - 6ms/step\n",
            "Epoch 19/100\n",
            "11/11 - 0s - loss: 0.2664 - accuracy: 0.9157 - val_loss: 0.4760 - val_accuracy: 0.8588 - 64ms/epoch - 6ms/step\n",
            "Epoch 20/100\n",
            "11/11 - 0s - loss: 0.2629 - accuracy: 0.9186 - val_loss: 0.4975 - val_accuracy: 0.8588 - 47ms/epoch - 4ms/step\n",
            "Epoch 21/100\n",
            "11/11 - 0s - loss: 0.2586 - accuracy: 0.9216 - val_loss: 0.4753 - val_accuracy: 0.8529 - 47ms/epoch - 4ms/step\n",
            "Epoch 22/100\n",
            "11/11 - 0s - loss: 0.2545 - accuracy: 0.9216 - val_loss: 0.4969 - val_accuracy: 0.8529 - 52ms/epoch - 5ms/step\n",
            "Epoch 23/100\n",
            "11/11 - 0s - loss: 0.2500 - accuracy: 0.9216 - val_loss: 0.4686 - val_accuracy: 0.8588 - 45ms/epoch - 4ms/step\n",
            "Epoch 24/100\n",
            "11/11 - 0s - loss: 0.2481 - accuracy: 0.9186 - val_loss: 0.4818 - val_accuracy: 0.8588 - 43ms/epoch - 4ms/step\n",
            "Epoch 25/100\n",
            "11/11 - 0s - loss: 0.2481 - accuracy: 0.9186 - val_loss: 0.4760 - val_accuracy: 0.8588 - 47ms/epoch - 4ms/step\n",
            "Epoch 26/100\n",
            "11/11 - 0s - loss: 0.2421 - accuracy: 0.9201 - val_loss: 0.4532 - val_accuracy: 0.8588 - 46ms/epoch - 4ms/step\n",
            "Epoch 27/100\n",
            "11/11 - 0s - loss: 0.2418 - accuracy: 0.9246 - val_loss: 0.4800 - val_accuracy: 0.8588 - 50ms/epoch - 5ms/step\n",
            "Epoch 28/100\n",
            "11/11 - 0s - loss: 0.2370 - accuracy: 0.9260 - val_loss: 0.4627 - val_accuracy: 0.8588 - 45ms/epoch - 4ms/step\n",
            "Epoch 29/100\n",
            "11/11 - 0s - loss: 0.2360 - accuracy: 0.9172 - val_loss: 0.4610 - val_accuracy: 0.8588 - 46ms/epoch - 4ms/step\n",
            "Epoch 30/100\n",
            "11/11 - 0s - loss: 0.2324 - accuracy: 0.9275 - val_loss: 0.4712 - val_accuracy: 0.8529 - 58ms/epoch - 5ms/step\n",
            "Epoch 31/100\n",
            "11/11 - 0s - loss: 0.2309 - accuracy: 0.9290 - val_loss: 0.4492 - val_accuracy: 0.8588 - 44ms/epoch - 4ms/step\n",
            "Epoch 32/100\n",
            "11/11 - 0s - loss: 0.2293 - accuracy: 0.9290 - val_loss: 0.4589 - val_accuracy: 0.8588 - 46ms/epoch - 4ms/step\n",
            "Epoch 33/100\n",
            "11/11 - 0s - loss: 0.2291 - accuracy: 0.9305 - val_loss: 0.4483 - val_accuracy: 0.8588 - 49ms/epoch - 4ms/step\n",
            "Epoch 34/100\n",
            "11/11 - 0s - loss: 0.2252 - accuracy: 0.9290 - val_loss: 0.4475 - val_accuracy: 0.8588 - 67ms/epoch - 6ms/step\n",
            "Epoch 35/100\n",
            "11/11 - 0s - loss: 0.2247 - accuracy: 0.9290 - val_loss: 0.4419 - val_accuracy: 0.8588 - 48ms/epoch - 4ms/step\n",
            "Epoch 36/100\n",
            "11/11 - 0s - loss: 0.2240 - accuracy: 0.9246 - val_loss: 0.4333 - val_accuracy: 0.8647 - 46ms/epoch - 4ms/step\n",
            "Epoch 37/100\n",
            "11/11 - 0s - loss: 0.2223 - accuracy: 0.9305 - val_loss: 0.4677 - val_accuracy: 0.8529 - 47ms/epoch - 4ms/step\n",
            "Epoch 38/100\n",
            "11/11 - 0s - loss: 0.2193 - accuracy: 0.9290 - val_loss: 0.4230 - val_accuracy: 0.8588 - 46ms/epoch - 4ms/step\n",
            "Epoch 39/100\n",
            "11/11 - 0s - loss: 0.2183 - accuracy: 0.9305 - val_loss: 0.4455 - val_accuracy: 0.8588 - 58ms/epoch - 5ms/step\n",
            "Epoch 40/100\n",
            "11/11 - 0s - loss: 0.2165 - accuracy: 0.9334 - val_loss: 0.4343 - val_accuracy: 0.8647 - 43ms/epoch - 4ms/step\n",
            "Epoch 41/100\n",
            "11/11 - 0s - loss: 0.2149 - accuracy: 0.9334 - val_loss: 0.4333 - val_accuracy: 0.8588 - 62ms/epoch - 6ms/step\n",
            "Epoch 42/100\n",
            "11/11 - 0s - loss: 0.2139 - accuracy: 0.9320 - val_loss: 0.4404 - val_accuracy: 0.8588 - 62ms/epoch - 6ms/step\n",
            "Epoch 43/100\n",
            "11/11 - 0s - loss: 0.2145 - accuracy: 0.9260 - val_loss: 0.4200 - val_accuracy: 0.8588 - 44ms/epoch - 4ms/step\n",
            "Epoch 44/100\n",
            "11/11 - 0s - loss: 0.2120 - accuracy: 0.9349 - val_loss: 0.4548 - val_accuracy: 0.8529 - 64ms/epoch - 6ms/step\n",
            "Epoch 45/100\n",
            "11/11 - 0s - loss: 0.2110 - accuracy: 0.9334 - val_loss: 0.4268 - val_accuracy: 0.8647 - 49ms/epoch - 4ms/step\n",
            "Epoch 46/100\n",
            "11/11 - 0s - loss: 0.2082 - accuracy: 0.9364 - val_loss: 0.4381 - val_accuracy: 0.8529 - 45ms/epoch - 4ms/step\n",
            "Epoch 47/100\n",
            "11/11 - 0s - loss: 0.2085 - accuracy: 0.9364 - val_loss: 0.4311 - val_accuracy: 0.8588 - 43ms/epoch - 4ms/step\n",
            "Epoch 48/100\n",
            "11/11 - 0s - loss: 0.2071 - accuracy: 0.9349 - val_loss: 0.4126 - val_accuracy: 0.8647 - 50ms/epoch - 5ms/step\n",
            "Epoch 49/100\n",
            "11/11 - 0s - loss: 0.2064 - accuracy: 0.9379 - val_loss: 0.4292 - val_accuracy: 0.8588 - 45ms/epoch - 4ms/step\n",
            "Epoch 50/100\n",
            "11/11 - 0s - loss: 0.2051 - accuracy: 0.9334 - val_loss: 0.4113 - val_accuracy: 0.8647 - 48ms/epoch - 4ms/step\n",
            "Epoch 51/100\n",
            "11/11 - 0s - loss: 0.2056 - accuracy: 0.9379 - val_loss: 0.4268 - val_accuracy: 0.8588 - 65ms/epoch - 6ms/step\n",
            "Epoch 52/100\n",
            "11/11 - 0s - loss: 0.2044 - accuracy: 0.9349 - val_loss: 0.4156 - val_accuracy: 0.8647 - 65ms/epoch - 6ms/step\n",
            "Epoch 53/100\n",
            "11/11 - 0s - loss: 0.2026 - accuracy: 0.9364 - val_loss: 0.4326 - val_accuracy: 0.8529 - 46ms/epoch - 4ms/step\n",
            "Epoch 54/100\n",
            "11/11 - 0s - loss: 0.2007 - accuracy: 0.9408 - val_loss: 0.4113 - val_accuracy: 0.8647 - 47ms/epoch - 4ms/step\n",
            "Epoch 55/100\n",
            "11/11 - 0s - loss: 0.1997 - accuracy: 0.9393 - val_loss: 0.4058 - val_accuracy: 0.8647 - 46ms/epoch - 4ms/step\n",
            "Epoch 56/100\n",
            "11/11 - 0s - loss: 0.1999 - accuracy: 0.9393 - val_loss: 0.4358 - val_accuracy: 0.8588 - 53ms/epoch - 5ms/step\n",
            "Epoch 57/100\n",
            "11/11 - 0s - loss: 0.1996 - accuracy: 0.9393 - val_loss: 0.3937 - val_accuracy: 0.8647 - 61ms/epoch - 6ms/step\n",
            "Epoch 58/100\n",
            "11/11 - 0s - loss: 0.1997 - accuracy: 0.9364 - val_loss: 0.4277 - val_accuracy: 0.8529 - 44ms/epoch - 4ms/step\n",
            "Epoch 59/100\n",
            "11/11 - 0s - loss: 0.1975 - accuracy: 0.9408 - val_loss: 0.3932 - val_accuracy: 0.8647 - 52ms/epoch - 5ms/step\n",
            "Epoch 60/100\n",
            "11/11 - 0s - loss: 0.1948 - accuracy: 0.9423 - val_loss: 0.4205 - val_accuracy: 0.8588 - 46ms/epoch - 4ms/step\n",
            "Epoch 61/100\n",
            "11/11 - 0s - loss: 0.1951 - accuracy: 0.9438 - val_loss: 0.4008 - val_accuracy: 0.8647 - 61ms/epoch - 6ms/step\n",
            "Epoch 62/100\n",
            "11/11 - 0s - loss: 0.1935 - accuracy: 0.9408 - val_loss: 0.4069 - val_accuracy: 0.8647 - 64ms/epoch - 6ms/step\n",
            "Epoch 63/100\n",
            "11/11 - 0s - loss: 0.1947 - accuracy: 0.9423 - val_loss: 0.4142 - val_accuracy: 0.8588 - 48ms/epoch - 4ms/step\n",
            "Epoch 64/100\n",
            "11/11 - 0s - loss: 0.1929 - accuracy: 0.9438 - val_loss: 0.4039 - val_accuracy: 0.8647 - 49ms/epoch - 4ms/step\n",
            "Epoch 65/100\n",
            "11/11 - 0s - loss: 0.1912 - accuracy: 0.9453 - val_loss: 0.4085 - val_accuracy: 0.8647 - 44ms/epoch - 4ms/step\n",
            "Epoch 66/100\n",
            "11/11 - 0s - loss: 0.1911 - accuracy: 0.9438 - val_loss: 0.4082 - val_accuracy: 0.8647 - 53ms/epoch - 5ms/step\n",
            "Epoch 67/100\n",
            "11/11 - 0s - loss: 0.1901 - accuracy: 0.9438 - val_loss: 0.4114 - val_accuracy: 0.8588 - 42ms/epoch - 4ms/step\n",
            "Epoch 68/100\n",
            "11/11 - 0s - loss: 0.1910 - accuracy: 0.9408 - val_loss: 0.3896 - val_accuracy: 0.8647 - 44ms/epoch - 4ms/step\n",
            "Epoch 69/100\n",
            "11/11 - 0s - loss: 0.1892 - accuracy: 0.9453 - val_loss: 0.3962 - val_accuracy: 0.8647 - 67ms/epoch - 6ms/step\n",
            "Epoch 70/100\n",
            "11/11 - 0s - loss: 0.1887 - accuracy: 0.9408 - val_loss: 0.4095 - val_accuracy: 0.8588 - 62ms/epoch - 6ms/step\n",
            "Epoch 71/100\n",
            "11/11 - 0s - loss: 0.1872 - accuracy: 0.9438 - val_loss: 0.3883 - val_accuracy: 0.8588 - 46ms/epoch - 4ms/step\n",
            "Epoch 72/100\n",
            "11/11 - 0s - loss: 0.1875 - accuracy: 0.9408 - val_loss: 0.3898 - val_accuracy: 0.8647 - 46ms/epoch - 4ms/step\n",
            "Epoch 73/100\n",
            "11/11 - 0s - loss: 0.1867 - accuracy: 0.9482 - val_loss: 0.4074 - val_accuracy: 0.8588 - 48ms/epoch - 4ms/step\n",
            "Epoch 74/100\n",
            "11/11 - 0s - loss: 0.1880 - accuracy: 0.9393 - val_loss: 0.3759 - val_accuracy: 0.8647 - 73ms/epoch - 7ms/step\n",
            "Epoch 75/100\n",
            "11/11 - 0s - loss: 0.1884 - accuracy: 0.9438 - val_loss: 0.4138 - val_accuracy: 0.8588 - 47ms/epoch - 4ms/step\n",
            "Epoch 76/100\n",
            "11/11 - 0s - loss: 0.1838 - accuracy: 0.9423 - val_loss: 0.3702 - val_accuracy: 0.8647 - 49ms/epoch - 4ms/step\n",
            "Epoch 77/100\n",
            "11/11 - 0s - loss: 0.1842 - accuracy: 0.9467 - val_loss: 0.3963 - val_accuracy: 0.8588 - 46ms/epoch - 4ms/step\n",
            "Epoch 78/100\n",
            "11/11 - 0s - loss: 0.1831 - accuracy: 0.9497 - val_loss: 0.3934 - val_accuracy: 0.8588 - 42ms/epoch - 4ms/step\n",
            "Epoch 79/100\n",
            "11/11 - 0s - loss: 0.1830 - accuracy: 0.9467 - val_loss: 0.3960 - val_accuracy: 0.8588 - 41ms/epoch - 4ms/step\n",
            "Epoch 80/100\n",
            "11/11 - 0s - loss: 0.1824 - accuracy: 0.9423 - val_loss: 0.3860 - val_accuracy: 0.8647 - 42ms/epoch - 4ms/step\n",
            "Epoch 81/100\n",
            "11/11 - 0s - loss: 0.1808 - accuracy: 0.9482 - val_loss: 0.3950 - val_accuracy: 0.8588 - 79ms/epoch - 7ms/step\n",
            "Epoch 82/100\n",
            "11/11 - 0s - loss: 0.1814 - accuracy: 0.9482 - val_loss: 0.3916 - val_accuracy: 0.8588 - 92ms/epoch - 8ms/step\n",
            "Epoch 83/100\n",
            "11/11 - 0s - loss: 0.1797 - accuracy: 0.9497 - val_loss: 0.3803 - val_accuracy: 0.8647 - 68ms/epoch - 6ms/step\n",
            "Epoch 84/100\n",
            "11/11 - 0s - loss: 0.1793 - accuracy: 0.9467 - val_loss: 0.3954 - val_accuracy: 0.8588 - 87ms/epoch - 8ms/step\n",
            "Epoch 85/100\n",
            "11/11 - 0s - loss: 0.1794 - accuracy: 0.9453 - val_loss: 0.3924 - val_accuracy: 0.8588 - 84ms/epoch - 8ms/step\n",
            "Epoch 86/100\n",
            "11/11 - 0s - loss: 0.1789 - accuracy: 0.9482 - val_loss: 0.3679 - val_accuracy: 0.8588 - 145ms/epoch - 13ms/step\n",
            "Epoch 87/100\n",
            "11/11 - 0s - loss: 0.1777 - accuracy: 0.9497 - val_loss: 0.3876 - val_accuracy: 0.8588 - 83ms/epoch - 8ms/step\n",
            "Epoch 88/100\n",
            "11/11 - 0s - loss: 0.1773 - accuracy: 0.9512 - val_loss: 0.3835 - val_accuracy: 0.8588 - 80ms/epoch - 7ms/step\n",
            "Epoch 89/100\n",
            "11/11 - 0s - loss: 0.1784 - accuracy: 0.9438 - val_loss: 0.3948 - val_accuracy: 0.8588 - 113ms/epoch - 10ms/step\n",
            "Epoch 90/100\n",
            "11/11 - 0s - loss: 0.1765 - accuracy: 0.9527 - val_loss: 0.3870 - val_accuracy: 0.8588 - 93ms/epoch - 8ms/step\n",
            "Epoch 91/100\n",
            "11/11 - 0s - loss: 0.1758 - accuracy: 0.9497 - val_loss: 0.3666 - val_accuracy: 0.8647 - 104ms/epoch - 9ms/step\n",
            "Epoch 92/100\n",
            "11/11 - 0s - loss: 0.1772 - accuracy: 0.9423 - val_loss: 0.3699 - val_accuracy: 0.8588 - 74ms/epoch - 7ms/step\n",
            "Epoch 93/100\n",
            "11/11 - 0s - loss: 0.1755 - accuracy: 0.9512 - val_loss: 0.3941 - val_accuracy: 0.8588 - 150ms/epoch - 14ms/step\n",
            "Epoch 94/100\n",
            "11/11 - 0s - loss: 0.1753 - accuracy: 0.9467 - val_loss: 0.3659 - val_accuracy: 0.8588 - 132ms/epoch - 12ms/step\n",
            "Epoch 95/100\n",
            "11/11 - 0s - loss: 0.1743 - accuracy: 0.9512 - val_loss: 0.3836 - val_accuracy: 0.8588 - 205ms/epoch - 19ms/step\n",
            "Epoch 96/100\n",
            "11/11 - 0s - loss: 0.1743 - accuracy: 0.9482 - val_loss: 0.3720 - val_accuracy: 0.8588 - 109ms/epoch - 10ms/step\n",
            "Epoch 97/100\n",
            "11/11 - 0s - loss: 0.1739 - accuracy: 0.9527 - val_loss: 0.3804 - val_accuracy: 0.8588 - 148ms/epoch - 13ms/step\n",
            "Epoch 98/100\n",
            "11/11 - 0s - loss: 0.1749 - accuracy: 0.9423 - val_loss: 0.3558 - val_accuracy: 0.8647 - 173ms/epoch - 16ms/step\n",
            "Epoch 99/100\n",
            "11/11 - 0s - loss: 0.1722 - accuracy: 0.9482 - val_loss: 0.3841 - val_accuracy: 0.8588 - 123ms/epoch - 11ms/step\n",
            "Epoch 100/100\n",
            "11/11 - 0s - loss: 0.1716 - accuracy: 0.9497 - val_loss: 0.3719 - val_accuracy: 0.8588 - 93ms/epoch - 8ms/step\n"
          ]
        }
      ]
    },
    {
      "cell_type": "code",
      "source": [
        "#loss랑 accuracy를 그래프로 그림\n",
        "import matplotlib.pyplot as plt\n",
        "\n",
        "#선언\n",
        "fig, loss_ax= plt.subplots()\n",
        "acc_ax=loss_ax.twinx()\n",
        "\n",
        "#loss(오차)그리기\n",
        "loss_ax.plot(history.history[\"loss\"],\"y\",label=\"train loss\")\n",
        "loss_ax.plot(history.history[\"val_loss\"],\"r\",label=\"val loss\")\n",
        "loss_ax.set_xlabel(\"epoch\")\n",
        "loss_ax.set_ylabel(\"loss\")\n",
        "loss_ax.legend(loc=\"lower right\")\n",
        "\n",
        "#accuracy(정확도)그리기\n",
        "acc_ax.plot(history.history[\"accuracy\"],\"b\",label=\"train acc\")\n",
        "acc_ax.plot(history.history[\"val_accuracy\"],\"g\",label=\"val acc\")\n",
        "acc_ax.set_ylabel(\"accuracy\")\n",
        "acc_ax.legend(loc=\"upper right\")\n",
        "\n",
        "plt.show()"
      ],
      "metadata": {
        "colab": {
          "base_uri": "https://localhost:8080/",
          "height": 279
        },
        "id": "h6Zj3nuWxEdR",
        "outputId": "edc59a7e-eea8-4ae5-91f9-b974f76d9c20"
      },
      "execution_count": null,
      "outputs": [
        {
          "output_type": "display_data",
          "data": {
            "text/plain": [
              "<Figure size 432x288 with 2 Axes>"
            ],
            "image/png": "[encoded data removed]"
          },
          "metadata": {
            "needs_background": "light"
          }
        }
      ]
    },
    {
      "cell_type": "code",
      "source": [
        "model.fit(X_train,Y_train,validation_split=0.2, epochs=20,\n",
        "          batch_size=64, verbose=1)"
      ],
      "metadata": {
        "colab": {
          "base_uri": "https://localhost:8080/"
        },
        "id": "rf7RASly4bon",
        "outputId": "26600e52-f118-4a27-bcb0-90c145af5335"
      },
      "execution_count": null,
      "outputs": [
        {
          "output_type": "stream",
          "name": "stdout",
          "text": [
            "Epoch 1/20\n",
            "11/11 [==============================] - 0s 16ms/step - loss: 0.1702 - accuracy: 0.9497 - val_loss: 0.3680 - val_accuracy: 0.8588\n",
            "Epoch 2/20\n",
            "11/11 [==============================] - 0s 8ms/step - loss: 0.1697 - accuracy: 0.9512 - val_loss: 0.3609 - val_accuracy: 0.8588\n",
            "Epoch 3/20\n",
            "11/11 [==============================] - 0s 8ms/step - loss: 0.1706 - accuracy: 0.9497 - val_loss: 0.3671 - val_accuracy: 0.8588\n",
            "Epoch 4/20\n",
            "11/11 [==============================] - 0s 8ms/step - loss: 0.1696 - accuracy: 0.9497 - val_loss: 0.3579 - val_accuracy: 0.8647\n",
            "Epoch 5/20\n",
            "11/11 [==============================] - 0s 8ms/step - loss: 0.1683 - accuracy: 0.9512 - val_loss: 0.3734 - val_accuracy: 0.8588\n",
            "Epoch 6/20\n",
            "11/11 [==============================] - 0s 13ms/step - loss: 0.1685 - accuracy: 0.9512 - val_loss: 0.3627 - val_accuracy: 0.8588\n",
            "Epoch 7/20\n",
            "11/11 [==============================] - 0s 11ms/step - loss: 0.1688 - accuracy: 0.9527 - val_loss: 0.3614 - val_accuracy: 0.8588\n",
            "Epoch 8/20\n",
            "11/11 [==============================] - 0s 16ms/step - loss: 0.1687 - accuracy: 0.9527 - val_loss: 0.3717 - val_accuracy: 0.8588\n",
            "Epoch 9/20\n",
            "11/11 [==============================] - 0s 12ms/step - loss: 0.1661 - accuracy: 0.9512 - val_loss: 0.3677 - val_accuracy: 0.8588\n",
            "Epoch 10/20\n",
            "11/11 [==============================] - 0s 9ms/step - loss: 0.1667 - accuracy: 0.9512 - val_loss: 0.3754 - val_accuracy: 0.8588\n",
            "Epoch 11/20\n",
            "11/11 [==============================] - 0s 10ms/step - loss: 0.1667 - accuracy: 0.9512 - val_loss: 0.3679 - val_accuracy: 0.8588\n",
            "Epoch 12/20\n",
            "11/11 [==============================] - 0s 10ms/step - loss: 0.1658 - accuracy: 0.9527 - val_loss: 0.3560 - val_accuracy: 0.8588\n",
            "Epoch 13/20\n",
            "11/11 [==============================] - 0s 11ms/step - loss: 0.1645 - accuracy: 0.9512 - val_loss: 0.3706 - val_accuracy: 0.8588\n",
            "Epoch 14/20\n",
            "11/11 [==============================] - 0s 10ms/step - loss: 0.1645 - accuracy: 0.9512 - val_loss: 0.3531 - val_accuracy: 0.8588\n",
            "Epoch 15/20\n",
            "11/11 [==============================] - 0s 10ms/step - loss: 0.1635 - accuracy: 0.9512 - val_loss: 0.3723 - val_accuracy: 0.8588\n",
            "Epoch 16/20\n",
            "11/11 [==============================] - 0s 11ms/step - loss: 0.1644 - accuracy: 0.9527 - val_loss: 0.3496 - val_accuracy: 0.8588\n",
            "Epoch 17/20\n",
            "11/11 [==============================] - 0s 22ms/step - loss: 0.1661 - accuracy: 0.9497 - val_loss: 0.3620 - val_accuracy: 0.8588\n",
            "Epoch 18/20\n",
            "11/11 [==============================] - 0s 12ms/step - loss: 0.1653 - accuracy: 0.9497 - val_loss: 0.3627 - val_accuracy: 0.8588\n",
            "Epoch 19/20\n",
            "11/11 [==============================] - 0s 14ms/step - loss: 0.1621 - accuracy: 0.9527 - val_loss: 0.3453 - val_accuracy: 0.8647\n",
            "Epoch 20/20\n",
            "11/11 [==============================] - 0s 9ms/step - loss: 0.1609 - accuracy: 0.9527 - val_loss: 0.3684 - val_accuracy: 0.8588\n"
          ]
        },
        {
          "output_type": "execute_result",
          "data": {
            "text/plain": [
              "<keras.callbacks.History at 0x7f3b862d5820>"
            ]
          },
          "metadata": {},
          "execution_count": 18
        }
      ]
    },
    {
      "cell_type": "code",
      "source": [
        "Y_pred=model.predict(X_test,verbose=0)\n",
        "Y_class= np.round(Y_pred,0)\n",
        "train_score=model.evaluate(X_train,Y_train,verbose=0)\n",
        "test_score=model.evaluate(X_test,Y_test,verbose=0)\n",
        "print(\"Y 예측값: \\n\",Y_pred[:5])\n",
        "print(\"Y 예측 클래스 : \\n\",Y_class[:5])\n",
        "print(\"train accuracy: {:.3f}\".format(train_score[0],train_score[1]))\n",
        "print(\"test accuracy: {:.3f}\".format(test_score[0],test_score[1]))"
      ],
      "metadata": {
        "colab": {
          "base_uri": "https://localhost:8080/"
        },
        "id": "keqMpCTX7sjf",
        "outputId": "419bcc59-d899-444b-eadc-a9757985721c"
      },
      "execution_count": null,
      "outputs": [
        {
          "output_type": "stream",
          "name": "stdout",
          "text": [
            "Y 예측값: \n",
            " [[0.93126047]\n",
            " [1.        ]\n",
            " [0.01772536]\n",
            " [0.01244921]\n",
            " [0.99973166]]\n",
            "Y 예측 클래스 : \n",
            " [[1.]\n",
            " [1.]\n",
            " [0.]\n",
            " [0.]\n",
            " [1.]]\n",
            "train accuracy: 0.202\n",
            "test accuracy: 0.224\n"
          ]
        }
      ]
    },
    {
      "cell_type": "markdown",
      "source": [
        "##회귀예측"
      ],
      "metadata": {
        "id": "tfboq5iJVJWp"
      }
    },
    {
      "cell_type": "code",
      "source": [
        "df.info()"
      ],
      "metadata": {
        "id": "_Gc01qDV8YOS",
        "colab": {
          "base_uri": "https://localhost:8080/"
        },
        "outputId": "b3f0a968-5818-4584-f085-55a64487c768"
      },
      "execution_count": null,
      "outputs": [
        {
          "output_type": "stream",
          "name": "stdout",
          "text": [
            "<class 'pandas.core.frame.DataFrame'>\n",
            "RangeIndex: 1000 entries, 0 to 999\n",
            "Data columns (total 21 columns):\n",
            " #   Column     Non-Null Count  Dtype  \n",
            "---  ------     --------------  -----  \n",
            " 0   고객ID       1000 non-null   int64  \n",
            " 1   이탈여부       1000 non-null   int64  \n",
            " 2   총매출액       1000 non-null   int64  \n",
            " 3   구매금액대      1000 non-null   int64  \n",
            " 4   방문빈도       1000 non-null   int64  \n",
            " 5   1회 평균매출액   1000 non-null   int64  \n",
            " 6   할인권 사용 횟수  1000 non-null   int64  \n",
            " 7   총 할인 금액    1000 non-null   int64  \n",
            " 8   고객등급       1000 non-null   int64  \n",
            " 9   구매유형       1000 non-null   int64  \n",
            " 10  클레임접수여부    1000 non-null   int64  \n",
            " 11  구매카테고리수    1000 non-null   int64  \n",
            " 12  거주지역       1000 non-null   int64  \n",
            " 13  성별         1000 non-null   int64  \n",
            " 14  고객 나이대     1000 non-null   int64  \n",
            " 15  거래기간       1000 non-null   int64  \n",
            " 16  할인민감여부     1000 non-null   int64  \n",
            " 17  Recency    1000 non-null   int64  \n",
            " 18  Frequency  1000 non-null   int64  \n",
            " 19  Monetary   1000 non-null   int64  \n",
            " 20  평균 구매주기    1000 non-null   float64\n",
            "dtypes: float64(1), int64(20)\n",
            "memory usage: 164.2 KB\n"
          ]
        }
      ]
    },
    {
      "cell_type": "code",
      "source": [
        "#1. 데이터 만들기\n",
        "X=df[df.이탈여부 == 0][[\"방문빈도\",\"총 할인 금액\",\"구매카테고리수\",\"거래기간\"]]\n",
        "Y=np.log1p(df[df.이탈여부 == 0][\"1회 평균매출액\"])"
      ],
      "metadata": {
        "id": "2MGFGOdKVPY1"
      },
      "execution_count": null,
      "outputs": []
    },
    {
      "cell_type": "code",
      "source": [
        "#신경망 모형\n",
        "#2. train-test split\n",
        "X_train,X_test, Y_train,Y_test= train_test_split(X,Y,test_size=0.3, random_state=0)\n",
        "\n",
        "#3.데이터 전처리(preprocessing)\n",
        "scaler=StandardScaler().fit(X_train)\n",
        "X_train=scaler.transform(X_train)\n",
        "X_test=scaler.transform(X_test)\n",
        "\n",
        "#4. seed값 설정\n",
        "np.random.seed(0)\n",
        "tf.random.set_seed(0)\n",
        "\n",
        "#5.모형생성\n",
        "model = keras.models.Sequential()\n",
        "model.add(keras.layers.Dense(64,input_dim=4, activation=\"relu\")) \n",
        "model.add(keras.layers.Dense(64,activation=\"relu\"))\n",
        "model.add(keras.layers.Dense(64, activation=\"relu\"))\n",
        "\n",
        "#6.모형 학습\n",
        "model.compile(loss=\"mse\",optimizer=\"SGD\")  \n",
        "Y_pred=np.round(model.predict(X_test[:5], verbose=0),3)\n",
        "print(\"Y preict value \\n\",Y_pred)\n",
        "\n",
        "#7.모형학습\n",
        "train_score=model.evaluate(X_train,Y_train,verbose=0)\n",
        "test_score=model.evaluate(X_test,Y_test,verbose=0)\n",
        "print(\"train accuracy: {:.3f}\".format(train_score))\n",
        "print(\"test accuracy: {:.3f}\".format(test_score))"
      ],
      "metadata": {
        "colab": {
          "base_uri": "https://localhost:8080/"
        },
        "id": "YHiL3heDV6Nj",
        "outputId": "be62521f-9653-4948-dc2b-cef09b46520d"
      },
      "execution_count": null,
      "outputs": [
        {
          "output_type": "stream",
          "name": "stdout",
          "text": [
            "Y preict value \n",
            " [[0.    0.    0.    0.234 0.    0.163 0.052 0.    0.    0.    0.    0.32\n",
            "  0.013 0.    0.218 0.009 0.111 0.    0.182 0.    0.    0.    0.474 0.143\n",
            "  0.    0.    0.    0.    0.    0.    0.325 0.    0.    0.224 0.    0.098\n",
            "  0.115 0.    0.    0.055 0.    0.    0.    0.    0.    0.    0.    0.\n",
            "  0.    0.322 0.12  0.098 0.    0.336 0.142 0.    0.    0.394 0.    0.498\n",
            "  0.    0.    0.182 0.   ]\n",
            " [0.    0.    0.    0.002 0.    0.134 0.114 0.    0.109 0.    0.    0.058\n",
            "  0.061 0.043 0.042 0.027 0.06  0.097 0.114 0.    0.    0.001 0.14  0.\n",
            "  0.081 0.017 0.    0.034 0.    0.    0.012 0.009 0.    0.045 0.    0.039\n",
            "  0.    0.    0.    0.109 0.    0.009 0.004 0.    0.    0.    0.    0.\n",
            "  0.059 0.097 0.074 0.026 0.    0.014 0.184 0.    0.002 0.061 0.075 0.146\n",
            "  0.    0.    0.289 0.   ]\n",
            " [0.    0.    0.079 0.012 0.    0.056 0.061 0.    0.175 0.    0.089 0.14\n",
            "  0.002 0.    0.254 0.04  0.094 0.183 0.181 0.    0.058 0.    0.385 0.058\n",
            "  0.    0.    0.    0.057 0.    0.    0.144 0.051 0.07  0.104 0.023 0.032\n",
            "  0.036 0.    0.    0.162 0.    0.    0.    0.    0.    0.    0.    0.\n",
            "  0.054 0.124 0.055 0.014 0.    0.081 0.055 0.    0.057 0.15  0.048 0.408\n",
            "  0.    0.    0.363 0.   ]\n",
            " [0.    0.002 0.    0.121 0.    0.06  0.097 0.115 0.    0.    0.232 0.095\n",
            "  0.    0.    0.11  0.    0.147 0.153 0.168 0.    0.    0.    0.268 0.204\n",
            "  0.    0.    0.    0.    0.    0.    0.448 0.    0.    0.254 0.    0.075\n",
            "  0.214 0.    0.    0.004 0.043 0.    0.024 0.    0.    0.    0.036 0.\n",
            "  0.    0.219 0.    0.2   0.    0.357 0.169 0.    0.134 0.232 0.016 0.495\n",
            "  0.    0.    0.222 0.   ]\n",
            " [0.    0.    0.    0.024 0.018 0.053 0.087 0.088 0.054 0.    0.102 0.003\n",
            "  0.    0.    0.068 0.    0.    0.145 0.005 0.    0.    0.    0.111 0.075\n",
            "  0.    0.096 0.    0.    0.    0.    0.013 0.    0.    0.064 0.    0.094\n",
            "  0.166 0.    0.    0.    0.    0.    0.    0.    0.014 0.    0.06  0.\n",
            "  0.    0.132 0.    0.171 0.    0.028 0.094 0.    0.    0.    0.    0.068\n",
            "  0.    0.    0.053 0.   ]]\n",
            "train accuracy: 152.833\n",
            "test accuracy: 152.401\n"
          ]
        }
      ]
    },
    {
      "cell_type": "code",
      "source": [
        "import matplotlib.pyplot as plt"
      ],
      "metadata": {
        "id": "o00pn1KxXu8J"
      },
      "execution_count": null,
      "outputs": []
    },
    {
      "cell_type": "markdown",
      "source": [
        "#앙상블"
      ],
      "metadata": {
        "id": "zjEbVUJ2hcsB"
      }
    },
    {
      "cell_type": "code",
      "source": [
        "#분류모형\n",
        "#1.변수선택\n",
        "X=df[['총매출액', '구매금액대','1회 평균매출액','평균 구매주기','거래기간']]\n",
        "Y=df[\"할인민감여부\"]\n",
        "#2. train-test split\n",
        "X_train,X_test, Y_train,Y_test= train_test_split(X,Y,test_size=0.3, random_state=0)\n",
        "\n",
        "#3.데이터 전처리(preprocessing)\n",
        "ct=ColumnTransformer([(\"scaling\",StandardScaler(),['총매출액','1회 평균매출액','평균 구매주기','거래기간']),\n",
        "                    (\"onehot\", OneHotEncoder(sparse=False),['구매금액대'])])\n",
        "\n",
        "ct.fit(X_train)\n",
        "X_train = ct.transform(X_train)\n",
        "X_test= ct.transform(X_test)\n",
        "\n",
        "#4.오버샘플링\n",
        "smote=SMOTE(random_state=0)\n",
        "X_train,Y_train=smote.fit_resample(X_train,Y_train)"
      ],
      "metadata": {
        "id": "JfbHCJDehDtw"
      },
      "execution_count": null,
      "outputs": []
    },
    {
      "cell_type": "code",
      "source": [
        "#5.단일모형 생성\n",
        "from sklearn.ensemble import VotingClassifier\n",
        "from sklearn.tree import DecisionTreeClassifier\n",
        "from sklearn.neighbors import KNeighborsClassifier\n",
        "\n",
        "dtree=DecisionTreeClassifier(random_state=0)\n",
        "knn=KNeighborsClassifier()\n",
        "\n",
        "#6.앙상블 모형 생성\n",
        "model = VotingClassifier(estimators=[(\"K-NN\", knn),(\"Dtree\", dtree)],voting=\"soft\")\n",
        "#soft votiong 성능이 좋음(좋은결과가 나옴)\n",
        "#7.모형학습\n",
        "model.fit(X_train, Y_train)\n",
        "\n",
        "#8.예측 및 모형 성능 평가\n",
        "Y_pred = model.predict(X_test)\n",
        "print(\"Y predict value: \\n\",Y_pred)\n",
        "#8-1보팅모형 정확도\n",
        "print(\"voting classifier accuarcy: {0:.3f}\".format(model.score(X_test,Y_test)))\n",
        "#8-2 개별모형 정확도\n",
        "classifiers=[dtree, knn]\n",
        "for classifier in classifiers :\n",
        "    classifier.fit(X_train, Y_train)\n",
        "    class_name = classifier.__class__.__name__\n",
        "    print(\"{0} accuracy:{1:.3f}\".format(class_name, classifier.score(X_test,Y_test)))"
      ],
      "metadata": {
        "colab": {
          "base_uri": "https://localhost:8080/"
        },
        "id": "pkgWC4ctho05",
        "outputId": "d648961d-23c5-4f67-a79d-8c5e23a9284e"
      },
      "execution_count": null,
      "outputs": [
        {
          "output_type": "stream",
          "name": "stdout",
          "text": [
            "Y predict value: \n",
            " [1 1 0 0 1 1 0 0 1 1 0 0 1 0 1 0 1 0 0 0 0 0 0 0 0 1 0 0 0 0 1 1 1 1 0 1 1\n",
            " 0 1 1 0 1 1 1 0 0 1 0 0 0 1 0 0 0 1 1 0 0 1 1 0 1 1 0 0 0 1 0 0 0 1 0 0 0\n",
            " 1 0 0 0 1 1 0 0 1 1 1 1 0 0 0 0 1 0 0 0 0 1 1 0 0 0 1 1 0 1 0 1 1 0 1 1 1\n",
            " 1 0 0 0 0 0 0 0 0 1 0 0 1 1 1 0 0 1 1 0 0 1 1 1 1 0 1 0 1 0 0 0 0 0 1 0 0\n",
            " 1 1 0 0 0 0 0 1 0 0 0 0 1 1 0 0 1 0 0 1 0 0 0 1 1 1 0 0 0 0 1 0 0 0 0 0 1\n",
            " 0 0 1 1 1 0 1 0 1 1 1 1 0 1 0 0 0 0 1 1 0 1 0 1 1 0 1 0 0 0 1 0 0 0 1 1 1\n",
            " 1 0 0 1 1 0 0 1 1 0 0 0 0 0 0 1 1 0 0 0 0 0 1 0 1 0 1 1 0 1 1 0 0 1 1 0 0\n",
            " 0 1 1 0 0 0 0 0 0 1 0 1 0 0 0 1 1 0 0 1 0 1 1 1 1 0 0 1 0 0 0 1 0 1 1 0 0\n",
            " 1 0 0 0]\n",
            "voting classifier accuarcy: 0.907\n",
            "DecisionTreeClassifier accuracy:0.900\n",
            "KNeighborsClassifier accuracy:0.850\n"
          ]
        }
      ]
    },
    {
      "cell_type": "markdown",
      "source": [
        "##회귀예측"
      ],
      "metadata": {
        "id": "tUV2Zi8ioCm_"
      }
    },
    {
      "cell_type": "code",
      "source": [
        "import numpy as np\n",
        "#1.변수선택\n",
        "X=df[df.이탈여부==0][[\"방문빈도\",\"총 할인 금액\",\"고객등급\",\"구매유형\",\"거래기간\",\"할인민감여부\",\"평균 구매주기\"]]\n",
        "Y=np.log1p(df[df.이탈여부==0][\"1회 평균매출액\"])\n",
        "\n",
        "#2. train-test split\n",
        "X_train,X_test, Y_train,Y_test= train_test_split(X,Y,test_size=0.3, random_state=0)\n",
        "\n",
        "#3.데이터 전처리(preprocessing)\n",
        "ct=ColumnTransformer([(\"scaling\",StandardScaler(),[\"방문빈도\",\"총 할인 금액\",\"거래기간\",\"평균 구매주기\"]),\n",
        "                    (\"onehot\", OneHotEncoder(sparse=False),[\"고객등급\",\"구매유형\",\"할인민감여부\"])])\n",
        "\n",
        "ct.fit(X_train)\n",
        "X_train = ct.transform(X_train)\n",
        "X_test= ct.transform(X_test)\n",
        "\n"
      ],
      "metadata": {
        "id": "kWZai7tpkBWh"
      },
      "execution_count": null,
      "outputs": []
    },
    {
      "cell_type": "code",
      "source": [
        "#4. 단일 모형 생성\n",
        "from sklearn.ensemble import VotingRegressor\n",
        "from sklearn.neural_network import MLPRegressor\n",
        "from sklearn.svm import SVR\n",
        "\n",
        "svr=SVR()\n",
        "mlp=MLPRegressor(random_state=0)\n",
        "\n",
        "#5.voting model 생성\n",
        "model=VotingRegressor(estimators=[(\"SVR\", svr),(\"MLP\", mlp)])\n",
        "\n",
        "#6.모형 학습\n",
        "model.fit(X_train, Y_train)\n",
        "\n",
        "#7.예측 및 평가\n",
        "Y_pred = model.predict(X_test)\n",
        "print(\"Y predict value: \\n\",Y_pred)\n",
        "#8-1. 예측 보팅모형 정확도\n",
        "print(\"voting regressor accuarcy(R2): {0:.3f}\".format(model.score(X_test,Y_test)))\n",
        "#8-2 개별모형 정확도\n",
        "Regressors=[svr,mlp]\n",
        "for Regressor in Regressors :\n",
        "    Regressor.fit(X_train, Y_train)\n",
        "    class_name = Regressor.__class__.__name__\n",
        "    print(\"{0} accuracy:{1:.3f}\".format(class_name, Regressor.score(X_test,Y_test)))"
      ],
      "metadata": {
        "colab": {
          "base_uri": "https://localhost:8080/"
        },
        "id": "3mj-9jfUoP1e",
        "outputId": "0c6015be-313b-4004-a08e-d7e2700b7096"
      },
      "execution_count": null,
      "outputs": [
        {
          "output_type": "stream",
          "name": "stdout",
          "text": [
            "Y predict value: \n",
            " [12.72637282 12.15785517 12.09686124 13.26831502 11.60231958 12.47233857\n",
            " 11.00403584 12.11236139 11.92418038 12.36295705 12.33471768 11.93634366\n",
            " 12.10248328 12.17485959 12.54047237 12.21174042 12.79796392 12.85868158\n",
            " 12.14723369 12.51820132 12.73655925 11.51053651 12.16572772 12.61967869\n",
            " 10.97450508 13.11252037 12.5792913  12.13627155 12.04792775 11.98604929\n",
            " 12.79524713 12.95793432 12.51574594 13.14826771 12.21608558 11.91077705\n",
            " 11.84798695 12.99567742 11.95362493 13.66455063 12.85068225 12.1427706\n",
            " 12.49680643 12.12413092 12.41795186 12.43119996 11.29956398 12.14660018\n",
            " 12.69704459 12.43998557 12.01109351 13.29011823 11.1046136  12.92296162\n",
            " 12.8522466  12.08692287 12.46809297 12.34155171 12.26251834 12.06954504\n",
            " 12.87142564 12.96736873 11.66603809 12.35227513 12.06159606 12.155967\n",
            " 12.10647664 11.48482286 12.69218789 11.79509489 12.20279207 11.67227129\n",
            " 11.93748831 11.75242257 12.08799173 12.79011812 12.43771399 12.93671652\n",
            " 12.21409548 12.39436336 12.71746922 11.95532413 11.82312984 12.16287274\n",
            " 12.28686047 12.69164266 12.44251859 12.77121709 11.83604445 12.83491032\n",
            " 12.14491251 13.21743021 12.50243799 13.06892645 11.92415719 13.03858984\n",
            " 12.88053564 12.160099   12.91472933 11.63221781 11.94370304 12.44004892\n",
            " 12.87464916 11.8729167  12.3654078  12.55856624 12.84071252 11.71225848\n",
            " 12.26380165 12.45982361 12.02043293 11.9421507  12.73253879 13.02635162\n",
            " 12.04973161 12.33438799 12.41827333 12.86241083 12.40875392 12.5968783\n",
            " 12.81779588 12.8274637  12.19010157 12.59904112 12.84774747 12.18532332\n",
            " 12.22778031 11.8054232  13.12475682 11.95865789 11.81489928 11.55897355\n",
            " 13.07522943 12.28451019 11.8789114  12.15561689 11.51884822 12.18398225\n",
            " 12.69227703 11.85075753 12.26168017 12.16159193 12.65547847 11.98416886\n",
            " 12.1825295  12.53395352 12.63117748 12.89234566 12.03663241 12.06490339\n",
            " 12.17004133 12.65506435 12.64528232 12.859696   13.98345371 11.56676754\n",
            " 12.14814582 12.76169623 12.08281248 12.78057339 12.92206256 12.64509877\n",
            " 12.47824953 11.8252805  12.39300142 12.55519649 12.769953   11.36679481\n",
            " 12.96480349 12.50216886 11.50980876 11.95884547 11.44958371 13.16010026\n",
            " 12.05559067 12.71797611 13.99850887 11.871165   12.31221069 11.61007956\n",
            " 13.80229617 14.53772869 12.52183126 12.69249083 12.21280298 11.72885039\n",
            " 12.22192476 12.20813083 11.39735772 12.84417613 12.23391116 12.77976915\n",
            " 13.54789146 11.70010427 12.13965267 12.01776146 12.34314015 12.29642101\n",
            " 12.7601278  11.25118371 13.264752   11.77360757 12.25216632 11.80519914\n",
            " 12.70641052 11.83457641 12.32938499 12.20461754 12.97324333 12.52229619]\n",
            "voting regressor accuarcy(R2): 0.538\n",
            "SVR accuracy:0.608\n",
            "MLPRegressor accuracy:0.225\n"
          ]
        }
      ]
    },
    {
      "cell_type": "markdown",
      "source": [
        "#RandomForest"
      ],
      "metadata": {
        "id": "cX2tIu9c2AW5"
      }
    },
    {
      "cell_type": "markdown",
      "source": [
        "###분류모델"
      ],
      "metadata": {
        "id": "2_rsLuHI2JeU"
      }
    },
    {
      "cell_type": "code",
      "source": [
        "#1.변수선택\n",
        "X=df[['총매출액', '구매금액대','1회 평균매출액','평균 구매주기','거래기간']]\n",
        "Y=df[\"할인민감여부\"]\n",
        "#2. train-test split\n",
        "X_train,X_test, Y_train,Y_test= train_test_split(X,Y,test_size=0.3, random_state=0)\n",
        "\n",
        "#3.데이터 전처리(preprocessing)\n",
        "ct=ColumnTransformer([(\"scaling\",StandardScaler(),['총매출액','1회 평균매출액','평균 구매주기','거래기간']),\n",
        "                    (\"onehot\", OneHotEncoder(sparse=False),['구매금액대'])])\n",
        "\n",
        "ct.fit(X_train)\n",
        "ct.transform(X_train)\n",
        "X_train = ct.transform(X_train)\n",
        "X_test= ct.transform(X_test)\n",
        "\n",
        "#4.오버샘플링\n",
        "smote=SMOTE(random_state=0)\n",
        "X_train,Y_train=smote.fit_resample(X_train,Y_train)"
      ],
      "metadata": {
        "id": "ViOkvKbgoRvO"
      },
      "execution_count": null,
      "outputs": []
    },
    {
      "cell_type": "code",
      "source": [
        "#5.모형 생성\n",
        "from sklearn.ensemble import RandomForestClassifier\n",
        "model = RandomForestClassifier(random_state=0, n_estimators=300, max_depth=3)\n",
        "model.fit(X_train, Y_train)\n",
        "Y_pred = model.predict(X_test)\n",
        "print(\"Y_pred value: \\n\", Y_pred)\n",
        "print(\"accuracy(test):{:.3f}\".format(model.score(X_test,Y_test)))\n",
        "print(classification_report(Y_test,Y_pred))"
      ],
      "metadata": {
        "id": "pcfkXKeS2j8X",
        "colab": {
          "base_uri": "https://localhost:8080/"
        },
        "outputId": "97592d8b-4d43-4863-8191-169ef7a7f95f"
      },
      "execution_count": null,
      "outputs": [
        {
          "output_type": "stream",
          "name": "stdout",
          "text": [
            "Y_pred value: \n",
            " [1 1 0 0 1 1 0 0 0 1 0 0 1 0 1 0 1 0 0 0 0 0 0 0 0 1 0 0 0 0 1 1 1 1 0 1 1\n",
            " 0 1 0 0 1 1 1 0 0 1 0 0 0 1 0 0 0 1 1 0 0 1 1 0 1 1 0 0 0 1 0 0 0 1 0 0 0\n",
            " 1 0 0 0 0 1 0 0 0 1 1 1 0 0 0 0 1 0 0 0 0 1 1 0 0 0 1 1 0 1 0 1 1 0 1 1 0\n",
            " 1 0 0 0 0 0 0 0 0 1 0 0 1 0 1 0 0 1 1 0 0 1 1 1 1 0 1 0 1 0 0 0 0 0 1 0 0\n",
            " 1 1 0 0 0 0 0 1 0 0 0 0 1 1 0 0 1 0 0 1 0 0 0 1 0 1 0 0 0 0 1 0 0 0 0 0 1\n",
            " 0 0 1 1 1 0 1 0 1 1 1 1 0 1 0 0 0 0 1 1 0 1 0 0 1 0 0 0 0 0 1 0 0 0 1 1 1\n",
            " 1 0 0 1 1 0 0 1 0 0 0 0 0 0 0 0 0 0 0 0 0 0 1 0 1 0 1 1 0 1 0 0 0 1 1 0 0\n",
            " 0 1 1 0 0 0 0 0 0 1 0 1 0 0 0 1 1 0 0 0 0 1 1 0 1 0 0 1 0 0 0 1 0 1 1 0 0\n",
            " 0 0 0 0]\n",
            "accuracy(test):0.947\n",
            "              precision    recall  f1-score   support\n",
            "\n",
            "           0       0.92      0.99      0.96       177\n",
            "           1       0.99      0.88      0.93       123\n",
            "\n",
            "    accuracy                           0.95       300\n",
            "   macro avg       0.96      0.94      0.94       300\n",
            "weighted avg       0.95      0.95      0.95       300\n",
            "\n"
          ]
        }
      ]
    },
    {
      "cell_type": "markdown",
      "source": [
        "##회귀예측"
      ],
      "metadata": {
        "id": "33_KUnOK6Iq5"
      }
    },
    {
      "cell_type": "code",
      "source": [
        "import numpy as np\n",
        "#1.변수선택\n",
        "X=df[df.이탈여부==0][[\"방문빈도\",\"총 할인 금액\",\"고객등급\",\"구매유형\",\"거래기간\",\"할인민감여부\",\"평균 구매주기\"]]\n",
        "Y=np.log1p(df[df.이탈여부==0][\"1회 평균매출액\"])\n",
        "\n",
        "#2. train-test split\n",
        "X_train,X_test, Y_train,Y_test= train_test_split(X,Y,test_size=0.3, random_state=0)\n",
        "\n",
        "#3.데이터 전처리(preprocessing)\n",
        "ct=ColumnTransformer([(\"scaling\",StandardScaler(),[\"방문빈도\",\"총 할인 금액\",\"거래기간\",\"평균 구매주기\"]),\n",
        "                    (\"onehot\", OneHotEncoder(sparse=False),[\"고객등급\",\"구매유형\",\"할인민감여부\"])])\n",
        "\n",
        "ct.fit(X_train)\n",
        "X_train = ct.transform(X_train)\n",
        "X_test= ct.transform(X_test)"
      ],
      "metadata": {
        "id": "QWczWW-r3RcX"
      },
      "execution_count": null,
      "outputs": []
    },
    {
      "cell_type": "code",
      "source": [
        "#4. 모형 생성\n",
        "from sklearn.ensemble import RandomForestRegressor\n",
        "model=RandomForestRegressor(random_state = 0, n_estimators=100, max_depth=4)\n",
        "\n",
        "#5. 모형 예측 평가\n",
        "model.fit(X_train, Y_train)\n",
        "Y_pred=model.predict(X_test)\n",
        "print(\"Y predict value:\\n\",Y_pred)\n",
        "print(\"accuracy(R2): {:.3f}\".format(model.score(X_train,Y_train)))\n",
        "rmse=sqrt(mean_squared_error(Y_test,Y_pred))\n",
        "print(\"RMSE:\", rmse)"
      ],
      "metadata": {
        "colab": {
          "base_uri": "https://localhost:8080/"
        },
        "id": "9b8oxG5e6UdI",
        "outputId": "b7491bda-40d6-4c62-9283-71c3eb3811e8"
      },
      "execution_count": null,
      "outputs": [
        {
          "output_type": "stream",
          "name": "stdout",
          "text": [
            "Y predict value:\n",
            " [12.68641835 12.12514749 12.04819279 13.04580899 11.50906768 12.45183582\n",
            " 11.28296585 12.28747852 11.86494273 12.35358139 12.3872265  12.00638164\n",
            " 12.3207311  12.16711163 12.72553    12.43847827 12.70631401 12.74484282\n",
            " 11.93548044 12.48363036 12.70833215 11.50205816 12.3872265  12.61313248\n",
            " 11.14155529 12.85315034 12.69646319 12.2799654  12.29330952 12.07066037\n",
            " 12.7318708  13.03072124 12.44587063 12.83922589 11.99165355 11.93548044\n",
            " 12.07982016 12.87533113 11.92291372 13.17748045 12.77463562 12.29742037\n",
            " 12.44945001 12.27423314 12.44938301 12.68738612 11.48744293 12.09294686\n",
            " 12.70377324 12.45477652 11.86470087 13.59076876 11.23433862 12.13775744\n",
            " 12.70918345 12.34530688 12.67303461 12.40944139 12.28433595 12.36128948\n",
            " 12.7008786  12.57507179 12.11883138 12.44859275 12.29201016 11.82194505\n",
            " 11.91682041 11.55244151 13.0432612  12.01568152 12.38104273 11.77753274\n",
            " 11.91986181 11.77914657 12.32409993 13.20140162 12.67190941 12.99665869\n",
            " 12.1142171  12.38934131 12.44830013 11.85130823 11.63845966 12.33872321\n",
            " 12.41834094 12.57562684 12.61389742 12.58307333 11.98606666 12.7886006\n",
            " 12.44566667 12.83665563 12.52416462 12.69435424 11.85208542 13.20045678\n",
            " 12.68795836 12.34363598 12.83841044 11.86530694 12.13015281 12.47789415\n",
            " 12.79648274 11.58776112 12.34530688 12.70377324 12.7097129  11.80903595\n",
            " 12.12525283 12.39158405 11.93548044 11.91159991 12.77463562 13.27749607\n",
            " 11.90835048 12.42838125 12.4305021  12.70624967 12.42756799 12.60222681\n",
            " 12.7850141  12.74315455 12.29201016 12.44690659 12.72900137 12.33987241\n",
            " 12.29201016 11.74004955 12.66120426 11.88234549 12.22518022 11.74656619\n",
            " 13.02276793 12.48023447 11.57260802 12.19860152 12.02914855 12.12514749\n",
            " 12.52801336 11.86793119 12.37613994 11.98621908 12.60851449 11.84205569\n",
            " 12.4060907  12.65887349 12.70377324 12.86955945 12.21481438 11.93548044\n",
            " 12.39298755 12.53980087 12.52820949 12.83841044 13.44146005 11.50551893\n",
            " 11.81406502 12.74141873 12.1725461  12.63026111 12.85363402 12.71936027\n",
            " 12.70647021 12.1650898  12.42838125 12.31549503 12.72481107 11.13958157\n",
            " 12.80091372 12.42756799 11.21161901 11.91682041 11.54392968 13.4351773\n",
            " 12.29568184 12.58070977 13.67490384 12.12989976 12.26369028 12.02914855\n",
            " 13.51434894 13.30409298 12.69254338 12.73037531 12.11962384 11.82067314\n",
            " 12.34530688 12.37070547 11.11113674 12.74282441 12.37070547 12.70631401\n",
            " 13.33101271 12.2427362  11.93548044 11.89984166 12.48023447 12.2562059\n",
            " 12.96477971 11.25663245 13.06663845 12.26264044 12.1425065  11.55146603\n",
            " 12.68254816 12.13891591 12.34626734 12.4740507  12.75025303 12.48363036]\n",
            "accuracy(R2): 0.685\n",
            "RMSE: 0.4403006561339874\n"
          ]
        }
      ]
    },
    {
      "cell_type": "markdown",
      "source": [
        "#그래디언트 부스트(Gradient Boost)"
      ],
      "metadata": {
        "id": "xs3an3XtAp6K"
      }
    },
    {
      "cell_type": "markdown",
      "source": [
        "#분류예측"
      ],
      "metadata": {
        "id": "_J6IHNaWAvyk"
      }
    },
    {
      "cell_type": "code",
      "source": [
        "#1.변수선택\n",
        "X=df[['총매출액', '구매금액대','1회 평균매출액','평균 구매주기','거래기간']]\n",
        "Y=df[\"할인민감여부\"]\n",
        "#2. train-test split\n",
        "X_train,X_test, Y_train,Y_test= train_test_split(X,Y,test_size=0.3, random_state=0)\n",
        "\n",
        "#3.데이터 전처리(preprocessing)\n",
        "ct=ColumnTransformer([(\"scaling\",StandardScaler(),['총매출액','1회 평균매출액','평균 구매주기','거래기간']),\n",
        "                    (\"onehot\", OneHotEncoder(sparse=False),['구매금액대'])])\n",
        "\n",
        "ct.fit(X_train)\n",
        "ct.transform(X_train)\n",
        "X_train = ct.transform(X_train)\n",
        "X_test= ct.transform(X_test)\n",
        "\n",
        "#4.오버샘플링\n",
        "smote=SMOTE(random_state=0)\n",
        "X_train,Y_train=smote.fit_resample(X_train,Y_train)"
      ],
      "metadata": {
        "id": "95xz81KQ8rgK"
      },
      "execution_count": null,
      "outputs": []
    },
    {
      "cell_type": "code",
      "source": [
        "#5. 모형 생성\n",
        "from sklearn.ensemble import GradientBoostingClassifier\n",
        "model=GradientBoostingClassifier(random_state=0, n_estimators=100, max_depth=4,\n",
        "                                 learning_rate=0.1)\n",
        "\n",
        "#6.모형 학습 예측\n",
        "model.fit(X_train,Y_train)\n",
        "Y_pred=model.predict(X_test)\n",
        "print(\"Y_pred value: \\n\", Y_pred)\n",
        "print(\"accuracy(test):{:.3f}\".format(model.score(X_test,Y_test)))\n",
        "print(classification_report(Y_test,Y_pred))"
      ],
      "metadata": {
        "colab": {
          "base_uri": "https://localhost:8080/"
        },
        "id": "r9hJlN_SA4VY",
        "outputId": "3abd2874-8fa8-4c2f-88d2-45b560a7535e"
      },
      "execution_count": null,
      "outputs": [
        {
          "output_type": "stream",
          "name": "stdout",
          "text": [
            "Y_pred value: \n",
            " [1 1 0 0 1 1 0 0 0 1 0 0 1 0 1 0 1 0 0 0 0 0 0 0 0 1 0 0 0 0 1 1 1 1 0 1 1\n",
            " 0 1 0 0 1 1 1 0 0 1 0 0 0 1 0 0 0 1 1 0 0 1 1 0 1 1 0 0 0 1 0 0 0 1 0 0 0\n",
            " 1 0 0 0 0 1 0 0 0 1 1 1 0 0 0 0 1 0 0 0 0 1 1 0 0 0 1 1 0 1 0 1 1 0 1 1 0\n",
            " 1 0 0 0 0 0 0 0 0 1 0 0 1 0 1 0 0 1 1 0 0 1 1 1 1 0 1 0 1 0 0 0 0 0 1 0 0\n",
            " 1 1 0 1 0 0 0 1 0 0 0 0 1 1 0 0 1 0 0 1 0 0 0 1 1 1 0 0 0 0 1 0 0 0 0 0 1\n",
            " 0 0 1 1 1 0 1 0 1 1 1 1 0 1 0 0 0 0 1 1 0 1 0 0 1 0 0 1 0 0 1 0 0 0 1 1 1\n",
            " 1 0 0 1 1 0 0 1 0 0 0 0 0 0 0 0 0 0 0 0 0 0 1 0 1 0 1 1 0 1 0 0 0 1 1 0 1\n",
            " 1 1 1 0 0 0 0 0 0 1 0 1 0 0 0 1 1 0 0 0 0 1 1 0 1 0 0 1 0 0 0 1 1 1 1 0 0\n",
            " 0 0 0 0]\n",
            "accuracy(test):0.933\n",
            "              precision    recall  f1-score   support\n",
            "\n",
            "           0       0.92      0.97      0.94       177\n",
            "           1       0.95      0.89      0.92       123\n",
            "\n",
            "    accuracy                           0.93       300\n",
            "   macro avg       0.94      0.93      0.93       300\n",
            "weighted avg       0.93      0.93      0.93       300\n",
            "\n"
          ]
        }
      ]
    },
    {
      "cell_type": "markdown",
      "source": [
        "#회귀예측\n"
      ],
      "metadata": {
        "id": "RDItcA9GCkpT"
      }
    },
    {
      "cell_type": "code",
      "source": [
        "\n",
        "#1.변수선택\n",
        "X=df[df.이탈여부==0][[\"방문빈도\",\"총 할인 금액\",\"고객등급\",\"구매유형\",\"거래기간\",\"할인민감여부\",\"평균 구매주기\"]]\n",
        "Y=np.log1p(df[df.이탈여부==0][\"1회 평균매출액\"])\n",
        "\n",
        "#2. train-test split\n",
        "X_train,X_test, Y_train,Y_test= train_test_split(X,Y,test_size=0.3, random_state=0)\n",
        "\n",
        "#3.데이터 전처리(preprocessing)\n",
        "ct=ColumnTransformer([(\"scaling\",StandardScaler(),[\"방문빈도\",\"총 할인 금액\",\"거래기간\",\"평균 구매주기\"]),\n",
        "                    (\"onehot\", OneHotEncoder(sparse=False),[\"고객등급\",\"구매유형\",\"할인민감여부\"])])\n",
        "\n",
        "ct.fit(X_train)\n",
        "X_train = ct.transform(X_train)\n",
        "X_test= ct.transform(X_test)"
      ],
      "metadata": {
        "id": "QiCmtkNQBZZb"
      },
      "execution_count": null,
      "outputs": []
    },
    {
      "cell_type": "code",
      "source": [
        "#4. 모형생성\n",
        "from sklearn.ensemble import GradientBoostingRegressor\n",
        "model=GradientBoostingRegressor(random_state=0, n_estimators=100, max_depth=4,\n",
        "                                 learning_rate=0.1)\n",
        "\n",
        "#5. 모형 예측 평가\n",
        "model.fit(X_train, Y_train)\n",
        "Y_pred=model.predict(X_test)\n",
        "print(\"Y predict value:\\n\",Y_pred)\n",
        "print(\"accuracy(R2): {:.3f}\".format(model.score(X_train,Y_train)))\n",
        "rmse=sqrt(mean_squared_error(Y_test,Y_pred))\n",
        "print(\"RMSE:\", rmse)"
      ],
      "metadata": {
        "colab": {
          "base_uri": "https://localhost:8080/"
        },
        "id": "qXLDrmDcCs4A",
        "outputId": "c0413e33-943d-4869-d187-9c5c10de0a0c"
      },
      "execution_count": null,
      "outputs": [
        {
          "output_type": "stream",
          "name": "stdout",
          "text": [
            "Y predict value:\n",
            " [12.62344813 12.25583406 12.09458751 13.07090617 11.40422303 12.45220348\n",
            " 11.61198904 12.45651119 12.08328814 12.32640447 12.39533751 12.23594472\n",
            " 12.13577357 12.24057416 12.73503493 12.29364736 12.84361351 12.99742565\n",
            " 11.76512764 12.45752565 12.63483127 11.38579233 12.41560355 12.50712961\n",
            " 10.79435548 12.62928969 12.60613938 11.92964399 12.34916462 12.07520652\n",
            " 12.57121312 13.01697524 12.39965923 13.03165827 12.11711146 12.09888134\n",
            " 12.18727902 12.94489209 11.93717047 13.18376863 12.76957258 12.21597158\n",
            " 12.54049819 12.10678757 12.64544285 12.59000213 11.18198188 12.13358256\n",
            " 12.5668075  12.42634623 11.81913361 13.52008205 11.10458182 12.09979475\n",
            " 13.07232151 12.20069308 12.66489797 12.28476526 11.98447614 12.31654311\n",
            " 12.79736561 12.76535462 11.92863698 12.44145179 12.12157567 12.10310068\n",
            " 11.87519738 11.62364672 12.99672955 12.27936785 12.36258046 11.70831635\n",
            " 11.91861812 11.96233767 12.15305515 13.12437922 12.65319979 12.93053239\n",
            " 12.03260309 12.25751434 12.0000299  11.89763423 11.5329378  12.93737778\n",
            " 12.40440044 12.64050116 12.73633832 12.62223461 11.7388871  12.5605956\n",
            " 12.46170754 13.27233418 12.49065444 12.99839492 11.98770272 13.31580316\n",
            " 13.01839043 12.06375631 12.80479374 11.98398262 11.65401981 12.2787555\n",
            " 12.73424086 11.43216014 12.24460123 12.8969792  12.85568613 11.95915872\n",
            " 12.04694305 12.60039447 12.01332333 11.79424302 12.69414998 13.32348351\n",
            " 11.70900777 12.09118735 12.18245925 12.88276381 12.17369179 12.50951424\n",
            " 12.72249627 12.60660354 12.17592955 12.74111678 12.65434081 12.24543644\n",
            " 12.44711341 11.5965925  12.66089249 11.8160437  12.76149045 11.7436314\n",
            " 13.03109978 12.47939971 11.51054282 12.14448715 11.47094125 12.11272934\n",
            " 12.91853515 11.72347747 12.41600997 12.02868338 12.60354515 11.74879952\n",
            " 12.5937395  12.63427503 12.89215104 12.73329149 12.58830131 11.85372773\n",
            " 12.44993728 12.89737544 12.4613579  12.89249471 13.5522812  11.48000074\n",
            " 11.50736548 12.67931101 12.15982715 12.60083252 13.03940439 12.73213993\n",
            " 12.75970949 11.94740293 12.66238056 12.38212172 12.7089022  11.21000233\n",
            " 12.72847666 12.15336244 11.21970406 11.8446597  11.87301358 13.47804771\n",
            " 12.35228515 12.60249735 13.83729506 11.86136594 12.63613548 11.25707904\n",
            " 13.54480221 13.48288458 12.66406609 12.72222242 12.05683865 11.94755448\n",
            " 12.37945452 12.37595316 10.65869553 13.10374396 12.37640418 12.58991922\n",
            " 13.19704136 12.59201926 11.85361937 12.02339775 12.40938986 11.80883328\n",
            " 13.01162095 11.53925824 13.19678706 12.58870571 12.0776148  11.41688057\n",
            " 12.70617545 11.84467509 12.43060262 12.42450198 12.92575457 12.54130517]\n",
            "accuracy(R2): 0.916\n",
            "RMSE: 0.41380793566137386\n"
          ]
        }
      ]
    },
    {
      "cell_type": "code",
      "source": [
        "!pip install konlpy"
      ],
      "metadata": {
        "id": "VNz8SNQQC35l",
        "colab": {
          "base_uri": "https://localhost:8080/"
        },
        "outputId": "c10c1b88-46a6-47e1-c6e9-a4e14dbd89b7"
      },
      "execution_count": null,
      "outputs": [
        {
          "output_type": "stream",
          "name": "stdout",
          "text": [
            "Looking in indexes: https://pypi.org/simple, https://us-python.pkg.dev/colab-wheels/public/simple/\n",
            "Collecting konlpy\n",
            "  Downloading konlpy-0.6.0-py2.py3-none-any.whl (19.4 MB)\n",
            "\u001b[2K     \u001b[90m━━━━━━━━━━━━━━━━━━━━━━━━━━━━━━━━━━━━━━━━\u001b[0m \u001b[32m19.4/19.4 MB\u001b[0m \u001b[31m51.5 MB/s\u001b[0m eta \u001b[36m0:00:00\u001b[0m\n",
            "\u001b[?25hRequirement already satisfied: lxml>=4.1.0 in /usr/local/lib/python3.8/dist-packages (from konlpy) (4.9.2)\n",
            "Collecting JPype1>=0.7.0\n",
            "  Downloading JPype1-1.4.1-cp38-cp38-manylinux_2_12_x86_64.manylinux2010_x86_64.whl (465 kB)\n",
            "\u001b[2K     \u001b[90m━━━━━━━━━━━━━━━━━━━━━━━━━━━━━━━━━━━━━━\u001b[0m \u001b[32m465.6/465.6 KB\u001b[0m \u001b[31m27.4 MB/s\u001b[0m eta \u001b[36m0:00:00\u001b[0m\n",
            "\u001b[?25hRequirement already satisfied: numpy>=1.6 in /usr/local/lib/python3.8/dist-packages (from konlpy) (1.21.6)\n",
            "Requirement already satisfied: packaging in /usr/local/lib/python3.8/dist-packages (from JPype1>=0.7.0->konlpy) (21.3)\n",
            "Requirement already satisfied: pyparsing!=3.0.5,>=2.0.2 in /usr/local/lib/python3.8/dist-packages (from packaging->JPype1>=0.7.0->konlpy) (3.0.9)\n",
            "Installing collected packages: JPype1, konlpy\n",
            "Successfully installed JPype1-1.4.1 konlpy-0.6.0\n"
          ]
        }
      ]
    },
    {
      "cell_type": "code",
      "source": [
        "article_txt= open(\"/content/drive/MyDrive/article.txt\",\"rt\",encoding=\"UTF-8\").read()"
      ],
      "metadata": {
        "id": "2Mom-4N3Uw4R"
      },
      "execution_count": null,
      "outputs": []
    },
    {
      "cell_type": "code",
      "source": [
        "article_txt"
      ],
      "metadata": {
        "colab": {
          "base_uri": "https://localhost:8080/",
          "height": 289
        },
        "id": "9000RaDVWQ6W",
        "outputId": "a340611a-1c8d-4a73-a5cf-820ce58a032f"
      },
      "execution_count": null,
      "outputs": [
        {
          "output_type": "execute_result",
          "data": {
            "text/plain": [
              "'산업부 13일 산업 AI 내재화 전략 심의 후 확정\\nAI 활용 기업 비중 2030년까지 30%까지 늘릴 계획\\n삼성전자 등 글로벌 반도체 기업도 AI 투자 전망도\\n정부가 국내 AI(인공지능) 활용 기업 비중을 2030년까지 30%로 늘린다. 글로벌 경쟁력을 갖춘 AI 기술 공급 기업도 100개 이상 육성한다.\\n\\n\\n국제신문DB\\n산업통상자원부는 13일 서울 중구 대한상공회의소에서 이창양 산업부 장관과 민관 전문가가 참석한 가운데 제1차 산업 디지털 전환 위원회를 열고 이 같은 내용의 ‘산업 AI 내재화 전략’을 심의·확정했다고 밝혔다.\\n\\n우선 올해 5개 프로젝트에 각각 10억 원의 자금을 지원하고 내년 신규 예산을 확보해 AI 활용 기업을 2030년까지 30%로 확대할 계획이다. 기업의 AI 활용 기반 구축도 한다. 정부는 디지털 전환(DX) 투자와 성과 창출이 가능한 기업 500개사에 데이터 처리 플랫폼과 사물인터넷(IoT) 시스템과 같은 AI 활용 기반 마련을 지원할 방침이다.\\n\\n중견·중소기업의 AI 투자 자금 지원을 위해 2020년부터 2024년까지 총 4000억 원(매년 800억 원) 규모의 산업 DX펀드를 조성하는 사업도 계속 진행한다. 산업 AI 융합인력 양성을 위해 AI 비전공 대학생 구직자 재직자를 대상으로 하는 단기 압축 교육과정을 개설해 올해 100명, 내년 400명의 인재도 배출한다.\\n\\n산업부에 따르면 국내 제조업계의 데이터와 AI 활용률은 각각 8.4%와 1.6%에 불과한 것으로 나타났다. 주력 산업은 여전히 디지털 전환이 더디게 진행되고 있다. 디지털 기술 투자는 클라우드에 절반가량이 집중돼 있고 AI 투자 비중은 1.7%에 불과하다. 이에 디지털 전환이 필요한 기업의 핵심 설비와 공정에 AI 솔루션을 적용하는 프로젝트를 추진해 산업 전반에 AI를 내재화한다는 이번 전략을 세웠다. 정부는 이날 첫 회의를 연 민관 합동 산업 디지털 전환 위원회를 디지털 전환 정책의 콘트롤타워로 지속해서 운영할 방침이다.\\n\\n삼성전자 인텔 퀄컴 등 세계 반도체 기업도 AI 기반 반도체 설계에 3000억 원 넘게 투자할 것이란 컨설팅 업체 전망이 나오기도 했다. 한국 딜로이트 그룹은 ‘차세대 반도체, 인류에 새로운 세상 열어준다’라는 보고서에서 글로벌 반도체 기업이 올해 반도체 설계 AI를 개발하거나 활용하는데 3억 달러(3708억 원) 이상 투자할 것으로 내다봤다.\\n\\n800조 원이 넘는 전체 반도체 시장 규모에 비교했을 땐 작은 수치지만 투자 수익이 크다는 게 컨설팅 업체의 전망이다. 이는 AI 기반 설계로 더 높은 직접도를 가진 반도체를 생산하면서도 생산에 드는 시간과 비용을 절감할 수 있기 때문이라고 분석했다. 미국 매사추세츠공대(MIT)가 개발한 AI 설계 도구는 엔지니어가 설계한 회로보다 에너지 효율을 2배 이상 개선했다. 대만 반도체 설계 전문 업체 미디어텍도 AI로 핵심 프로세서 부품 크기를 5％, 소비전력을 6％ 감축하기도 했다.'"
            ],
            "application/vnd.google.colaboratory.intrinsic+json": {
              "type": "string"
            }
          },
          "metadata": {},
          "execution_count": 54
        }
      ]
    },
    {
      "cell_type": "code",
      "source": [
        "from konlpy.tag import Okt\n",
        "from collections import Counter\n"
      ],
      "metadata": {
        "id": "It3mVbpCWS5P"
      },
      "execution_count": null,
      "outputs": []
    },
    {
      "cell_type": "code",
      "source": [
        "okt=Okt()\n",
        "line = []\n",
        "\n",
        "line = okt.pos(article_txt) #pos 품사를 붙여주는 함수\n",
        "n_adj=[]\n",
        "for word, tag in line:\n",
        "   if tag in [\"Noun\",\"Adjective\"]: #명사랑 형용사만 뽑는다\n",
        "      n_adj.append(word)\n",
        "print(n_adj)\n"
      ],
      "metadata": {
        "colab": {
          "base_uri": "https://localhost:8080/"
        },
        "id": "S-stWipXXWDA",
        "outputId": "6049fcf9-b6da-4972-bfd1-4334895861c2"
      },
      "execution_count": null,
      "outputs": [
        {
          "output_type": "stream",
          "name": "stdout",
          "text": [
            "['산업부', '산업', '재화', '전략', '심의', '후', '확정', '활용', '기업', '비중', '계획', '삼성', '전자', '등', '글로벌', '반도체', '기업', '투자', '전망', '정부', '국내', '인공', '지능', '활용', '기업', '비중', '로', '글로벌', '경쟁력', '기술', '공급', '기업', '개', '이상', '육성', '국제', '신문', '산업', '통상', '자원부', '서울', '중구', '상공회의소', '이창', '산업부', '장관', '민관', '전문가', '참석', '가운데', '제', '차', '산업', '디지털', '전환', '위원회', '이', '같은', '내용', '산업', '재화', '전략', '심의', '확정', '우선', '올해', '개', '프로젝트', '각각', '원', '자금', '지원', '내년', '신규', '예산', '확보', '활용', '기업', '로', '확대', '계획', '기업', '활용', '기반', '구축', '정부', '디지털', '전환', '투자', '성과', '창', '가능한', '기업', '개사', '데이터', '처리', '플랫폼', '사물인터넷', '시스템', '같은', '활용', '기반', '마련', '지원', '방침', '중견', '중소기업', '투자', '자금', '지원', '위해', '총', '원', '매년', '원', '규모', '산업', '펀드', '조성하', '사업', '계속', '진행', '산업', '융합', '인력', '양성', '위해', '비', '전공', '대학생', '구직', '재직', '대상', '단기', '압축', '교육과정', '개설', '올해', '명', '내년', '명의', '인재', '배출', '산업부', '국내', '제조업', '데이터', '활용', '률', '각각', '불과한', '것', '주력', '산업', '여전히', '디지털', '전환', '진행', '있다', '디지털', '기술', '투자', '클라우드', '절반', '가량', '집중', '있고', '투자', '비중', '불과하다', '이', '디지털', '전환', '필요한', '기업', '핵심', '설비', '공정', '솔루션', '적용', '프로젝트', '추진', '산업', '전반', '를', '재화', '이번', '전략', '정부', '날', '첫', '회의', '연', '민관', '합동', '산업', '디지털', '전환', '위원회', '디지털', '전환', '정책', '콘', '트롤', '타워', '지속', '운영', '방침', '삼성', '전자', '인텔', '퀄컴', '등', '세계', '반도체', '기업', '기반', '반도체', '설계', '원', '투자', '것', '컨설팅', '업체', '전망', '한국', '딜로이트', '그룹', '차세대', '반도체', '인류', '새로운', '세상', '보고서', '글로벌', '반도체', '기업', '올해', '반도체', '설계', '를', '개발', '거나', '활용', '달러', '원', '이상', '투자', '것', '원', '전체', '반도체', '시장', '규모', '비교', '땐', '작은', '수치', '투자', '수익', '게', '컨설팅', '업체', '전망', '기반', '설계', '더', '높은', '직접', '반도체', '생산', '생산', '시간', '비용', '절감', '수', '있기', '때문', '분석', '미국', '매사추세츠공대', '개발', '설계', '도구', '엔지니어', '설계', '회로', '에너지', '효율', '배', '이상', '개선', '대만', '반도체', '설계', '전문', '업체', '미디어텍', '로', '핵심', '프로세서', '부품', '크기', '소비전력', '감축']\n"
          ]
        }
      ]
    },
    {
      "cell_type": "code",
      "source": [
        "counts=Counter(n_adj)\n",
        "tags = counts.most_common(100)\n",
        "print(counts)\n",
        "print(tags)\n"
      ],
      "metadata": {
        "colab": {
          "base_uri": "https://localhost:8080/"
        },
        "id": "0RYDyx9rX1lZ",
        "outputId": "f59b1b13-5e49-42fb-eddb-50bcad039e64"
      },
      "execution_count": null,
      "outputs": [
        {
          "output_type": "stream",
          "name": "stdout",
          "text": [
            "Counter({'기업': 10, '산업': 9, '반도체': 9, '투자': 8, '활용': 7, '디지털': 7, '전환': 6, '원': 6, '설계': 6, '기반': 4, '산업부': 3, '재화': 3, '전략': 3, '비중': 3, '글로벌': 3, '전망': 3, '정부': 3, '로': 3, '이상': 3, '올해': 3, '지원': 3, '것': 3, '업체': 3, '심의': 2, '확정': 2, '계획': 2, '삼성': 2, '전자': 2, '등': 2, '국내': 2, '기술': 2, '개': 2, '민관': 2, '위원회': 2, '이': 2, '같은': 2, '프로젝트': 2, '각각': 2, '자금': 2, '내년': 2, '데이터': 2, '방침': 2, '위해': 2, '규모': 2, '진행': 2, '핵심': 2, '를': 2, '컨설팅': 2, '개발': 2, '생산': 2, '후': 1, '인공': 1, '지능': 1, '경쟁력': 1, '공급': 1, '육성': 1, '국제': 1, '신문': 1, '통상': 1, '자원부': 1, '서울': 1, '중구': 1, '상공회의소': 1, '이창': 1, '장관': 1, '전문가': 1, '참석': 1, '가운데': 1, '제': 1, '차': 1, '내용': 1, '우선': 1, '신규': 1, '예산': 1, '확보': 1, '확대': 1, '구축': 1, '성과': 1, '창': 1, '가능한': 1, '개사': 1, '처리': 1, '플랫폼': 1, '사물인터넷': 1, '시스템': 1, '마련': 1, '중견': 1, '중소기업': 1, '총': 1, '매년': 1, '펀드': 1, '조성하': 1, '사업': 1, '계속': 1, '융합': 1, '인력': 1, '양성': 1, '비': 1, '전공': 1, '대학생': 1, '구직': 1, '재직': 1, '대상': 1, '단기': 1, '압축': 1, '교육과정': 1, '개설': 1, '명': 1, '명의': 1, '인재': 1, '배출': 1, '제조업': 1, '률': 1, '불과한': 1, '주력': 1, '여전히': 1, '있다': 1, '클라우드': 1, '절반': 1, '가량': 1, '집중': 1, '있고': 1, '불과하다': 1, '필요한': 1, '설비': 1, '공정': 1, '솔루션': 1, '적용': 1, '추진': 1, '전반': 1, '이번': 1, '날': 1, '첫': 1, '회의': 1, '연': 1, '합동': 1, '정책': 1, '콘': 1, '트롤': 1, '타워': 1, '지속': 1, '운영': 1, '인텔': 1, '퀄컴': 1, '세계': 1, '한국': 1, '딜로이트': 1, '그룹': 1, '차세대': 1, '인류': 1, '새로운': 1, '세상': 1, '보고서': 1, '거나': 1, '달러': 1, '전체': 1, '시장': 1, '비교': 1, '땐': 1, '작은': 1, '수치': 1, '수익': 1, '게': 1, '더': 1, '높은': 1, '직접': 1, '시간': 1, '비용': 1, '절감': 1, '수': 1, '있기': 1, '때문': 1, '분석': 1, '미국': 1, '매사추세츠공대': 1, '도구': 1, '엔지니어': 1, '회로': 1, '에너지': 1, '효율': 1, '배': 1, '개선': 1, '대만': 1, '전문': 1, '미디어텍': 1, '프로세서': 1, '부품': 1, '크기': 1, '소비전력': 1, '감축': 1})\n",
            "[('기업', 10), ('산업', 9), ('반도체', 9), ('투자', 8), ('활용', 7), ('디지털', 7), ('전환', 6), ('원', 6), ('설계', 6), ('기반', 4), ('산업부', 3), ('재화', 3), ('전략', 3), ('비중', 3), ('글로벌', 3), ('전망', 3), ('정부', 3), ('로', 3), ('이상', 3), ('올해', 3), ('지원', 3), ('것', 3), ('업체', 3), ('심의', 2), ('확정', 2), ('계획', 2), ('삼성', 2), ('전자', 2), ('등', 2), ('국내', 2), ('기술', 2), ('개', 2), ('민관', 2), ('위원회', 2), ('이', 2), ('같은', 2), ('프로젝트', 2), ('각각', 2), ('자금', 2), ('내년', 2), ('데이터', 2), ('방침', 2), ('위해', 2), ('규모', 2), ('진행', 2), ('핵심', 2), ('를', 2), ('컨설팅', 2), ('개발', 2), ('생산', 2), ('후', 1), ('인공', 1), ('지능', 1), ('경쟁력', 1), ('공급', 1), ('육성', 1), ('국제', 1), ('신문', 1), ('통상', 1), ('자원부', 1), ('서울', 1), ('중구', 1), ('상공회의소', 1), ('이창', 1), ('장관', 1), ('전문가', 1), ('참석', 1), ('가운데', 1), ('제', 1), ('차', 1), ('내용', 1), ('우선', 1), ('신규', 1), ('예산', 1), ('확보', 1), ('확대', 1), ('구축', 1), ('성과', 1), ('창', 1), ('가능한', 1), ('개사', 1), ('처리', 1), ('플랫폼', 1), ('사물인터넷', 1), ('시스템', 1), ('마련', 1), ('중견', 1), ('중소기업', 1), ('총', 1), ('매년', 1), ('펀드', 1), ('조성하', 1), ('사업', 1), ('계속', 1), ('융합', 1), ('인력', 1), ('양성', 1), ('비', 1), ('전공', 1), ('대학생', 1)]\n"
          ]
        }
      ]
    },
    {
      "cell_type": "code",
      "source": [
        "from wordcloud import WordCloud\n"
      ],
      "metadata": {
        "id": "_SS755Z0aAFj"
      },
      "execution_count": null,
      "outputs": []
    },
    {
      "cell_type": "code",
      "source": [
        "stop_words=\"있습니다. 를 로 수 때문\"    #있습니다, 를 ,로 등을 제거\n",
        "stop_words=set(stop_words.split(\" \"))\n",
        "n_adj=[word for word in n_adj if not word in stop_words]"
      ],
      "metadata": {
        "id": "WtIhdblJckZg"
      },
      "execution_count": null,
      "outputs": []
    },
    {
      "cell_type": "code",
      "source": [
        "font = \"/content/drive/MyDrive/malgun.ttf\"\n",
        "word_cloud = WordCloud(font_path=font,\n",
        "                        background_color=\"black\",\n",
        "                        max_font_size=300,\n",
        "                        colormap=\"prism\").generate_from_frequencies(dict(tags))\n",
        "import matplotlib.pyplot as plt\n",
        "plt.figure(figsize=(10,8))\n",
        "plt.imshow(word_cloud)\n",
        "plt.axis(\"off\")"
      ],
      "metadata": {
        "colab": {
          "base_uri": "https://localhost:8080/",
          "height": 328
        },
        "id": "JuwG5IvIaP_q",
        "outputId": "071b274f-a5dc-4f25-80a0-0b45bf070678"
      },
      "execution_count": null,
      "outputs": [
        {
          "output_type": "execute_result",
          "data": {
            "text/plain": [
              "(-0.5, 399.5, 199.5, -0.5)"
            ]
          },
          "metadata": {},
          "execution_count": 71
        },
        {
          "output_type": "display_data",
          "data": {
            "text/plain": [
              "<Figure size 720x576 with 1 Axes>"
            ],
            "image/png": "[encoded data removed]"
          },
          "metadata": {
            "needs_background": "light"
          }
        }
      ]
    },
    {
      "cell_type": "code",
      "source": [],
      "metadata": {
        "id": "d4ClVDf3bQqd"
      },
      "execution_count": null,
      "outputs": []
    }
  ]
}