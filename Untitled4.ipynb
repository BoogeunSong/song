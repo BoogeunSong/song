{
  "nbformat": 4,
  "nbformat_minor": 0,
  "metadata": {
    "colab": {
      "provenance": [],
      "authorship_tag": "ABX9TyOlblwnr35XgyJ9eOCqtbzU",
      "include_colab_link": true
    },
    "kernelspec": {
      "name": "python3",
      "display_name": "Python 3"
    },
    "language_info": {
      "name": "python"
    }
  },
  "cells": [
    {
      "cell_type": "markdown",
      "metadata": {
        "id": "view-in-github",
        "colab_type": "text"
      },
      "source": [
        "<a href=\"https://colab.research.google.com/github/BoogeunSong/song/blob/main/Untitled4.ipynb\" target=\"_parent\"><img src=\"https://colab.research.google.com/assets/colab-badge.svg\" alt=\"Open In Colab\"/></a>"
      ]
    },
    {
      "cell_type": "code",
      "execution_count": null,
      "metadata": {
        "id": "FlTyI2VSpYfU"
      },
      "outputs": [],
      "source": []
    },
    {
      "cell_type": "markdown",
      "source": [
        "#차현성, 송부근 김혜림 박채원\n",
        "#빅데이터\n"
      ],
      "metadata": {
        "id": "obr725uvpae8"
      }
    },
    {
      "cell_type": "code",
      "source": [
        "money = 60\n",
        "\n",
        "if money >= 90:\n",
        "    print(\"명품 구매\")\n",
        "else :\n",
        "    if money >= 80:\n",
        "       print(\"해외 여행\")\n",
        "    else:\n",
        "      if money >= 70:\n",
        "        print(\"국내 여행\")\n",
        "      else:\n",
        "        if money >= 60:\n",
        "           print(\"오마카세\")\n",
        "        else:\n",
        "          if money >= 50:\n",
        "            print(\"시계 구매\")\n",
        "          else:\n",
        "              if money >= 40:\n",
        "                print(\"옷 구매\")\n",
        "              else:\n",
        "                print(\"안사\")"
      ],
      "metadata": {
        "colab": {
          "base_uri": "https://localhost:8080/"
        },
        "id": "6mmX69g9poA6",
        "outputId": "49abb900-54a2-4508-f2ab-3738197d189a"
      },
      "execution_count": 1,
      "outputs": [
        {
          "output_type": "stream",
          "name": "stdout",
          "text": [
            "오마카세\n"
          ]
        }
      ]
    },
    {
      "cell_type": "code",
      "source": [],
      "metadata": {
        "id": "QGv_PVktpsbS"
      },
      "execution_count": 1,
      "outputs": []
    },
    {
      "cell_type": "code",
      "source": [
        "pocket = 500\n",
        "if pocket == 1000:\n",
        "    print(\"명품 구매\")\n",
        "elif pocket == 900:\n",
        "    print(\"해외 여행\")\n",
        "elif pocket == 800:\n",
        "    print(\"국내여행\")\n",
        "elif pocket == 700:\n",
        "    print(\"오마카세\")\n",
        "elif pocket ==600:\n",
        "    print(\"시계 구매\")\n",
        "elif pocket ==500:\n",
        "    print(\"옷 구매\")\n",
        "else:\n",
        "    print(\"안 사\")"
      ],
      "metadata": {
        "colab": {
          "base_uri": "https://localhost:8080/"
        },
        "id": "OYSZaGGapu1R",
        "outputId": "6fd8cc61-5239-4e8a-c142-96af9d3248a0"
      },
      "execution_count": 2,
      "outputs": [
        {
          "output_type": "stream",
          "name": "stdout",
          "text": [
            "옷 구매\n"
          ]
        }
      ]
    },
    {
      "cell_type": "code",
      "source": [
        "print('-' * 30) # -*30개 출력\n",
        "print('달러   원화   유로') #달러 원화 유로 출력\n",
        "print('-' * 30) # -*30개 출력\n",
        "\n",
        "dollar = 10 #dollar 는 10으로 출력\n",
        "\n",
        "while dollar < 101: #달러가 10이되면 종료\n",
        "    won = dollar * 1260  # 원화 계산\n",
        "    euro = round(dollar * 0.81, 1)  # 유로 계산 (소숫점 첫째자리까지 표시)\n",
        "    \n",
        "    print(dollar, won, euro) # dollar,won,euro 출력\n",
        "            \n",
        "    dollar += 10 #dollar은 10보다 크거나 같다\n",
        "    \n",
        "print('-' * 30) #-*30 출력"
      ],
      "metadata": {
        "colab": {
          "base_uri": "https://localhost:8080/"
        },
        "id": "Ibos1L7spve4",
        "outputId": "a0f2846f-d83e-4f52-bc5c-1b0e087dc891"
      },
      "execution_count": 3,
      "outputs": [
        {
          "output_type": "stream",
          "name": "stdout",
          "text": [
            "------------------------------\n",
            "달러   원화   유로\n",
            "------------------------------\n",
            "10 12600 8.1\n",
            "20 25200 16.2\n",
            "30 37800 24.3\n",
            "40 50400 32.4\n",
            "50 63000 40.5\n",
            "60 75600 48.6\n",
            "70 88200 56.7\n",
            "80 100800 64.8\n",
            "90 113400 72.9\n",
            "100 126000 81.0\n",
            "------------------------------\n"
          ]
        }
      ]
    },
    {
      "cell_type": "code",
      "source": [
        "treeHit = 0\n",
        "while treeHit < 10:\n",
        "    treeHit = treeHit +1\n",
        "    print(\"나무를 %d번 찍었습니다.\" % treeHit)\n",
        "    if treeHit == 10:\n",
        "        print(\"나무 넘어갑니다.\") "
      ],
      "metadata": {
        "colab": {
          "base_uri": "https://localhost:8080/"
        },
        "id": "6oDaxaLJpxOT",
        "outputId": "0b5bbffc-e10f-4f0b-8e95-6108f0bf7235"
      },
      "execution_count": 4,
      "outputs": [
        {
          "output_type": "stream",
          "name": "stdout",
          "text": [
            "나무를 1번 찍었습니다.\n",
            "나무를 2번 찍었습니다.\n",
            "나무를 3번 찍었습니다.\n",
            "나무를 4번 찍었습니다.\n",
            "나무를 5번 찍었습니다.\n",
            "나무를 6번 찍었습니다.\n",
            "나무를 7번 찍었습니다.\n",
            "나무를 8번 찍었습니다.\n",
            "나무를 9번 찍었습니다.\n",
            "나무를 10번 찍었습니다.\n",
            "나무 넘어갑니다.\n"
          ]
        }
      ]
    },
    {
      "cell_type": "code",
      "source": [],
      "metadata": {
        "id": "LE9CIjsPp0o9"
      },
      "execution_count": null,
      "outputs": []
    }
  ]
}