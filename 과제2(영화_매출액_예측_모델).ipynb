{
  "nbformat": 4,
  "nbformat_minor": 0,
  "metadata": {
    "colab": {
      "provenance": [],
      "include_colab_link": true
    },
    "kernelspec": {
      "name": "python3",
      "display_name": "Python 3"
    },
    "language_info": {
      "name": "python"
    }
  },
  "cells": [
    {
      "cell_type": "markdown",
      "metadata": {
        "id": "view-in-github",
        "colab_type": "text"
      },
      "source": [
        "<a href=\"https://colab.research.google.com/github/BoogeunSong/song/blob/main/%EA%B3%BC%EC%A0%9C2(%EC%98%81%ED%99%94_%EB%A7%A4%EC%B6%9C%EC%95%A1_%EC%98%88%EC%B8%A1_%EB%AA%A8%EB%8D%B8).ipynb\" target=\"_parent\"><img src=\"https://colab.research.google.com/assets/colab-badge.svg\" alt=\"Open In Colab\"/></a>"
      ]
    },
    {
      "cell_type": "markdown",
      "source": [
        "#영화 매출액 예측 모델"
      ],
      "metadata": {
        "id": "-_vmoANttCgo"
      }
    },
    {
      "cell_type": "code",
      "source": [
        "import pandas as pd\n",
        "from sklearn.model_selection import train_test_split\n",
        "from sklearn.model_selection import cross_val_score\n",
        "from sklearn.neighbors import KNeighborsRegressor"
      ],
      "metadata": {
        "id": "Yqz7PjPREOsp"
      },
      "execution_count": null,
      "outputs": []
    },
    {
      "cell_type": "code",
      "source": [
        "\n",
        "df = pd.read_csv(\"/content/drive/MyDrive/영화에 진심.CSV\", encoding = \"cp949\")\n",
        "df"
      ],
      "metadata": {
        "id": "XhAIIb0ekQG2",
        "colab": {
          "base_uri": "https://localhost:8080/",
          "height": 554
        },
        "outputId": "0e30633b-e142-437f-d19f-13dd82aa35e3"
      },
      "execution_count": null,
      "outputs": [
        {
          "output_type": "execute_result",
          "data": {
            "text/plain": [
              "           영화제목  천만여부    연도     누적관객수   매출액  스크린수   제작비  넷플릭스          배급사  \\\n",
              "0            명량     1  2014  17615437  1357  1587   190     0       CJ ENM   \n",
              "1          극한직업     1  2019  16265618  1396  1978    95     0       CJ ENM   \n",
              "2   신과함께 - 죄와 벌     1  2017  14411502  1156  1912   200     0       ㈜롯데ENT   \n",
              "3          국제시장     1  2014  14263203  1109   966   180     0       CJ ENM   \n",
              "4           아바타     1  2009  14003138  1284   912  2931     1       20세기폭스   \n",
              "..          ...   ...   ...       ...   ...   ...   ...   ...          ...   \n",
              "95  분노의 질주:홉스앤쇼     0  2019   3657536   322  1311  2466     0      유니버셜픽쳐스   \n",
              "96     남자가 사랑할때     0  2014   1979311   145   531    31     1         ㈜NEW   \n",
              "97          데드풀     0  2016   3317196   276  1036   715     0  월트디즈니컴퍼니코리아   \n",
              "98       나우유씨미2     0  2016   3100113   251  1200  1109     1       ㈜롯데ENT   \n",
              "99           사도     0  2015   6246849   488  1210   134     1         ㈜쇼박스   \n",
              "\n",
              "    네이버평점  ...  연령가 시리즈여부    상영횟수       감독  러닝타임  수상여부 원작여부  주연배우수      주연배우  \\\n",
              "0       8  ...    1     1  188668      김한민   128     1    1      3       최민식   \n",
              "1       9  ...    1     0  292584      이병헌   111     1    0      5       류승룡   \n",
              "2       8  ...    0     1  213262      김용화   139     1    1      5       하정우   \n",
              "3       9  ...    0     0  212683      윤제균   126     1    0      4       황정민   \n",
              "4       9  ...    0     1  177773  제임스 카메론   162     1    0      7       아바타   \n",
              "..    ...  ...  ...   ...     ...      ...   ...   ...  ...    ...       ...   \n",
              "95      8  ...    0     1   94896  데이비드 리치   136     1    0      4    드웨인 존슨   \n",
              "96      8  ...    1     0   41123      한동욱   120     0    0      2       황정민   \n",
              "97      8  ...    1     1   82521     팀 밀러   106     1    1      1  라이언 레이놀즈   \n",
              "98      8  ...    0     1   56981     존M.추   129     0    0      5  제시 아이젠버그   \n",
              "99      8  ...    0     0  124246      이준익   125     1    1      3       송강호   \n",
              "\n",
              "    대표배우필모그래피  \n",
              "0          32  \n",
              "1          36  \n",
              "2          44  \n",
              "3          45  \n",
              "4          24  \n",
              "..        ...  \n",
              "95         33  \n",
              "96         45  \n",
              "97         38  \n",
              "98         24  \n",
              "99         40  \n",
              "\n",
              "[100 rows x 23 columns]"
            ],
            "text/html": [
              "\n",
              "  <div id=\"df-4d7bc7ae-c3e6-45c7-8ab9-096ab89534fd\">\n",
              "    <div class=\"colab-df-container\">\n",
              "      <div>\n",
              "<style scoped>\n",
              "    .dataframe tbody tr th:only-of-type {\n",
              "        vertical-align: middle;\n",
              "    }\n",
              "\n",
              "    .dataframe tbody tr th {\n",
              "        vertical-align: top;\n",
              "    }\n",
              "\n",
              "    .dataframe thead th {\n",
              "        text-align: right;\n",
              "    }\n",
              "</style>\n",
              "<table border=\"1\" class=\"dataframe\">\n",
              "  <thead>\n",
              "    <tr style=\"text-align: right;\">\n",
              "      <th></th>\n",
              "      <th>영화제목</th>\n",
              "      <th>천만여부</th>\n",
              "      <th>연도</th>\n",
              "      <th>누적관객수</th>\n",
              "      <th>매출액</th>\n",
              "      <th>스크린수</th>\n",
              "      <th>제작비</th>\n",
              "      <th>넷플릭스</th>\n",
              "      <th>배급사</th>\n",
              "      <th>네이버평점</th>\n",
              "      <th>...</th>\n",
              "      <th>연령가</th>\n",
              "      <th>시리즈여부</th>\n",
              "      <th>상영횟수</th>\n",
              "      <th>감독</th>\n",
              "      <th>러닝타임</th>\n",
              "      <th>수상여부</th>\n",
              "      <th>원작여부</th>\n",
              "      <th>주연배우수</th>\n",
              "      <th>주연배우</th>\n",
              "      <th>대표배우필모그래피</th>\n",
              "    </tr>\n",
              "  </thead>\n",
              "  <tbody>\n",
              "    <tr>\n",
              "      <th>0</th>\n",
              "      <td>명량</td>\n",
              "      <td>1</td>\n",
              "      <td>2014</td>\n",
              "      <td>17615437</td>\n",
              "      <td>1357</td>\n",
              "      <td>1587</td>\n",
              "      <td>190</td>\n",
              "      <td>0</td>\n",
              "      <td>CJ ENM</td>\n",
              "      <td>8</td>\n",
              "      <td>...</td>\n",
              "      <td>1</td>\n",
              "      <td>1</td>\n",
              "      <td>188668</td>\n",
              "      <td>김한민</td>\n",
              "      <td>128</td>\n",
              "      <td>1</td>\n",
              "      <td>1</td>\n",
              "      <td>3</td>\n",
              "      <td>최민식</td>\n",
              "      <td>32</td>\n",
              "    </tr>\n",
              "    <tr>\n",
              "      <th>1</th>\n",
              "      <td>극한직업</td>\n",
              "      <td>1</td>\n",
              "      <td>2019</td>\n",
              "      <td>16265618</td>\n",
              "      <td>1396</td>\n",
              "      <td>1978</td>\n",
              "      <td>95</td>\n",
              "      <td>0</td>\n",
              "      <td>CJ ENM</td>\n",
              "      <td>9</td>\n",
              "      <td>...</td>\n",
              "      <td>1</td>\n",
              "      <td>0</td>\n",
              "      <td>292584</td>\n",
              "      <td>이병헌</td>\n",
              "      <td>111</td>\n",
              "      <td>1</td>\n",
              "      <td>0</td>\n",
              "      <td>5</td>\n",
              "      <td>류승룡</td>\n",
              "      <td>36</td>\n",
              "    </tr>\n",
              "    <tr>\n",
              "      <th>2</th>\n",
              "      <td>신과함께 - 죄와 벌</td>\n",
              "      <td>1</td>\n",
              "      <td>2017</td>\n",
              "      <td>14411502</td>\n",
              "      <td>1156</td>\n",
              "      <td>1912</td>\n",
              "      <td>200</td>\n",
              "      <td>0</td>\n",
              "      <td>㈜롯데ENT</td>\n",
              "      <td>8</td>\n",
              "      <td>...</td>\n",
              "      <td>0</td>\n",
              "      <td>1</td>\n",
              "      <td>213262</td>\n",
              "      <td>김용화</td>\n",
              "      <td>139</td>\n",
              "      <td>1</td>\n",
              "      <td>1</td>\n",
              "      <td>5</td>\n",
              "      <td>하정우</td>\n",
              "      <td>44</td>\n",
              "    </tr>\n",
              "    <tr>\n",
              "      <th>3</th>\n",
              "      <td>국제시장</td>\n",
              "      <td>1</td>\n",
              "      <td>2014</td>\n",
              "      <td>14263203</td>\n",
              "      <td>1109</td>\n",
              "      <td>966</td>\n",
              "      <td>180</td>\n",
              "      <td>0</td>\n",
              "      <td>CJ ENM</td>\n",
              "      <td>9</td>\n",
              "      <td>...</td>\n",
              "      <td>0</td>\n",
              "      <td>0</td>\n",
              "      <td>212683</td>\n",
              "      <td>윤제균</td>\n",
              "      <td>126</td>\n",
              "      <td>1</td>\n",
              "      <td>0</td>\n",
              "      <td>4</td>\n",
              "      <td>황정민</td>\n",
              "      <td>45</td>\n",
              "    </tr>\n",
              "    <tr>\n",
              "      <th>4</th>\n",
              "      <td>아바타</td>\n",
              "      <td>1</td>\n",
              "      <td>2009</td>\n",
              "      <td>14003138</td>\n",
              "      <td>1284</td>\n",
              "      <td>912</td>\n",
              "      <td>2931</td>\n",
              "      <td>1</td>\n",
              "      <td>20세기폭스</td>\n",
              "      <td>9</td>\n",
              "      <td>...</td>\n",
              "      <td>0</td>\n",
              "      <td>1</td>\n",
              "      <td>177773</td>\n",
              "      <td>제임스 카메론</td>\n",
              "      <td>162</td>\n",
              "      <td>1</td>\n",
              "      <td>0</td>\n",
              "      <td>7</td>\n",
              "      <td>아바타</td>\n",
              "      <td>24</td>\n",
              "    </tr>\n",
              "    <tr>\n",
              "      <th>...</th>\n",
              "      <td>...</td>\n",
              "      <td>...</td>\n",
              "      <td>...</td>\n",
              "      <td>...</td>\n",
              "      <td>...</td>\n",
              "      <td>...</td>\n",
              "      <td>...</td>\n",
              "      <td>...</td>\n",
              "      <td>...</td>\n",
              "      <td>...</td>\n",
              "      <td>...</td>\n",
              "      <td>...</td>\n",
              "      <td>...</td>\n",
              "      <td>...</td>\n",
              "      <td>...</td>\n",
              "      <td>...</td>\n",
              "      <td>...</td>\n",
              "      <td>...</td>\n",
              "      <td>...</td>\n",
              "      <td>...</td>\n",
              "      <td>...</td>\n",
              "    </tr>\n",
              "    <tr>\n",
              "      <th>95</th>\n",
              "      <td>분노의 질주:홉스앤쇼</td>\n",
              "      <td>0</td>\n",
              "      <td>2019</td>\n",
              "      <td>3657536</td>\n",
              "      <td>322</td>\n",
              "      <td>1311</td>\n",
              "      <td>2466</td>\n",
              "      <td>0</td>\n",
              "      <td>유니버셜픽쳐스</td>\n",
              "      <td>8</td>\n",
              "      <td>...</td>\n",
              "      <td>0</td>\n",
              "      <td>1</td>\n",
              "      <td>94896</td>\n",
              "      <td>데이비드 리치</td>\n",
              "      <td>136</td>\n",
              "      <td>1</td>\n",
              "      <td>0</td>\n",
              "      <td>4</td>\n",
              "      <td>드웨인 존슨</td>\n",
              "      <td>33</td>\n",
              "    </tr>\n",
              "    <tr>\n",
              "      <th>96</th>\n",
              "      <td>남자가 사랑할때</td>\n",
              "      <td>0</td>\n",
              "      <td>2014</td>\n",
              "      <td>1979311</td>\n",
              "      <td>145</td>\n",
              "      <td>531</td>\n",
              "      <td>31</td>\n",
              "      <td>1</td>\n",
              "      <td>㈜NEW</td>\n",
              "      <td>8</td>\n",
              "      <td>...</td>\n",
              "      <td>1</td>\n",
              "      <td>0</td>\n",
              "      <td>41123</td>\n",
              "      <td>한동욱</td>\n",
              "      <td>120</td>\n",
              "      <td>0</td>\n",
              "      <td>0</td>\n",
              "      <td>2</td>\n",
              "      <td>황정민</td>\n",
              "      <td>45</td>\n",
              "    </tr>\n",
              "    <tr>\n",
              "      <th>97</th>\n",
              "      <td>데드풀</td>\n",
              "      <td>0</td>\n",
              "      <td>2016</td>\n",
              "      <td>3317196</td>\n",
              "      <td>276</td>\n",
              "      <td>1036</td>\n",
              "      <td>715</td>\n",
              "      <td>0</td>\n",
              "      <td>월트디즈니컴퍼니코리아</td>\n",
              "      <td>8</td>\n",
              "      <td>...</td>\n",
              "      <td>1</td>\n",
              "      <td>1</td>\n",
              "      <td>82521</td>\n",
              "      <td>팀 밀러</td>\n",
              "      <td>106</td>\n",
              "      <td>1</td>\n",
              "      <td>1</td>\n",
              "      <td>1</td>\n",
              "      <td>라이언 레이놀즈</td>\n",
              "      <td>38</td>\n",
              "    </tr>\n",
              "    <tr>\n",
              "      <th>98</th>\n",
              "      <td>나우유씨미2</td>\n",
              "      <td>0</td>\n",
              "      <td>2016</td>\n",
              "      <td>3100113</td>\n",
              "      <td>251</td>\n",
              "      <td>1200</td>\n",
              "      <td>1109</td>\n",
              "      <td>1</td>\n",
              "      <td>㈜롯데ENT</td>\n",
              "      <td>8</td>\n",
              "      <td>...</td>\n",
              "      <td>0</td>\n",
              "      <td>1</td>\n",
              "      <td>56981</td>\n",
              "      <td>존M.추</td>\n",
              "      <td>129</td>\n",
              "      <td>0</td>\n",
              "      <td>0</td>\n",
              "      <td>5</td>\n",
              "      <td>제시 아이젠버그</td>\n",
              "      <td>24</td>\n",
              "    </tr>\n",
              "    <tr>\n",
              "      <th>99</th>\n",
              "      <td>사도</td>\n",
              "      <td>0</td>\n",
              "      <td>2015</td>\n",
              "      <td>6246849</td>\n",
              "      <td>488</td>\n",
              "      <td>1210</td>\n",
              "      <td>134</td>\n",
              "      <td>1</td>\n",
              "      <td>㈜쇼박스</td>\n",
              "      <td>8</td>\n",
              "      <td>...</td>\n",
              "      <td>0</td>\n",
              "      <td>0</td>\n",
              "      <td>124246</td>\n",
              "      <td>이준익</td>\n",
              "      <td>125</td>\n",
              "      <td>1</td>\n",
              "      <td>1</td>\n",
              "      <td>3</td>\n",
              "      <td>송강호</td>\n",
              "      <td>40</td>\n",
              "    </tr>\n",
              "  </tbody>\n",
              "</table>\n",
              "<p>100 rows × 23 columns</p>\n",
              "</div>\n",
              "      <button class=\"colab-df-convert\" onclick=\"convertToInteractive('df-4d7bc7ae-c3e6-45c7-8ab9-096ab89534fd')\"\n",
              "              title=\"Convert this dataframe to an interactive table.\"\n",
              "              style=\"display:none;\">\n",
              "        \n",
              "  <svg xmlns=\"http://www.w3.org/2000/svg\" height=\"24px\"viewBox=\"0 0 24 24\"\n",
              "       width=\"24px\">\n",
              "    <path d=\"M0 0h24v24H0V0z\" fill=\"none\"/>\n",
              "    <path d=\"M18.56 5.44l.94 2.06.94-2.06 2.06-.94-2.06-.94-.94-2.06-.94 2.06-2.06.94zm-11 1L8.5 8.5l.94-2.06 2.06-.94-2.06-.94L8.5 2.5l-.94 2.06-2.06.94zm10 10l.94 2.06.94-2.06 2.06-.94-2.06-.94-.94-2.06-.94 2.06-2.06.94z\"/><path d=\"M17.41 7.96l-1.37-1.37c-.4-.4-.92-.59-1.43-.59-.52 0-1.04.2-1.43.59L10.3 9.45l-7.72 7.72c-.78.78-.78 2.05 0 2.83L4 21.41c.39.39.9.59 1.41.59.51 0 1.02-.2 1.41-.59l7.78-7.78 2.81-2.81c.8-.78.8-2.07 0-2.86zM5.41 20L4 18.59l7.72-7.72 1.47 1.35L5.41 20z\"/>\n",
              "  </svg>\n",
              "      </button>\n",
              "      \n",
              "  <style>\n",
              "    .colab-df-container {\n",
              "      display:flex;\n",
              "      flex-wrap:wrap;\n",
              "      gap: 12px;\n",
              "    }\n",
              "\n",
              "    .colab-df-convert {\n",
              "      background-color: #E8F0FE;\n",
              "      border: none;\n",
              "      border-radius: 50%;\n",
              "      cursor: pointer;\n",
              "      display: none;\n",
              "      fill: #1967D2;\n",
              "      height: 32px;\n",
              "      padding: 0 0 0 0;\n",
              "      width: 32px;\n",
              "    }\n",
              "\n",
              "    .colab-df-convert:hover {\n",
              "      background-color: #E2EBFA;\n",
              "      box-shadow: 0px 1px 2px rgba(60, 64, 67, 0.3), 0px 1px 3px 1px rgba(60, 64, 67, 0.15);\n",
              "      fill: #174EA6;\n",
              "    }\n",
              "\n",
              "    [theme=dark] .colab-df-convert {\n",
              "      background-color: #3B4455;\n",
              "      fill: #D2E3FC;\n",
              "    }\n",
              "\n",
              "    [theme=dark] .colab-df-convert:hover {\n",
              "      background-color: #434B5C;\n",
              "      box-shadow: 0px 1px 3px 1px rgba(0, 0, 0, 0.15);\n",
              "      filter: drop-shadow(0px 1px 2px rgba(0, 0, 0, 0.3));\n",
              "      fill: #FFFFFF;\n",
              "    }\n",
              "  </style>\n",
              "\n",
              "      <script>\n",
              "        const buttonEl =\n",
              "          document.querySelector('#df-4d7bc7ae-c3e6-45c7-8ab9-096ab89534fd button.colab-df-convert');\n",
              "        buttonEl.style.display =\n",
              "          google.colab.kernel.accessAllowed ? 'block' : 'none';\n",
              "\n",
              "        async function convertToInteractive(key) {\n",
              "          const element = document.querySelector('#df-4d7bc7ae-c3e6-45c7-8ab9-096ab89534fd');\n",
              "          const dataTable =\n",
              "            await google.colab.kernel.invokeFunction('convertToInteractive',\n",
              "                                                     [key], {});\n",
              "          if (!dataTable) return;\n",
              "\n",
              "          const docLinkHtml = 'Like what you see? Visit the ' +\n",
              "            '<a target=\"_blank\" href=https://colab.research.google.com/notebooks/data_table.ipynb>data table notebook</a>'\n",
              "            + ' to learn more about interactive tables.';\n",
              "          element.innerHTML = '';\n",
              "          dataTable['output_type'] = 'display_data';\n",
              "          await google.colab.output.renderOutput(dataTable, element);\n",
              "          const docLink = document.createElement('div');\n",
              "          docLink.innerHTML = docLinkHtml;\n",
              "          element.appendChild(docLink);\n",
              "        }\n",
              "      </script>\n",
              "    </div>\n",
              "  </div>\n",
              "  "
            ]
          },
          "metadata": {},
          "execution_count": 640
        }
      ]
    },
    {
      "cell_type": "code",
      "source": [
        "df.describe()"
      ],
      "metadata": {
        "id": "qoqFDLEPHeAp",
        "colab": {
          "base_uri": "https://localhost:8080/",
          "height": 300
        },
        "outputId": "e949f94f-ee49-4bc7-ce1f-844984f9b242"
      },
      "execution_count": null,
      "outputs": [
        {
          "output_type": "execute_result",
          "data": {
            "text/plain": [
              "             천만여부          연도         누적관객수          매출액         스크린수  \\\n",
              "count  100.000000   100.00000  1.000000e+02   100.000000   100.000000   \n",
              "mean     0.280000  2016.66000  6.448725e+06   504.490000  1276.050000   \n",
              "std      0.451261     3.80648  4.548541e+06   367.626306   585.989268   \n",
              "min      0.000000  2003.00000  4.073230e+05    32.000000    83.000000   \n",
              "25%      0.000000  2015.00000  2.406176e+06   191.250000   920.250000   \n",
              "50%      0.000000  2017.00000  5.357660e+06   423.000000  1205.000000   \n",
              "75%      1.000000  2019.00000  1.035607e+07   819.750000  1607.250000   \n",
              "max      1.000000  2022.00000  1.761544e+07  1396.000000  2948.000000   \n",
              "\n",
              "               제작비        넷플릭스      네이버평점        국-내외         개봉월         연령가  \\\n",
              "count   100.000000  100.000000  100.00000  100.000000  100.000000  100.000000   \n",
              "mean    541.430000    0.610000    7.99000    0.240000    6.530000    0.610000   \n",
              "std     925.520124    0.490207    0.87033    0.429235    3.391776    0.490207   \n",
              "min       5.000000    0.000000    6.00000    0.000000    1.000000    0.000000   \n",
              "25%      70.000000    0.000000    8.00000    0.000000    4.000000    0.000000   \n",
              "50%     116.500000    1.000000    8.00000    0.000000    7.000000    1.000000   \n",
              "75%     242.500000    1.000000    9.00000    0.000000    9.000000    1.000000   \n",
              "max    4228.000000    1.000000    9.00000    1.000000   12.000000    1.000000   \n",
              "\n",
              "            시리즈여부           상영횟수        러닝타임        수상여부        원작여부  \\\n",
              "count  100.000000     100.000000  100.000000  100.000000  100.000000   \n",
              "mean     0.310000  126418.170000  126.040000    0.720000    0.420000   \n",
              "std      0.464823   71473.416583   15.169027    0.451261    0.496045   \n",
              "min      0.000000   14276.000000   95.000000    0.000000    0.000000   \n",
              "25%      0.000000   68485.500000  115.000000    0.000000    0.000000   \n",
              "50%      0.000000  118857.000000  126.000000    1.000000    0.000000   \n",
              "75%      1.000000  172018.500000  135.000000    1.000000    1.000000   \n",
              "max      1.000000  355767.000000  181.000000    1.000000    1.000000   \n",
              "\n",
              "            주연배우수   대표배우필모그래피  \n",
              "count  100.000000  100.000000  \n",
              "mean     4.390000   35.170000  \n",
              "std      3.100652   14.957215  \n",
              "min      1.000000    1.000000  \n",
              "25%      3.000000   21.750000  \n",
              "50%      4.000000   40.000000  \n",
              "75%      5.000000   45.000000  \n",
              "max     22.000000   79.000000  "
            ],
            "text/html": [
              "\n",
              "  <div id=\"df-5986adb1-4f1d-454a-bca3-869103104404\">\n",
              "    <div class=\"colab-df-container\">\n",
              "      <div>\n",
              "<style scoped>\n",
              "    .dataframe tbody tr th:only-of-type {\n",
              "        vertical-align: middle;\n",
              "    }\n",
              "\n",
              "    .dataframe tbody tr th {\n",
              "        vertical-align: top;\n",
              "    }\n",
              "\n",
              "    .dataframe thead th {\n",
              "        text-align: right;\n",
              "    }\n",
              "</style>\n",
              "<table border=\"1\" class=\"dataframe\">\n",
              "  <thead>\n",
              "    <tr style=\"text-align: right;\">\n",
              "      <th></th>\n",
              "      <th>천만여부</th>\n",
              "      <th>연도</th>\n",
              "      <th>누적관객수</th>\n",
              "      <th>매출액</th>\n",
              "      <th>스크린수</th>\n",
              "      <th>제작비</th>\n",
              "      <th>넷플릭스</th>\n",
              "      <th>네이버평점</th>\n",
              "      <th>국-내외</th>\n",
              "      <th>개봉월</th>\n",
              "      <th>연령가</th>\n",
              "      <th>시리즈여부</th>\n",
              "      <th>상영횟수</th>\n",
              "      <th>러닝타임</th>\n",
              "      <th>수상여부</th>\n",
              "      <th>원작여부</th>\n",
              "      <th>주연배우수</th>\n",
              "      <th>대표배우필모그래피</th>\n",
              "    </tr>\n",
              "  </thead>\n",
              "  <tbody>\n",
              "    <tr>\n",
              "      <th>count</th>\n",
              "      <td>100.000000</td>\n",
              "      <td>100.00000</td>\n",
              "      <td>1.000000e+02</td>\n",
              "      <td>100.000000</td>\n",
              "      <td>100.000000</td>\n",
              "      <td>100.000000</td>\n",
              "      <td>100.000000</td>\n",
              "      <td>100.00000</td>\n",
              "      <td>100.000000</td>\n",
              "      <td>100.000000</td>\n",
              "      <td>100.000000</td>\n",
              "      <td>100.000000</td>\n",
              "      <td>100.000000</td>\n",
              "      <td>100.000000</td>\n",
              "      <td>100.000000</td>\n",
              "      <td>100.000000</td>\n",
              "      <td>100.000000</td>\n",
              "      <td>100.000000</td>\n",
              "    </tr>\n",
              "    <tr>\n",
              "      <th>mean</th>\n",
              "      <td>0.280000</td>\n",
              "      <td>2016.66000</td>\n",
              "      <td>6.448725e+06</td>\n",
              "      <td>504.490000</td>\n",
              "      <td>1276.050000</td>\n",
              "      <td>541.430000</td>\n",
              "      <td>0.610000</td>\n",
              "      <td>7.99000</td>\n",
              "      <td>0.240000</td>\n",
              "      <td>6.530000</td>\n",
              "      <td>0.610000</td>\n",
              "      <td>0.310000</td>\n",
              "      <td>126418.170000</td>\n",
              "      <td>126.040000</td>\n",
              "      <td>0.720000</td>\n",
              "      <td>0.420000</td>\n",
              "      <td>4.390000</td>\n",
              "      <td>35.170000</td>\n",
              "    </tr>\n",
              "    <tr>\n",
              "      <th>std</th>\n",
              "      <td>0.451261</td>\n",
              "      <td>3.80648</td>\n",
              "      <td>4.548541e+06</td>\n",
              "      <td>367.626306</td>\n",
              "      <td>585.989268</td>\n",
              "      <td>925.520124</td>\n",
              "      <td>0.490207</td>\n",
              "      <td>0.87033</td>\n",
              "      <td>0.429235</td>\n",
              "      <td>3.391776</td>\n",
              "      <td>0.490207</td>\n",
              "      <td>0.464823</td>\n",
              "      <td>71473.416583</td>\n",
              "      <td>15.169027</td>\n",
              "      <td>0.451261</td>\n",
              "      <td>0.496045</td>\n",
              "      <td>3.100652</td>\n",
              "      <td>14.957215</td>\n",
              "    </tr>\n",
              "    <tr>\n",
              "      <th>min</th>\n",
              "      <td>0.000000</td>\n",
              "      <td>2003.00000</td>\n",
              "      <td>4.073230e+05</td>\n",
              "      <td>32.000000</td>\n",
              "      <td>83.000000</td>\n",
              "      <td>5.000000</td>\n",
              "      <td>0.000000</td>\n",
              "      <td>6.00000</td>\n",
              "      <td>0.000000</td>\n",
              "      <td>1.000000</td>\n",
              "      <td>0.000000</td>\n",
              "      <td>0.000000</td>\n",
              "      <td>14276.000000</td>\n",
              "      <td>95.000000</td>\n",
              "      <td>0.000000</td>\n",
              "      <td>0.000000</td>\n",
              "      <td>1.000000</td>\n",
              "      <td>1.000000</td>\n",
              "    </tr>\n",
              "    <tr>\n",
              "      <th>25%</th>\n",
              "      <td>0.000000</td>\n",
              "      <td>2015.00000</td>\n",
              "      <td>2.406176e+06</td>\n",
              "      <td>191.250000</td>\n",
              "      <td>920.250000</td>\n",
              "      <td>70.000000</td>\n",
              "      <td>0.000000</td>\n",
              "      <td>8.00000</td>\n",
              "      <td>0.000000</td>\n",
              "      <td>4.000000</td>\n",
              "      <td>0.000000</td>\n",
              "      <td>0.000000</td>\n",
              "      <td>68485.500000</td>\n",
              "      <td>115.000000</td>\n",
              "      <td>0.000000</td>\n",
              "      <td>0.000000</td>\n",
              "      <td>3.000000</td>\n",
              "      <td>21.750000</td>\n",
              "    </tr>\n",
              "    <tr>\n",
              "      <th>50%</th>\n",
              "      <td>0.000000</td>\n",
              "      <td>2017.00000</td>\n",
              "      <td>5.357660e+06</td>\n",
              "      <td>423.000000</td>\n",
              "      <td>1205.000000</td>\n",
              "      <td>116.500000</td>\n",
              "      <td>1.000000</td>\n",
              "      <td>8.00000</td>\n",
              "      <td>0.000000</td>\n",
              "      <td>7.000000</td>\n",
              "      <td>1.000000</td>\n",
              "      <td>0.000000</td>\n",
              "      <td>118857.000000</td>\n",
              "      <td>126.000000</td>\n",
              "      <td>1.000000</td>\n",
              "      <td>0.000000</td>\n",
              "      <td>4.000000</td>\n",
              "      <td>40.000000</td>\n",
              "    </tr>\n",
              "    <tr>\n",
              "      <th>75%</th>\n",
              "      <td>1.000000</td>\n",
              "      <td>2019.00000</td>\n",
              "      <td>1.035607e+07</td>\n",
              "      <td>819.750000</td>\n",
              "      <td>1607.250000</td>\n",
              "      <td>242.500000</td>\n",
              "      <td>1.000000</td>\n",
              "      <td>9.00000</td>\n",
              "      <td>0.000000</td>\n",
              "      <td>9.000000</td>\n",
              "      <td>1.000000</td>\n",
              "      <td>1.000000</td>\n",
              "      <td>172018.500000</td>\n",
              "      <td>135.000000</td>\n",
              "      <td>1.000000</td>\n",
              "      <td>1.000000</td>\n",
              "      <td>5.000000</td>\n",
              "      <td>45.000000</td>\n",
              "    </tr>\n",
              "    <tr>\n",
              "      <th>max</th>\n",
              "      <td>1.000000</td>\n",
              "      <td>2022.00000</td>\n",
              "      <td>1.761544e+07</td>\n",
              "      <td>1396.000000</td>\n",
              "      <td>2948.000000</td>\n",
              "      <td>4228.000000</td>\n",
              "      <td>1.000000</td>\n",
              "      <td>9.00000</td>\n",
              "      <td>1.000000</td>\n",
              "      <td>12.000000</td>\n",
              "      <td>1.000000</td>\n",
              "      <td>1.000000</td>\n",
              "      <td>355767.000000</td>\n",
              "      <td>181.000000</td>\n",
              "      <td>1.000000</td>\n",
              "      <td>1.000000</td>\n",
              "      <td>22.000000</td>\n",
              "      <td>79.000000</td>\n",
              "    </tr>\n",
              "  </tbody>\n",
              "</table>\n",
              "</div>\n",
              "      <button class=\"colab-df-convert\" onclick=\"convertToInteractive('df-5986adb1-4f1d-454a-bca3-869103104404')\"\n",
              "              title=\"Convert this dataframe to an interactive table.\"\n",
              "              style=\"display:none;\">\n",
              "        \n",
              "  <svg xmlns=\"http://www.w3.org/2000/svg\" height=\"24px\"viewBox=\"0 0 24 24\"\n",
              "       width=\"24px\">\n",
              "    <path d=\"M0 0h24v24H0V0z\" fill=\"none\"/>\n",
              "    <path d=\"M18.56 5.44l.94 2.06.94-2.06 2.06-.94-2.06-.94-.94-2.06-.94 2.06-2.06.94zm-11 1L8.5 8.5l.94-2.06 2.06-.94-2.06-.94L8.5 2.5l-.94 2.06-2.06.94zm10 10l.94 2.06.94-2.06 2.06-.94-2.06-.94-.94-2.06-.94 2.06-2.06.94z\"/><path d=\"M17.41 7.96l-1.37-1.37c-.4-.4-.92-.59-1.43-.59-.52 0-1.04.2-1.43.59L10.3 9.45l-7.72 7.72c-.78.78-.78 2.05 0 2.83L4 21.41c.39.39.9.59 1.41.59.51 0 1.02-.2 1.41-.59l7.78-7.78 2.81-2.81c.8-.78.8-2.07 0-2.86zM5.41 20L4 18.59l7.72-7.72 1.47 1.35L5.41 20z\"/>\n",
              "  </svg>\n",
              "      </button>\n",
              "      \n",
              "  <style>\n",
              "    .colab-df-container {\n",
              "      display:flex;\n",
              "      flex-wrap:wrap;\n",
              "      gap: 12px;\n",
              "    }\n",
              "\n",
              "    .colab-df-convert {\n",
              "      background-color: #E8F0FE;\n",
              "      border: none;\n",
              "      border-radius: 50%;\n",
              "      cursor: pointer;\n",
              "      display: none;\n",
              "      fill: #1967D2;\n",
              "      height: 32px;\n",
              "      padding: 0 0 0 0;\n",
              "      width: 32px;\n",
              "    }\n",
              "\n",
              "    .colab-df-convert:hover {\n",
              "      background-color: #E2EBFA;\n",
              "      box-shadow: 0px 1px 2px rgba(60, 64, 67, 0.3), 0px 1px 3px 1px rgba(60, 64, 67, 0.15);\n",
              "      fill: #174EA6;\n",
              "    }\n",
              "\n",
              "    [theme=dark] .colab-df-convert {\n",
              "      background-color: #3B4455;\n",
              "      fill: #D2E3FC;\n",
              "    }\n",
              "\n",
              "    [theme=dark] .colab-df-convert:hover {\n",
              "      background-color: #434B5C;\n",
              "      box-shadow: 0px 1px 3px 1px rgba(0, 0, 0, 0.15);\n",
              "      filter: drop-shadow(0px 1px 2px rgba(0, 0, 0, 0.3));\n",
              "      fill: #FFFFFF;\n",
              "    }\n",
              "  </style>\n",
              "\n",
              "      <script>\n",
              "        const buttonEl =\n",
              "          document.querySelector('#df-5986adb1-4f1d-454a-bca3-869103104404 button.colab-df-convert');\n",
              "        buttonEl.style.display =\n",
              "          google.colab.kernel.accessAllowed ? 'block' : 'none';\n",
              "\n",
              "        async function convertToInteractive(key) {\n",
              "          const element = document.querySelector('#df-5986adb1-4f1d-454a-bca3-869103104404');\n",
              "          const dataTable =\n",
              "            await google.colab.kernel.invokeFunction('convertToInteractive',\n",
              "                                                     [key], {});\n",
              "          if (!dataTable) return;\n",
              "\n",
              "          const docLinkHtml = 'Like what you see? Visit the ' +\n",
              "            '<a target=\"_blank\" href=https://colab.research.google.com/notebooks/data_table.ipynb>data table notebook</a>'\n",
              "            + ' to learn more about interactive tables.';\n",
              "          element.innerHTML = '';\n",
              "          dataTable['output_type'] = 'display_data';\n",
              "          await google.colab.output.renderOutput(dataTable, element);\n",
              "          const docLink = document.createElement('div');\n",
              "          docLink.innerHTML = docLinkHtml;\n",
              "          element.appendChild(docLink);\n",
              "        }\n",
              "      </script>\n",
              "    </div>\n",
              "  </div>\n",
              "  "
            ]
          },
          "metadata": {},
          "execution_count": 641
        }
      ]
    },
    {
      "cell_type": "code",
      "source": [
        "df.corr()"
      ],
      "metadata": {
        "id": "A2XNpQCvH7ZF",
        "colab": {
          "base_uri": "https://localhost:8080/",
          "height": 614
        },
        "outputId": "5c34ac9f-75b0-40d2-d059-edf96a187e56"
      },
      "execution_count": null,
      "outputs": [
        {
          "output_type": "execute_result",
          "data": {
            "text/plain": [
              "               천만여부        연도     누적관객수       매출액      스크린수       제작비  \\\n",
              "천만여부       1.000000 -0.449740  0.851810  0.752408  0.111716  0.224487   \n",
              "연도        -0.449740  1.000000 -0.397935 -0.111713  0.631503  0.098593   \n",
              "누적관객수      0.851810 -0.397935  1.000000  0.908288  0.266041  0.220281   \n",
              "매출액        0.752408 -0.111713  0.908288  1.000000  0.473582  0.296765   \n",
              "스크린수       0.111716  0.631503  0.266041  0.473582  1.000000  0.392355   \n",
              "제작비        0.224487  0.098593  0.220281  0.296765  0.392355  1.000000   \n",
              "넷플릭스      -0.368951  0.209711 -0.385184 -0.323629  0.042054 -0.053995   \n",
              "네이버평점      0.392985 -0.177879  0.540455  0.513154  0.077877  0.290305   \n",
              "국-내외       0.014602  0.112270  0.038622  0.111909  0.167293  0.797820   \n",
              "개봉월        0.053852 -0.065704  0.073421  0.095914  0.005968 -0.035703   \n",
              "연령가       -0.094978 -0.109673 -0.108064 -0.143090 -0.160278 -0.497445   \n",
              "시리즈여부      0.063566  0.174350  0.155685  0.228986  0.400080  0.471346   \n",
              "상영횟수       0.523654  0.204801  0.723470  0.849486  0.642231  0.324163   \n",
              "러닝타임       0.249205 -0.181522  0.316455  0.279608  0.238095  0.429081   \n",
              "수상여부       0.289683 -0.244158  0.394539  0.330482  0.011016  0.061117   \n",
              "원작여부      -0.034295  0.071043  0.015626  0.003956  0.218157  0.295681   \n",
              "주연배우수      0.231589  0.018195  0.212842  0.260251  0.288479  0.316704   \n",
              "대표배우필모그래피  0.136544 -0.097085  0.154302  0.113987  0.028878 -0.197110   \n",
              "\n",
              "               넷플릭스     네이버평점      국-내외       개봉월       연령가     시리즈여부  \\\n",
              "천만여부      -0.368951  0.392985  0.014602  0.053852 -0.094978  0.063566   \n",
              "연도         0.209711 -0.177879  0.112270 -0.065704 -0.109673  0.174350   \n",
              "누적관객수     -0.385184  0.540455  0.038622  0.073421 -0.108064  0.155685   \n",
              "매출액       -0.323629  0.513154  0.111909  0.095914 -0.143090  0.228986   \n",
              "스크린수       0.042054  0.077877  0.167293  0.005968 -0.160278  0.400080   \n",
              "제작비       -0.053995  0.290305  0.797820 -0.035703 -0.497445  0.471346   \n",
              "넷플릭스       1.000000 -0.222314 -0.126734 -0.232861  0.033207 -0.129000   \n",
              "네이버평점     -0.222314  1.000000  0.303915  0.001814 -0.198638  0.082646   \n",
              "국-내외      -0.126734  0.303915  1.000000 -0.032748 -0.510778  0.382740   \n",
              "개봉월       -0.232861  0.001814 -0.032748  1.000000 -0.093132  0.003652   \n",
              "연령가        0.033207 -0.198638 -0.510778 -0.093132  1.000000 -0.217660   \n",
              "시리즈여부     -0.129000  0.082646  0.382740  0.003652 -0.217660  1.000000   \n",
              "상영횟수      -0.178277  0.479516  0.152087 -0.003448 -0.151159  0.242544   \n",
              "러닝타임      -0.209791  0.127039  0.248279  0.215151 -0.102478  0.224571   \n",
              "수상여부      -0.224658  0.327145  0.037547  0.137533 -0.087672 -0.015410   \n",
              "원작여부      -0.025755  0.080018  0.280848  0.004443 -0.150374  0.349590   \n",
              "주연배우수     -0.118225  0.102523  0.073163  0.056985 -0.197972  0.146547   \n",
              "대표배우필모그래피  0.039442  0.087814 -0.226685  0.096764  0.195115 -0.103546   \n",
              "\n",
              "               상영횟수      러닝타임      수상여부      원작여부     주연배우수  대표배우필모그래피  \n",
              "천만여부       0.523654  0.249205  0.289683 -0.034295  0.231589   0.136544  \n",
              "연도         0.204801 -0.181522 -0.244158  0.071043  0.018195  -0.097085  \n",
              "누적관객수      0.723470  0.316455  0.394539  0.015626  0.212842   0.154302  \n",
              "매출액        0.849486  0.279608  0.330482  0.003956  0.260251   0.113987  \n",
              "스크린수       0.642231  0.238095  0.011016  0.218157  0.288479   0.028878  \n",
              "제작비        0.324163  0.429081  0.061117  0.295681  0.316704  -0.197110  \n",
              "넷플릭스      -0.178277 -0.209791 -0.224658 -0.025755 -0.118225   0.039442  \n",
              "네이버평점      0.479516  0.127039  0.327145  0.080018  0.102523   0.087814  \n",
              "국-내외       0.152087  0.248279  0.037547  0.280848  0.073163  -0.226685  \n",
              "개봉월       -0.003448  0.215151  0.137533  0.004443  0.056985   0.096764  \n",
              "연령가       -0.151159 -0.102478 -0.087672 -0.150374 -0.197972   0.195115  \n",
              "시리즈여부      0.242544  0.224571 -0.015410  0.349590  0.146547  -0.103546  \n",
              "상영횟수       1.000000  0.146674  0.269413  0.026298  0.248868   0.102464  \n",
              "러닝타임       0.146674  1.000000  0.168400  0.141383  0.365617   0.006069  \n",
              "수상여부       0.269413  0.168400  1.000000  0.124545  0.100490   0.031068  \n",
              "원작여부       0.026298  0.141383  0.124545  1.000000  0.050043  -0.091406  \n",
              "주연배우수      0.248868  0.365617  0.100490  0.050043  1.000000  -0.057855  \n",
              "대표배우필모그래피  0.102464  0.006069  0.031068 -0.091406 -0.057855   1.000000  "
            ],
            "text/html": [
              "\n",
              "  <div id=\"df-ebf59858-6af2-4acf-9994-74868baf821f\">\n",
              "    <div class=\"colab-df-container\">\n",
              "      <div>\n",
              "<style scoped>\n",
              "    .dataframe tbody tr th:only-of-type {\n",
              "        vertical-align: middle;\n",
              "    }\n",
              "\n",
              "    .dataframe tbody tr th {\n",
              "        vertical-align: top;\n",
              "    }\n",
              "\n",
              "    .dataframe thead th {\n",
              "        text-align: right;\n",
              "    }\n",
              "</style>\n",
              "<table border=\"1\" class=\"dataframe\">\n",
              "  <thead>\n",
              "    <tr style=\"text-align: right;\">\n",
              "      <th></th>\n",
              "      <th>천만여부</th>\n",
              "      <th>연도</th>\n",
              "      <th>누적관객수</th>\n",
              "      <th>매출액</th>\n",
              "      <th>스크린수</th>\n",
              "      <th>제작비</th>\n",
              "      <th>넷플릭스</th>\n",
              "      <th>네이버평점</th>\n",
              "      <th>국-내외</th>\n",
              "      <th>개봉월</th>\n",
              "      <th>연령가</th>\n",
              "      <th>시리즈여부</th>\n",
              "      <th>상영횟수</th>\n",
              "      <th>러닝타임</th>\n",
              "      <th>수상여부</th>\n",
              "      <th>원작여부</th>\n",
              "      <th>주연배우수</th>\n",
              "      <th>대표배우필모그래피</th>\n",
              "    </tr>\n",
              "  </thead>\n",
              "  <tbody>\n",
              "    <tr>\n",
              "      <th>천만여부</th>\n",
              "      <td>1.000000</td>\n",
              "      <td>-0.449740</td>\n",
              "      <td>0.851810</td>\n",
              "      <td>0.752408</td>\n",
              "      <td>0.111716</td>\n",
              "      <td>0.224487</td>\n",
              "      <td>-0.368951</td>\n",
              "      <td>0.392985</td>\n",
              "      <td>0.014602</td>\n",
              "      <td>0.053852</td>\n",
              "      <td>-0.094978</td>\n",
              "      <td>0.063566</td>\n",
              "      <td>0.523654</td>\n",
              "      <td>0.249205</td>\n",
              "      <td>0.289683</td>\n",
              "      <td>-0.034295</td>\n",
              "      <td>0.231589</td>\n",
              "      <td>0.136544</td>\n",
              "    </tr>\n",
              "    <tr>\n",
              "      <th>연도</th>\n",
              "      <td>-0.449740</td>\n",
              "      <td>1.000000</td>\n",
              "      <td>-0.397935</td>\n",
              "      <td>-0.111713</td>\n",
              "      <td>0.631503</td>\n",
              "      <td>0.098593</td>\n",
              "      <td>0.209711</td>\n",
              "      <td>-0.177879</td>\n",
              "      <td>0.112270</td>\n",
              "      <td>-0.065704</td>\n",
              "      <td>-0.109673</td>\n",
              "      <td>0.174350</td>\n",
              "      <td>0.204801</td>\n",
              "      <td>-0.181522</td>\n",
              "      <td>-0.244158</td>\n",
              "      <td>0.071043</td>\n",
              "      <td>0.018195</td>\n",
              "      <td>-0.097085</td>\n",
              "    </tr>\n",
              "    <tr>\n",
              "      <th>누적관객수</th>\n",
              "      <td>0.851810</td>\n",
              "      <td>-0.397935</td>\n",
              "      <td>1.000000</td>\n",
              "      <td>0.908288</td>\n",
              "      <td>0.266041</td>\n",
              "      <td>0.220281</td>\n",
              "      <td>-0.385184</td>\n",
              "      <td>0.540455</td>\n",
              "      <td>0.038622</td>\n",
              "      <td>0.073421</td>\n",
              "      <td>-0.108064</td>\n",
              "      <td>0.155685</td>\n",
              "      <td>0.723470</td>\n",
              "      <td>0.316455</td>\n",
              "      <td>0.394539</td>\n",
              "      <td>0.015626</td>\n",
              "      <td>0.212842</td>\n",
              "      <td>0.154302</td>\n",
              "    </tr>\n",
              "    <tr>\n",
              "      <th>매출액</th>\n",
              "      <td>0.752408</td>\n",
              "      <td>-0.111713</td>\n",
              "      <td>0.908288</td>\n",
              "      <td>1.000000</td>\n",
              "      <td>0.473582</td>\n",
              "      <td>0.296765</td>\n",
              "      <td>-0.323629</td>\n",
              "      <td>0.513154</td>\n",
              "      <td>0.111909</td>\n",
              "      <td>0.095914</td>\n",
              "      <td>-0.143090</td>\n",
              "      <td>0.228986</td>\n",
              "      <td>0.849486</td>\n",
              "      <td>0.279608</td>\n",
              "      <td>0.330482</td>\n",
              "      <td>0.003956</td>\n",
              "      <td>0.260251</td>\n",
              "      <td>0.113987</td>\n",
              "    </tr>\n",
              "    <tr>\n",
              "      <th>스크린수</th>\n",
              "      <td>0.111716</td>\n",
              "      <td>0.631503</td>\n",
              "      <td>0.266041</td>\n",
              "      <td>0.473582</td>\n",
              "      <td>1.000000</td>\n",
              "      <td>0.392355</td>\n",
              "      <td>0.042054</td>\n",
              "      <td>0.077877</td>\n",
              "      <td>0.167293</td>\n",
              "      <td>0.005968</td>\n",
              "      <td>-0.160278</td>\n",
              "      <td>0.400080</td>\n",
              "      <td>0.642231</td>\n",
              "      <td>0.238095</td>\n",
              "      <td>0.011016</td>\n",
              "      <td>0.218157</td>\n",
              "      <td>0.288479</td>\n",
              "      <td>0.028878</td>\n",
              "    </tr>\n",
              "    <tr>\n",
              "      <th>제작비</th>\n",
              "      <td>0.224487</td>\n",
              "      <td>0.098593</td>\n",
              "      <td>0.220281</td>\n",
              "      <td>0.296765</td>\n",
              "      <td>0.392355</td>\n",
              "      <td>1.000000</td>\n",
              "      <td>-0.053995</td>\n",
              "      <td>0.290305</td>\n",
              "      <td>0.797820</td>\n",
              "      <td>-0.035703</td>\n",
              "      <td>-0.497445</td>\n",
              "      <td>0.471346</td>\n",
              "      <td>0.324163</td>\n",
              "      <td>0.429081</td>\n",
              "      <td>0.061117</td>\n",
              "      <td>0.295681</td>\n",
              "      <td>0.316704</td>\n",
              "      <td>-0.197110</td>\n",
              "    </tr>\n",
              "    <tr>\n",
              "      <th>넷플릭스</th>\n",
              "      <td>-0.368951</td>\n",
              "      <td>0.209711</td>\n",
              "      <td>-0.385184</td>\n",
              "      <td>-0.323629</td>\n",
              "      <td>0.042054</td>\n",
              "      <td>-0.053995</td>\n",
              "      <td>1.000000</td>\n",
              "      <td>-0.222314</td>\n",
              "      <td>-0.126734</td>\n",
              "      <td>-0.232861</td>\n",
              "      <td>0.033207</td>\n",
              "      <td>-0.129000</td>\n",
              "      <td>-0.178277</td>\n",
              "      <td>-0.209791</td>\n",
              "      <td>-0.224658</td>\n",
              "      <td>-0.025755</td>\n",
              "      <td>-0.118225</td>\n",
              "      <td>0.039442</td>\n",
              "    </tr>\n",
              "    <tr>\n",
              "      <th>네이버평점</th>\n",
              "      <td>0.392985</td>\n",
              "      <td>-0.177879</td>\n",
              "      <td>0.540455</td>\n",
              "      <td>0.513154</td>\n",
              "      <td>0.077877</td>\n",
              "      <td>0.290305</td>\n",
              "      <td>-0.222314</td>\n",
              "      <td>1.000000</td>\n",
              "      <td>0.303915</td>\n",
              "      <td>0.001814</td>\n",
              "      <td>-0.198638</td>\n",
              "      <td>0.082646</td>\n",
              "      <td>0.479516</td>\n",
              "      <td>0.127039</td>\n",
              "      <td>0.327145</td>\n",
              "      <td>0.080018</td>\n",
              "      <td>0.102523</td>\n",
              "      <td>0.087814</td>\n",
              "    </tr>\n",
              "    <tr>\n",
              "      <th>국-내외</th>\n",
              "      <td>0.014602</td>\n",
              "      <td>0.112270</td>\n",
              "      <td>0.038622</td>\n",
              "      <td>0.111909</td>\n",
              "      <td>0.167293</td>\n",
              "      <td>0.797820</td>\n",
              "      <td>-0.126734</td>\n",
              "      <td>0.303915</td>\n",
              "      <td>1.000000</td>\n",
              "      <td>-0.032748</td>\n",
              "      <td>-0.510778</td>\n",
              "      <td>0.382740</td>\n",
              "      <td>0.152087</td>\n",
              "      <td>0.248279</td>\n",
              "      <td>0.037547</td>\n",
              "      <td>0.280848</td>\n",
              "      <td>0.073163</td>\n",
              "      <td>-0.226685</td>\n",
              "    </tr>\n",
              "    <tr>\n",
              "      <th>개봉월</th>\n",
              "      <td>0.053852</td>\n",
              "      <td>-0.065704</td>\n",
              "      <td>0.073421</td>\n",
              "      <td>0.095914</td>\n",
              "      <td>0.005968</td>\n",
              "      <td>-0.035703</td>\n",
              "      <td>-0.232861</td>\n",
              "      <td>0.001814</td>\n",
              "      <td>-0.032748</td>\n",
              "      <td>1.000000</td>\n",
              "      <td>-0.093132</td>\n",
              "      <td>0.003652</td>\n",
              "      <td>-0.003448</td>\n",
              "      <td>0.215151</td>\n",
              "      <td>0.137533</td>\n",
              "      <td>0.004443</td>\n",
              "      <td>0.056985</td>\n",
              "      <td>0.096764</td>\n",
              "    </tr>\n",
              "    <tr>\n",
              "      <th>연령가</th>\n",
              "      <td>-0.094978</td>\n",
              "      <td>-0.109673</td>\n",
              "      <td>-0.108064</td>\n",
              "      <td>-0.143090</td>\n",
              "      <td>-0.160278</td>\n",
              "      <td>-0.497445</td>\n",
              "      <td>0.033207</td>\n",
              "      <td>-0.198638</td>\n",
              "      <td>-0.510778</td>\n",
              "      <td>-0.093132</td>\n",
              "      <td>1.000000</td>\n",
              "      <td>-0.217660</td>\n",
              "      <td>-0.151159</td>\n",
              "      <td>-0.102478</td>\n",
              "      <td>-0.087672</td>\n",
              "      <td>-0.150374</td>\n",
              "      <td>-0.197972</td>\n",
              "      <td>0.195115</td>\n",
              "    </tr>\n",
              "    <tr>\n",
              "      <th>시리즈여부</th>\n",
              "      <td>0.063566</td>\n",
              "      <td>0.174350</td>\n",
              "      <td>0.155685</td>\n",
              "      <td>0.228986</td>\n",
              "      <td>0.400080</td>\n",
              "      <td>0.471346</td>\n",
              "      <td>-0.129000</td>\n",
              "      <td>0.082646</td>\n",
              "      <td>0.382740</td>\n",
              "      <td>0.003652</td>\n",
              "      <td>-0.217660</td>\n",
              "      <td>1.000000</td>\n",
              "      <td>0.242544</td>\n",
              "      <td>0.224571</td>\n",
              "      <td>-0.015410</td>\n",
              "      <td>0.349590</td>\n",
              "      <td>0.146547</td>\n",
              "      <td>-0.103546</td>\n",
              "    </tr>\n",
              "    <tr>\n",
              "      <th>상영횟수</th>\n",
              "      <td>0.523654</td>\n",
              "      <td>0.204801</td>\n",
              "      <td>0.723470</td>\n",
              "      <td>0.849486</td>\n",
              "      <td>0.642231</td>\n",
              "      <td>0.324163</td>\n",
              "      <td>-0.178277</td>\n",
              "      <td>0.479516</td>\n",
              "      <td>0.152087</td>\n",
              "      <td>-0.003448</td>\n",
              "      <td>-0.151159</td>\n",
              "      <td>0.242544</td>\n",
              "      <td>1.000000</td>\n",
              "      <td>0.146674</td>\n",
              "      <td>0.269413</td>\n",
              "      <td>0.026298</td>\n",
              "      <td>0.248868</td>\n",
              "      <td>0.102464</td>\n",
              "    </tr>\n",
              "    <tr>\n",
              "      <th>러닝타임</th>\n",
              "      <td>0.249205</td>\n",
              "      <td>-0.181522</td>\n",
              "      <td>0.316455</td>\n",
              "      <td>0.279608</td>\n",
              "      <td>0.238095</td>\n",
              "      <td>0.429081</td>\n",
              "      <td>-0.209791</td>\n",
              "      <td>0.127039</td>\n",
              "      <td>0.248279</td>\n",
              "      <td>0.215151</td>\n",
              "      <td>-0.102478</td>\n",
              "      <td>0.224571</td>\n",
              "      <td>0.146674</td>\n",
              "      <td>1.000000</td>\n",
              "      <td>0.168400</td>\n",
              "      <td>0.141383</td>\n",
              "      <td>0.365617</td>\n",
              "      <td>0.006069</td>\n",
              "    </tr>\n",
              "    <tr>\n",
              "      <th>수상여부</th>\n",
              "      <td>0.289683</td>\n",
              "      <td>-0.244158</td>\n",
              "      <td>0.394539</td>\n",
              "      <td>0.330482</td>\n",
              "      <td>0.011016</td>\n",
              "      <td>0.061117</td>\n",
              "      <td>-0.224658</td>\n",
              "      <td>0.327145</td>\n",
              "      <td>0.037547</td>\n",
              "      <td>0.137533</td>\n",
              "      <td>-0.087672</td>\n",
              "      <td>-0.015410</td>\n",
              "      <td>0.269413</td>\n",
              "      <td>0.168400</td>\n",
              "      <td>1.000000</td>\n",
              "      <td>0.124545</td>\n",
              "      <td>0.100490</td>\n",
              "      <td>0.031068</td>\n",
              "    </tr>\n",
              "    <tr>\n",
              "      <th>원작여부</th>\n",
              "      <td>-0.034295</td>\n",
              "      <td>0.071043</td>\n",
              "      <td>0.015626</td>\n",
              "      <td>0.003956</td>\n",
              "      <td>0.218157</td>\n",
              "      <td>0.295681</td>\n",
              "      <td>-0.025755</td>\n",
              "      <td>0.080018</td>\n",
              "      <td>0.280848</td>\n",
              "      <td>0.004443</td>\n",
              "      <td>-0.150374</td>\n",
              "      <td>0.349590</td>\n",
              "      <td>0.026298</td>\n",
              "      <td>0.141383</td>\n",
              "      <td>0.124545</td>\n",
              "      <td>1.000000</td>\n",
              "      <td>0.050043</td>\n",
              "      <td>-0.091406</td>\n",
              "    </tr>\n",
              "    <tr>\n",
              "      <th>주연배우수</th>\n",
              "      <td>0.231589</td>\n",
              "      <td>0.018195</td>\n",
              "      <td>0.212842</td>\n",
              "      <td>0.260251</td>\n",
              "      <td>0.288479</td>\n",
              "      <td>0.316704</td>\n",
              "      <td>-0.118225</td>\n",
              "      <td>0.102523</td>\n",
              "      <td>0.073163</td>\n",
              "      <td>0.056985</td>\n",
              "      <td>-0.197972</td>\n",
              "      <td>0.146547</td>\n",
              "      <td>0.248868</td>\n",
              "      <td>0.365617</td>\n",
              "      <td>0.100490</td>\n",
              "      <td>0.050043</td>\n",
              "      <td>1.000000</td>\n",
              "      <td>-0.057855</td>\n",
              "    </tr>\n",
              "    <tr>\n",
              "      <th>대표배우필모그래피</th>\n",
              "      <td>0.136544</td>\n",
              "      <td>-0.097085</td>\n",
              "      <td>0.154302</td>\n",
              "      <td>0.113987</td>\n",
              "      <td>0.028878</td>\n",
              "      <td>-0.197110</td>\n",
              "      <td>0.039442</td>\n",
              "      <td>0.087814</td>\n",
              "      <td>-0.226685</td>\n",
              "      <td>0.096764</td>\n",
              "      <td>0.195115</td>\n",
              "      <td>-0.103546</td>\n",
              "      <td>0.102464</td>\n",
              "      <td>0.006069</td>\n",
              "      <td>0.031068</td>\n",
              "      <td>-0.091406</td>\n",
              "      <td>-0.057855</td>\n",
              "      <td>1.000000</td>\n",
              "    </tr>\n",
              "  </tbody>\n",
              "</table>\n",
              "</div>\n",
              "      <button class=\"colab-df-convert\" onclick=\"convertToInteractive('df-ebf59858-6af2-4acf-9994-74868baf821f')\"\n",
              "              title=\"Convert this dataframe to an interactive table.\"\n",
              "              style=\"display:none;\">\n",
              "        \n",
              "  <svg xmlns=\"http://www.w3.org/2000/svg\" height=\"24px\"viewBox=\"0 0 24 24\"\n",
              "       width=\"24px\">\n",
              "    <path d=\"M0 0h24v24H0V0z\" fill=\"none\"/>\n",
              "    <path d=\"M18.56 5.44l.94 2.06.94-2.06 2.06-.94-2.06-.94-.94-2.06-.94 2.06-2.06.94zm-11 1L8.5 8.5l.94-2.06 2.06-.94-2.06-.94L8.5 2.5l-.94 2.06-2.06.94zm10 10l.94 2.06.94-2.06 2.06-.94-2.06-.94-.94-2.06-.94 2.06-2.06.94z\"/><path d=\"M17.41 7.96l-1.37-1.37c-.4-.4-.92-.59-1.43-.59-.52 0-1.04.2-1.43.59L10.3 9.45l-7.72 7.72c-.78.78-.78 2.05 0 2.83L4 21.41c.39.39.9.59 1.41.59.51 0 1.02-.2 1.41-.59l7.78-7.78 2.81-2.81c.8-.78.8-2.07 0-2.86zM5.41 20L4 18.59l7.72-7.72 1.47 1.35L5.41 20z\"/>\n",
              "  </svg>\n",
              "      </button>\n",
              "      \n",
              "  <style>\n",
              "    .colab-df-container {\n",
              "      display:flex;\n",
              "      flex-wrap:wrap;\n",
              "      gap: 12px;\n",
              "    }\n",
              "\n",
              "    .colab-df-convert {\n",
              "      background-color: #E8F0FE;\n",
              "      border: none;\n",
              "      border-radius: 50%;\n",
              "      cursor: pointer;\n",
              "      display: none;\n",
              "      fill: #1967D2;\n",
              "      height: 32px;\n",
              "      padding: 0 0 0 0;\n",
              "      width: 32px;\n",
              "    }\n",
              "\n",
              "    .colab-df-convert:hover {\n",
              "      background-color: #E2EBFA;\n",
              "      box-shadow: 0px 1px 2px rgba(60, 64, 67, 0.3), 0px 1px 3px 1px rgba(60, 64, 67, 0.15);\n",
              "      fill: #174EA6;\n",
              "    }\n",
              "\n",
              "    [theme=dark] .colab-df-convert {\n",
              "      background-color: #3B4455;\n",
              "      fill: #D2E3FC;\n",
              "    }\n",
              "\n",
              "    [theme=dark] .colab-df-convert:hover {\n",
              "      background-color: #434B5C;\n",
              "      box-shadow: 0px 1px 3px 1px rgba(0, 0, 0, 0.15);\n",
              "      filter: drop-shadow(0px 1px 2px rgba(0, 0, 0, 0.3));\n",
              "      fill: #FFFFFF;\n",
              "    }\n",
              "  </style>\n",
              "\n",
              "      <script>\n",
              "        const buttonEl =\n",
              "          document.querySelector('#df-ebf59858-6af2-4acf-9994-74868baf821f button.colab-df-convert');\n",
              "        buttonEl.style.display =\n",
              "          google.colab.kernel.accessAllowed ? 'block' : 'none';\n",
              "\n",
              "        async function convertToInteractive(key) {\n",
              "          const element = document.querySelector('#df-ebf59858-6af2-4acf-9994-74868baf821f');\n",
              "          const dataTable =\n",
              "            await google.colab.kernel.invokeFunction('convertToInteractive',\n",
              "                                                     [key], {});\n",
              "          if (!dataTable) return;\n",
              "\n",
              "          const docLinkHtml = 'Like what you see? Visit the ' +\n",
              "            '<a target=\"_blank\" href=https://colab.research.google.com/notebooks/data_table.ipynb>data table notebook</a>'\n",
              "            + ' to learn more about interactive tables.';\n",
              "          element.innerHTML = '';\n",
              "          dataTable['output_type'] = 'display_data';\n",
              "          await google.colab.output.renderOutput(dataTable, element);\n",
              "          const docLink = document.createElement('div');\n",
              "          docLink.innerHTML = docLinkHtml;\n",
              "          element.appendChild(docLink);\n",
              "        }\n",
              "      </script>\n",
              "    </div>\n",
              "  </div>\n",
              "  "
            ]
          },
          "metadata": {},
          "execution_count": 642
        }
      ]
    },
    {
      "cell_type": "code",
      "source": [
        "dt_t = df.corr()"
      ],
      "metadata": {
        "id": "Yj_CbrnXhO1_"
      },
      "execution_count": null,
      "outputs": []
    },
    {
      "cell_type": "code",
      "source": [
        "dt_t = pd.DataFrame(dt_t)\n",
        "dt_t"
      ],
      "metadata": {
        "id": "2yNZBevkhTiY",
        "colab": {
          "base_uri": "https://localhost:8080/",
          "height": 614
        },
        "outputId": "d7b05f79-f9f1-40c2-c790-60f4fc35d553"
      },
      "execution_count": null,
      "outputs": [
        {
          "output_type": "execute_result",
          "data": {
            "text/plain": [
              "               천만여부        연도     누적관객수       매출액      스크린수       제작비  \\\n",
              "천만여부       1.000000 -0.449740  0.851810  0.752408  0.111716  0.224487   \n",
              "연도        -0.449740  1.000000 -0.397935 -0.111713  0.631503  0.098593   \n",
              "누적관객수      0.851810 -0.397935  1.000000  0.908288  0.266041  0.220281   \n",
              "매출액        0.752408 -0.111713  0.908288  1.000000  0.473582  0.296765   \n",
              "스크린수       0.111716  0.631503  0.266041  0.473582  1.000000  0.392355   \n",
              "제작비        0.224487  0.098593  0.220281  0.296765  0.392355  1.000000   \n",
              "넷플릭스      -0.368951  0.209711 -0.385184 -0.323629  0.042054 -0.053995   \n",
              "네이버평점      0.392985 -0.177879  0.540455  0.513154  0.077877  0.290305   \n",
              "국-내외       0.014602  0.112270  0.038622  0.111909  0.167293  0.797820   \n",
              "개봉월        0.053852 -0.065704  0.073421  0.095914  0.005968 -0.035703   \n",
              "연령가       -0.094978 -0.109673 -0.108064 -0.143090 -0.160278 -0.497445   \n",
              "시리즈여부      0.063566  0.174350  0.155685  0.228986  0.400080  0.471346   \n",
              "상영횟수       0.523654  0.204801  0.723470  0.849486  0.642231  0.324163   \n",
              "러닝타임       0.249205 -0.181522  0.316455  0.279608  0.238095  0.429081   \n",
              "수상여부       0.289683 -0.244158  0.394539  0.330482  0.011016  0.061117   \n",
              "원작여부      -0.034295  0.071043  0.015626  0.003956  0.218157  0.295681   \n",
              "주연배우수      0.231589  0.018195  0.212842  0.260251  0.288479  0.316704   \n",
              "대표배우필모그래피  0.136544 -0.097085  0.154302  0.113987  0.028878 -0.197110   \n",
              "\n",
              "               넷플릭스     네이버평점      국-내외       개봉월       연령가     시리즈여부  \\\n",
              "천만여부      -0.368951  0.392985  0.014602  0.053852 -0.094978  0.063566   \n",
              "연도         0.209711 -0.177879  0.112270 -0.065704 -0.109673  0.174350   \n",
              "누적관객수     -0.385184  0.540455  0.038622  0.073421 -0.108064  0.155685   \n",
              "매출액       -0.323629  0.513154  0.111909  0.095914 -0.143090  0.228986   \n",
              "스크린수       0.042054  0.077877  0.167293  0.005968 -0.160278  0.400080   \n",
              "제작비       -0.053995  0.290305  0.797820 -0.035703 -0.497445  0.471346   \n",
              "넷플릭스       1.000000 -0.222314 -0.126734 -0.232861  0.033207 -0.129000   \n",
              "네이버평점     -0.222314  1.000000  0.303915  0.001814 -0.198638  0.082646   \n",
              "국-내외      -0.126734  0.303915  1.000000 -0.032748 -0.510778  0.382740   \n",
              "개봉월       -0.232861  0.001814 -0.032748  1.000000 -0.093132  0.003652   \n",
              "연령가        0.033207 -0.198638 -0.510778 -0.093132  1.000000 -0.217660   \n",
              "시리즈여부     -0.129000  0.082646  0.382740  0.003652 -0.217660  1.000000   \n",
              "상영횟수      -0.178277  0.479516  0.152087 -0.003448 -0.151159  0.242544   \n",
              "러닝타임      -0.209791  0.127039  0.248279  0.215151 -0.102478  0.224571   \n",
              "수상여부      -0.224658  0.327145  0.037547  0.137533 -0.087672 -0.015410   \n",
              "원작여부      -0.025755  0.080018  0.280848  0.004443 -0.150374  0.349590   \n",
              "주연배우수     -0.118225  0.102523  0.073163  0.056985 -0.197972  0.146547   \n",
              "대표배우필모그래피  0.039442  0.087814 -0.226685  0.096764  0.195115 -0.103546   \n",
              "\n",
              "               상영횟수      러닝타임      수상여부      원작여부     주연배우수  대표배우필모그래피  \n",
              "천만여부       0.523654  0.249205  0.289683 -0.034295  0.231589   0.136544  \n",
              "연도         0.204801 -0.181522 -0.244158  0.071043  0.018195  -0.097085  \n",
              "누적관객수      0.723470  0.316455  0.394539  0.015626  0.212842   0.154302  \n",
              "매출액        0.849486  0.279608  0.330482  0.003956  0.260251   0.113987  \n",
              "스크린수       0.642231  0.238095  0.011016  0.218157  0.288479   0.028878  \n",
              "제작비        0.324163  0.429081  0.061117  0.295681  0.316704  -0.197110  \n",
              "넷플릭스      -0.178277 -0.209791 -0.224658 -0.025755 -0.118225   0.039442  \n",
              "네이버평점      0.479516  0.127039  0.327145  0.080018  0.102523   0.087814  \n",
              "국-내외       0.152087  0.248279  0.037547  0.280848  0.073163  -0.226685  \n",
              "개봉월       -0.003448  0.215151  0.137533  0.004443  0.056985   0.096764  \n",
              "연령가       -0.151159 -0.102478 -0.087672 -0.150374 -0.197972   0.195115  \n",
              "시리즈여부      0.242544  0.224571 -0.015410  0.349590  0.146547  -0.103546  \n",
              "상영횟수       1.000000  0.146674  0.269413  0.026298  0.248868   0.102464  \n",
              "러닝타임       0.146674  1.000000  0.168400  0.141383  0.365617   0.006069  \n",
              "수상여부       0.269413  0.168400  1.000000  0.124545  0.100490   0.031068  \n",
              "원작여부       0.026298  0.141383  0.124545  1.000000  0.050043  -0.091406  \n",
              "주연배우수      0.248868  0.365617  0.100490  0.050043  1.000000  -0.057855  \n",
              "대표배우필모그래피  0.102464  0.006069  0.031068 -0.091406 -0.057855   1.000000  "
            ],
            "text/html": [
              "\n",
              "  <div id=\"df-68607156-5b02-4d40-bc3f-dfb2e35f99b6\">\n",
              "    <div class=\"colab-df-container\">\n",
              "      <div>\n",
              "<style scoped>\n",
              "    .dataframe tbody tr th:only-of-type {\n",
              "        vertical-align: middle;\n",
              "    }\n",
              "\n",
              "    .dataframe tbody tr th {\n",
              "        vertical-align: top;\n",
              "    }\n",
              "\n",
              "    .dataframe thead th {\n",
              "        text-align: right;\n",
              "    }\n",
              "</style>\n",
              "<table border=\"1\" class=\"dataframe\">\n",
              "  <thead>\n",
              "    <tr style=\"text-align: right;\">\n",
              "      <th></th>\n",
              "      <th>천만여부</th>\n",
              "      <th>연도</th>\n",
              "      <th>누적관객수</th>\n",
              "      <th>매출액</th>\n",
              "      <th>스크린수</th>\n",
              "      <th>제작비</th>\n",
              "      <th>넷플릭스</th>\n",
              "      <th>네이버평점</th>\n",
              "      <th>국-내외</th>\n",
              "      <th>개봉월</th>\n",
              "      <th>연령가</th>\n",
              "      <th>시리즈여부</th>\n",
              "      <th>상영횟수</th>\n",
              "      <th>러닝타임</th>\n",
              "      <th>수상여부</th>\n",
              "      <th>원작여부</th>\n",
              "      <th>주연배우수</th>\n",
              "      <th>대표배우필모그래피</th>\n",
              "    </tr>\n",
              "  </thead>\n",
              "  <tbody>\n",
              "    <tr>\n",
              "      <th>천만여부</th>\n",
              "      <td>1.000000</td>\n",
              "      <td>-0.449740</td>\n",
              "      <td>0.851810</td>\n",
              "      <td>0.752408</td>\n",
              "      <td>0.111716</td>\n",
              "      <td>0.224487</td>\n",
              "      <td>-0.368951</td>\n",
              "      <td>0.392985</td>\n",
              "      <td>0.014602</td>\n",
              "      <td>0.053852</td>\n",
              "      <td>-0.094978</td>\n",
              "      <td>0.063566</td>\n",
              "      <td>0.523654</td>\n",
              "      <td>0.249205</td>\n",
              "      <td>0.289683</td>\n",
              "      <td>-0.034295</td>\n",
              "      <td>0.231589</td>\n",
              "      <td>0.136544</td>\n",
              "    </tr>\n",
              "    <tr>\n",
              "      <th>연도</th>\n",
              "      <td>-0.449740</td>\n",
              "      <td>1.000000</td>\n",
              "      <td>-0.397935</td>\n",
              "      <td>-0.111713</td>\n",
              "      <td>0.631503</td>\n",
              "      <td>0.098593</td>\n",
              "      <td>0.209711</td>\n",
              "      <td>-0.177879</td>\n",
              "      <td>0.112270</td>\n",
              "      <td>-0.065704</td>\n",
              "      <td>-0.109673</td>\n",
              "      <td>0.174350</td>\n",
              "      <td>0.204801</td>\n",
              "      <td>-0.181522</td>\n",
              "      <td>-0.244158</td>\n",
              "      <td>0.071043</td>\n",
              "      <td>0.018195</td>\n",
              "      <td>-0.097085</td>\n",
              "    </tr>\n",
              "    <tr>\n",
              "      <th>누적관객수</th>\n",
              "      <td>0.851810</td>\n",
              "      <td>-0.397935</td>\n",
              "      <td>1.000000</td>\n",
              "      <td>0.908288</td>\n",
              "      <td>0.266041</td>\n",
              "      <td>0.220281</td>\n",
              "      <td>-0.385184</td>\n",
              "      <td>0.540455</td>\n",
              "      <td>0.038622</td>\n",
              "      <td>0.073421</td>\n",
              "      <td>-0.108064</td>\n",
              "      <td>0.155685</td>\n",
              "      <td>0.723470</td>\n",
              "      <td>0.316455</td>\n",
              "      <td>0.394539</td>\n",
              "      <td>0.015626</td>\n",
              "      <td>0.212842</td>\n",
              "      <td>0.154302</td>\n",
              "    </tr>\n",
              "    <tr>\n",
              "      <th>매출액</th>\n",
              "      <td>0.752408</td>\n",
              "      <td>-0.111713</td>\n",
              "      <td>0.908288</td>\n",
              "      <td>1.000000</td>\n",
              "      <td>0.473582</td>\n",
              "      <td>0.296765</td>\n",
              "      <td>-0.323629</td>\n",
              "      <td>0.513154</td>\n",
              "      <td>0.111909</td>\n",
              "      <td>0.095914</td>\n",
              "      <td>-0.143090</td>\n",
              "      <td>0.228986</td>\n",
              "      <td>0.849486</td>\n",
              "      <td>0.279608</td>\n",
              "      <td>0.330482</td>\n",
              "      <td>0.003956</td>\n",
              "      <td>0.260251</td>\n",
              "      <td>0.113987</td>\n",
              "    </tr>\n",
              "    <tr>\n",
              "      <th>스크린수</th>\n",
              "      <td>0.111716</td>\n",
              "      <td>0.631503</td>\n",
              "      <td>0.266041</td>\n",
              "      <td>0.473582</td>\n",
              "      <td>1.000000</td>\n",
              "      <td>0.392355</td>\n",
              "      <td>0.042054</td>\n",
              "      <td>0.077877</td>\n",
              "      <td>0.167293</td>\n",
              "      <td>0.005968</td>\n",
              "      <td>-0.160278</td>\n",
              "      <td>0.400080</td>\n",
              "      <td>0.642231</td>\n",
              "      <td>0.238095</td>\n",
              "      <td>0.011016</td>\n",
              "      <td>0.218157</td>\n",
              "      <td>0.288479</td>\n",
              "      <td>0.028878</td>\n",
              "    </tr>\n",
              "    <tr>\n",
              "      <th>제작비</th>\n",
              "      <td>0.224487</td>\n",
              "      <td>0.098593</td>\n",
              "      <td>0.220281</td>\n",
              "      <td>0.296765</td>\n",
              "      <td>0.392355</td>\n",
              "      <td>1.000000</td>\n",
              "      <td>-0.053995</td>\n",
              "      <td>0.290305</td>\n",
              "      <td>0.797820</td>\n",
              "      <td>-0.035703</td>\n",
              "      <td>-0.497445</td>\n",
              "      <td>0.471346</td>\n",
              "      <td>0.324163</td>\n",
              "      <td>0.429081</td>\n",
              "      <td>0.061117</td>\n",
              "      <td>0.295681</td>\n",
              "      <td>0.316704</td>\n",
              "      <td>-0.197110</td>\n",
              "    </tr>\n",
              "    <tr>\n",
              "      <th>넷플릭스</th>\n",
              "      <td>-0.368951</td>\n",
              "      <td>0.209711</td>\n",
              "      <td>-0.385184</td>\n",
              "      <td>-0.323629</td>\n",
              "      <td>0.042054</td>\n",
              "      <td>-0.053995</td>\n",
              "      <td>1.000000</td>\n",
              "      <td>-0.222314</td>\n",
              "      <td>-0.126734</td>\n",
              "      <td>-0.232861</td>\n",
              "      <td>0.033207</td>\n",
              "      <td>-0.129000</td>\n",
              "      <td>-0.178277</td>\n",
              "      <td>-0.209791</td>\n",
              "      <td>-0.224658</td>\n",
              "      <td>-0.025755</td>\n",
              "      <td>-0.118225</td>\n",
              "      <td>0.039442</td>\n",
              "    </tr>\n",
              "    <tr>\n",
              "      <th>네이버평점</th>\n",
              "      <td>0.392985</td>\n",
              "      <td>-0.177879</td>\n",
              "      <td>0.540455</td>\n",
              "      <td>0.513154</td>\n",
              "      <td>0.077877</td>\n",
              "      <td>0.290305</td>\n",
              "      <td>-0.222314</td>\n",
              "      <td>1.000000</td>\n",
              "      <td>0.303915</td>\n",
              "      <td>0.001814</td>\n",
              "      <td>-0.198638</td>\n",
              "      <td>0.082646</td>\n",
              "      <td>0.479516</td>\n",
              "      <td>0.127039</td>\n",
              "      <td>0.327145</td>\n",
              "      <td>0.080018</td>\n",
              "      <td>0.102523</td>\n",
              "      <td>0.087814</td>\n",
              "    </tr>\n",
              "    <tr>\n",
              "      <th>국-내외</th>\n",
              "      <td>0.014602</td>\n",
              "      <td>0.112270</td>\n",
              "      <td>0.038622</td>\n",
              "      <td>0.111909</td>\n",
              "      <td>0.167293</td>\n",
              "      <td>0.797820</td>\n",
              "      <td>-0.126734</td>\n",
              "      <td>0.303915</td>\n",
              "      <td>1.000000</td>\n",
              "      <td>-0.032748</td>\n",
              "      <td>-0.510778</td>\n",
              "      <td>0.382740</td>\n",
              "      <td>0.152087</td>\n",
              "      <td>0.248279</td>\n",
              "      <td>0.037547</td>\n",
              "      <td>0.280848</td>\n",
              "      <td>0.073163</td>\n",
              "      <td>-0.226685</td>\n",
              "    </tr>\n",
              "    <tr>\n",
              "      <th>개봉월</th>\n",
              "      <td>0.053852</td>\n",
              "      <td>-0.065704</td>\n",
              "      <td>0.073421</td>\n",
              "      <td>0.095914</td>\n",
              "      <td>0.005968</td>\n",
              "      <td>-0.035703</td>\n",
              "      <td>-0.232861</td>\n",
              "      <td>0.001814</td>\n",
              "      <td>-0.032748</td>\n",
              "      <td>1.000000</td>\n",
              "      <td>-0.093132</td>\n",
              "      <td>0.003652</td>\n",
              "      <td>-0.003448</td>\n",
              "      <td>0.215151</td>\n",
              "      <td>0.137533</td>\n",
              "      <td>0.004443</td>\n",
              "      <td>0.056985</td>\n",
              "      <td>0.096764</td>\n",
              "    </tr>\n",
              "    <tr>\n",
              "      <th>연령가</th>\n",
              "      <td>-0.094978</td>\n",
              "      <td>-0.109673</td>\n",
              "      <td>-0.108064</td>\n",
              "      <td>-0.143090</td>\n",
              "      <td>-0.160278</td>\n",
              "      <td>-0.497445</td>\n",
              "      <td>0.033207</td>\n",
              "      <td>-0.198638</td>\n",
              "      <td>-0.510778</td>\n",
              "      <td>-0.093132</td>\n",
              "      <td>1.000000</td>\n",
              "      <td>-0.217660</td>\n",
              "      <td>-0.151159</td>\n",
              "      <td>-0.102478</td>\n",
              "      <td>-0.087672</td>\n",
              "      <td>-0.150374</td>\n",
              "      <td>-0.197972</td>\n",
              "      <td>0.195115</td>\n",
              "    </tr>\n",
              "    <tr>\n",
              "      <th>시리즈여부</th>\n",
              "      <td>0.063566</td>\n",
              "      <td>0.174350</td>\n",
              "      <td>0.155685</td>\n",
              "      <td>0.228986</td>\n",
              "      <td>0.400080</td>\n",
              "      <td>0.471346</td>\n",
              "      <td>-0.129000</td>\n",
              "      <td>0.082646</td>\n",
              "      <td>0.382740</td>\n",
              "      <td>0.003652</td>\n",
              "      <td>-0.217660</td>\n",
              "      <td>1.000000</td>\n",
              "      <td>0.242544</td>\n",
              "      <td>0.224571</td>\n",
              "      <td>-0.015410</td>\n",
              "      <td>0.349590</td>\n",
              "      <td>0.146547</td>\n",
              "      <td>-0.103546</td>\n",
              "    </tr>\n",
              "    <tr>\n",
              "      <th>상영횟수</th>\n",
              "      <td>0.523654</td>\n",
              "      <td>0.204801</td>\n",
              "      <td>0.723470</td>\n",
              "      <td>0.849486</td>\n",
              "      <td>0.642231</td>\n",
              "      <td>0.324163</td>\n",
              "      <td>-0.178277</td>\n",
              "      <td>0.479516</td>\n",
              "      <td>0.152087</td>\n",
              "      <td>-0.003448</td>\n",
              "      <td>-0.151159</td>\n",
              "      <td>0.242544</td>\n",
              "      <td>1.000000</td>\n",
              "      <td>0.146674</td>\n",
              "      <td>0.269413</td>\n",
              "      <td>0.026298</td>\n",
              "      <td>0.248868</td>\n",
              "      <td>0.102464</td>\n",
              "    </tr>\n",
              "    <tr>\n",
              "      <th>러닝타임</th>\n",
              "      <td>0.249205</td>\n",
              "      <td>-0.181522</td>\n",
              "      <td>0.316455</td>\n",
              "      <td>0.279608</td>\n",
              "      <td>0.238095</td>\n",
              "      <td>0.429081</td>\n",
              "      <td>-0.209791</td>\n",
              "      <td>0.127039</td>\n",
              "      <td>0.248279</td>\n",
              "      <td>0.215151</td>\n",
              "      <td>-0.102478</td>\n",
              "      <td>0.224571</td>\n",
              "      <td>0.146674</td>\n",
              "      <td>1.000000</td>\n",
              "      <td>0.168400</td>\n",
              "      <td>0.141383</td>\n",
              "      <td>0.365617</td>\n",
              "      <td>0.006069</td>\n",
              "    </tr>\n",
              "    <tr>\n",
              "      <th>수상여부</th>\n",
              "      <td>0.289683</td>\n",
              "      <td>-0.244158</td>\n",
              "      <td>0.394539</td>\n",
              "      <td>0.330482</td>\n",
              "      <td>0.011016</td>\n",
              "      <td>0.061117</td>\n",
              "      <td>-0.224658</td>\n",
              "      <td>0.327145</td>\n",
              "      <td>0.037547</td>\n",
              "      <td>0.137533</td>\n",
              "      <td>-0.087672</td>\n",
              "      <td>-0.015410</td>\n",
              "      <td>0.269413</td>\n",
              "      <td>0.168400</td>\n",
              "      <td>1.000000</td>\n",
              "      <td>0.124545</td>\n",
              "      <td>0.100490</td>\n",
              "      <td>0.031068</td>\n",
              "    </tr>\n",
              "    <tr>\n",
              "      <th>원작여부</th>\n",
              "      <td>-0.034295</td>\n",
              "      <td>0.071043</td>\n",
              "      <td>0.015626</td>\n",
              "      <td>0.003956</td>\n",
              "      <td>0.218157</td>\n",
              "      <td>0.295681</td>\n",
              "      <td>-0.025755</td>\n",
              "      <td>0.080018</td>\n",
              "      <td>0.280848</td>\n",
              "      <td>0.004443</td>\n",
              "      <td>-0.150374</td>\n",
              "      <td>0.349590</td>\n",
              "      <td>0.026298</td>\n",
              "      <td>0.141383</td>\n",
              "      <td>0.124545</td>\n",
              "      <td>1.000000</td>\n",
              "      <td>0.050043</td>\n",
              "      <td>-0.091406</td>\n",
              "    </tr>\n",
              "    <tr>\n",
              "      <th>주연배우수</th>\n",
              "      <td>0.231589</td>\n",
              "      <td>0.018195</td>\n",
              "      <td>0.212842</td>\n",
              "      <td>0.260251</td>\n",
              "      <td>0.288479</td>\n",
              "      <td>0.316704</td>\n",
              "      <td>-0.118225</td>\n",
              "      <td>0.102523</td>\n",
              "      <td>0.073163</td>\n",
              "      <td>0.056985</td>\n",
              "      <td>-0.197972</td>\n",
              "      <td>0.146547</td>\n",
              "      <td>0.248868</td>\n",
              "      <td>0.365617</td>\n",
              "      <td>0.100490</td>\n",
              "      <td>0.050043</td>\n",
              "      <td>1.000000</td>\n",
              "      <td>-0.057855</td>\n",
              "    </tr>\n",
              "    <tr>\n",
              "      <th>대표배우필모그래피</th>\n",
              "      <td>0.136544</td>\n",
              "      <td>-0.097085</td>\n",
              "      <td>0.154302</td>\n",
              "      <td>0.113987</td>\n",
              "      <td>0.028878</td>\n",
              "      <td>-0.197110</td>\n",
              "      <td>0.039442</td>\n",
              "      <td>0.087814</td>\n",
              "      <td>-0.226685</td>\n",
              "      <td>0.096764</td>\n",
              "      <td>0.195115</td>\n",
              "      <td>-0.103546</td>\n",
              "      <td>0.102464</td>\n",
              "      <td>0.006069</td>\n",
              "      <td>0.031068</td>\n",
              "      <td>-0.091406</td>\n",
              "      <td>-0.057855</td>\n",
              "      <td>1.000000</td>\n",
              "    </tr>\n",
              "  </tbody>\n",
              "</table>\n",
              "</div>\n",
              "      <button class=\"colab-df-convert\" onclick=\"convertToInteractive('df-68607156-5b02-4d40-bc3f-dfb2e35f99b6')\"\n",
              "              title=\"Convert this dataframe to an interactive table.\"\n",
              "              style=\"display:none;\">\n",
              "        \n",
              "  <svg xmlns=\"http://www.w3.org/2000/svg\" height=\"24px\"viewBox=\"0 0 24 24\"\n",
              "       width=\"24px\">\n",
              "    <path d=\"M0 0h24v24H0V0z\" fill=\"none\"/>\n",
              "    <path d=\"M18.56 5.44l.94 2.06.94-2.06 2.06-.94-2.06-.94-.94-2.06-.94 2.06-2.06.94zm-11 1L8.5 8.5l.94-2.06 2.06-.94-2.06-.94L8.5 2.5l-.94 2.06-2.06.94zm10 10l.94 2.06.94-2.06 2.06-.94-2.06-.94-.94-2.06-.94 2.06-2.06.94z\"/><path d=\"M17.41 7.96l-1.37-1.37c-.4-.4-.92-.59-1.43-.59-.52 0-1.04.2-1.43.59L10.3 9.45l-7.72 7.72c-.78.78-.78 2.05 0 2.83L4 21.41c.39.39.9.59 1.41.59.51 0 1.02-.2 1.41-.59l7.78-7.78 2.81-2.81c.8-.78.8-2.07 0-2.86zM5.41 20L4 18.59l7.72-7.72 1.47 1.35L5.41 20z\"/>\n",
              "  </svg>\n",
              "      </button>\n",
              "      \n",
              "  <style>\n",
              "    .colab-df-container {\n",
              "      display:flex;\n",
              "      flex-wrap:wrap;\n",
              "      gap: 12px;\n",
              "    }\n",
              "\n",
              "    .colab-df-convert {\n",
              "      background-color: #E8F0FE;\n",
              "      border: none;\n",
              "      border-radius: 50%;\n",
              "      cursor: pointer;\n",
              "      display: none;\n",
              "      fill: #1967D2;\n",
              "      height: 32px;\n",
              "      padding: 0 0 0 0;\n",
              "      width: 32px;\n",
              "    }\n",
              "\n",
              "    .colab-df-convert:hover {\n",
              "      background-color: #E2EBFA;\n",
              "      box-shadow: 0px 1px 2px rgba(60, 64, 67, 0.3), 0px 1px 3px 1px rgba(60, 64, 67, 0.15);\n",
              "      fill: #174EA6;\n",
              "    }\n",
              "\n",
              "    [theme=dark] .colab-df-convert {\n",
              "      background-color: #3B4455;\n",
              "      fill: #D2E3FC;\n",
              "    }\n",
              "\n",
              "    [theme=dark] .colab-df-convert:hover {\n",
              "      background-color: #434B5C;\n",
              "      box-shadow: 0px 1px 3px 1px rgba(0, 0, 0, 0.15);\n",
              "      filter: drop-shadow(0px 1px 2px rgba(0, 0, 0, 0.3));\n",
              "      fill: #FFFFFF;\n",
              "    }\n",
              "  </style>\n",
              "\n",
              "      <script>\n",
              "        const buttonEl =\n",
              "          document.querySelector('#df-68607156-5b02-4d40-bc3f-dfb2e35f99b6 button.colab-df-convert');\n",
              "        buttonEl.style.display =\n",
              "          google.colab.kernel.accessAllowed ? 'block' : 'none';\n",
              "\n",
              "        async function convertToInteractive(key) {\n",
              "          const element = document.querySelector('#df-68607156-5b02-4d40-bc3f-dfb2e35f99b6');\n",
              "          const dataTable =\n",
              "            await google.colab.kernel.invokeFunction('convertToInteractive',\n",
              "                                                     [key], {});\n",
              "          if (!dataTable) return;\n",
              "\n",
              "          const docLinkHtml = 'Like what you see? Visit the ' +\n",
              "            '<a target=\"_blank\" href=https://colab.research.google.com/notebooks/data_table.ipynb>data table notebook</a>'\n",
              "            + ' to learn more about interactive tables.';\n",
              "          element.innerHTML = '';\n",
              "          dataTable['output_type'] = 'display_data';\n",
              "          await google.colab.output.renderOutput(dataTable, element);\n",
              "          const docLink = document.createElement('div');\n",
              "          docLink.innerHTML = docLinkHtml;\n",
              "          element.appendChild(docLink);\n",
              "        }\n",
              "      </script>\n",
              "    </div>\n",
              "  </div>\n",
              "  "
            ]
          },
          "metadata": {},
          "execution_count": 644
        }
      ]
    },
    {
      "cell_type": "code",
      "source": [
        "df.columns"
      ],
      "metadata": {
        "colab": {
          "base_uri": "https://localhost:8080/"
        },
        "id": "rHtH1bYrka8j",
        "outputId": "cb829550-598c-4442-eac9-7a7ca238aa69"
      },
      "execution_count": null,
      "outputs": [
        {
          "output_type": "execute_result",
          "data": {
            "text/plain": [
              "Index(['영화제목', '천만여부', '연도', '누적관객수', '매출액', '스크린수', '제작비', '넷플릭스', '배급사',\n",
              "       '네이버평점', '국-내외', '영화분류', '개봉월', '연령가', '시리즈여부', '상영횟수', '감독', '러닝타임',\n",
              "       '수상여부', '원작여부', '주연배우수', '주연배우', '대표배우필모그래피'],\n",
              "      dtype='object')"
            ]
          },
          "metadata": {},
          "execution_count": 645
        }
      ]
    },
    {
      "cell_type": "code",
      "source": [
        "#필요열(변수,feature)만 뽑아서 데이터 만들기\n",
        "X=df[[\"누적관객수\",\"매출액\",\"상영횟수\",\"천만여부\"]]\n",
        "Y=df[\"대표배우필모그래피\"]\n",
        "\n",
        "#데이터분할 (train,test)\n",
        "X_train,X_test,Y_train,Y_test=train_test_split(X,Y,test_size=0.3,random_state=0)\n",
        "\n",
        "#model 만들기\n",
        "model=KNeighborsRegressor()\n",
        "\n",
        "#교차검증\n",
        "score = cross_val_score(model, X_train, Y_train, cv=10)\n",
        "print(\"교차검증점수:\", score)"
      ],
      "metadata": {
        "colab": {
          "base_uri": "https://localhost:8080/"
        },
        "id": "OXEwRtzsgLew",
        "outputId": "ee1bbcae-f473-4bfa-c4ba-ccef9eb5e94e"
      },
      "execution_count": null,
      "outputs": [
        {
          "output_type": "stream",
          "name": "stdout",
          "text": [
            "교차검증점수: [ 0.13953792 -5.57744487 -0.07229917 -0.3596618  -0.7027021   0.00877756\n",
            "  0.26980457 -0.15236852  0.07955899 -0.90229343]\n"
          ]
        }
      ]
    },
    {
      "cell_type": "code",
      "source": [
        "from sklearn.neighbors import KNeighborsClassifier\n",
        "from sklearn.model_selection import StratifiedKFold\n",
        "\n",
        "X=df[[\"매출액\",\"상영횟수\",\"네이버평점\",\"시리즈여부\",\"러닝타임\"]]\n",
        "Y=df[\"연령가\"]\n",
        "\n",
        "#데이터분할 (train,test)\n",
        "X_train,X_test,Y_train,Y_test=train_test_split(X,Y,test_size=0.3,random_state=0)\n",
        "\n",
        "#model 만들기\n",
        "model=KNeighborsClassifier()\n",
        "\n",
        "#검증\n",
        "skf=StratifiedKFold(n_splits=5,shuffle=True,random_state=0)\n",
        "scores=cross_val_score(model,X_train,Y_train,cv=skf)\n",
        "print(\"교차검증점수:\", scores)"
      ],
      "metadata": {
        "colab": {
          "base_uri": "https://localhost:8080/"
        },
        "id": "KdquOJ3enH3e",
        "outputId": "086f5dd8-5636-4f8f-a89a-cd9afbab5041"
      },
      "execution_count": null,
      "outputs": [
        {
          "output_type": "stream",
          "name": "stdout",
          "text": [
            "교차검증점수: [0.5        0.71428571 0.71428571 0.71428571 0.57142857]\n"
          ]
        }
      ]
    },
    {
      "cell_type": "markdown",
      "source": [
        "#Grid Search"
      ],
      "metadata": {
        "id": "5GgQDeRytXFR"
      }
    },
    {
      "cell_type": "code",
      "source": [
        "#격자:grid\n",
        "from sklearn.model_selection import GridSearchCV\n",
        "\n",
        "#필요열(변수,feature)만 뽑아서 데이터 만들기\n",
        "X=df[[\"매출액\",\"상영횟수\",\"네이버평점\",\"시리즈여부\",\"러닝타임\"]]\n",
        "Y=df[\"연령가\"]\n",
        "\n",
        "#데이터분할 (train,test)\n",
        "X_train,X_test,Y_train,Y_test=train_test_split(X,Y,test_size=0.3,random_state=0)\n",
        "\n",
        "#model 만들기\n",
        "model=KNeighborsClassifier()\n",
        "\n",
        "#Grid 인자 검색\n",
        "mylist=list(range(1,50))\n",
        "k_list=[x for x in mylist if x%2 !=0]\n",
        "parameter_grid={\"n_neighbors\":k_list}"
      ],
      "metadata": {
        "id": "v-nFF6x7snqz"
      },
      "execution_count": null,
      "outputs": []
    },
    {
      "cell_type": "code",
      "source": [
        "grid_search=GridSearchCV(model,parameter_grid,cv=10)\n",
        "grid_search.fit(X_train,Y_train)"
      ],
      "metadata": {
        "colab": {
          "base_uri": "https://localhost:8080/"
        },
        "id": "Gih2JKf6ssob",
        "outputId": "30c61d3e-eb1d-4727-cc2f-e5050ea0ac4e"
      },
      "execution_count": null,
      "outputs": [
        {
          "output_type": "execute_result",
          "data": {
            "text/plain": [
              "GridSearchCV(cv=10, estimator=KNeighborsClassifier(),\n",
              "             param_grid={'n_neighbors': [1, 3, 5, 7, 9, 11, 13, 15, 17, 19, 21,\n",
              "                                         23, 25, 27, 29, 31, 33, 35, 37, 39, 41,\n",
              "                                         43, 45, 47, 49]})"
            ]
          },
          "metadata": {},
          "execution_count": 649
        }
      ]
    },
    {
      "cell_type": "code",
      "source": [
        "grid_search.best_params_"
      ],
      "metadata": {
        "colab": {
          "base_uri": "https://localhost:8080/"
        },
        "id": "FNpKXcPzswZs",
        "outputId": "637b99d4-df98-433c-bfbd-16808fc5c721"
      },
      "execution_count": null,
      "outputs": [
        {
          "output_type": "execute_result",
          "data": {
            "text/plain": [
              "{'n_neighbors': 17}"
            ]
          },
          "metadata": {},
          "execution_count": 650
        }
      ]
    },
    {
      "cell_type": "code",
      "source": [
        "from sklearn.metrics import accuracy_score\n",
        "be=grid_search.best_estimator_\n",
        "pred=be.predict(X_test)\n",
        "accuracy_score(Y_test,pred)"
      ],
      "metadata": {
        "colab": {
          "base_uri": "https://localhost:8080/"
        },
        "id": "60b8633Zs4Aj",
        "outputId": "38c8de56-39e0-4d5f-a080-55438c74108e"
      },
      "execution_count": null,
      "outputs": [
        {
          "output_type": "execute_result",
          "data": {
            "text/plain": [
              "0.4"
            ]
          },
          "metadata": {},
          "execution_count": 651
        }
      ]
    },
    {
      "cell_type": "code",
      "source": [
        "from sklearn.feature_selection import SelectKBest,chi2"
      ],
      "metadata": {
        "id": "zSMR1rKptAFH"
      },
      "execution_count": null,
      "outputs": []
    },
    {
      "cell_type": "code",
      "source": [
        "from imblearn.under_sampling import RandomUnderSampler\n",
        "from collections import Counter\n",
        "\n",
        "X_train_under, Y_train_under = RandomUnderSampler(random_state=0).fit_resample(X_train,Y_train)\n",
        "\n",
        "print(\"original data %s\" %Counter(Y)) \n",
        "print(\"original train data %s\" %Counter(Y_train)) \n",
        "print(\"under train data %s\" %Counter(Y_train_under))"
      ],
      "metadata": {
        "colab": {
          "base_uri": "https://localhost:8080/"
        },
        "id": "4tTSgO5ftEWR",
        "outputId": "c54c5823-9bac-40bb-c570-d5dacffbf898"
      },
      "execution_count": null,
      "outputs": [
        {
          "output_type": "stream",
          "name": "stdout",
          "text": [
            "original data Counter({1: 61, 0: 39})\n",
            "original train data Counter({1: 49, 0: 21})\n",
            "under train data Counter({0: 21, 1: 21})\n"
          ]
        }
      ]
    },
    {
      "cell_type": "code",
      "source": [
        "import seaborn as sns\n",
        "import numpy as np"
      ],
      "metadata": {
        "id": "1TTeoU2slmPB"
      },
      "execution_count": null,
      "outputs": []
    },
    {
      "cell_type": "markdown",
      "source": [
        "#선형회귀"
      ],
      "metadata": {
        "id": "cQe_jk96uRDi"
      }
    },
    {
      "cell_type": "code",
      "source": [
        "df[\"매출액\"]=np.log1p(df[\"매출액\"])\n",
        "sns.displot(df[\"매출액\"])"
      ],
      "metadata": {
        "id": "xIMXzBqjl5Rh",
        "colab": {
          "base_uri": "https://localhost:8080/",
          "height": 589
        },
        "outputId": "3feed9b7-7923-4a34-8752-141290cb7ff0"
      },
      "execution_count": null,
      "outputs": [
        {
          "output_type": "stream",
          "name": "stderr",
          "text": [
            "/usr/local/lib/python3.8/dist-packages/matplotlib/backends/backend_agg.py:214: RuntimeWarning: Glyph 47588 missing from current font.\n",
            "  font.set_text(s, 0.0, flags=flags)\n",
            "/usr/local/lib/python3.8/dist-packages/matplotlib/backends/backend_agg.py:214: RuntimeWarning: Glyph 52636 missing from current font.\n",
            "  font.set_text(s, 0.0, flags=flags)\n",
            "/usr/local/lib/python3.8/dist-packages/matplotlib/backends/backend_agg.py:214: RuntimeWarning: Glyph 50529 missing from current font.\n",
            "  font.set_text(s, 0.0, flags=flags)\n"
          ]
        },
        {
          "output_type": "execute_result",
          "data": {
            "text/plain": [
              "<seaborn.axisgrid.FacetGrid at 0x7f9b64375070>"
            ]
          },
          "metadata": {},
          "execution_count": 655
        },
        {
          "output_type": "stream",
          "name": "stderr",
          "text": [
            "/usr/local/lib/python3.8/dist-packages/matplotlib/backends/backend_agg.py:183: RuntimeWarning: Glyph 47588 missing from current font.\n",
            "  font.set_text(s, 0, flags=flags)\n",
            "/usr/local/lib/python3.8/dist-packages/matplotlib/backends/backend_agg.py:183: RuntimeWarning: Glyph 52636 missing from current font.\n",
            "  font.set_text(s, 0, flags=flags)\n",
            "/usr/local/lib/python3.8/dist-packages/matplotlib/backends/backend_agg.py:183: RuntimeWarning: Glyph 50529 missing from current font.\n",
            "  font.set_text(s, 0, flags=flags)\n"
          ]
        },
        {
          "output_type": "display_data",
          "data": {
            "text/plain": [
              "<Figure size 360x360 with 1 Axes>"
            ],
            "image/png": "[encoded data removed]"
          },
          "metadata": {
            "needs_background": "light"
          }
        }
      ]
    },
    {
      "cell_type": "code",
      "source": [
        "from sklearn.model_selection import train_test_split\n",
        "from sklearn.compose import ColumnTransformer\n",
        "from sklearn.preprocessing import StandardScaler\n",
        "from sklearn.preprocessing import OneHotEncoder \n",
        "\n",
        "num = ['누적관객수', '스크린수', '제작비', '상영횟수', '러닝타임', '대표배우필모그래피', '주연배우수']\n",
        "cg = ['천만여부', '넷플릭스','네이버평점', '국-내외', '개봉월', '수상여부', '원작여부', '시리즈여부']"
      ],
      "metadata": {
        "id": "wNeLwDEfte1r"
      },
      "execution_count": null,
      "outputs": []
    },
    {
      "cell_type": "code",
      "source": [
        "X = df[num+cg]\n",
        "Y = df[\"매출액\"]\n",
        "\n",
        "X_train, X_test, Y_train, Y_test = train_test_split(X, Y, test_size = 0.3, random_state = 0)\n",
        "\n",
        "ct = ColumnTransformer([('scling', StandardScaler(), num), ('onehot', OneHotEncoder(sparse=False), cg)])\n",
        "ct.fit(X_train)\n",
        "X_train = ct.transform(X_train)\n",
        "X_test = ct.transform(X_test)\n",
        "\n",
        "print(X_train[0])"
      ],
      "metadata": {
        "colab": {
          "base_uri": "https://localhost:8080/"
        },
        "id": "xacxVb3-uayA",
        "outputId": "a27a3503-a138-4e8a-939c-94b49204bd15"
      },
      "execution_count": null,
      "outputs": [
        {
          "output_type": "stream",
          "name": "stdout",
          "text": [
            "[-0.21972519  0.35314602 -0.37411422  0.31659661 -0.16465017  1.06744449\n",
            "  0.23065784  1.          0.          1.          0.          0.\n",
            "  0.          1.          0.          1.          0.          0.\n",
            "  0.          0.          0.          1.          0.          0.\n",
            "  0.          0.          0.          0.          0.          0.\n",
            "  1.          0.          1.          1.          0.        ]\n"
          ]
        }
      ]
    },
    {
      "cell_type": "code",
      "source": [
        "X_test"
      ],
      "metadata": {
        "colab": {
          "base_uri": "https://localhost:8080/"
        },
        "id": "BoVk1PhWwBiP",
        "outputId": "95f7dbd8-5667-48ec-8dd2-6ed0775da315"
      },
      "execution_count": null,
      "outputs": [
        {
          "output_type": "execute_result",
          "data": {
            "text/plain": [
              "array([[ 0.94151664,  0.32457874,  2.07070736, ...,  0.        ,\n",
              "         1.        ,  0.        ],\n",
              "       [-1.06146509,  0.80450908, -0.37538228, ...,  0.        ,\n",
              "         1.        ,  0.        ],\n",
              "       [ 1.84957344,  1.41013546, -0.26379292, ...,  1.        ,\n",
              "         0.        ,  1.        ],\n",
              "       ...,\n",
              "       [ 0.0422009 ,  0.07318666, -0.34748494, ...,  1.        ,\n",
              "         1.        ,  0.        ],\n",
              "       [ 0.4695698 ,  1.53011805,  2.16581193, ...,  0.        ,\n",
              "         0.        ,  1.        ],\n",
              "       [ 0.33111409,  3.38318242,  2.31544313, ...,  1.        ,\n",
              "         0.        ,  1.        ]])"
            ]
          },
          "metadata": {},
          "execution_count": 658
        }
      ]
    },
    {
      "cell_type": "code",
      "source": [
        "from sklearn.linear_model import LinearRegression\n",
        "from sklearn.metrics import mean_squared_error\n",
        "from math import sqrt\n",
        "\n",
        "lr=LinearRegression().fit(X_train,Y_train)\n",
        "\n",
        "Y_pred = lr.predict(X_test)\n",
        "print(\"predict value\\n\",Y_pred)\n",
        "print(\"train R2:{:.3f}\",format(lr.score(X_train,Y_train)))\n",
        "print(\"test R2:{:.3f}\",format(lr.score(X_test,Y_test)))\n",
        "\n",
        "rmse = sqrt(mean_squared_error(Y_test,Y_pred))\n",
        "print(\"RMSE:{:.3f}\",format(rmse))"
      ],
      "metadata": {
        "colab": {
          "base_uri": "https://localhost:8080/"
        },
        "id": "FA2bBQepG2Or",
        "outputId": "db172452-17e1-464d-afa2-7a23f1b9ad2b"
      },
      "execution_count": null,
      "outputs": [
        {
          "output_type": "stream",
          "name": "stdout",
          "text": [
            "predict value\n",
            " [6.02677964 5.39961292 6.9165087  6.89435101 5.01161062 6.48498809\n",
            " 6.66893435 5.34005968 6.24658722 5.78511136 5.33409798 5.18492044\n",
            " 5.36413641 7.56974377 7.01979578 5.6166196  6.75944606 6.1232524\n",
            " 5.36311668 6.26300861 5.635887   4.7755278  7.09540961 4.40841053\n",
            " 6.0134534  5.85205493 7.35247363 6.23916991 7.22433354 6.95388542]\n",
            "train R2:{:.3f} 0.8561036919403083\n",
            "test R2:{:.3f} 0.7002116242686509\n",
            "RMSE:{:.3f} 0.4861492975666668\n"
          ]
        }
      ]
    },
    {
      "cell_type": "code",
      "source": [
        "print(\"절편\",np.round(lr.intercept_,3))\n",
        "print(\"가중치(beta)\",np.round(lr.coef_,3))"
      ],
      "metadata": {
        "colab": {
          "base_uri": "https://localhost:8080/"
        },
        "id": "TFjrrYi9Hms8",
        "outputId": "8a9441f2-4ffd-49ca-defc-3b6c5725690c"
      },
      "execution_count": null,
      "outputs": [
        {
          "output_type": "stream",
          "name": "stdout",
          "text": [
            "절편 5.468\n",
            "가중치(beta) [ 0.626  0.152  0.095  0.172 -0.069  0.009  0.023  0.293 -0.293  0.077\n",
            " -0.077 -0.073 -0.102 -0.074  0.249  0.048 -0.048  0.11  -0.469 -0.235\n",
            " -0.218  0.13   0.293  0.21   0.14   0.422 -0.123 -0.351  0.092 -0.114\n",
            "  0.114  0.01  -0.01   0.04  -0.04 ]\n"
          ]
        }
      ]
    },
    {
      "cell_type": "markdown",
      "source": [
        "#릿지"
      ],
      "metadata": {
        "id": "4O3P9SeIuYPp"
      }
    },
    {
      "cell_type": "code",
      "source": [
        "from sklearn.linear_model import Ridge\n",
        "\n",
        "lr_ridge = Ridge(random_state=0).fit(X_train, Y_train)\n",
        "Y_pred = lr_ridge.predict(X_test)\n",
        "\n",
        "print(\"예측값(Y predict value) \\n\", Y_pred)\n",
        "rmse = sqrt(mean_squared_error(Y_test, Y_pred))\n",
        "print(\"R2 : {:.3f}\".format(lr_ridge.score(X_train,Y_train)))\n",
        "print(\"RMSE : {:.3f}\".format(rmse))"
      ],
      "metadata": {
        "colab": {
          "base_uri": "https://localhost:8080/"
        },
        "id": "zdJHGF9oH3qa",
        "outputId": "655d9e8a-39ed-451f-a468-2f0870a8ff0e"
      },
      "execution_count": null,
      "outputs": [
        {
          "output_type": "stream",
          "name": "stdout",
          "text": [
            "예측값(Y predict value) \n",
            " [6.18238261 5.32128719 7.04893296 6.70835345 4.84328275 6.33466066\n",
            " 6.81959887 5.17808102 6.08607953 5.73180998 5.33700414 5.25927493\n",
            " 5.41287688 7.74332721 7.0287961  5.69753905 6.79558891 6.29391877\n",
            " 5.38081855 6.25702193 5.48573869 4.76833657 7.09475695 4.63780162\n",
            " 5.94265093 5.89358065 7.44537199 6.13919486 6.99718802 6.76011942]\n",
            "R2 : 0.852\n",
            "RMSE : 0.427\n"
          ]
        }
      ]
    },
    {
      "cell_type": "code",
      "source": [
        "Y_test = Y_test.reset_index()"
      ],
      "metadata": {
        "id": "l_C0mJq2Kklg"
      },
      "execution_count": null,
      "outputs": []
    },
    {
      "cell_type": "code",
      "source": [
        "Y_test"
      ],
      "metadata": {
        "colab": {
          "base_uri": "https://localhost:8080/",
          "height": 990
        },
        "id": "wQmV1LIDKr2f",
        "outputId": "e635f5e0-2771-44b9-e262-c6d9e47f0ad5"
      },
      "execution_count": null,
      "outputs": [
        {
          "output_type": "execute_result",
          "data": {
            "text/plain": [
              "    index       매출액\n",
              "0      26  6.712956\n",
              "1      86  4.844187\n",
              "2       2  7.053586\n",
              "3      55  6.383507\n",
              "4      75  3.891820\n",
              "5      93  6.440947\n",
              "6      16  6.934397\n",
              "7      73  4.905275\n",
              "8      54  6.226537\n",
              "9      95  5.777652\n",
              "10     53  5.872118\n",
              "11     92  5.743003\n",
              "12     78  5.370638\n",
              "13     13  7.180070\n",
              "14      7  6.958448\n",
              "15     30  6.222576\n",
              "16     22  6.899723\n",
              "17     24  6.786717\n",
              "18     33  5.662960\n",
              "19      8  6.504288\n",
              "20     43  5.863631\n",
              "21     62  4.174387\n",
              "22      3  7.012115\n",
              "23     71  4.859812\n",
              "24     45  4.955827\n",
              "25     48  6.650279\n",
              "26      6  7.046647\n",
              "27     99  6.192362\n",
              "28     82  6.778785\n",
              "29     76  6.622736"
            ],
            "text/html": [
              "\n",
              "  <div id=\"df-7f834c01-c79a-4122-a8ae-48511294caa4\">\n",
              "    <div class=\"colab-df-container\">\n",
              "      <div>\n",
              "<style scoped>\n",
              "    .dataframe tbody tr th:only-of-type {\n",
              "        vertical-align: middle;\n",
              "    }\n",
              "\n",
              "    .dataframe tbody tr th {\n",
              "        vertical-align: top;\n",
              "    }\n",
              "\n",
              "    .dataframe thead th {\n",
              "        text-align: right;\n",
              "    }\n",
              "</style>\n",
              "<table border=\"1\" class=\"dataframe\">\n",
              "  <thead>\n",
              "    <tr style=\"text-align: right;\">\n",
              "      <th></th>\n",
              "      <th>index</th>\n",
              "      <th>매출액</th>\n",
              "    </tr>\n",
              "  </thead>\n",
              "  <tbody>\n",
              "    <tr>\n",
              "      <th>0</th>\n",
              "      <td>26</td>\n",
              "      <td>6.712956</td>\n",
              "    </tr>\n",
              "    <tr>\n",
              "      <th>1</th>\n",
              "      <td>86</td>\n",
              "      <td>4.844187</td>\n",
              "    </tr>\n",
              "    <tr>\n",
              "      <th>2</th>\n",
              "      <td>2</td>\n",
              "      <td>7.053586</td>\n",
              "    </tr>\n",
              "    <tr>\n",
              "      <th>3</th>\n",
              "      <td>55</td>\n",
              "      <td>6.383507</td>\n",
              "    </tr>\n",
              "    <tr>\n",
              "      <th>4</th>\n",
              "      <td>75</td>\n",
              "      <td>3.891820</td>\n",
              "    </tr>\n",
              "    <tr>\n",
              "      <th>5</th>\n",
              "      <td>93</td>\n",
              "      <td>6.440947</td>\n",
              "    </tr>\n",
              "    <tr>\n",
              "      <th>6</th>\n",
              "      <td>16</td>\n",
              "      <td>6.934397</td>\n",
              "    </tr>\n",
              "    <tr>\n",
              "      <th>7</th>\n",
              "      <td>73</td>\n",
              "      <td>4.905275</td>\n",
              "    </tr>\n",
              "    <tr>\n",
              "      <th>8</th>\n",
              "      <td>54</td>\n",
              "      <td>6.226537</td>\n",
              "    </tr>\n",
              "    <tr>\n",
              "      <th>9</th>\n",
              "      <td>95</td>\n",
              "      <td>5.777652</td>\n",
              "    </tr>\n",
              "    <tr>\n",
              "      <th>10</th>\n",
              "      <td>53</td>\n",
              "      <td>5.872118</td>\n",
              "    </tr>\n",
              "    <tr>\n",
              "      <th>11</th>\n",
              "      <td>92</td>\n",
              "      <td>5.743003</td>\n",
              "    </tr>\n",
              "    <tr>\n",
              "      <th>12</th>\n",
              "      <td>78</td>\n",
              "      <td>5.370638</td>\n",
              "    </tr>\n",
              "    <tr>\n",
              "      <th>13</th>\n",
              "      <td>13</td>\n",
              "      <td>7.180070</td>\n",
              "    </tr>\n",
              "    <tr>\n",
              "      <th>14</th>\n",
              "      <td>7</td>\n",
              "      <td>6.958448</td>\n",
              "    </tr>\n",
              "    <tr>\n",
              "      <th>15</th>\n",
              "      <td>30</td>\n",
              "      <td>6.222576</td>\n",
              "    </tr>\n",
              "    <tr>\n",
              "      <th>16</th>\n",
              "      <td>22</td>\n",
              "      <td>6.899723</td>\n",
              "    </tr>\n",
              "    <tr>\n",
              "      <th>17</th>\n",
              "      <td>24</td>\n",
              "      <td>6.786717</td>\n",
              "    </tr>\n",
              "    <tr>\n",
              "      <th>18</th>\n",
              "      <td>33</td>\n",
              "      <td>5.662960</td>\n",
              "    </tr>\n",
              "    <tr>\n",
              "      <th>19</th>\n",
              "      <td>8</td>\n",
              "      <td>6.504288</td>\n",
              "    </tr>\n",
              "    <tr>\n",
              "      <th>20</th>\n",
              "      <td>43</td>\n",
              "      <td>5.863631</td>\n",
              "    </tr>\n",
              "    <tr>\n",
              "      <th>21</th>\n",
              "      <td>62</td>\n",
              "      <td>4.174387</td>\n",
              "    </tr>\n",
              "    <tr>\n",
              "      <th>22</th>\n",
              "      <td>3</td>\n",
              "      <td>7.012115</td>\n",
              "    </tr>\n",
              "    <tr>\n",
              "      <th>23</th>\n",
              "      <td>71</td>\n",
              "      <td>4.859812</td>\n",
              "    </tr>\n",
              "    <tr>\n",
              "      <th>24</th>\n",
              "      <td>45</td>\n",
              "      <td>4.955827</td>\n",
              "    </tr>\n",
              "    <tr>\n",
              "      <th>25</th>\n",
              "      <td>48</td>\n",
              "      <td>6.650279</td>\n",
              "    </tr>\n",
              "    <tr>\n",
              "      <th>26</th>\n",
              "      <td>6</td>\n",
              "      <td>7.046647</td>\n",
              "    </tr>\n",
              "    <tr>\n",
              "      <th>27</th>\n",
              "      <td>99</td>\n",
              "      <td>6.192362</td>\n",
              "    </tr>\n",
              "    <tr>\n",
              "      <th>28</th>\n",
              "      <td>82</td>\n",
              "      <td>6.778785</td>\n",
              "    </tr>\n",
              "    <tr>\n",
              "      <th>29</th>\n",
              "      <td>76</td>\n",
              "      <td>6.622736</td>\n",
              "    </tr>\n",
              "  </tbody>\n",
              "</table>\n",
              "</div>\n",
              "      <button class=\"colab-df-convert\" onclick=\"convertToInteractive('df-7f834c01-c79a-4122-a8ae-48511294caa4')\"\n",
              "              title=\"Convert this dataframe to an interactive table.\"\n",
              "              style=\"display:none;\">\n",
              "        \n",
              "  <svg xmlns=\"http://www.w3.org/2000/svg\" height=\"24px\"viewBox=\"0 0 24 24\"\n",
              "       width=\"24px\">\n",
              "    <path d=\"M0 0h24v24H0V0z\" fill=\"none\"/>\n",
              "    <path d=\"M18.56 5.44l.94 2.06.94-2.06 2.06-.94-2.06-.94-.94-2.06-.94 2.06-2.06.94zm-11 1L8.5 8.5l.94-2.06 2.06-.94-2.06-.94L8.5 2.5l-.94 2.06-2.06.94zm10 10l.94 2.06.94-2.06 2.06-.94-2.06-.94-.94-2.06-.94 2.06-2.06.94z\"/><path d=\"M17.41 7.96l-1.37-1.37c-.4-.4-.92-.59-1.43-.59-.52 0-1.04.2-1.43.59L10.3 9.45l-7.72 7.72c-.78.78-.78 2.05 0 2.83L4 21.41c.39.39.9.59 1.41.59.51 0 1.02-.2 1.41-.59l7.78-7.78 2.81-2.81c.8-.78.8-2.07 0-2.86zM5.41 20L4 18.59l7.72-7.72 1.47 1.35L5.41 20z\"/>\n",
              "  </svg>\n",
              "      </button>\n",
              "      \n",
              "  <style>\n",
              "    .colab-df-container {\n",
              "      display:flex;\n",
              "      flex-wrap:wrap;\n",
              "      gap: 12px;\n",
              "    }\n",
              "\n",
              "    .colab-df-convert {\n",
              "      background-color: #E8F0FE;\n",
              "      border: none;\n",
              "      border-radius: 50%;\n",
              "      cursor: pointer;\n",
              "      display: none;\n",
              "      fill: #1967D2;\n",
              "      height: 32px;\n",
              "      padding: 0 0 0 0;\n",
              "      width: 32px;\n",
              "    }\n",
              "\n",
              "    .colab-df-convert:hover {\n",
              "      background-color: #E2EBFA;\n",
              "      box-shadow: 0px 1px 2px rgba(60, 64, 67, 0.3), 0px 1px 3px 1px rgba(60, 64, 67, 0.15);\n",
              "      fill: #174EA6;\n",
              "    }\n",
              "\n",
              "    [theme=dark] .colab-df-convert {\n",
              "      background-color: #3B4455;\n",
              "      fill: #D2E3FC;\n",
              "    }\n",
              "\n",
              "    [theme=dark] .colab-df-convert:hover {\n",
              "      background-color: #434B5C;\n",
              "      box-shadow: 0px 1px 3px 1px rgba(0, 0, 0, 0.15);\n",
              "      filter: drop-shadow(0px 1px 2px rgba(0, 0, 0, 0.3));\n",
              "      fill: #FFFFFF;\n",
              "    }\n",
              "  </style>\n",
              "\n",
              "      <script>\n",
              "        const buttonEl =\n",
              "          document.querySelector('#df-7f834c01-c79a-4122-a8ae-48511294caa4 button.colab-df-convert');\n",
              "        buttonEl.style.display =\n",
              "          google.colab.kernel.accessAllowed ? 'block' : 'none';\n",
              "\n",
              "        async function convertToInteractive(key) {\n",
              "          const element = document.querySelector('#df-7f834c01-c79a-4122-a8ae-48511294caa4');\n",
              "          const dataTable =\n",
              "            await google.colab.kernel.invokeFunction('convertToInteractive',\n",
              "                                                     [key], {});\n",
              "          if (!dataTable) return;\n",
              "\n",
              "          const docLinkHtml = 'Like what you see? Visit the ' +\n",
              "            '<a target=\"_blank\" href=https://colab.research.google.com/notebooks/data_table.ipynb>data table notebook</a>'\n",
              "            + ' to learn more about interactive tables.';\n",
              "          element.innerHTML = '';\n",
              "          dataTable['output_type'] = 'display_data';\n",
              "          await google.colab.output.renderOutput(dataTable, element);\n",
              "          const docLink = document.createElement('div');\n",
              "          docLink.innerHTML = docLinkHtml;\n",
              "          element.appendChild(docLink);\n",
              "        }\n",
              "      </script>\n",
              "    </div>\n",
              "  </div>\n",
              "  "
            ]
          },
          "metadata": {},
          "execution_count": 663
        }
      ]
    },
    {
      "cell_type": "code",
      "source": [
        "import matplotlib.pyplot as plt\n",
        "\n",
        "%matplotlib inline\n",
        "plt.plot(Y_pred)\n",
        "plt.plot(Y_test[\"매출액\"])"
      ],
      "metadata": {
        "colab": {
          "base_uri": "https://localhost:8080/",
          "height": 283
        },
        "id": "1amnGC1sIQMM",
        "outputId": "ea497f4c-9807-4e59-f894-62b11dc1a4eb"
      },
      "execution_count": null,
      "outputs": [
        {
          "output_type": "execute_result",
          "data": {
            "text/plain": [
              "[<matplotlib.lines.Line2D at 0x7f9b69e8c940>]"
            ]
          },
          "metadata": {},
          "execution_count": 664
        },
        {
          "output_type": "display_data",
          "data": {
            "text/plain": [
              "<Figure size 432x288 with 1 Axes>"
            ],
            "image/png": "[encoded data removed]"
          },
          "metadata": {
            "needs_background": "light"
          }
        }
      ]
    },
    {
      "cell_type": "code",
      "source": [
        "print(\"lr R2 : {:.3f}\".format(lr.score(X_train, Y_train)))"
      ],
      "metadata": {
        "colab": {
          "base_uri": "https://localhost:8080/"
        },
        "id": "2VSiIVKkIqyI",
        "outputId": "daf28dbd-3468-406a-8abb-d22244eb034f"
      },
      "execution_count": null,
      "outputs": [
        {
          "output_type": "stream",
          "name": "stdout",
          "text": [
            "lr R2 : 0.856\n"
          ]
        }
      ]
    },
    {
      "cell_type": "markdown",
      "source": [
        "#라쏘"
      ],
      "metadata": {
        "id": "q9vWn-B2ueSh"
      }
    },
    {
      "cell_type": "code",
      "source": [
        "from sklearn.linear_model import Lasso\n",
        "\n",
        "lr_lasso = Lasso(random_state=0,alpha=0.01,max_iter=1000).fit(X_train, Y_train)\n",
        "Y_pred = lr_lasso.predict(X_test)\n",
        "\n",
        "print(\"예측값(Y predict value) \\n\", Y_pred)"
      ],
      "metadata": {
        "colab": {
          "base_uri": "https://localhost:8080/"
        },
        "id": "O9tyAcscI3di",
        "outputId": "a26292ca-5738-4d33-8bd2-c7692a7bd7f0"
      },
      "execution_count": null,
      "outputs": [
        {
          "output_type": "stream",
          "name": "stdout",
          "text": [
            "예측값(Y predict value) \n",
            " [6.34990794 5.21293773 7.23782646 6.39666782 4.83009358 6.12474686\n",
            " 6.9517329  5.01864893 5.96858462 5.49999521 5.32372138 5.39949855\n",
            " 5.41309685 7.88586299 6.96569862 5.6939793  6.99861118 6.62477869\n",
            " 5.3039294  6.25528343 5.4750098  4.75893885 7.08171719 4.87238331\n",
            " 5.882562   6.08534851 7.63131279 6.1148364  6.72159181 6.49183879]\n"
          ]
        }
      ]
    },
    {
      "cell_type": "code",
      "source": [
        "X = df[num+cg]\n",
        "Y = df[\"매출액\"]\n",
        "\n",
        "X_train, X_test, Y_train, Y_test = train_test_split(X, Y, test_size = 0.3, random_state = 0)\n",
        "\n",
        "ct = ColumnTransformer([('scling', StandardScaler(), num), ('onehot', OneHotEncoder(sparse=False), cg)])\n",
        "ct.fit(X_train)\n",
        "X_train = ct.transform(X_train)\n",
        "X_test = ct.transform(X_test)\n",
        "\n",
        "print(X_train[0])"
      ],
      "metadata": {
        "colab": {
          "base_uri": "https://localhost:8080/"
        },
        "id": "9zv-sjmcFmS1",
        "outputId": "cf65916d-d1a5-4087-c7f7-615d833038f9"
      },
      "execution_count": null,
      "outputs": [
        {
          "output_type": "stream",
          "name": "stdout",
          "text": [
            "[-0.21972519  0.35314602 -0.37411422  0.31659661 -0.16465017  1.06744449\n",
            "  0.23065784  1.          0.          1.          0.          0.\n",
            "  0.          1.          0.          1.          0.          0.\n",
            "  0.          0.          0.          1.          0.          0.\n",
            "  0.          0.          0.          0.          0.          0.\n",
            "  1.          0.          1.          1.          0.        ]\n"
          ]
        }
      ]
    },
    {
      "cell_type": "code",
      "source": [
        "rmse = sqrt(mean_squared_error(Y_test, Y_pred))\n",
        "print(\"Lasso R2 : {:.3f}\".format(lr_lasso.score(X_train, Y_train)))\n",
        "print(\"RMSE : {:.3f}\".format(rmse))"
      ],
      "metadata": {
        "colab": {
          "base_uri": "https://localhost:8080/"
        },
        "id": "B6iE7dfpI5AH",
        "outputId": "993a4a67-b96d-4209-9a86-94687b290391"
      },
      "execution_count": null,
      "outputs": [
        {
          "output_type": "stream",
          "name": "stdout",
          "text": [
            "Lasso R2 : 0.828\n",
            "RMSE : 0.404\n"
          ]
        }
      ]
    },
    {
      "cell_type": "code",
      "source": [
        "print(\"lr R2 : {:.3f}\".format(lr.score(X_train, Y_train)))\n",
        "print(\"ridge R2 : {:.3f}\".format(lr_ridge.score(X_train, Y_train)))"
      ],
      "metadata": {
        "colab": {
          "base_uri": "https://localhost:8080/"
        },
        "id": "2xb-xCKAI-Tp",
        "outputId": "d6710fd3-0033-4fb2-b2bc-c44f25bdad48"
      },
      "execution_count": null,
      "outputs": [
        {
          "output_type": "stream",
          "name": "stdout",
          "text": [
            "lr R2 : 0.856\n",
            "ridge R2 : 0.852\n"
          ]
        }
      ]
    },
    {
      "cell_type": "markdown",
      "source": [
        "#엘라스틱넷\n"
      ],
      "metadata": {
        "id": "gMGCvoSoug6z"
      }
    },
    {
      "cell_type": "code",
      "source": [
        "from sklearn.linear_model import ElasticNet\n",
        "\n",
        "lr_ela = ElasticNet(alpha=0.01).fit(X_train, Y_train)\n",
        "Y_pred = lr_ela.predict(X_test)\n",
        "\n",
        "print(\"예측값(Y predict value)\\n , Y_pred\")"
      ],
      "metadata": {
        "colab": {
          "base_uri": "https://localhost:8080/"
        },
        "id": "GL0YbDxGJAri",
        "outputId": "907aae7c-287b-4594-d7ba-dbaffe8d1106"
      },
      "execution_count": null,
      "outputs": [
        {
          "output_type": "stream",
          "name": "stdout",
          "text": [
            "예측값(Y predict value)\n",
            " , Y_pred\n"
          ]
        }
      ]
    },
    {
      "cell_type": "code",
      "source": [
        "rmse = sqrt(mean_squared_error(Y_test, Y_pred))\n",
        "print(\"Ela R2 : {:.3f}\".format(lr_ela.score(X_train, Y_train)))\n",
        "print(\"RMSE : {:.3f}\".format(rmse))"
      ],
      "metadata": {
        "colab": {
          "base_uri": "https://localhost:8080/"
        },
        "id": "X-GPubsFJDkx",
        "outputId": "0542459c-603f-4e54-fe34-e78385b81149"
      },
      "execution_count": null,
      "outputs": [
        {
          "output_type": "stream",
          "name": "stdout",
          "text": [
            "Ela R2 : 0.843\n",
            "RMSE : 0.407\n"
          ]
        }
      ]
    },
    {
      "cell_type": "code",
      "source": [
        "#비교ㅡㅡ\n",
        "print(\"lr R2 : {:.3f}\".format(lr.score(X_train, Y_train)))\n",
        "print(\"ridge R2 : {:.3f}\".format(lr_ridge.score(X_train, Y_train)))\n",
        "print(\"lasso R2 : {:.3f}\".format(lr_lasso.score(X_train, Y_train)))"
      ],
      "metadata": {
        "colab": {
          "base_uri": "https://localhost:8080/"
        },
        "id": "X21EPeo0JPLd",
        "outputId": "707c93df-65a4-423a-ab99-a6c4472f613e"
      },
      "execution_count": null,
      "outputs": [
        {
          "output_type": "stream",
          "name": "stdout",
          "text": [
            "lr R2 : 0.856\n",
            "ridge R2 : 0.852\n",
            "lasso R2 : 0.828\n"
          ]
        }
      ]
    },
    {
      "cell_type": "markdown",
      "source": [
        "#K-NN"
      ],
      "metadata": {
        "id": "f-VRvRgSz9eO"
      }
    },
    {
      "cell_type": "code",
      "source": [
        "import numpy as np\n",
        "\n",
        "X = df[['상영횟수','제작비','연령가','원작여부','개봉월']]\n",
        "Y = df['매출액']\n",
        "Y = np.log1p(Y)\n",
        "\n",
        "X_train,X_test,Y_train,Y_test=train_test_split(X,Y,test_size=0.3,random_state=0)\n",
        "\n",
        "scaler = StandardScaler().fit(X_train,Y_train)\n",
        "X_test = scaler.transform(X_test)\n",
        "X_train = scaler.transform(X_train)\n",
        "\n",
        "from sklearn.neighbors import KNeighborsRegressor\n",
        "\n",
        "\n",
        "knn_reg.fit(X_train,Y_train)\n",
        "Y_pred = knn_reg.predict(X_test)\n",
        "print(\"accuracy : {:.3f}\".format(knn_reg.score(X_train,Y_train)))\n",
        "rmse = sqrt(mean_squared_error(Y_test,Y_pred))\n",
        "print(\"RMSE:{:.3f}\".format(rmse))"
      ],
      "metadata": {
        "colab": {
          "base_uri": "https://localhost:8080/"
        },
        "id": "qX5-3hjbJqJA",
        "outputId": "89a9f105-6c44-4b95-a849-e72870a88984"
      },
      "execution_count": null,
      "outputs": [
        {
          "output_type": "stream",
          "name": "stdout",
          "text": [
            "accuracy : 0.509\n",
            "RMSE:0.093\n"
          ]
        }
      ]
    },
    {
      "cell_type": "code",
      "source": [
        "\n",
        "from sklearn.feature_selection import SelectKBest,chi2\n",
        "\n",
        "#데이터 지정(변수)\n",
        "X=df.drop([\"영화제목\",\"매출액\",\"배급사\",\"영화분류\",\"감독\",\"주연배우\"],axis=1)\n",
        "Y=df[\"매출액\"]\n",
        "\n",
        "#데이터분할 (train,test)\n",
        "X_train,X_test,Y_train,Y_test=train_test_split(X,Y,test_size=0.3,random_state=0)\n",
        "\n",
        "#일변량 통계기반\n",
        "selector= SelectKBest()\n",
        "selector.fit(X_train,Y_train)\n",
        "\n",
        "score=pd.DataFrame()\n",
        "score[\"chi2\"]=selector.scores_\n",
        "score[\"p-value\"]=selector.pvalues_\n",
        "score[\"support\"]=selector.get_support()\n",
        "score[\"attribute\"]=X_train.columns\n",
        "score[score[\"support\"]==True]"
      ],
      "metadata": {
        "colab": {
          "base_uri": "https://localhost:8080/",
          "height": 400
        },
        "id": "xSdaGlsuNBc_",
        "outputId": "fc9c8ade-c56b-44d2-82cc-e00f4b55e442"
      },
      "execution_count": null,
      "outputs": [
        {
          "output_type": "stream",
          "name": "stderr",
          "text": [
            "/usr/local/lib/python3.8/dist-packages/sklearn/feature_selection/_univariate_selection.py:113: RuntimeWarning: divide by zero encountered in true_divide\n",
            "  f = msb / msw\n"
          ]
        },
        {
          "output_type": "execute_result",
          "data": {
            "text/plain": [
              "          chi2   p-value  support  attribute\n",
              "0          inf  0.000000     True       천만여부\n",
              "1     3.629424  0.239971     True         연도\n",
              "2   212.929416  0.004685     True      누적관객수\n",
              "3     5.559962  0.164209     True       스크린수\n",
              "4   702.397191  0.001423     True        제작비\n",
              "7          inf  0.000000     True       국-내외\n",
              "8     4.731258  0.189980     True        개봉월\n",
              "11    8.711414  0.108273     True       상영횟수\n",
              "15    1.509731  0.481028     True      주연배우수\n",
              "16    1.009162  0.623391     True  대표배우필모그래피"
            ],
            "text/html": [
              "\n",
              "  <div id=\"df-d1f4cacb-ca1b-4aeb-8aa1-f68b681a1460\">\n",
              "    <div class=\"colab-df-container\">\n",
              "      <div>\n",
              "<style scoped>\n",
              "    .dataframe tbody tr th:only-of-type {\n",
              "        vertical-align: middle;\n",
              "    }\n",
              "\n",
              "    .dataframe tbody tr th {\n",
              "        vertical-align: top;\n",
              "    }\n",
              "\n",
              "    .dataframe thead th {\n",
              "        text-align: right;\n",
              "    }\n",
              "</style>\n",
              "<table border=\"1\" class=\"dataframe\">\n",
              "  <thead>\n",
              "    <tr style=\"text-align: right;\">\n",
              "      <th></th>\n",
              "      <th>chi2</th>\n",
              "      <th>p-value</th>\n",
              "      <th>support</th>\n",
              "      <th>attribute</th>\n",
              "    </tr>\n",
              "  </thead>\n",
              "  <tbody>\n",
              "    <tr>\n",
              "      <th>0</th>\n",
              "      <td>inf</td>\n",
              "      <td>0.000000</td>\n",
              "      <td>True</td>\n",
              "      <td>천만여부</td>\n",
              "    </tr>\n",
              "    <tr>\n",
              "      <th>1</th>\n",
              "      <td>3.629424</td>\n",
              "      <td>0.239971</td>\n",
              "      <td>True</td>\n",
              "      <td>연도</td>\n",
              "    </tr>\n",
              "    <tr>\n",
              "      <th>2</th>\n",
              "      <td>212.929416</td>\n",
              "      <td>0.004685</td>\n",
              "      <td>True</td>\n",
              "      <td>누적관객수</td>\n",
              "    </tr>\n",
              "    <tr>\n",
              "      <th>3</th>\n",
              "      <td>5.559962</td>\n",
              "      <td>0.164209</td>\n",
              "      <td>True</td>\n",
              "      <td>스크린수</td>\n",
              "    </tr>\n",
              "    <tr>\n",
              "      <th>4</th>\n",
              "      <td>702.397191</td>\n",
              "      <td>0.001423</td>\n",
              "      <td>True</td>\n",
              "      <td>제작비</td>\n",
              "    </tr>\n",
              "    <tr>\n",
              "      <th>7</th>\n",
              "      <td>inf</td>\n",
              "      <td>0.000000</td>\n",
              "      <td>True</td>\n",
              "      <td>국-내외</td>\n",
              "    </tr>\n",
              "    <tr>\n",
              "      <th>8</th>\n",
              "      <td>4.731258</td>\n",
              "      <td>0.189980</td>\n",
              "      <td>True</td>\n",
              "      <td>개봉월</td>\n",
              "    </tr>\n",
              "    <tr>\n",
              "      <th>11</th>\n",
              "      <td>8.711414</td>\n",
              "      <td>0.108273</td>\n",
              "      <td>True</td>\n",
              "      <td>상영횟수</td>\n",
              "    </tr>\n",
              "    <tr>\n",
              "      <th>15</th>\n",
              "      <td>1.509731</td>\n",
              "      <td>0.481028</td>\n",
              "      <td>True</td>\n",
              "      <td>주연배우수</td>\n",
              "    </tr>\n",
              "    <tr>\n",
              "      <th>16</th>\n",
              "      <td>1.009162</td>\n",
              "      <td>0.623391</td>\n",
              "      <td>True</td>\n",
              "      <td>대표배우필모그래피</td>\n",
              "    </tr>\n",
              "  </tbody>\n",
              "</table>\n",
              "</div>\n",
              "      <button class=\"colab-df-convert\" onclick=\"convertToInteractive('df-d1f4cacb-ca1b-4aeb-8aa1-f68b681a1460')\"\n",
              "              title=\"Convert this dataframe to an interactive table.\"\n",
              "              style=\"display:none;\">\n",
              "        \n",
              "  <svg xmlns=\"http://www.w3.org/2000/svg\" height=\"24px\"viewBox=\"0 0 24 24\"\n",
              "       width=\"24px\">\n",
              "    <path d=\"M0 0h24v24H0V0z\" fill=\"none\"/>\n",
              "    <path d=\"M18.56 5.44l.94 2.06.94-2.06 2.06-.94-2.06-.94-.94-2.06-.94 2.06-2.06.94zm-11 1L8.5 8.5l.94-2.06 2.06-.94-2.06-.94L8.5 2.5l-.94 2.06-2.06.94zm10 10l.94 2.06.94-2.06 2.06-.94-2.06-.94-.94-2.06-.94 2.06-2.06.94z\"/><path d=\"M17.41 7.96l-1.37-1.37c-.4-.4-.92-.59-1.43-.59-.52 0-1.04.2-1.43.59L10.3 9.45l-7.72 7.72c-.78.78-.78 2.05 0 2.83L4 21.41c.39.39.9.59 1.41.59.51 0 1.02-.2 1.41-.59l7.78-7.78 2.81-2.81c.8-.78.8-2.07 0-2.86zM5.41 20L4 18.59l7.72-7.72 1.47 1.35L5.41 20z\"/>\n",
              "  </svg>\n",
              "      </button>\n",
              "      \n",
              "  <style>\n",
              "    .colab-df-container {\n",
              "      display:flex;\n",
              "      flex-wrap:wrap;\n",
              "      gap: 12px;\n",
              "    }\n",
              "\n",
              "    .colab-df-convert {\n",
              "      background-color: #E8F0FE;\n",
              "      border: none;\n",
              "      border-radius: 50%;\n",
              "      cursor: pointer;\n",
              "      display: none;\n",
              "      fill: #1967D2;\n",
              "      height: 32px;\n",
              "      padding: 0 0 0 0;\n",
              "      width: 32px;\n",
              "    }\n",
              "\n",
              "    .colab-df-convert:hover {\n",
              "      background-color: #E2EBFA;\n",
              "      box-shadow: 0px 1px 2px rgba(60, 64, 67, 0.3), 0px 1px 3px 1px rgba(60, 64, 67, 0.15);\n",
              "      fill: #174EA6;\n",
              "    }\n",
              "\n",
              "    [theme=dark] .colab-df-convert {\n",
              "      background-color: #3B4455;\n",
              "      fill: #D2E3FC;\n",
              "    }\n",
              "\n",
              "    [theme=dark] .colab-df-convert:hover {\n",
              "      background-color: #434B5C;\n",
              "      box-shadow: 0px 1px 3px 1px rgba(0, 0, 0, 0.15);\n",
              "      filter: drop-shadow(0px 1px 2px rgba(0, 0, 0, 0.3));\n",
              "      fill: #FFFFFF;\n",
              "    }\n",
              "  </style>\n",
              "\n",
              "      <script>\n",
              "        const buttonEl =\n",
              "          document.querySelector('#df-d1f4cacb-ca1b-4aeb-8aa1-f68b681a1460 button.colab-df-convert');\n",
              "        buttonEl.style.display =\n",
              "          google.colab.kernel.accessAllowed ? 'block' : 'none';\n",
              "\n",
              "        async function convertToInteractive(key) {\n",
              "          const element = document.querySelector('#df-d1f4cacb-ca1b-4aeb-8aa1-f68b681a1460');\n",
              "          const dataTable =\n",
              "            await google.colab.kernel.invokeFunction('convertToInteractive',\n",
              "                                                     [key], {});\n",
              "          if (!dataTable) return;\n",
              "\n",
              "          const docLinkHtml = 'Like what you see? Visit the ' +\n",
              "            '<a target=\"_blank\" href=https://colab.research.google.com/notebooks/data_table.ipynb>data table notebook</a>'\n",
              "            + ' to learn more about interactive tables.';\n",
              "          element.innerHTML = '';\n",
              "          dataTable['output_type'] = 'display_data';\n",
              "          await google.colab.output.renderOutput(dataTable, element);\n",
              "          const docLink = document.createElement('div');\n",
              "          docLink.innerHTML = docLinkHtml;\n",
              "          element.appendChild(docLink);\n",
              "        }\n",
              "      </script>\n",
              "    </div>\n",
              "  </div>\n",
              "  "
            ]
          },
          "metadata": {},
          "execution_count": 674
        }
      ]
    },
    {
      "cell_type": "code",
      "source": [
        "df.columns"
      ],
      "metadata": {
        "colab": {
          "base_uri": "https://localhost:8080/"
        },
        "id": "SJtzL3OCVzpU",
        "outputId": "11064e76-0a46-413e-c4e8-e26e1db21fc8"
      },
      "execution_count": null,
      "outputs": [
        {
          "output_type": "execute_result",
          "data": {
            "text/plain": [
              "Index(['영화제목', '천만여부', '연도', '누적관객수', '매출액', '스크린수', '제작비', '넷플릭스', '배급사',\n",
              "       '네이버평점', '국-내외', '영화분류', '개봉월', '연령가', '시리즈여부', '상영횟수', '감독', '러닝타임',\n",
              "       '수상여부', '원작여부', '주연배우수', '주연배우', '대표배우필모그래피'],\n",
              "      dtype='object')"
            ]
          },
          "metadata": {},
          "execution_count": 675
        }
      ]
    },
    {
      "cell_type": "code",
      "source": [
        "import numpy as np\n",
        "\n",
        "X = df[['스크린수','주연배우수','제작비','연령가','원작여부','개봉월','대표배우필모그래피','개봉월','러닝타임']]\n",
        "Y = df['매출액']\n",
        "Y = np.log1p(Y)\n",
        "\n",
        "X_train,X_test,Y_train,Y_test=train_test_split(X,Y,test_size=0.3,random_state=0)\n",
        "\n",
        "scaler = StandardScaler().fit(X_train,Y_train)\n",
        "X_test = scaler.transform(X_test)\n",
        "X_train = scaler.transform(X_train)\n",
        "\n",
        "from sklearn.neighbors import KNeighborsRegressor\n",
        "knn_reg = KNeighborsRegressor(n_neighbors=9, p=2)\n",
        "\n",
        "knn_reg.fit(X_train,Y_train)\n",
        "Y_pred = knn_reg.predict(X_test)\n",
        "print(\"accuracy : {:.3f}\".format(knn_reg.score(X_train,Y_train)))\n",
        "rmse = sqrt(mean_squared_error(Y_test,Y_pred))\n",
        "print(\"RMSE:{:.3f}\".format(rmse))"
      ],
      "metadata": {
        "colab": {
          "base_uri": "https://localhost:8080/"
        },
        "id": "Huybz9ifNOtl",
        "outputId": "97c3cf42-cddc-491f-fce3-6d6841867dc7"
      },
      "execution_count": null,
      "outputs": [
        {
          "output_type": "stream",
          "name": "stdout",
          "text": [
            "accuracy : 0.286\n",
            "RMSE:0.131\n"
          ]
        }
      ]
    },
    {
      "cell_type": "markdown",
      "source": [
        "#의사결정나무"
      ],
      "metadata": {
        "id": "UEE3pKTT0PvR"
      }
    },
    {
      "cell_type": "code",
      "source": [
        "X = df[['스크린수','주연배우수','제작비','연령가','원작여부','개봉월','대표배우필모그래피','개봉월','러닝타임']]\n",
        "Y = df['매출액']\n",
        "\n",
        "X_train, X_test, Y_train, Y_test = train_test_split(X, Y, test_size = 0.3, random_state = 0)\n",
        "\n",
        "from sklearn.tree import DecisionTreeRegressor\n",
        "\n",
        "DT_model_reg = DecisionTreeRegressor(random_state=0, max_depth=5)\n",
        "DT_model_reg.fit(X_train,Y_train)\n",
        "Y_pred = DT_model_reg.predict(X_test)\n",
        "print(\"accuracy : {:.3f}\".format(DT_model_reg.score(X_train,Y_train)))\n",
        "rmse = sqrt(mean_squared_error(Y_test,Y_pred))\n",
        "print(\"rmse:{:.3f}\".format(rmse))"
      ],
      "metadata": {
        "colab": {
          "base_uri": "https://localhost:8080/"
        },
        "id": "jko8jyLoUkPV",
        "outputId": "8cdd7ed5-2a6a-4ac6-d5bd-611a7e4db9c7"
      },
      "execution_count": null,
      "outputs": [
        {
          "output_type": "stream",
          "name": "stdout",
          "text": [
            "accuracy : 0.767\n",
            "rmse:1.046\n"
          ]
        }
      ]
    },
    {
      "cell_type": "code",
      "source": [
        "feature_name = X.columns\n",
        "feature_importance = DT_model_reg.feature_importances_\n",
        "sorted(zip(feature_importance,feature_name),reverse=True)"
      ],
      "metadata": {
        "colab": {
          "base_uri": "https://localhost:8080/"
        },
        "id": "TLVjwHVGVAt6",
        "outputId": "f32f79fc-de54-4101-9391-f1492db31965"
      },
      "execution_count": null,
      "outputs": [
        {
          "output_type": "execute_result",
          "data": {
            "text/plain": [
              "[(0.487538458094428, '스크린수'),\n",
              " (0.19525598956308302, '제작비'),\n",
              " (0.09778692060656473, '주연배우수'),\n",
              " (0.09398697507601393, '개봉월'),\n",
              " (0.07263178057409156, '대표배우필모그래피'),\n",
              " (0.03284472644139793, '러닝타임'),\n",
              " (0.019955149644420894, '개봉월'),\n",
              " (0.0, '원작여부'),\n",
              " (0.0, '연령가')]"
            ]
          },
          "metadata": {},
          "execution_count": 678
        }
      ]
    },
    {
      "cell_type": "code",
      "source": [
        "#시각화\n",
        "from sklearn.tree import export_graphviz\n",
        "import graphviz\n",
        "\n",
        "#파일 생성\n",
        "export_graphviz(DT_model_reg,out_file = \"tree.dot\",class_names=[\"비이탈\",\"이탈\"],\n",
        "                feature_names = feature_name, impurity=True, filled=True)\n",
        "\n",
        "#파일 열기\n",
        "with open(\"tree.dot\",encoding=\"utf-8\") as f:\n",
        "    dot_graph = f.read()\n",
        "graphviz.Source(dot_graph)"
      ],
      "metadata": {
        "colab": {
          "base_uri": "https://localhost:8080/",
          "height": 815
        },
        "id": "HucrGwpGU0hS",
        "outputId": "6c460d53-e414-4e41-d51c-9778ecc6c6fa"
      },
      "execution_count": null,
      "outputs": [
        {
          "output_type": "execute_result",
          "data": {
            "text/plain": [
              "<graphviz.files.Source at 0x7f9b6542c310>"
            ],
            "image/svg+xml": "<?xml version=\"1.0\" encoding=\"UTF-8\" standalone=\"no\"?>\n<!DOCTYPE svg PUBLIC \"-//W3C//DTD SVG 1.1//EN\"\n \"http://www.w3.org/Graphics/SVG/1.1/DTD/svg11.dtd\">\n<!-- Generated by graphviz version 2.40.1 (20161225.0304)\n -->\n<!-- Title: Tree Pages: 1 -->\n<svg width=\"2567pt\" height=\"581pt\"\n viewBox=\"0.00 0.00 2566.50 581.00\" xmlns=\"http://www.w3.org/2000/svg\" xmlns:xlink=\"http://www.w3.org/1999/xlink\">\n<g id=\"graph0\" class=\"graph\" transform=\"scale(1 1) rotate(0) translate(4 577)\">\n<title>Tree</title>\n<polygon fill=\"#ffffff\" stroke=\"transparent\" points=\"-4,4 -4,-577 2562.5,-577 2562.5,4 -4,4\"/>\n<!-- 0 -->\n<g id=\"node1\" class=\"node\">\n<title>0</title>\n<polygon fill=\"#efb083\" stroke=\"#000000\" points=\"919.5,-573 758.5,-573 758.5,-505 919.5,-505 919.5,-573\"/>\n<text text-anchor=\"middle\" x=\"839\" y=\"-557.8\" font-family=\"Helvetica,sans-Serif\" font-size=\"14.00\" fill=\"#000000\">스크린수 &lt;= 742.0</text>\n<text text-anchor=\"middle\" x=\"839\" y=\"-542.8\" font-family=\"Helvetica,sans-Serif\" font-size=\"14.00\" fill=\"#000000\">squared_error = 0.838</text>\n<text text-anchor=\"middle\" x=\"839\" y=\"-527.8\" font-family=\"Helvetica,sans-Serif\" font-size=\"14.00\" fill=\"#000000\">samples = 70</text>\n<text text-anchor=\"middle\" x=\"839\" y=\"-512.8\" font-family=\"Helvetica,sans-Serif\" font-size=\"14.00\" fill=\"#000000\">value = 5.799</text>\n</g>\n<!-- 1 -->\n<g id=\"node2\" class=\"node\">\n<title>1</title>\n<polygon fill=\"#f6d4bc\" stroke=\"#000000\" points=\"597.5,-469 436.5,-469 436.5,-401 597.5,-401 597.5,-469\"/>\n<text text-anchor=\"middle\" x=\"517\" y=\"-453.8\" font-family=\"Helvetica,sans-Serif\" font-size=\"14.00\" fill=\"#000000\">제작비 &lt;= 25.0</text>\n<text text-anchor=\"middle\" x=\"517\" y=\"-438.8\" font-family=\"Helvetica,sans-Serif\" font-size=\"14.00\" fill=\"#000000\">squared_error = 0.673</text>\n<text text-anchor=\"middle\" x=\"517\" y=\"-423.8\" font-family=\"Helvetica,sans-Serif\" font-size=\"14.00\" fill=\"#000000\">samples = 13</text>\n<text text-anchor=\"middle\" x=\"517\" y=\"-408.8\" font-family=\"Helvetica,sans-Serif\" font-size=\"14.00\" fill=\"#000000\">value = 4.74</text>\n</g>\n<!-- 0&#45;&gt;1 -->\n<g id=\"edge1\" class=\"edge\">\n<title>0&#45;&gt;1</title>\n<path fill=\"none\" stroke=\"#000000\" d=\"M758.1614,-512.8906C712.2368,-498.0579 654.6293,-479.4517 607.2353,-464.1443\"/>\n<polygon fill=\"#000000\" stroke=\"#000000\" points=\"608.1842,-460.7728 597.5925,-461.0299 606.0327,-467.434 608.1842,-460.7728\"/>\n<text text-anchor=\"middle\" x=\"608.9813\" y=\"-479.5851\" font-family=\"Helvetica,sans-Serif\" font-size=\"14.00\" fill=\"#000000\">True</text>\n</g>\n<!-- 16 -->\n<g id=\"node17\" class=\"node\">\n<title>16</title>\n<polygon fill=\"#eda876\" stroke=\"#000000\" points=\"1251.5,-469 1090.5,-469 1090.5,-401 1251.5,-401 1251.5,-469\"/>\n<text text-anchor=\"middle\" x=\"1171\" y=\"-453.8\" font-family=\"Helvetica,sans-Serif\" font-size=\"14.00\" fill=\"#000000\">주연배우수 &lt;= 4.5</text>\n<text text-anchor=\"middle\" x=\"1171\" y=\"-438.8\" font-family=\"Helvetica,sans-Serif\" font-size=\"14.00\" fill=\"#000000\">squared_error = 0.561</text>\n<text text-anchor=\"middle\" x=\"1171\" y=\"-423.8\" font-family=\"Helvetica,sans-Serif\" font-size=\"14.00\" fill=\"#000000\">samples = 57</text>\n<text text-anchor=\"middle\" x=\"1171\" y=\"-408.8\" font-family=\"Helvetica,sans-Serif\" font-size=\"14.00\" fill=\"#000000\">value = 6.04</text>\n</g>\n<!-- 0&#45;&gt;16 -->\n<g id=\"edge16\" class=\"edge\">\n<title>0&#45;&gt;16</title>\n<path fill=\"none\" stroke=\"#000000\" d=\"M919.7918,-513.6917C968.4776,-498.4407 1030.5796,-478.9871 1080.8553,-463.2381\"/>\n<polygon fill=\"#000000\" stroke=\"#000000\" points=\"1081.9254,-466.5707 1090.4219,-460.2413 1079.8328,-459.8907 1081.9254,-466.5707\"/>\n<text text-anchor=\"middle\" x=\"1078.8369\" y=\"-478.6951\" font-family=\"Helvetica,sans-Serif\" font-size=\"14.00\" fill=\"#000000\">False</text>\n</g>\n<!-- 2 -->\n<g id=\"node3\" class=\"node\">\n<title>2</title>\n<polygon fill=\"#fcf2ea\" stroke=\"#000000\" points=\"323.5,-365 162.5,-365 162.5,-297 323.5,-297 323.5,-365\"/>\n<text text-anchor=\"middle\" x=\"243\" y=\"-349.8\" font-family=\"Helvetica,sans-Serif\" font-size=\"14.00\" fill=\"#000000\">개봉월 &lt;= 4.5</text>\n<text text-anchor=\"middle\" x=\"243\" y=\"-334.8\" font-family=\"Helvetica,sans-Serif\" font-size=\"14.00\" fill=\"#000000\">squared_error = 0.188</text>\n<text text-anchor=\"middle\" x=\"243\" y=\"-319.8\" font-family=\"Helvetica,sans-Serif\" font-size=\"14.00\" fill=\"#000000\">samples = 3</text>\n<text text-anchor=\"middle\" x=\"243\" y=\"-304.8\" font-family=\"Helvetica,sans-Serif\" font-size=\"14.00\" fill=\"#000000\">value = 3.883</text>\n</g>\n<!-- 1&#45;&gt;2 -->\n<g id=\"edge2\" class=\"edge\">\n<title>1&#45;&gt;2</title>\n<path fill=\"none\" stroke=\"#000000\" d=\"M436.2729,-404.3591C403.946,-392.089 366.5595,-377.8985 333.3325,-365.2868\"/>\n<polygon fill=\"#000000\" stroke=\"#000000\" points=\"334.2144,-361.8779 323.6231,-361.6015 331.7303,-368.4224 334.2144,-361.8779\"/>\n</g>\n<!-- 7 -->\n<g id=\"node8\" class=\"node\">\n<title>7</title>\n<polygon fill=\"#f4ccae\" stroke=\"#000000\" points=\"615.5,-365 418.5,-365 418.5,-297 615.5,-297 615.5,-365\"/>\n<text text-anchor=\"middle\" x=\"517\" y=\"-349.8\" font-family=\"Helvetica,sans-Serif\" font-size=\"14.00\" fill=\"#000000\">대표배우필모그래피 &lt;= 14.5</text>\n<text text-anchor=\"middle\" x=\"517\" y=\"-334.8\" font-family=\"Helvetica,sans-Serif\" font-size=\"14.00\" fill=\"#000000\">squared_error = 0.532</text>\n<text text-anchor=\"middle\" x=\"517\" y=\"-319.8\" font-family=\"Helvetica,sans-Serif\" font-size=\"14.00\" fill=\"#000000\">samples = 10</text>\n<text text-anchor=\"middle\" x=\"517\" y=\"-304.8\" font-family=\"Helvetica,sans-Serif\" font-size=\"14.00\" fill=\"#000000\">value = 4.997</text>\n</g>\n<!-- 1&#45;&gt;7 -->\n<g id=\"edge7\" class=\"edge\">\n<title>1&#45;&gt;7</title>\n<path fill=\"none\" stroke=\"#000000\" d=\"M517,-400.9465C517,-392.776 517,-383.9318 517,-375.3697\"/>\n<polygon fill=\"#000000\" stroke=\"#000000\" points=\"520.5001,-375.13 517,-365.13 513.5001,-375.13 520.5001,-375.13\"/>\n</g>\n<!-- 3 -->\n<g id=\"node4\" class=\"node\">\n<title>3</title>\n<polygon fill=\"#f8ddca\" stroke=\"#000000\" points=\"144,-253.5 0,-253.5 0,-200.5 144,-200.5 144,-253.5\"/>\n<text text-anchor=\"middle\" x=\"72\" y=\"-238.3\" font-family=\"Helvetica,sans-Serif\" font-size=\"14.00\" fill=\"#000000\">squared_error = 0.0</text>\n<text text-anchor=\"middle\" x=\"72\" y=\"-223.3\" font-family=\"Helvetica,sans-Serif\" font-size=\"14.00\" fill=\"#000000\">samples = 1</text>\n<text text-anchor=\"middle\" x=\"72\" y=\"-208.3\" font-family=\"Helvetica,sans-Serif\" font-size=\"14.00\" fill=\"#000000\">value = 4.489</text>\n</g>\n<!-- 2&#45;&gt;3 -->\n<g id=\"edge3\" class=\"edge\">\n<title>2&#45;&gt;3</title>\n<path fill=\"none\" stroke=\"#000000\" d=\"M187.0082,-296.9465C166.8144,-284.6649 144.1174,-270.8609 124.2555,-258.7811\"/>\n<polygon fill=\"#000000\" stroke=\"#000000\" points=\"126.0041,-255.7481 115.6414,-253.5422 122.3667,-261.7289 126.0041,-255.7481\"/>\n</g>\n<!-- 4 -->\n<g id=\"node5\" class=\"node\">\n<title>4</title>\n<polygon fill=\"#fefcfb\" stroke=\"#000000\" points=\"323.5,-261 162.5,-261 162.5,-193 323.5,-193 323.5,-261\"/>\n<text text-anchor=\"middle\" x=\"243\" y=\"-245.8\" font-family=\"Helvetica,sans-Serif\" font-size=\"14.00\" fill=\"#000000\">개봉월 &lt;= 9.0</text>\n<text text-anchor=\"middle\" x=\"243\" y=\"-230.8\" font-family=\"Helvetica,sans-Serif\" font-size=\"14.00\" fill=\"#000000\">squared_error = 0.007</text>\n<text text-anchor=\"middle\" x=\"243\" y=\"-215.8\" font-family=\"Helvetica,sans-Serif\" font-size=\"14.00\" fill=\"#000000\">samples = 2</text>\n<text text-anchor=\"middle\" x=\"243\" y=\"-200.8\" font-family=\"Helvetica,sans-Serif\" font-size=\"14.00\" fill=\"#000000\">value = 3.58</text>\n</g>\n<!-- 2&#45;&gt;4 -->\n<g id=\"edge4\" class=\"edge\">\n<title>2&#45;&gt;4</title>\n<path fill=\"none\" stroke=\"#000000\" d=\"M243,-296.9465C243,-288.776 243,-279.9318 243,-271.3697\"/>\n<polygon fill=\"#000000\" stroke=\"#000000\" points=\"246.5001,-271.13 243,-261.13 239.5001,-271.13 246.5001,-271.13\"/>\n</g>\n<!-- 5 -->\n<g id=\"node6\" class=\"node\">\n<title>5</title>\n<polygon fill=\"#ffffff\" stroke=\"#000000\" points=\"150,-149.5 6,-149.5 6,-96.5 150,-96.5 150,-149.5\"/>\n<text text-anchor=\"middle\" x=\"78\" y=\"-134.3\" font-family=\"Helvetica,sans-Serif\" font-size=\"14.00\" fill=\"#000000\">squared_error = 0.0</text>\n<text text-anchor=\"middle\" x=\"78\" y=\"-119.3\" font-family=\"Helvetica,sans-Serif\" font-size=\"14.00\" fill=\"#000000\">samples = 1</text>\n<text text-anchor=\"middle\" x=\"78\" y=\"-104.3\" font-family=\"Helvetica,sans-Serif\" font-size=\"14.00\" fill=\"#000000\">value = 3.497</text>\n</g>\n<!-- 4&#45;&gt;5 -->\n<g id=\"edge5\" class=\"edge\">\n<title>4&#45;&gt;5</title>\n<path fill=\"none\" stroke=\"#000000\" d=\"M188.9728,-192.9465C169.5749,-180.72 147.7834,-166.9847 128.68,-154.9437\"/>\n<polygon fill=\"#000000\" stroke=\"#000000\" points=\"130.4362,-151.9135 120.1102,-149.5422 126.7036,-157.8353 130.4362,-151.9135\"/>\n</g>\n<!-- 6 -->\n<g id=\"node7\" class=\"node\">\n<title>6</title>\n<polygon fill=\"#fef9f6\" stroke=\"#000000\" points=\"317.5,-149.5 168.5,-149.5 168.5,-96.5 317.5,-96.5 317.5,-149.5\"/>\n<text text-anchor=\"middle\" x=\"243\" y=\"-134.3\" font-family=\"Helvetica,sans-Serif\" font-size=\"14.00\" fill=\"#000000\">squared_error = &#45;0.0</text>\n<text text-anchor=\"middle\" x=\"243\" y=\"-119.3\" font-family=\"Helvetica,sans-Serif\" font-size=\"14.00\" fill=\"#000000\">samples = 1</text>\n<text text-anchor=\"middle\" x=\"243\" y=\"-104.3\" font-family=\"Helvetica,sans-Serif\" font-size=\"14.00\" fill=\"#000000\">value = 3.664</text>\n</g>\n<!-- 4&#45;&gt;6 -->\n<g id=\"edge6\" class=\"edge\">\n<title>4&#45;&gt;6</title>\n<path fill=\"none\" stroke=\"#000000\" d=\"M243,-192.9465C243,-182.2621 243,-170.4254 243,-159.5742\"/>\n<polygon fill=\"#000000\" stroke=\"#000000\" points=\"246.5001,-159.5421 243,-149.5422 239.5001,-159.5422 246.5001,-159.5421\"/>\n</g>\n<!-- 8 -->\n<g id=\"node9\" class=\"node\">\n<title>8</title>\n<polygon fill=\"#fefcfa\" stroke=\"#000000\" points=\"491,-253.5 347,-253.5 347,-200.5 491,-200.5 491,-253.5\"/>\n<text text-anchor=\"middle\" x=\"419\" y=\"-238.3\" font-family=\"Helvetica,sans-Serif\" font-size=\"14.00\" fill=\"#000000\">squared_error = 0.0</text>\n<text text-anchor=\"middle\" x=\"419\" y=\"-223.3\" font-family=\"Helvetica,sans-Serif\" font-size=\"14.00\" fill=\"#000000\">samples = 1</text>\n<text text-anchor=\"middle\" x=\"419\" y=\"-208.3\" font-family=\"Helvetica,sans-Serif\" font-size=\"14.00\" fill=\"#000000\">value = 3.584</text>\n</g>\n<!-- 7&#45;&gt;8 -->\n<g id=\"edge8\" class=\"edge\">\n<title>7&#45;&gt;8</title>\n<path fill=\"none\" stroke=\"#000000\" d=\"M484.9111,-296.9465C474.0127,-285.3809 461.8422,-272.4652 450.9543,-260.9107\"/>\n<polygon fill=\"#000000\" stroke=\"#000000\" points=\"453.4162,-258.4198 444.0109,-253.5422 448.3217,-263.2204 453.4162,-258.4198\"/>\n</g>\n<!-- 9 -->\n<g id=\"node10\" class=\"node\">\n<title>9</title>\n<polygon fill=\"#f3c6a6\" stroke=\"#000000\" points=\"670.5,-261 509.5,-261 509.5,-193 670.5,-193 670.5,-261\"/>\n<text text-anchor=\"middle\" x=\"590\" y=\"-245.8\" font-family=\"Helvetica,sans-Serif\" font-size=\"14.00\" fill=\"#000000\">개봉월 &lt;= 8.5</text>\n<text text-anchor=\"middle\" x=\"590\" y=\"-230.8\" font-family=\"Helvetica,sans-Serif\" font-size=\"14.00\" fill=\"#000000\">squared_error = 0.344</text>\n<text text-anchor=\"middle\" x=\"590\" y=\"-215.8\" font-family=\"Helvetica,sans-Serif\" font-size=\"14.00\" fill=\"#000000\">samples = 9</text>\n<text text-anchor=\"middle\" x=\"590\" y=\"-200.8\" font-family=\"Helvetica,sans-Serif\" font-size=\"14.00\" fill=\"#000000\">value = 5.154</text>\n</g>\n<!-- 7&#45;&gt;9 -->\n<g id=\"edge9\" class=\"edge\">\n<title>7&#45;&gt;9</title>\n<path fill=\"none\" stroke=\"#000000\" d=\"M540.9029,-296.9465C547.0791,-288.1475 553.8038,-278.5672 560.239,-269.3993\"/>\n<polygon fill=\"#000000\" stroke=\"#000000\" points=\"563.1629,-271.3258 566.0434,-261.13 557.4334,-267.3041 563.1629,-271.3258\"/>\n</g>\n<!-- 10 -->\n<g id=\"node11\" class=\"node\">\n<title>10</title>\n<polygon fill=\"#f5cfb3\" stroke=\"#000000\" points=\"496.5,-157 335.5,-157 335.5,-89 496.5,-89 496.5,-157\"/>\n<text text-anchor=\"middle\" x=\"416\" y=\"-141.8\" font-family=\"Helvetica,sans-Serif\" font-size=\"14.00\" fill=\"#000000\">스크린수 &lt;= 663.5</text>\n<text text-anchor=\"middle\" x=\"416\" y=\"-126.8\" font-family=\"Helvetica,sans-Serif\" font-size=\"14.00\" fill=\"#000000\">squared_error = 0.021</text>\n<text text-anchor=\"middle\" x=\"416\" y=\"-111.8\" font-family=\"Helvetica,sans-Serif\" font-size=\"14.00\" fill=\"#000000\">samples = 6</text>\n<text text-anchor=\"middle\" x=\"416\" y=\"-96.8\" font-family=\"Helvetica,sans-Serif\" font-size=\"14.00\" fill=\"#000000\">value = 4.901</text>\n</g>\n<!-- 9&#45;&gt;10 -->\n<g id=\"edge10\" class=\"edge\">\n<title>9&#45;&gt;10</title>\n<path fill=\"none\" stroke=\"#000000\" d=\"M533.0259,-192.9465C516.6522,-183.1599 498.6611,-172.4066 481.8011,-162.3294\"/>\n<polygon fill=\"#000000\" stroke=\"#000000\" points=\"483.4814,-159.2562 473.1021,-157.13 479.8901,-165.2648 483.4814,-159.2562\"/>\n</g>\n<!-- 13 -->\n<g id=\"node14\" class=\"node\">\n<title>13</title>\n<polygon fill=\"#f0b58b\" stroke=\"#000000\" points=\"675.5,-157 514.5,-157 514.5,-89 675.5,-89 675.5,-157\"/>\n<text text-anchor=\"middle\" x=\"595\" y=\"-141.8\" font-family=\"Helvetica,sans-Serif\" font-size=\"14.00\" fill=\"#000000\">러닝타임 &lt;= 120.0</text>\n<text text-anchor=\"middle\" x=\"595\" y=\"-126.8\" font-family=\"Helvetica,sans-Serif\" font-size=\"14.00\" fill=\"#000000\">squared_error = 0.605</text>\n<text text-anchor=\"middle\" x=\"595\" y=\"-111.8\" font-family=\"Helvetica,sans-Serif\" font-size=\"14.00\" fill=\"#000000\">samples = 3</text>\n<text text-anchor=\"middle\" x=\"595\" y=\"-96.8\" font-family=\"Helvetica,sans-Serif\" font-size=\"14.00\" fill=\"#000000\">value = 5.66</text>\n</g>\n<!-- 9&#45;&gt;13 -->\n<g id=\"edge13\" class=\"edge\">\n<title>9&#45;&gt;13</title>\n<path fill=\"none\" stroke=\"#000000\" d=\"M591.6372,-192.9465C592.03,-184.776 592.4552,-175.9318 592.8668,-167.3697\"/>\n<polygon fill=\"#000000\" stroke=\"#000000\" points=\"596.3748,-167.2866 593.3591,-157.13 589.3829,-166.9504 596.3748,-167.2866\"/>\n</g>\n<!-- 11 -->\n<g id=\"node12\" class=\"node\">\n<title>11</title>\n<polygon fill=\"#f5ccaf\" stroke=\"#000000\" points=\"325.5,-53 164.5,-53 164.5,0 325.5,0 325.5,-53\"/>\n<text text-anchor=\"middle\" x=\"245\" y=\"-37.8\" font-family=\"Helvetica,sans-Serif\" font-size=\"14.00\" fill=\"#000000\">squared_error = 0.014</text>\n<text text-anchor=\"middle\" x=\"245\" y=\"-22.8\" font-family=\"Helvetica,sans-Serif\" font-size=\"14.00\" fill=\"#000000\">samples = 4</text>\n<text text-anchor=\"middle\" x=\"245\" y=\"-7.8\" font-family=\"Helvetica,sans-Serif\" font-size=\"14.00\" fill=\"#000000\">value = 4.979</text>\n</g>\n<!-- 10&#45;&gt;11 -->\n<g id=\"edge11\" class=\"edge\">\n<title>10&#45;&gt;11</title>\n<path fill=\"none\" stroke=\"#000000\" d=\"M355.7118,-88.9777C337.9432,-78.9504 318.5792,-68.0228 301.0859,-58.1508\"/>\n<polygon fill=\"#000000\" stroke=\"#000000\" points=\"302.5561,-54.9616 292.1269,-53.095 299.1157,-61.0579 302.5561,-54.9616\"/>\n</g>\n<!-- 12 -->\n<g id=\"node13\" class=\"node\">\n<title>12</title>\n<polygon fill=\"#f6d4bc\" stroke=\"#000000\" points=\"488,-53 344,-53 344,0 488,0 488,-53\"/>\n<text text-anchor=\"middle\" x=\"416\" y=\"-37.8\" font-family=\"Helvetica,sans-Serif\" font-size=\"14.00\" fill=\"#000000\">squared_error = 0.0</text>\n<text text-anchor=\"middle\" x=\"416\" y=\"-22.8\" font-family=\"Helvetica,sans-Serif\" font-size=\"14.00\" fill=\"#000000\">samples = 2</text>\n<text text-anchor=\"middle\" x=\"416\" y=\"-7.8\" font-family=\"Helvetica,sans-Serif\" font-size=\"14.00\" fill=\"#000000\">value = 4.745</text>\n</g>\n<!-- 10&#45;&gt;12 -->\n<g id=\"edge12\" class=\"edge\">\n<title>10&#45;&gt;12</title>\n<path fill=\"none\" stroke=\"#000000\" d=\"M416,-88.9777C416,-80.7364 416,-71.887 416,-63.5153\"/>\n<polygon fill=\"#000000\" stroke=\"#000000\" points=\"419.5001,-63.2484 416,-53.2485 412.5001,-63.2485 419.5001,-63.2484\"/>\n</g>\n<!-- 14 -->\n<g id=\"node15\" class=\"node\">\n<title>14</title>\n<polygon fill=\"#e99457\" stroke=\"#000000\" points=\"650,-53 506,-53 506,0 650,0 650,-53\"/>\n<text text-anchor=\"middle\" x=\"578\" y=\"-37.8\" font-family=\"Helvetica,sans-Serif\" font-size=\"14.00\" fill=\"#000000\">squared_error = 0.0</text>\n<text text-anchor=\"middle\" x=\"578\" y=\"-22.8\" font-family=\"Helvetica,sans-Serif\" font-size=\"14.00\" fill=\"#000000\">samples = 1</text>\n<text text-anchor=\"middle\" x=\"578\" y=\"-7.8\" font-family=\"Helvetica,sans-Serif\" font-size=\"14.00\" fill=\"#000000\">value = 6.615</text>\n</g>\n<!-- 13&#45;&gt;14 -->\n<g id=\"edge14\" class=\"edge\">\n<title>13&#45;&gt;14</title>\n<path fill=\"none\" stroke=\"#000000\" d=\"M589.0064,-88.9777C587.5385,-80.6449 585.961,-71.6903 584.4717,-63.2364\"/>\n<polygon fill=\"#000000\" stroke=\"#000000\" points=\"587.8941,-62.4896 582.7122,-53.2485 581.0003,-63.7041 587.8941,-62.4896\"/>\n</g>\n<!-- 15 -->\n<g id=\"node16\" class=\"node\">\n<title>15</title>\n<polygon fill=\"#f3c5a4\" stroke=\"#000000\" points=\"829.5,-53 668.5,-53 668.5,0 829.5,0 829.5,-53\"/>\n<text text-anchor=\"middle\" x=\"749\" y=\"-37.8\" font-family=\"Helvetica,sans-Serif\" font-size=\"14.00\" fill=\"#000000\">squared_error = 0.224</text>\n<text text-anchor=\"middle\" x=\"749\" y=\"-22.8\" font-family=\"Helvetica,sans-Serif\" font-size=\"14.00\" fill=\"#000000\">samples = 2</text>\n<text text-anchor=\"middle\" x=\"749\" y=\"-7.8\" font-family=\"Helvetica,sans-Serif\" font-size=\"14.00\" fill=\"#000000\">value = 5.183</text>\n</g>\n<!-- 13&#45;&gt;15 -->\n<g id=\"edge15\" class=\"edge\">\n<title>13&#45;&gt;15</title>\n<path fill=\"none\" stroke=\"#000000\" d=\"M649.2946,-88.9777C664.9308,-79.1798 681.9387,-68.5222 697.4063,-58.8298\"/>\n<polygon fill=\"#000000\" stroke=\"#000000\" points=\"699.698,-61.5242 706.3133,-53.2485 695.981,-55.5926 699.698,-61.5242\"/>\n</g>\n<!-- 17 -->\n<g id=\"node18\" class=\"node\">\n<title>17</title>\n<polygon fill=\"#efaf82\" stroke=\"#000000\" points=\"1251.5,-365 1090.5,-365 1090.5,-297 1251.5,-297 1251.5,-365\"/>\n<text text-anchor=\"middle\" x=\"1171\" y=\"-349.8\" font-family=\"Helvetica,sans-Serif\" font-size=\"14.00\" fill=\"#000000\">제작비 &lt;= 61.5</text>\n<text text-anchor=\"middle\" x=\"1171\" y=\"-334.8\" font-family=\"Helvetica,sans-Serif\" font-size=\"14.00\" fill=\"#000000\">squared_error = 0.596</text>\n<text text-anchor=\"middle\" x=\"1171\" y=\"-319.8\" font-family=\"Helvetica,sans-Serif\" font-size=\"14.00\" fill=\"#000000\">samples = 36</text>\n<text text-anchor=\"middle\" x=\"1171\" y=\"-304.8\" font-family=\"Helvetica,sans-Serif\" font-size=\"14.00\" fill=\"#000000\">value = 5.828</text>\n</g>\n<!-- 16&#45;&gt;17 -->\n<g id=\"edge17\" class=\"edge\">\n<title>16&#45;&gt;17</title>\n<path fill=\"none\" stroke=\"#000000\" d=\"M1171,-400.9465C1171,-392.776 1171,-383.9318 1171,-375.3697\"/>\n<polygon fill=\"#000000\" stroke=\"#000000\" points=\"1174.5001,-375.13 1171,-365.13 1167.5001,-375.13 1174.5001,-375.13\"/>\n</g>\n<!-- 28 -->\n<g id=\"node29\" class=\"node\">\n<title>28</title>\n<polygon fill=\"#ea9b63\" stroke=\"#000000\" points=\"1837.5,-365 1676.5,-365 1676.5,-297 1837.5,-297 1837.5,-365\"/>\n<text text-anchor=\"middle\" x=\"1757\" y=\"-349.8\" font-family=\"Helvetica,sans-Serif\" font-size=\"14.00\" fill=\"#000000\">스크린수 &lt;= 1115.5</text>\n<text text-anchor=\"middle\" x=\"1757\" y=\"-334.8\" font-family=\"Helvetica,sans-Serif\" font-size=\"14.00\" fill=\"#000000\">squared_error = 0.293</text>\n<text text-anchor=\"middle\" x=\"1757\" y=\"-319.8\" font-family=\"Helvetica,sans-Serif\" font-size=\"14.00\" fill=\"#000000\">samples = 21</text>\n<text text-anchor=\"middle\" x=\"1757\" y=\"-304.8\" font-family=\"Helvetica,sans-Serif\" font-size=\"14.00\" fill=\"#000000\">value = 6.403</text>\n</g>\n<!-- 16&#45;&gt;28 -->\n<g id=\"edge28\" class=\"edge\">\n<title>16&#45;&gt;28</title>\n<path fill=\"none\" stroke=\"#000000\" d=\"M1251.5586,-420.7029C1360.1223,-401.4356 1552.8311,-367.2347 1666.3446,-347.089\"/>\n<polygon fill=\"#000000\" stroke=\"#000000\" points=\"1667.1671,-350.4978 1676.4016,-345.3042 1665.9438,-343.6055 1667.1671,-350.4978\"/>\n</g>\n<!-- 18 -->\n<g id=\"node19\" class=\"node\">\n<title>18</title>\n<polygon fill=\"#f6d5bd\" stroke=\"#000000\" points=\"1153.5,-261 992.5,-261 992.5,-193 1153.5,-193 1153.5,-261\"/>\n<text text-anchor=\"middle\" x=\"1073\" y=\"-245.8\" font-family=\"Helvetica,sans-Serif\" font-size=\"14.00\" fill=\"#000000\">개봉월 &lt;= 3.0</text>\n<text text-anchor=\"middle\" x=\"1073\" y=\"-230.8\" font-family=\"Helvetica,sans-Serif\" font-size=\"14.00\" fill=\"#000000\">squared_error = 0.465</text>\n<text text-anchor=\"middle\" x=\"1073\" y=\"-215.8\" font-family=\"Helvetica,sans-Serif\" font-size=\"14.00\" fill=\"#000000\">samples = 3</text>\n<text text-anchor=\"middle\" x=\"1073\" y=\"-200.8\" font-family=\"Helvetica,sans-Serif\" font-size=\"14.00\" fill=\"#000000\">value = 4.722</text>\n</g>\n<!-- 17&#45;&gt;18 -->\n<g id=\"edge18\" class=\"edge\">\n<title>17&#45;&gt;18</title>\n<path fill=\"none\" stroke=\"#000000\" d=\"M1138.9111,-296.9465C1130.366,-287.8782 1121.0387,-277.9799 1112.1609,-268.5585\"/>\n<polygon fill=\"#000000\" stroke=\"#000000\" points=\"1114.5663,-266.0076 1105.161,-261.13 1109.4717,-270.8082 1114.5663,-266.0076\"/>\n</g>\n<!-- 23 -->\n<g id=\"node24\" class=\"node\">\n<title>23</title>\n<polygon fill=\"#eeac7c\" stroke=\"#000000\" points=\"1350.5,-261 1189.5,-261 1189.5,-193 1350.5,-193 1350.5,-261\"/>\n<text text-anchor=\"middle\" x=\"1270\" y=\"-245.8\" font-family=\"Helvetica,sans-Serif\" font-size=\"14.00\" fill=\"#000000\">개봉월 &lt;= 11.5</text>\n<text text-anchor=\"middle\" x=\"1270\" y=\"-230.8\" font-family=\"Helvetica,sans-Serif\" font-size=\"14.00\" fill=\"#000000\">squared_error = 0.486</text>\n<text text-anchor=\"middle\" x=\"1270\" y=\"-215.8\" font-family=\"Helvetica,sans-Serif\" font-size=\"14.00\" fill=\"#000000\">samples = 33</text>\n<text text-anchor=\"middle\" x=\"1270\" y=\"-200.8\" font-family=\"Helvetica,sans-Serif\" font-size=\"14.00\" fill=\"#000000\">value = 5.929</text>\n</g>\n<!-- 17&#45;&gt;23 -->\n<g id=\"edge23\" class=\"edge\">\n<title>17&#45;&gt;23</title>\n<path fill=\"none\" stroke=\"#000000\" d=\"M1203.4163,-296.9465C1212.0486,-287.8782 1221.4711,-277.9799 1230.4395,-268.5585\"/>\n<polygon fill=\"#000000\" stroke=\"#000000\" points=\"1233.1511,-270.7863 1237.5109,-261.13 1228.081,-265.9599 1233.1511,-270.7863\"/>\n</g>\n<!-- 19 -->\n<g id=\"node20\" class=\"node\">\n<title>19</title>\n<polygon fill=\"#f0b489\" stroke=\"#000000\" points=\"956,-149.5 812,-149.5 812,-96.5 956,-96.5 956,-149.5\"/>\n<text text-anchor=\"middle\" x=\"884\" y=\"-134.3\" font-family=\"Helvetica,sans-Serif\" font-size=\"14.00\" fill=\"#000000\">squared_error = 0.0</text>\n<text text-anchor=\"middle\" x=\"884\" y=\"-119.3\" font-family=\"Helvetica,sans-Serif\" font-size=\"14.00\" fill=\"#000000\">samples = 1</text>\n<text text-anchor=\"middle\" x=\"884\" y=\"-104.3\" font-family=\"Helvetica,sans-Serif\" font-size=\"14.00\" fill=\"#000000\">value = 5.68</text>\n</g>\n<!-- 18&#45;&gt;19 -->\n<g id=\"edge19\" class=\"edge\">\n<title>18&#45;&gt;19</title>\n<path fill=\"none\" stroke=\"#000000\" d=\"M1011.1143,-192.9465C988.5947,-180.5547 963.2585,-166.6132 941.1662,-154.4565\"/>\n<polygon fill=\"#000000\" stroke=\"#000000\" points=\"942.6838,-151.2968 932.2353,-149.5422 939.3091,-157.4296 942.6838,-151.2968\"/>\n</g>\n<!-- 20 -->\n<g id=\"node21\" class=\"node\">\n<title>20</title>\n<polygon fill=\"#fae5d7\" stroke=\"#000000\" points=\"1171.5,-157 974.5,-157 974.5,-89 1171.5,-89 1171.5,-157\"/>\n<text text-anchor=\"middle\" x=\"1073\" y=\"-141.8\" font-family=\"Helvetica,sans-Serif\" font-size=\"14.00\" fill=\"#000000\">대표배우필모그래피 &lt;= 29.5</text>\n<text text-anchor=\"middle\" x=\"1073\" y=\"-126.8\" font-family=\"Helvetica,sans-Serif\" font-size=\"14.00\" fill=\"#000000\">squared_error = 0.01</text>\n<text text-anchor=\"middle\" x=\"1073\" y=\"-111.8\" font-family=\"Helvetica,sans-Serif\" font-size=\"14.00\" fill=\"#000000\">samples = 2</text>\n<text text-anchor=\"middle\" x=\"1073\" y=\"-96.8\" font-family=\"Helvetica,sans-Serif\" font-size=\"14.00\" fill=\"#000000\">value = 4.243</text>\n</g>\n<!-- 18&#45;&gt;20 -->\n<g id=\"edge20\" class=\"edge\">\n<title>18&#45;&gt;20</title>\n<path fill=\"none\" stroke=\"#000000\" d=\"M1073,-192.9465C1073,-184.776 1073,-175.9318 1073,-167.3697\"/>\n<polygon fill=\"#000000\" stroke=\"#000000\" points=\"1076.5001,-167.13 1073,-157.13 1069.5001,-167.13 1076.5001,-167.13\"/>\n</g>\n<!-- 21 -->\n<g id=\"node22\" class=\"node\">\n<title>21</title>\n<polygon fill=\"#fae9dc\" stroke=\"#000000\" points=\"992,-53 848,-53 848,0 992,0 992,-53\"/>\n<text text-anchor=\"middle\" x=\"920\" y=\"-37.8\" font-family=\"Helvetica,sans-Serif\" font-size=\"14.00\" fill=\"#000000\">squared_error = 0.0</text>\n<text text-anchor=\"middle\" x=\"920\" y=\"-22.8\" font-family=\"Helvetica,sans-Serif\" font-size=\"14.00\" fill=\"#000000\">samples = 1</text>\n<text text-anchor=\"middle\" x=\"920\" y=\"-7.8\" font-family=\"Helvetica,sans-Serif\" font-size=\"14.00\" fill=\"#000000\">value = 4.143</text>\n</g>\n<!-- 20&#45;&gt;21 -->\n<g id=\"edge21\" class=\"edge\">\n<title>20&#45;&gt;21</title>\n<path fill=\"none\" stroke=\"#000000\" d=\"M1019.0579,-88.9777C1003.5233,-79.1798 986.6258,-68.5222 971.2587,-58.8298\"/>\n<polygon fill=\"#000000\" stroke=\"#000000\" points=\"972.7349,-55.6229 962.4095,-53.2485 969.0005,-61.5436 972.7349,-55.6229\"/>\n</g>\n<!-- 22 -->\n<g id=\"node23\" class=\"node\">\n<title>22</title>\n<polygon fill=\"#f9e2d1\" stroke=\"#000000\" points=\"1159.5,-53 1010.5,-53 1010.5,0 1159.5,0 1159.5,-53\"/>\n<text text-anchor=\"middle\" x=\"1085\" y=\"-37.8\" font-family=\"Helvetica,sans-Serif\" font-size=\"14.00\" fill=\"#000000\">squared_error = &#45;0.0</text>\n<text text-anchor=\"middle\" x=\"1085\" y=\"-22.8\" font-family=\"Helvetica,sans-Serif\" font-size=\"14.00\" fill=\"#000000\">samples = 1</text>\n<text text-anchor=\"middle\" x=\"1085\" y=\"-7.8\" font-family=\"Helvetica,sans-Serif\" font-size=\"14.00\" fill=\"#000000\">value = 4.344</text>\n</g>\n<!-- 20&#45;&gt;22 -->\n<g id=\"edge22\" class=\"edge\">\n<title>20&#45;&gt;22</title>\n<path fill=\"none\" stroke=\"#000000\" d=\"M1077.2308,-88.9777C1078.267,-80.6449 1079.3805,-71.6903 1080.4317,-63.2364\"/>\n<polygon fill=\"#000000\" stroke=\"#000000\" points=\"1083.9129,-63.604 1081.6738,-53.2485 1076.9664,-62.7401 1083.9129,-63.604\"/>\n</g>\n<!-- 24 -->\n<g id=\"node25\" class=\"node\">\n<title>24</title>\n<polygon fill=\"#eeaa7a\" stroke=\"#000000\" points=\"1350.5,-157 1189.5,-157 1189.5,-89 1350.5,-89 1350.5,-157\"/>\n<text text-anchor=\"middle\" x=\"1270\" y=\"-141.8\" font-family=\"Helvetica,sans-Serif\" font-size=\"14.00\" fill=\"#000000\">제작비 &lt;= 120.0</text>\n<text text-anchor=\"middle\" x=\"1270\" y=\"-126.8\" font-family=\"Helvetica,sans-Serif\" font-size=\"14.00\" fill=\"#000000\">squared_error = 0.449</text>\n<text text-anchor=\"middle\" x=\"1270\" y=\"-111.8\" font-family=\"Helvetica,sans-Serif\" font-size=\"14.00\" fill=\"#000000\">samples = 32</text>\n<text text-anchor=\"middle\" x=\"1270\" y=\"-96.8\" font-family=\"Helvetica,sans-Serif\" font-size=\"14.00\" fill=\"#000000\">value = 5.969</text>\n</g>\n<!-- 23&#45;&gt;24 -->\n<g id=\"edge24\" class=\"edge\">\n<title>23&#45;&gt;24</title>\n<path fill=\"none\" stroke=\"#000000\" d=\"M1270,-192.9465C1270,-184.776 1270,-175.9318 1270,-167.3697\"/>\n<polygon fill=\"#000000\" stroke=\"#000000\" points=\"1273.5001,-167.13 1270,-157.13 1266.5001,-167.13 1273.5001,-167.13\"/>\n</g>\n<!-- 27 -->\n<g id=\"node28\" class=\"node\">\n<title>27</title>\n<polygon fill=\"#f7d8c1\" stroke=\"#000000\" points=\"1517.5,-149.5 1368.5,-149.5 1368.5,-96.5 1517.5,-96.5 1517.5,-149.5\"/>\n<text text-anchor=\"middle\" x=\"1443\" y=\"-134.3\" font-family=\"Helvetica,sans-Serif\" font-size=\"14.00\" fill=\"#000000\">squared_error = &#45;0.0</text>\n<text text-anchor=\"middle\" x=\"1443\" y=\"-119.3\" font-family=\"Helvetica,sans-Serif\" font-size=\"14.00\" fill=\"#000000\">samples = 1</text>\n<text text-anchor=\"middle\" x=\"1443\" y=\"-104.3\" font-family=\"Helvetica,sans-Serif\" font-size=\"14.00\" fill=\"#000000\">value = 4.644</text>\n</g>\n<!-- 23&#45;&gt;27 -->\n<g id=\"edge27\" class=\"edge\">\n<title>23&#45;&gt;27</title>\n<path fill=\"none\" stroke=\"#000000\" d=\"M1326.6467,-192.9465C1347.0767,-180.6649 1370.0391,-166.8609 1390.1333,-154.7811\"/>\n<polygon fill=\"#000000\" stroke=\"#000000\" points=\"1392.0809,-157.6942 1398.8481,-149.5422 1388.4743,-151.6948 1392.0809,-157.6942\"/>\n</g>\n<!-- 25 -->\n<g id=\"node26\" class=\"node\">\n<title>25</title>\n<polygon fill=\"#efb387\" stroke=\"#000000\" points=\"1338.5,-53 1177.5,-53 1177.5,0 1338.5,0 1338.5,-53\"/>\n<text text-anchor=\"middle\" x=\"1258\" y=\"-37.8\" font-family=\"Helvetica,sans-Serif\" font-size=\"14.00\" fill=\"#000000\">squared_error = 0.324</text>\n<text text-anchor=\"middle\" x=\"1258\" y=\"-22.8\" font-family=\"Helvetica,sans-Serif\" font-size=\"14.00\" fill=\"#000000\">samples = 16</text>\n<text text-anchor=\"middle\" x=\"1258\" y=\"-7.8\" font-family=\"Helvetica,sans-Serif\" font-size=\"14.00\" fill=\"#000000\">value = 5.723</text>\n</g>\n<!-- 24&#45;&gt;25 -->\n<g id=\"edge25\" class=\"edge\">\n<title>24&#45;&gt;25</title>\n<path fill=\"none\" stroke=\"#000000\" d=\"M1265.7692,-88.9777C1264.733,-80.6449 1263.6195,-71.6903 1262.5683,-63.2364\"/>\n<polygon fill=\"#000000\" stroke=\"#000000\" points=\"1266.0336,-62.7401 1261.3262,-53.2485 1259.0871,-63.604 1266.0336,-62.7401\"/>\n</g>\n<!-- 26 -->\n<g id=\"node27\" class=\"node\">\n<title>26</title>\n<polygon fill=\"#eca26d\" stroke=\"#000000\" points=\"1517.5,-53 1356.5,-53 1356.5,0 1517.5,0 1517.5,-53\"/>\n<text text-anchor=\"middle\" x=\"1437\" y=\"-37.8\" font-family=\"Helvetica,sans-Serif\" font-size=\"14.00\" fill=\"#000000\">squared_error = 0.453</text>\n<text text-anchor=\"middle\" x=\"1437\" y=\"-22.8\" font-family=\"Helvetica,sans-Serif\" font-size=\"14.00\" fill=\"#000000\">samples = 16</text>\n<text text-anchor=\"middle\" x=\"1437\" y=\"-7.8\" font-family=\"Helvetica,sans-Serif\" font-size=\"14.00\" fill=\"#000000\">value = 6.214</text>\n</g>\n<!-- 24&#45;&gt;26 -->\n<g id=\"edge26\" class=\"edge\">\n<title>24&#45;&gt;26</title>\n<path fill=\"none\" stroke=\"#000000\" d=\"M1328.878,-88.9777C1346.2309,-78.9504 1365.142,-68.0228 1382.226,-58.1508\"/>\n<polygon fill=\"#000000\" stroke=\"#000000\" points=\"1384.0682,-61.1287 1390.9754,-53.095 1380.5659,-55.0678 1384.0682,-61.1287\"/>\n</g>\n<!-- 29 -->\n<g id=\"node30\" class=\"node\">\n<title>29</title>\n<polygon fill=\"#e78c4a\" stroke=\"#000000\" points=\"1837.5,-261 1676.5,-261 1676.5,-193 1837.5,-193 1837.5,-261\"/>\n<text text-anchor=\"middle\" x=\"1757\" y=\"-245.8\" font-family=\"Helvetica,sans-Serif\" font-size=\"14.00\" fill=\"#000000\">러닝타임 &lt;= 148.5</text>\n<text text-anchor=\"middle\" x=\"1757\" y=\"-230.8\" font-family=\"Helvetica,sans-Serif\" font-size=\"14.00\" fill=\"#000000\">squared_error = 0.024</text>\n<text text-anchor=\"middle\" x=\"1757\" y=\"-215.8\" font-family=\"Helvetica,sans-Serif\" font-size=\"14.00\" fill=\"#000000\">samples = 5</text>\n<text text-anchor=\"middle\" x=\"1757\" y=\"-200.8\" font-family=\"Helvetica,sans-Serif\" font-size=\"14.00\" fill=\"#000000\">value = 6.86</text>\n</g>\n<!-- 28&#45;&gt;29 -->\n<g id=\"edge29\" class=\"edge\">\n<title>28&#45;&gt;29</title>\n<path fill=\"none\" stroke=\"#000000\" d=\"M1757,-296.9465C1757,-288.776 1757,-279.9318 1757,-271.3697\"/>\n<polygon fill=\"#000000\" stroke=\"#000000\" points=\"1760.5001,-271.13 1757,-261.13 1753.5001,-271.13 1760.5001,-271.13\"/>\n</g>\n<!-- 34 -->\n<g id=\"node35\" class=\"node\">\n<title>34</title>\n<polygon fill=\"#eba06a\" stroke=\"#000000\" points=\"2142.5,-261 1981.5,-261 1981.5,-193 2142.5,-193 2142.5,-261\"/>\n<text text-anchor=\"middle\" x=\"2062\" y=\"-245.8\" font-family=\"Helvetica,sans-Serif\" font-size=\"14.00\" fill=\"#000000\">스크린수 &lt;= 1872.0</text>\n<text text-anchor=\"middle\" x=\"2062\" y=\"-230.8\" font-family=\"Helvetica,sans-Serif\" font-size=\"14.00\" fill=\"#000000\">squared_error = 0.292</text>\n<text text-anchor=\"middle\" x=\"2062\" y=\"-215.8\" font-family=\"Helvetica,sans-Serif\" font-size=\"14.00\" fill=\"#000000\">samples = 16</text>\n<text text-anchor=\"middle\" x=\"2062\" y=\"-200.8\" font-family=\"Helvetica,sans-Serif\" font-size=\"14.00\" fill=\"#000000\">value = 6.261</text>\n</g>\n<!-- 28&#45;&gt;34 -->\n<g id=\"edge34\" class=\"edge\">\n<title>28&#45;&gt;34</title>\n<path fill=\"none\" stroke=\"#000000\" d=\"M1837.5341,-303.5392C1878.8002,-289.4681 1929.1885,-272.2865 1971.7612,-257.77\"/>\n<polygon fill=\"#000000\" stroke=\"#000000\" points=\"1972.9438,-261.0647 1981.2791,-254.5245 1970.6846,-254.4392 1972.9438,-261.0647\"/>\n</g>\n<!-- 30 -->\n<g id=\"node31\" class=\"node\">\n<title>30</title>\n<polygon fill=\"#e88e4e\" stroke=\"#000000\" points=\"1751.5,-157 1590.5,-157 1590.5,-89 1751.5,-89 1751.5,-157\"/>\n<text text-anchor=\"middle\" x=\"1671\" y=\"-141.8\" font-family=\"Helvetica,sans-Serif\" font-size=\"14.00\" fill=\"#000000\">주연배우수 &lt;= 6.5</text>\n<text text-anchor=\"middle\" x=\"1671\" y=\"-126.8\" font-family=\"Helvetica,sans-Serif\" font-size=\"14.00\" fill=\"#000000\">squared_error = 0.002</text>\n<text text-anchor=\"middle\" x=\"1671\" y=\"-111.8\" font-family=\"Helvetica,sans-Serif\" font-size=\"14.00\" fill=\"#000000\">samples = 4</text>\n<text text-anchor=\"middle\" x=\"1671\" y=\"-96.8\" font-family=\"Helvetica,sans-Serif\" font-size=\"14.00\" fill=\"#000000\">value = 6.786</text>\n</g>\n<!-- 29&#45;&gt;30 -->\n<g id=\"edge30\" class=\"edge\">\n<title>29&#45;&gt;30</title>\n<path fill=\"none\" stroke=\"#000000\" d=\"M1728.8404,-192.9465C1721.4158,-183.968 1713.3185,-174.1758 1705.5972,-164.8385\"/>\n<polygon fill=\"#000000\" stroke=\"#000000\" points=\"1708.2928,-162.606 1699.2229,-157.13 1702.8983,-167.0669 1708.2928,-162.606\"/>\n</g>\n<!-- 33 -->\n<g id=\"node34\" class=\"node\">\n<title>33</title>\n<polygon fill=\"#e5823a\" stroke=\"#000000\" points=\"1918.5,-149.5 1769.5,-149.5 1769.5,-96.5 1918.5,-96.5 1918.5,-149.5\"/>\n<text text-anchor=\"middle\" x=\"1844\" y=\"-134.3\" font-family=\"Helvetica,sans-Serif\" font-size=\"14.00\" fill=\"#000000\">squared_error = &#45;0.0</text>\n<text text-anchor=\"middle\" x=\"1844\" y=\"-119.3\" font-family=\"Helvetica,sans-Serif\" font-size=\"14.00\" fill=\"#000000\">samples = 1</text>\n<text text-anchor=\"middle\" x=\"1844\" y=\"-104.3\" font-family=\"Helvetica,sans-Serif\" font-size=\"14.00\" fill=\"#000000\">value = 7.159</text>\n</g>\n<!-- 29&#45;&gt;33 -->\n<g id=\"edge33\" class=\"edge\">\n<title>29&#45;&gt;33</title>\n<path fill=\"none\" stroke=\"#000000\" d=\"M1785.4871,-192.9465C1795.07,-181.491 1805.761,-168.711 1815.3559,-157.2412\"/>\n<polygon fill=\"#000000\" stroke=\"#000000\" points=\"1818.0646,-159.458 1821.7965,-149.5422 1812.6955,-154.9666 1818.0646,-159.458\"/>\n</g>\n<!-- 31 -->\n<g id=\"node32\" class=\"node\">\n<title>31</title>\n<polygon fill=\"#e89050\" stroke=\"#000000\" points=\"1680,-53 1536,-53 1536,0 1680,0 1680,-53\"/>\n<text text-anchor=\"middle\" x=\"1608\" y=\"-37.8\" font-family=\"Helvetica,sans-Serif\" font-size=\"14.00\" fill=\"#000000\">squared_error = 0.0</text>\n<text text-anchor=\"middle\" x=\"1608\" y=\"-22.8\" font-family=\"Helvetica,sans-Serif\" font-size=\"14.00\" fill=\"#000000\">samples = 2</text>\n<text text-anchor=\"middle\" x=\"1608\" y=\"-7.8\" font-family=\"Helvetica,sans-Serif\" font-size=\"14.00\" fill=\"#000000\">value = 6.741</text>\n</g>\n<!-- 30&#45;&gt;31 -->\n<g id=\"edge31\" class=\"edge\">\n<title>30&#45;&gt;31</title>\n<path fill=\"none\" stroke=\"#000000\" d=\"M1648.7886,-88.9777C1643.0496,-80.187 1636.8588,-70.7044 1631.0767,-61.8477\"/>\n<polygon fill=\"#000000\" stroke=\"#000000\" points=\"1633.8602,-59.7087 1625.4627,-53.2485 1627.9987,-63.5354 1633.8602,-59.7087\"/>\n</g>\n<!-- 32 -->\n<g id=\"node33\" class=\"node\">\n<title>32</title>\n<polygon fill=\"#e78d4c\" stroke=\"#000000\" points=\"1842,-53 1698,-53 1698,0 1842,0 1842,-53\"/>\n<text text-anchor=\"middle\" x=\"1770\" y=\"-37.8\" font-family=\"Helvetica,sans-Serif\" font-size=\"14.00\" fill=\"#000000\">squared_error = 0.0</text>\n<text text-anchor=\"middle\" x=\"1770\" y=\"-22.8\" font-family=\"Helvetica,sans-Serif\" font-size=\"14.00\" fill=\"#000000\">samples = 2</text>\n<text text-anchor=\"middle\" x=\"1770\" y=\"-7.8\" font-family=\"Helvetica,sans-Serif\" font-size=\"14.00\" fill=\"#000000\">value = 6.831</text>\n</g>\n<!-- 30&#45;&gt;32 -->\n<g id=\"edge32\" class=\"edge\">\n<title>30&#45;&gt;32</title>\n<path fill=\"none\" stroke=\"#000000\" d=\"M1705.9037,-88.9777C1715.3918,-79.7292 1725.6657,-69.7147 1735.1509,-60.4691\"/>\n<polygon fill=\"#000000\" stroke=\"#000000\" points=\"1737.8407,-62.7349 1742.5586,-53.2485 1732.9546,-57.7223 1737.8407,-62.7349\"/>\n</g>\n<!-- 35 -->\n<g id=\"node36\" class=\"node\">\n<title>35</title>\n<polygon fill=\"#edaa79\" stroke=\"#000000\" points=\"2160.5,-157 1963.5,-157 1963.5,-89 2160.5,-89 2160.5,-157\"/>\n<text text-anchor=\"middle\" x=\"2062\" y=\"-141.8\" font-family=\"Helvetica,sans-Serif\" font-size=\"14.00\" fill=\"#000000\">대표배우필모그래피 &lt;= 38.0</text>\n<text text-anchor=\"middle\" x=\"2062\" y=\"-126.8\" font-family=\"Helvetica,sans-Serif\" font-size=\"14.00\" fill=\"#000000\">squared_error = 0.154</text>\n<text text-anchor=\"middle\" x=\"2062\" y=\"-111.8\" font-family=\"Helvetica,sans-Serif\" font-size=\"14.00\" fill=\"#000000\">samples = 11</text>\n<text text-anchor=\"middle\" x=\"2062\" y=\"-96.8\" font-family=\"Helvetica,sans-Serif\" font-size=\"14.00\" fill=\"#000000\">value = 5.989</text>\n</g>\n<!-- 34&#45;&gt;35 -->\n<g id=\"edge35\" class=\"edge\">\n<title>34&#45;&gt;35</title>\n<path fill=\"none\" stroke=\"#000000\" d=\"M2062,-192.9465C2062,-184.776 2062,-175.9318 2062,-167.3697\"/>\n<polygon fill=\"#000000\" stroke=\"#000000\" points=\"2065.5001,-167.13 2062,-157.13 2058.5001,-167.13 2065.5001,-167.13\"/>\n</g>\n<!-- 38 -->\n<g id=\"node39\" class=\"node\">\n<title>38</title>\n<polygon fill=\"#e78c4a\" stroke=\"#000000\" points=\"2379.5,-157 2218.5,-157 2218.5,-89 2379.5,-89 2379.5,-157\"/>\n<text text-anchor=\"middle\" x=\"2299\" y=\"-141.8\" font-family=\"Helvetica,sans-Serif\" font-size=\"14.00\" fill=\"#000000\">개봉월 &lt;= 4.5</text>\n<text text-anchor=\"middle\" x=\"2299\" y=\"-126.8\" font-family=\"Helvetica,sans-Serif\" font-size=\"14.00\" fill=\"#000000\">squared_error = 0.073</text>\n<text text-anchor=\"middle\" x=\"2299\" y=\"-111.8\" font-family=\"Helvetica,sans-Serif\" font-size=\"14.00\" fill=\"#000000\">samples = 5</text>\n<text text-anchor=\"middle\" x=\"2299\" y=\"-96.8\" font-family=\"Helvetica,sans-Serif\" font-size=\"14.00\" fill=\"#000000\">value = 6.859</text>\n</g>\n<!-- 34&#45;&gt;38 -->\n<g id=\"edge38\" class=\"edge\">\n<title>34&#45;&gt;38</title>\n<path fill=\"none\" stroke=\"#000000\" d=\"M2139.6027,-192.9465C2162.7233,-182.8008 2188.2114,-171.6161 2211.8961,-161.2228\"/>\n<polygon fill=\"#000000\" stroke=\"#000000\" points=\"2213.4723,-164.3534 2221.223,-157.13 2210.6594,-157.9434 2213.4723,-164.3534\"/>\n</g>\n<!-- 36 -->\n<g id=\"node37\" class=\"node\">\n<title>36</title>\n<polygon fill=\"#f0b78f\" stroke=\"#000000\" points=\"2021.5,-53 1860.5,-53 1860.5,0 2021.5,0 2021.5,-53\"/>\n<text text-anchor=\"middle\" x=\"1941\" y=\"-37.8\" font-family=\"Helvetica,sans-Serif\" font-size=\"14.00\" fill=\"#000000\">squared_error = 0.042</text>\n<text text-anchor=\"middle\" x=\"1941\" y=\"-22.8\" font-family=\"Helvetica,sans-Serif\" font-size=\"14.00\" fill=\"#000000\">samples = 4</text>\n<text text-anchor=\"middle\" x=\"1941\" y=\"-7.8\" font-family=\"Helvetica,sans-Serif\" font-size=\"14.00\" fill=\"#000000\">value = 5.584</text>\n</g>\n<!-- 35&#45;&gt;36 -->\n<g id=\"edge36\" class=\"edge\">\n<title>35&#45;&gt;36</title>\n<path fill=\"none\" stroke=\"#000000\" d=\"M2019.3399,-88.9777C2007.3989,-79.4545 1994.4395,-69.1191 1982.563,-59.6473\"/>\n<polygon fill=\"#000000\" stroke=\"#000000\" points=\"1984.54,-56.7473 1974.5395,-53.2485 1980.1754,-62.22 1984.54,-56.7473\"/>\n</g>\n<!-- 37 -->\n<g id=\"node38\" class=\"node\">\n<title>37</title>\n<polygon fill=\"#eca26c\" stroke=\"#000000\" points=\"2200.5,-53 2039.5,-53 2039.5,0 2200.5,0 2200.5,-53\"/>\n<text text-anchor=\"middle\" x=\"2120\" y=\"-37.8\" font-family=\"Helvetica,sans-Serif\" font-size=\"14.00\" fill=\"#000000\">squared_error = 0.072</text>\n<text text-anchor=\"middle\" x=\"2120\" y=\"-22.8\" font-family=\"Helvetica,sans-Serif\" font-size=\"14.00\" fill=\"#000000\">samples = 7</text>\n<text text-anchor=\"middle\" x=\"2120\" y=\"-7.8\" font-family=\"Helvetica,sans-Serif\" font-size=\"14.00\" fill=\"#000000\">value = 6.22</text>\n</g>\n<!-- 35&#45;&gt;37 -->\n<g id=\"edge37\" class=\"edge\">\n<title>35&#45;&gt;37</title>\n<path fill=\"none\" stroke=\"#000000\" d=\"M2082.4486,-88.9777C2087.7322,-80.187 2093.4316,-70.7044 2098.7548,-61.8477\"/>\n<polygon fill=\"#000000\" stroke=\"#000000\" points=\"2101.7715,-63.6225 2103.9232,-53.2485 2095.7718,-60.0165 2101.7715,-63.6225\"/>\n</g>\n<!-- 39 -->\n<g id=\"node40\" class=\"node\">\n<title>39</title>\n<polygon fill=\"#e58139\" stroke=\"#000000\" points=\"2379.5,-53 2218.5,-53 2218.5,0 2379.5,0 2379.5,-53\"/>\n<text text-anchor=\"middle\" x=\"2299\" y=\"-37.8\" font-family=\"Helvetica,sans-Serif\" font-size=\"14.00\" fill=\"#000000\">squared_error = 0.004</text>\n<text text-anchor=\"middle\" x=\"2299\" y=\"-22.8\" font-family=\"Helvetica,sans-Serif\" font-size=\"14.00\" fill=\"#000000\">samples = 2</text>\n<text text-anchor=\"middle\" x=\"2299\" y=\"-7.8\" font-family=\"Helvetica,sans-Serif\" font-size=\"14.00\" fill=\"#000000\">value = 7.175</text>\n</g>\n<!-- 38&#45;&gt;39 -->\n<g id=\"edge39\" class=\"edge\">\n<title>38&#45;&gt;39</title>\n<path fill=\"none\" stroke=\"#000000\" d=\"M2299,-88.9777C2299,-80.7364 2299,-71.887 2299,-63.5153\"/>\n<polygon fill=\"#000000\" stroke=\"#000000\" points=\"2302.5001,-63.2484 2299,-53.2485 2295.5001,-63.2485 2302.5001,-63.2484\"/>\n</g>\n<!-- 40 -->\n<g id=\"node41\" class=\"node\">\n<title>40</title>\n<polygon fill=\"#e99355\" stroke=\"#000000\" points=\"2558.5,-53 2397.5,-53 2397.5,0 2558.5,0 2558.5,-53\"/>\n<text text-anchor=\"middle\" x=\"2478\" y=\"-37.8\" font-family=\"Helvetica,sans-Serif\" font-size=\"14.00\" fill=\"#000000\">squared_error = 0.008</text>\n<text text-anchor=\"middle\" x=\"2478\" y=\"-22.8\" font-family=\"Helvetica,sans-Serif\" font-size=\"14.00\" fill=\"#000000\">samples = 3</text>\n<text text-anchor=\"middle\" x=\"2478\" y=\"-7.8\" font-family=\"Helvetica,sans-Serif\" font-size=\"14.00\" fill=\"#000000\">value = 6.648</text>\n</g>\n<!-- 38&#45;&gt;40 -->\n<g id=\"edge40\" class=\"edge\">\n<title>38&#45;&gt;40</title>\n<path fill=\"none\" stroke=\"#000000\" d=\"M2362.1087,-88.9777C2380.8792,-78.8584 2401.3506,-67.8222 2419.7937,-57.8794\"/>\n<polygon fill=\"#000000\" stroke=\"#000000\" points=\"2421.5268,-60.9213 2428.6683,-53.095 2418.205,-54.7597 2421.5268,-60.9213\"/>\n</g>\n</g>\n</svg>\n"
          },
          "metadata": {},
          "execution_count": 679
        }
      ]
    },
    {
      "cell_type": "markdown",
      "source": [
        "#서포트 벡터 회귀"
      ],
      "metadata": {
        "id": "Vkaz8lE10eM9"
      }
    },
    {
      "cell_type": "code",
      "source": [
        "X = df[['스크린수','주연배우수','제작비','연령가','원작여부','개봉월','대표배우필모그래피','개봉월','러닝타임']]\n",
        "Y = df['매출액']\n",
        "\n",
        "X_train, X_test, Y_train, Y_test = train_test_split(X, Y, test_size = 0.3, random_state = 0)\n",
        "\n",
        "scaler = StandardScaler().fit(X_train,Y_train)\n",
        "X_test = scaler.transform(X_test)\n",
        "X_train = scaler.transform(X_train)\n",
        "\n",
        "from sklearn.svm import SVR\n",
        "\n",
        "SVR_model = SVR(C=1, kernel = \"linear\", epsilon= 0.1)\n",
        "SVR_model.fit(X_train, Y_train)\n",
        "Y_pred = SVR_model.predict(X_test)\n",
        "print(\"accuracy : {:.3f}\".format(SVR_model.score(X_train, Y_train)))\n",
        "rmse = sqrt(mean_squared_error(Y_test, Y_pred))\n",
        "print(\"RMSE : {:.3f} \".format(rmse))\n",
        "print(SVR_model.coef_)"
      ],
      "metadata": {
        "colab": {
          "base_uri": "https://localhost:8080/"
        },
        "id": "S1qo4GwxU4pb",
        "outputId": "9a303d32-7f68-49e8-b908-0ad42d0b7b3a"
      },
      "execution_count": null,
      "outputs": [
        {
          "output_type": "stream",
          "name": "stdout",
          "text": [
            "accuracy : 0.272\n",
            "RMSE : 0.808 \n",
            "[[ 0.37650385 -0.00483596  0.16617969  0.06583186  0.00672635  0.07388317\n",
            "   0.11631947  0.07388317  0.09661475]]\n"
          ]
        }
      ]
    },
    {
      "cell_type": "markdown",
      "source": [
        "#베이지안 릿지"
      ],
      "metadata": {
        "id": "q83BQNt-0pln"
      }
    },
    {
      "cell_type": "code",
      "source": [
        "X = df[['스크린수','주연배우수','제작비','연령가','원작여부','개봉월','대표배우필모그래피','러닝타임']]\n",
        "Y = np.log1p(df['매출액'])\n",
        "\n",
        "\n",
        "X_train, X_test, Y_train, Y_test = train_test_split(X, Y, test_size = 0.3, random_state = 0)\n",
        "\n",
        "from sklearn.linear_model import BayesianRidge\n",
        "\n",
        "NB_model_reg = BayesianRidge(alpha_1 = 0.001, lambda_1 = 0.001 )\n",
        "NB_model_reg.fit(X_train,Y_train)\n",
        "Y_pred = NB_model_reg.predict(X_test)\n",
        "print(\"accuracy : {:.3f}\".format(NB_model_reg.score(X_train,Y_train)))\n",
        "rmse = sqrt(mean_squared_error(Y_test,Y_pred))\n",
        "print(\"rmse:{:.3f}\".format(rmse))\n",
        "print(NB_model_reg.coef_)"
      ],
      "metadata": {
        "colab": {
          "base_uri": "https://localhost:8080/"
        },
        "id": "o8IZvPKMbOf9",
        "outputId": "79bd2af6-36af-47f3-c6c5-62ee1394e4d6"
      },
      "execution_count": null,
      "outputs": [
        {
          "output_type": "stream",
          "name": "stdout",
          "text": [
            "accuracy : 0.284\n",
            "rmse:0.125\n",
            "[ 1.22164616e-04  2.12688489e-04  1.30783351e-05 -5.16067828e-06\n",
            " -1.59150844e-05  1.46600839e-04  7.75799074e-04  5.83183740e-04]\n"
          ]
        }
      ]
    },
    {
      "cell_type": "markdown",
      "source": [
        "#비교"
      ],
      "metadata": {
        "id": "to2_eHoY027Y"
      }
    },
    {
      "cell_type": "code",
      "source": [
        "X1 = df[['스크린수','주연배우수','제작비','연령가','원작여부','개봉월','대표배우필모그래피','러닝타임']]\n",
        "Y1 = df[\"매출액\"]"
      ],
      "metadata": {
        "id": "jBfkWaHicInJ"
      },
      "execution_count": null,
      "outputs": []
    },
    {
      "cell_type": "code",
      "source": [
        "X_train,X_test,Y_train,Y_test=train_test_split(X1,Y1,test_size=0.3,random_state=0)\n",
        "\n",
        "#Column transform\n",
        "ct = ColumnTransformer([(\"scaling\",StandardScaler(),['스크린수','주연배우수','제작비','대표배우필모그래피','러닝타임']),\n",
        "                        (\"onehot\",OneHotEncoder(sparse=False),['연령가','원작여부','개봉월'])])\n",
        "\n",
        "ct.fit(X_train)\n",
        "X_train=ct.transform(X_train)\n",
        "X_test=ct.transform(X_test)"
      ],
      "metadata": {
        "id": "SyxQQKS-cmx8"
      },
      "execution_count": null,
      "outputs": []
    },
    {
      "cell_type": "code",
      "source": [
        "knn_model = KNeighborsRegressor(n_neighbors=17)\n",
        "dt_model = DecisionTreeRegressor(random_state=0,max_depth=3)"
      ],
      "metadata": {
        "id": "xirgd8C8cosB"
      },
      "execution_count": null,
      "outputs": []
    },
    {
      "cell_type": "code",
      "source": [
        "knn_model.fit(X_train,Y_train)\n",
        "dt_model.fit(X_train,Y_train)"
      ],
      "metadata": {
        "colab": {
          "base_uri": "https://localhost:8080/"
        },
        "id": "rjB6j3vOdP7r",
        "outputId": "e7e6ae9e-a515-4794-f9d7-d647b69efd8b"
      },
      "execution_count": null,
      "outputs": [
        {
          "output_type": "execute_result",
          "data": {
            "text/plain": [
              "DecisionTreeRegressor(max_depth=3, random_state=0)"
            ]
          },
          "metadata": {},
          "execution_count": 685
        }
      ]
    },
    {
      "cell_type": "code",
      "source": [
        "knn_Y_pred = knn_model.predict(X_test)\n",
        "dt_Y_pred = dt_model.predict(X_test)"
      ],
      "metadata": {
        "id": "vmHGt9fodtHb"
      },
      "execution_count": null,
      "outputs": []
    },
    {
      "cell_type": "code",
      "source": [
        "print(\"knn score : {:.3f}\".format(knn_model.score(X_train,Y_train)))\n",
        "print(\"dt score : {:.3f}\".format(dt_model.score(X_train,Y_train)))"
      ],
      "metadata": {
        "colab": {
          "base_uri": "https://localhost:8080/"
        },
        "id": "yDXeq5cVfr5V",
        "outputId": "ab0279f9-df2b-4f44-a281-3c4e89b7568f"
      },
      "execution_count": null,
      "outputs": [
        {
          "output_type": "stream",
          "name": "stdout",
          "text": [
            "knn score : 0.216\n",
            "dt score : 0.572\n"
          ]
        }
      ]
    },
    {
      "cell_type": "markdown",
      "source": [
        "#잉공싱경망"
      ],
      "metadata": {
        "id": "-wn901PS3fY-"
      }
    },
    {
      "cell_type": "code",
      "source": [
        "from sklearn.model_selection import train_test_split\n",
        "from sklearn.compose import ColumnTransformer\n",
        "from sklearn.preprocessing import StandardScaler\n",
        "from sklearn.preprocessing import OneHotEncoder\n",
        "from imblearn.over_sampling import SMOTE"
      ],
      "metadata": {
        "id": "czYqSduwltSZ"
      },
      "execution_count": null,
      "outputs": []
    },
    {
      "cell_type": "code",
      "source": [
        "\n",
        "from sklearn.neural_network import MLPRegressor\n",
        "\n",
        "nn_reg_model = MLPRegressor(random_state = 0, alpha = 0.001, max_iter = 2000, \n",
        "                            hidden_layer_sizes = [50, 50])\n",
        "\n",
        "nn_reg_model.fit(X_train, Y_train)\n",
        "Y_pred = nn_reg_model.predict(X_test)\n",
        "\n",
        "print(\"Y predict value : \\n\", Y_pred)\n",
        "print(\"train accuracy : {:.3f}\".format(nn_reg_model.score(X_train, Y_train)))\n",
        "from sklearn.metrics import mean_squared_error\n",
        "from math import sqrt \n",
        "rmse = sqrt(mean_squared_error(Y_test, Y_pred))\n",
        "print(\"RMSE : {:.3f}\".format(rmse))"
      ],
      "metadata": {
        "colab": {
          "base_uri": "https://localhost:8080/"
        },
        "id": "igUfezTXnt5f",
        "outputId": "2fc210ed-7104-4a54-84c3-a5b77a8053af"
      },
      "execution_count": null,
      "outputs": [
        {
          "output_type": "stream",
          "name": "stdout",
          "text": [
            "Y predict value : \n",
            " [6.38419158 5.27314749 6.19797667 6.48539446 5.79927661 5.43621744\n",
            " 6.53523954 7.20758279 7.08411176 6.30407708 6.30935231 5.95374183\n",
            " 5.70649051 7.99839951 5.8839328  3.88349481 5.86031906 4.91908075\n",
            " 5.11255205 5.3560308  5.00035064 5.37171197 6.56548405 5.41544417\n",
            " 5.62772918 5.8696489  9.20210404 5.06370023 6.31817463 7.95751508]\n",
            "train accuracy : 0.946\n",
            "RMSE : 1.120\n"
          ]
        }
      ]
    },
    {
      "cell_type": "code",
      "source": [
        "import keras\n",
        "import tensorflow as tf\n",
        "\n",
        "from keras.models import Sequential\n",
        "from keras.layers import Dense, Activation\n",
        "from keras.metrics import Accuracy\n",
        "X_train, X_test, Y_train, Y_test = train_test_split(X, Y, test_size=0.3, random_state=0)\n",
        "\n",
        "scaler = StandardScaler().fit(X_train)\n",
        "X_train = scaler.transform(X_train)\n",
        "X_test = scaler.transform(X_test)\n",
        "\n",
        "np.random.seed(0)\n",
        "tf.random.set_seed(0)\n",
        "\n",
        "model = keras.models.Sequential()\n",
        "model.add(keras.layers.Dense(64, input_dim=8, activation = \"relu\"))\n",
        "model.add(keras.layers.Dense(64, activation = \"relu\"))\n",
        "model.add(keras.layers.Dense(64, activation = \"relu\"))\n",
        "\n",
        "model.compile(loss = \"mse\", optimizer = \"SGD\")\n",
        "Y_pred = np.round(model.predict(X_test[:5], verbose=0), 3)\n",
        "print(\"Y predict value \\n\", Y_pred)\n",
        "train_score = model.evaluate(X_train, Y_train, verbose=0)\n",
        "test_score = model.evaluate(X_test, Y_test, verbose=0)\n",
        "print(\"train mse : {:.3f}\".format(train_score))\n",
        "print(\"test mse : {:.3f}\".format(test_score))"
      ],
      "metadata": {
        "colab": {
          "base_uri": "https://localhost:8080/"
        },
        "id": "NrGOaS5Dv_Ty",
        "outputId": "a6c8a81c-b328-4cd1-83d7-e702d58b11f0"
      },
      "execution_count": null,
      "outputs": [
        {
          "output_type": "stream",
          "name": "stdout",
          "text": [
            "Y predict value \n",
            " [[0.    0.118 0.021 0.    0.    0.001 0.148 0.    0.294 0.    0.132 0.112\n",
            "  0.    0.041 0.207 0.    0.26  0.003 0.    0.    0.    0.228 0.404 0.176\n",
            "  0.05  0.049 0.    0.    0.    0.    0.127 0.    0.    0.175 0.    0.203\n",
            "  0.    0.    0.    0.244 0.344 0.    0.06  0.    0.    0.    0.    0.\n",
            "  0.132 0.229 0.    0.081 0.    0.183 0.    0.    0.    0.251 0.    0.038\n",
            "  0.069 0.    0.381 0.111]\n",
            " [0.    0.08  0.    0.046 0.069 0.246 0.13  0.    0.108 0.    0.    0.044\n",
            "  0.    0.    0.012 0.    0.    0.163 0.185 0.    0.098 0.017 0.371 0.05\n",
            "  0.048 0.    0.    0.    0.    0.    0.011 0.023 0.137 0.129 0.    0.018\n",
            "  0.009 0.    0.    0.113 0.    0.    0.    0.    0.    0.    0.105 0.\n",
            "  0.117 0.164 0.    0.048 0.032 0.    0.171 0.088 0.    0.096 0.008 0.124\n",
            "  0.    0.    0.127 0.   ]\n",
            " [0.    0.016 0.    0.075 0.016 0.285 0.    0.    0.027 0.    0.217 0.033\n",
            "  0.    0.022 0.125 0.    0.089 0.051 0.    0.    0.033 0.    0.399 0.335\n",
            "  0.    0.    0.    0.    0.    0.    0.29  0.    0.09  0.327 0.    0.216\n",
            "  0.281 0.    0.    0.    0.    0.    0.    0.    0.    0.    0.146 0.\n",
            "  0.144 0.231 0.    0.2   0.017 0.    0.184 0.08  0.    0.132 0.003 0.216\n",
            "  0.    0.    0.255 0.   ]\n",
            " [0.    0.266 0.    0.    0.    0.377 0.022 0.    0.29  0.    0.17  0.285\n",
            "  0.    0.    0.294 0.    0.11  0.    0.    0.    0.    0.094 0.471 0.227\n",
            "  0.    0.087 0.027 0.    0.127 0.    0.444 0.    0.    0.238 0.    0.\n",
            "  0.159 0.    0.    0.    0.199 0.    0.    0.    0.    0.    0.116 0.\n",
            "  0.298 0.309 0.    0.237 0.049 0.    0.322 0.    0.    0.    0.    0.\n",
            "  0.    0.    0.508 0.126]\n",
            " [0.    0.    0.    0.    0.    0.172 0.254 0.    0.    0.    0.047 0.\n",
            "  0.    0.    0.294 0.198 0.009 0.    0.    0.    0.151 0.01  0.288 0.073\n",
            "  0.    0.    0.    0.027 0.    0.    0.047 0.305 0.    0.235 0.    0.067\n",
            "  0.361 0.    0.    0.    0.    0.341 0.    0.    0.    0.    0.157 0.\n",
            "  0.198 0.192 0.308 0.297 0.    0.    0.304 0.    0.    0.    0.    0.02\n",
            "  0.    0.    0.043 0.014]]\n",
            "train mse : 3.409\n",
            "test mse : 3.563\n"
          ]
        }
      ]
    },
    {
      "cell_type": "code",
      "source": [
        "from sklearn.ensemble import VotingRegressor\n",
        "from sklearn.neural_network import MLPRegressor\n",
        "from sklearn.svm import SVR\n",
        "\n",
        "svr = SVR()\n",
        "mlp = MLPRegressor(random_state=0)\n",
        "\n",
        "model = VotingRegressor(estimators = [(\"SVR\", svr), (\"MLP\", mlp)])\n",
        "\n",
        "model.fit(X_train, Y_train)\n",
        "\n",
        "Y_pred = model.predict(X_test)\n",
        "print(\"Y predict value: \\n\", Y_pred)\n",
        "print(\"voting regressor accuracy(R2) : {0:.3f}\".format(model.score(X_test, Y_test)))\n",
        "Regressors = [svr, mlp]\n",
        "for Regressor in Regressors :\n",
        "    Regressor.fit(X_train, Y_train)\n",
        "    class_name = Regressor.__class__.__name__\n",
        "    print(\"{0} accuracy : {1:.3f}\".format(class_name, Regressor.score(X_test,Y_test)))"
      ],
      "metadata": {
        "colab": {
          "base_uri": "https://localhost:8080/"
        },
        "id": "OZlDbE72xQzl",
        "outputId": "147e9aba-6026-4979-8ee1-e221a86829c0"
      },
      "execution_count": null,
      "outputs": [
        {
          "output_type": "stream",
          "name": "stdout",
          "text": [
            "Y predict value: \n",
            " [1.98701088 1.66306922 2.02259573 1.99290958 1.85133529 1.85316296\n",
            " 1.99010348 2.09985756 2.0827671  1.89753368 1.91934899 1.89088687\n",
            " 1.77402089 2.10505213 1.73565458 1.77763351 1.9718546  1.69212838\n",
            " 1.70422022 1.83672182 1.91482307 1.74379877 1.97057985 1.86985345\n",
            " 1.7829905  1.90143408 2.25048419 1.80883524 1.83011311 2.06451898]\n",
            "voting regressor accuracy(R2) : -0.396\n",
            "SVR accuracy : -0.143\n",
            "MLPRegressor accuracy : -2.625\n"
          ]
        },
        {
          "output_type": "stream",
          "name": "stderr",
          "text": [
            "/usr/local/lib/python3.8/dist-packages/sklearn/neural_network/_multilayer_perceptron.py:692: ConvergenceWarning: Stochastic Optimizer: Maximum iterations (200) reached and the optimization hasn't converged yet.\n",
            "  warnings.warn(\n",
            "/usr/local/lib/python3.8/dist-packages/sklearn/neural_network/_multilayer_perceptron.py:692: ConvergenceWarning: Stochastic Optimizer: Maximum iterations (200) reached and the optimization hasn't converged yet.\n",
            "  warnings.warn(\n"
          ]
        }
      ]
    },
    {
      "cell_type": "code",
      "source": [
        "from sklearn.ensemble import RandomForestRegressor\n",
        "model = RandomForestRegressor(random_state = 0, n_estimators = 100, max_depth = 4)\n",
        "\n",
        "model.fit(X_train, Y_train)\n",
        "Y_pred = model.predict(X_test)\n",
        "print(\"Y predict value : \\n\", Y_pred)\n",
        "print(\"accracy(R2) : {:.3f}\".format(model.score(X_train, Y_train)))\n",
        "rmse = sqrt(mean_squared_error(Y_test, Y_pred))\n",
        "print(\"RMSE :\", rmse)"
      ],
      "metadata": {
        "colab": {
          "base_uri": "https://localhost:8080/"
        },
        "id": "FlTHXwpp4cc8",
        "outputId": "77c623c9-62ce-450d-fd65-7fd893d77629"
      },
      "execution_count": null,
      "outputs": [
        {
          "output_type": "stream",
          "name": "stdout",
          "text": [
            "Y predict value : \n",
            " [1.934971   1.99892962 1.98879477 1.96020719 1.89626272 1.82864123\n",
            " 1.99965991 1.92831908 2.00314404 1.9667222  1.95381703 1.96222351\n",
            " 1.9874923  1.97419967 1.92455489 1.81696893 2.03773435 2.03416952\n",
            " 1.93733911 1.85183533 1.94766661 1.88617518 1.9300785  1.91722671\n",
            " 1.94239329 1.93905465 1.95994016 1.9513231  1.98281368 1.95910052]\n",
            "accracy(R2) : 0.742\n",
            "RMSE : 0.1312132903920169\n"
          ]
        }
      ]
    },
    {
      "cell_type": "code",
      "source": [
        "from sklearn.ensemble import GradientBoostingRegressor\n",
        "model = GradientBoostingRegressor(random_state = 0, n_estimators = 100, max_depth = 4, \n",
        "                                   learning_rate = 0.1)\n",
        "\n",
        "model.fit(X_train, Y_train)\n",
        "Y_pred = model.predict(X_test)\n",
        "print(\"Y predict value : \\n\", Y_pred)\n",
        "print(\"accracy(R2) : {:.3f}\".format(model.score(X_train, Y_train)))\n",
        "rmse = sqrt(mean_squared_error(Y_test, Y_pred))\n",
        "print(\"RMSE :\", rmse)"
      ],
      "metadata": {
        "colab": {
          "base_uri": "https://localhost:8080/"
        },
        "id": "S4-iui-R4pQg",
        "outputId": "3705c33f-93bf-404e-cb99-d9941e09b22b"
      },
      "execution_count": null,
      "outputs": [
        {
          "output_type": "stream",
          "name": "stdout",
          "text": [
            "Y predict value : \n",
            " [1.97752614 2.01149131 2.00107836 1.87372153 1.93229339 1.82339057\n",
            " 2.02546197 1.98891892 2.01731901 2.03824039 1.9136279  1.93645009\n",
            " 1.97862683 1.96124626 1.88127248 1.73367019 2.09091618 2.06178195\n",
            " 2.03843435 1.96956335 1.92021987 1.76892875 1.88493941 1.94175724\n",
            " 1.90164696 1.99341327 1.98699071 1.94256431 2.01984756 1.87142468]\n",
            "accracy(R2) : 0.999\n",
            "RMSE : 0.14118897249808468\n"
          ]
        }
      ]
    },
    {
      "cell_type": "code",
      "source": [],
      "metadata": {
        "id": "Fjmzw19_4tpR"
      },
      "execution_count": null,
      "outputs": []
    }
  ]
}